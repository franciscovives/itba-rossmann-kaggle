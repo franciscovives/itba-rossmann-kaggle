{
 "cells": [
  {
   "cell_type": "code",
   "execution_count": 1,
   "metadata": {
    "collapsed": false,
    "jupyter": {
     "outputs_hidden": false
    }
   },
   "outputs": [],
   "source": [
    "#! pip install mlflow"
   ]
  },
  {
   "cell_type": "code",
   "execution_count": 2,
   "metadata": {
    "collapsed": false,
    "jupyter": {
     "outputs_hidden": false
    }
   },
   "outputs": [
    {
     "name": "stderr",
     "output_type": "stream",
     "text": [
      "2023-03-01 19:45:58.951077: I tensorflow/core/platform/cpu_feature_guard.cc:193] This TensorFlow binary is optimized with oneAPI Deep Neural Network Library (oneDNN) to use the following CPU instructions in performance-critical operations:  AVX2 FMA\n",
      "To enable them in other operations, rebuild TensorFlow with the appropriate compiler flags.\n",
      "2023-03-01 19:46:03.982071: I tensorflow/core/platform/cpu_feature_guard.cc:193] This TensorFlow binary is optimized with oneAPI Deep Neural Network Library (oneDNN) to use the following CPU instructions in performance-critical operations:  AVX2 FMA\n",
      "To enable them in other operations, rebuild TensorFlow with the appropriate compiler flags.\n"
     ]
    }
   ],
   "source": [
    "from tensorflow.compat.v1 import ConfigProto\n",
    "from tensorflow.compat.v1 import InteractiveSession\n",
    "config = ConfigProto()\n",
    "config.gpu_options.allow_growth = True\n",
    "session = InteractiveSession(config=config)"
   ]
  },
  {
   "cell_type": "code",
   "execution_count": 3,
   "metadata": {},
   "outputs": [],
   "source": [
    "import pandas as pd\n",
    "import numpy as np\n",
    "import datetime\n",
    "from pandas_summary import DataFrameSummary"
   ]
  },
  {
   "cell_type": "code",
   "execution_count": 4,
   "metadata": {
    "collapsed": false,
    "jupyter": {
     "outputs_hidden": false
    }
   },
   "outputs": [],
   "source": [
    "from mlflow import log_metric\n",
    "import mlflow.tensorflow"
   ]
  },
  {
   "cell_type": "code",
   "execution_count": 5,
   "metadata": {},
   "outputs": [],
   "source": [
    "from tensorflow.keras.utils import to_categorical"
   ]
  },
  {
   "cell_type": "code",
   "execution_count": 6,
   "metadata": {},
   "outputs": [],
   "source": [
    "resultPath=''\n",
    "df = pd.read_feather('train_normalized_data.fth')\n",
    "df_test = pd.read_feather('test_normalized_data.fth')"
   ]
  },
  {
   "cell_type": "code",
   "execution_count": 7,
   "metadata": {},
   "outputs": [],
   "source": [
    "cat_vars = ['Store', 'DayOfWeek', 'Year', 'Month', 'Day', 'StateHoliday', 'CompetitionMonthsOpen', 'Promo2Weeks', \n",
    "            'StoreType', 'Assortment', 'PromoInterval', 'CompetitionOpenSinceYear', 'Promo2SinceYear', 'State', \n",
    "            'Week', 'Events', 'Promo_fw', 'Promo_bw', 'StateHoliday_bool_fw', 'StateHoliday_bool_bw', 'SchoolHoliday_fw', 'SchoolHoliday_bw']\n",
    "\n",
    "#cat_vars = ['Store', 'DayOfWeek']"
   ]
  },
  {
   "cell_type": "code",
   "execution_count": 8,
   "metadata": {},
   "outputs": [],
   "source": [
    "contin_vars = ['CompetitionDistance', \n",
    "   'Max_TemperatureC', 'Mean_TemperatureC', 'Min_TemperatureC', 'Precipitationmm',\n",
    "   'Max_Humidity', 'Mean_Humidity', 'Min_Humidity', 'Max_Wind_SpeedKm_h', \n",
    "   'Mean_Wind_SpeedKm_h', 'CloudCover', 'trend', 'trend_DE',\n",
    "   'AfterStateHoliday_bool', 'BeforeStateHoliday_bool', 'Promo', 'SchoolHoliday', 'StateHoliday_bool']\n",
    "\n",
    "contin_vars = ['CompetitionDistance',\n",
    "               'Max_TemperatureC', 'Precipitationmm',\n",
    "               'Max_Humidity', 'CloudCover', 'trend',\n",
    "               'AfterStateHoliday_bool', 'Promo']\n",
    "\n",
    "\n",
    "#contin_vars = ['BeforeStateHoliday_bool', 'Max_TemperatureC']"
   ]
  },
  {
   "cell_type": "code",
   "execution_count": 9,
   "metadata": {},
   "outputs": [],
   "source": [
    "uniques = DataFrameSummary(df[cat_vars]).summary().loc[['uniques']]"
   ]
  },
  {
   "cell_type": "code",
   "execution_count": 10,
   "metadata": {},
   "outputs": [
    {
     "data": {
      "text/html": [
       "<div>\n",
       "<style scoped>\n",
       "    .dataframe tbody tr th:only-of-type {\n",
       "        vertical-align: middle;\n",
       "    }\n",
       "\n",
       "    .dataframe tbody tr th {\n",
       "        vertical-align: top;\n",
       "    }\n",
       "\n",
       "    .dataframe thead th {\n",
       "        text-align: right;\n",
       "    }\n",
       "</style>\n",
       "<table border=\"1\" class=\"dataframe\">\n",
       "  <thead>\n",
       "    <tr style=\"text-align: right;\">\n",
       "      <th></th>\n",
       "      <th>uniques</th>\n",
       "    </tr>\n",
       "  </thead>\n",
       "  <tbody>\n",
       "    <tr>\n",
       "      <th>Store</th>\n",
       "      <td>1115</td>\n",
       "    </tr>\n",
       "    <tr>\n",
       "      <th>DayOfWeek</th>\n",
       "      <td>7</td>\n",
       "    </tr>\n",
       "    <tr>\n",
       "      <th>Year</th>\n",
       "      <td>3</td>\n",
       "    </tr>\n",
       "    <tr>\n",
       "      <th>Month</th>\n",
       "      <td>12</td>\n",
       "    </tr>\n",
       "    <tr>\n",
       "      <th>Day</th>\n",
       "      <td>31</td>\n",
       "    </tr>\n",
       "    <tr>\n",
       "      <th>StateHoliday</th>\n",
       "      <td>4</td>\n",
       "    </tr>\n",
       "    <tr>\n",
       "      <th>CompetitionMonthsOpen</th>\n",
       "      <td>25</td>\n",
       "    </tr>\n",
       "    <tr>\n",
       "      <th>Promo2Weeks</th>\n",
       "      <td>26</td>\n",
       "    </tr>\n",
       "    <tr>\n",
       "      <th>StoreType</th>\n",
       "      <td>4</td>\n",
       "    </tr>\n",
       "    <tr>\n",
       "      <th>Assortment</th>\n",
       "      <td>3</td>\n",
       "    </tr>\n",
       "    <tr>\n",
       "      <th>PromoInterval</th>\n",
       "      <td>4</td>\n",
       "    </tr>\n",
       "    <tr>\n",
       "      <th>CompetitionOpenSinceYear</th>\n",
       "      <td>21</td>\n",
       "    </tr>\n",
       "    <tr>\n",
       "      <th>Promo2SinceYear</th>\n",
       "      <td>8</td>\n",
       "    </tr>\n",
       "    <tr>\n",
       "      <th>State</th>\n",
       "      <td>12</td>\n",
       "    </tr>\n",
       "    <tr>\n",
       "      <th>Week</th>\n",
       "      <td>52</td>\n",
       "    </tr>\n",
       "    <tr>\n",
       "      <th>Events</th>\n",
       "      <td>22</td>\n",
       "    </tr>\n",
       "    <tr>\n",
       "      <th>Promo_fw</th>\n",
       "      <td>6</td>\n",
       "    </tr>\n",
       "    <tr>\n",
       "      <th>Promo_bw</th>\n",
       "      <td>6</td>\n",
       "    </tr>\n",
       "    <tr>\n",
       "      <th>StateHoliday_bool_fw</th>\n",
       "      <td>3</td>\n",
       "    </tr>\n",
       "    <tr>\n",
       "      <th>StateHoliday_bool_bw</th>\n",
       "      <td>3</td>\n",
       "    </tr>\n",
       "    <tr>\n",
       "      <th>SchoolHoliday_fw</th>\n",
       "      <td>8</td>\n",
       "    </tr>\n",
       "    <tr>\n",
       "      <th>SchoolHoliday_bw</th>\n",
       "      <td>8</td>\n",
       "    </tr>\n",
       "  </tbody>\n",
       "</table>\n",
       "</div>"
      ],
      "text/plain": [
       "                         uniques\n",
       "Store                       1115\n",
       "DayOfWeek                      7\n",
       "Year                           3\n",
       "Month                         12\n",
       "Day                           31\n",
       "StateHoliday                   4\n",
       "CompetitionMonthsOpen         25\n",
       "Promo2Weeks                   26\n",
       "StoreType                      4\n",
       "Assortment                     3\n",
       "PromoInterval                  4\n",
       "CompetitionOpenSinceYear      21\n",
       "Promo2SinceYear                8\n",
       "State                         12\n",
       "Week                          52\n",
       "Events                        22\n",
       "Promo_fw                       6\n",
       "Promo_bw                       6\n",
       "StateHoliday_bool_fw           3\n",
       "StateHoliday_bool_bw           3\n",
       "SchoolHoliday_fw               8\n",
       "SchoolHoliday_bw               8"
      ]
     },
     "execution_count": 10,
     "metadata": {},
     "output_type": "execute_result"
    }
   ],
   "source": [
    "uniques.T"
   ]
  },
  {
   "cell_type": "markdown",
   "metadata": {},
   "source": [
    "# Asignación de dimensión de embeddings"
   ]
  },
  {
   "cell_type": "code",
   "execution_count": 11,
   "metadata": {},
   "outputs": [],
   "source": [
    "cat_var_dict = {'Store': 50, 'DayOfWeek': 2, 'Year': 2, 'Month': 2,\n",
    "'Day': 10, 'StateHoliday': 2, 'CompetitionMonthsOpen': 2,\n",
    "'Promo2Weeks': 1, 'StoreType': 2, 'Assortment': 3, 'PromoInterval': 3,\n",
    "'CompetitionOpenSinceYear': 4, 'Promo2SinceYear': 4, 'State': 6,\n",
    "'Week': 25, 'Events': 4, 'Promo_fw': 1,\n",
    "'Promo_bw': 1, 'StateHoliday_bool_fw': 1,\n",
    "'StateHoliday_bool_bw': 1, 'SchoolHoliday_fw': 1,\n",
    "'SchoolHoliday_bw': 1}"
   ]
  },
  {
   "cell_type": "code",
   "execution_count": 12,
   "metadata": {
    "collapsed": false,
    "jupyter": {
     "outputs_hidden": false
    }
   },
   "outputs": [],
   "source": [
    "cat_var_dict = {'Store': 50, 'DayOfWeek': 3, 'Year': 2, 'Month': 4,\n",
    "                'Day': 8, 'StateHoliday': 2, 'CompetitionMonthsOpen': 2,\n",
    "                'Promo2Weeks': 2, 'StoreType': 3, 'Assortment': 3, 'PromoInterval': 3,\n",
    "                'CompetitionOpenSinceYear': 4, 'Promo2SinceYear': 4, 'State': 6,\n",
    "                'Week': 25, 'Events': 4, 'Promo_fw': 1,\n",
    "                'Promo_bw': 1, 'StateHoliday_bool_fw': 1,\n",
    "                'StateHoliday_bool_bw': 1, 'SchoolHoliday_fw': 1,\n",
    "                'SchoolHoliday_bw': 1}"
   ]
  },
  {
   "cell_type": "code",
   "execution_count": 13,
   "metadata": {},
   "outputs": [
    {
     "name": "stdout",
     "output_type": "stream",
     "text": [
      "Store 50 1115 [   0    1    2 ... 1112 1113 1114]\n",
      "\n",
      "DayOfWeek 3 7 [0 1 2 3 4 5 6]\n",
      "\n",
      "Year 2 3 [0 1 2]\n",
      "\n",
      "Month 4 12 [ 0  1  2  3  4  5  6  7  8  9 10 11]\n",
      "\n",
      "Day 8 31 [ 0  1  2  3  4  5  6  7  8  9 10 11 12 13 14 15 16 17 18 19 20 21 22 23\n",
      " 24 25 26 27 28 29 30]\n",
      "\n",
      "StateHoliday 2 4 [0 1 2 3]\n",
      "\n",
      "CompetitionMonthsOpen 2 25 [ 0  1  2  3  4  5  6  7  8  9 10 11 12 13 14 15 16 17 18 19 20 21 22 23\n",
      " 24]\n",
      "\n",
      "Promo2Weeks 2 26 [ 0  1  2  3  4  5  6  7  8  9 10 11 12 13 14 15 16 17 18 19 20 21 22 23\n",
      " 24 25]\n",
      "\n",
      "StoreType 3 4 [0 1 2 3]\n",
      "\n",
      "Assortment 3 3 [0 1 2]\n",
      "\n",
      "PromoInterval 3 4 [0 1 2 3]\n",
      "\n",
      "CompetitionOpenSinceYear 4 21 [ 0  1  2  3  4  5  6  7  8  9 10 11 12 13 14 15 16 17 18 19 20]\n",
      "\n",
      "Promo2SinceYear 4 8 [0 1 2 3 4 5 6 7]\n",
      "\n",
      "State 6 12 [ 0  1  2  3  4  5  6  7  8  9 10 11]\n",
      "\n",
      "Week 25 52 [ 0  1  2  3  4  5  6  7  8  9 10 11 12 13 14 15 16 17 18 19 20 21 22 23\n",
      " 24 25 26 27 28 29 30 31 32 33 34 35 36 37 38 39 40 41 42 43 44 45 46 47\n",
      " 48 49 50 51]\n",
      "\n",
      "Events 4 22 [ 0  1  2  3  4  5  6  7  8  9 10 11 12 13 14 15 16 17 18 19 20 21]\n",
      "\n",
      "Promo_fw 1 6 [0 1 2 3 4 5]\n",
      "\n",
      "Promo_bw 1 6 [0 1 2 3 4 5]\n",
      "\n",
      "StateHoliday_bool_fw 1 3 [0 1 2]\n",
      "\n",
      "StateHoliday_bool_bw 1 3 [0 1 2]\n",
      "\n",
      "SchoolHoliday_fw 1 8 [0 1 2 3 4 5 6 7]\n",
      "\n",
      "SchoolHoliday_bw 1 8 [0 1 2 3 4 5 6 7]\n",
      "\n"
     ]
    }
   ],
   "source": [
    "for v in cat_vars:\n",
    "    uniques_ = df[v].unique()\n",
    "    uniques_.sort()\n",
    "    print(v, cat_var_dict[v], len(uniques_), uniques_)\n",
    "    print()"
   ]
  },
  {
   "cell_type": "markdown",
   "metadata": {},
   "source": [
    "# Definición de modelo"
   ]
  },
  {
   "cell_type": "code",
   "execution_count": 14,
   "metadata": {},
   "outputs": [],
   "source": [
    "add_customers = True\n",
    "log_output = True\n",
    "output_activation = 'linear'"
   ]
  },
  {
   "cell_type": "code",
   "execution_count": 15,
   "metadata": {},
   "outputs": [],
   "source": [
    "from tensorflow.keras.models import Model\n",
    "from tensorflow.keras.callbacks import ModelCheckpoint, EarlyStopping, ReduceLROnPlateau\n",
    "from tensorflow.keras.optimizers import Adam\n",
    "from tensorflow.keras.layers import Embedding, Input, Flatten, Concatenate, Dense, BatchNormalization, Activation, LeakyReLU, Dropout\n",
    "from tensorflow.keras.regularizers import l2"
   ]
  },
  {
   "cell_type": "code",
   "execution_count": 16,
   "metadata": {},
   "outputs": [],
   "source": [
    "def get_cat_vars_model(cat_vars, uniques, cat_var_dict):\n",
    "    cat_vars_embed_outs = []\n",
    "    cat_var_inputs = []\n",
    "    for cat_var in cat_vars:\n",
    "        cat_var_in = Input(shape=(1,), name=f\"{cat_var}_input\")\n",
    "        cat_var_inputs.append(cat_var_in)\n",
    "        embed_out = Embedding(uniques[cat_var][0], cat_var_dict[cat_var], name=f'{cat_var}_Embed')(cat_var_in)\n",
    "        flatten_out = Flatten(name=f\"{cat_var}_flat\")(embed_out)\n",
    "        cat_vars_embed_outs.append(flatten_out)\n",
    "    return cat_var_inputs, cat_vars_embed_outs\n",
    "\n",
    "def get_cont_vars_input(contin_vars, dense_layer=False):\n",
    "    cont_vars_inputs = []\n",
    "    cont_vars_outputs = []\n",
    "    for cont_var in contin_vars:\n",
    "        cont_var_in = Input(shape=(1,), name=f\"{cont_var}_input\")\n",
    "        cont_vars_inputs.append(cont_var_in)\n",
    "        if dense_layer:\n",
    "            cont_var_out = Dense(1, name=f\"{cont_var}_input\", activation = 'linear')(cont_var_in)\n",
    "            cont_vars_outputs.append(cont_var_out)\n",
    "        else:\n",
    "            cont_vars_outputs.append(cont_var_in)\n",
    "    return cont_vars_inputs, cont_vars_outputs"
   ]
  },
  {
   "cell_type": "code",
   "execution_count": 17,
   "metadata": {},
   "outputs": [],
   "source": [
    "cat_var_inputs, cat_vars_embed_outs = get_cat_vars_model(cat_vars, uniques, cat_var_dict)\n",
    "cont_vars_inputs,  cont_vars_outs= get_cont_vars_input(contin_vars)"
   ]
  },
  {
   "cell_type": "code",
   "execution_count": 18,
   "metadata": {
    "collapsed": false,
    "jupyter": {
     "outputs_hidden": false
    }
   },
   "outputs": [
    {
     "name": "stderr",
     "output_type": "stream",
     "text": [
      "2023/03/01 19:46:07 INFO mlflow.tracking.fluent: Autologging successfully enabled for tensorflow.\n"
     ]
    }
   ],
   "source": [
    "mlflow.autolog()"
   ]
  },
  {
   "cell_type": "code",
   "execution_count": 19,
   "metadata": {},
   "outputs": [],
   "source": [
    "# Descomentar para ver resultados\n",
    "# cat_vars_embed_outs\n",
    "# cat_var_inputs\n",
    "# cont_vars_inputs\n",
    "# cont_vars_outs\n",
    "#cat_vars\n",
    "#uniques\n",
    "#cat_var_dict"
   ]
  },
  {
   "cell_type": "code",
   "execution_count": 20,
   "metadata": {},
   "outputs": [],
   "source": [
    "first_hidden_units = 1000\n",
    "second_hidden_units = 500\n",
    "l2_lambda = 0.0001\n",
    "merged = Concatenate(name='All_Concatenate')(cat_vars_embed_outs + cont_vars_inputs)\n",
    "x = Dense(first_hidden_units, kernel_initializer=\"uniform\", kernel_regularizer=l2(l2_lambda))(merged)\n",
    "x = BatchNormalization()(x)\n",
    "#x = Activation('relu')(x)\n",
    "x = LeakyReLU()(x)\n",
    "x = Dropout(0.02)(x)\n",
    "x = Dense(second_hidden_units, kernel_initializer=\"uniform\", kernel_regularizer=l2(l2_lambda))(x)\n",
    "# x = BatchNormalization()(x)\n",
    "x = Activation('relu')(x)\n",
    "# x = LeakyReLU()(x)\n",
    "\n",
    "x = Dense(second_hidden_units, kernel_initializer=\"uniform\", kernel_regularizer=l2(l2_lambda))(x)\n",
    "# x = BatchNormalization()(x)\n",
    "x = Activation('relu')(x)\n",
    "\n",
    "x = Dense(second_hidden_units, kernel_initializer=\"uniform\", kernel_regularizer=l2(l2_lambda))(x)\n",
    "# x = BatchNormalization()(x)\n",
    "x = Activation('relu')(x)\n",
    "\n",
    "output_1 = Dense(1, name='Sales', activation=output_activation)(x)\n",
    "output_2 = Dense(1, name='Customers', activation=output_activation)(x)"
   ]
  },
  {
   "cell_type": "code",
   "execution_count": 21,
   "metadata": {},
   "outputs": [],
   "source": [
    "if add_customers:\n",
    "    model = Model(cat_var_inputs + cont_vars_inputs, [output_1, output_2])\n",
    "else: \n",
    "    model = Model(cat_var_inputs + cont_vars_inputs, [output_1])"
   ]
  },
  {
   "cell_type": "code",
   "execution_count": 22,
   "metadata": {},
   "outputs": [
    {
     "name": "stdout",
     "output_type": "stream",
     "text": [
      "Model: \"model\"\n",
      "__________________________________________________________________________________________________\n",
      " Layer (type)                   Output Shape         Param #     Connected to                     \n",
      "==================================================================================================\n",
      " Store_input (InputLayer)       [(None, 1)]          0           []                               \n",
      "                                                                                                  \n",
      " DayOfWeek_input (InputLayer)   [(None, 1)]          0           []                               \n",
      "                                                                                                  \n",
      " Year_input (InputLayer)        [(None, 1)]          0           []                               \n",
      "                                                                                                  \n",
      " Month_input (InputLayer)       [(None, 1)]          0           []                               \n",
      "                                                                                                  \n",
      " Day_input (InputLayer)         [(None, 1)]          0           []                               \n",
      "                                                                                                  \n",
      " StateHoliday_input (InputLayer  [(None, 1)]         0           []                               \n",
      " )                                                                                                \n",
      "                                                                                                  \n",
      " CompetitionMonthsOpen_input (I  [(None, 1)]         0           []                               \n",
      " nputLayer)                                                                                       \n",
      "                                                                                                  \n",
      " Promo2Weeks_input (InputLayer)  [(None, 1)]         0           []                               \n",
      "                                                                                                  \n",
      " StoreType_input (InputLayer)   [(None, 1)]          0           []                               \n",
      "                                                                                                  \n",
      " Assortment_input (InputLayer)  [(None, 1)]          0           []                               \n",
      "                                                                                                  \n",
      " PromoInterval_input (InputLaye  [(None, 1)]         0           []                               \n",
      " r)                                                                                               \n",
      "                                                                                                  \n",
      " CompetitionOpenSinceYear_input  [(None, 1)]         0           []                               \n",
      "  (InputLayer)                                                                                    \n",
      "                                                                                                  \n",
      " Promo2SinceYear_input (InputLa  [(None, 1)]         0           []                               \n",
      " yer)                                                                                             \n",
      "                                                                                                  \n",
      " State_input (InputLayer)       [(None, 1)]          0           []                               \n",
      "                                                                                                  \n",
      " Week_input (InputLayer)        [(None, 1)]          0           []                               \n",
      "                                                                                                  \n",
      " Events_input (InputLayer)      [(None, 1)]          0           []                               \n",
      "                                                                                                  \n",
      " Promo_fw_input (InputLayer)    [(None, 1)]          0           []                               \n",
      "                                                                                                  \n",
      " Promo_bw_input (InputLayer)    [(None, 1)]          0           []                               \n",
      "                                                                                                  \n",
      " StateHoliday_bool_fw_input (In  [(None, 1)]         0           []                               \n",
      " putLayer)                                                                                        \n",
      "                                                                                                  \n",
      " StateHoliday_bool_bw_input (In  [(None, 1)]         0           []                               \n",
      " putLayer)                                                                                        \n",
      "                                                                                                  \n",
      " SchoolHoliday_fw_input (InputL  [(None, 1)]         0           []                               \n",
      " ayer)                                                                                            \n",
      "                                                                                                  \n",
      " SchoolHoliday_bw_input (InputL  [(None, 1)]         0           []                               \n",
      " ayer)                                                                                            \n",
      "                                                                                                  \n",
      " Store_Embed (Embedding)        (None, 1, 50)        55750       ['Store_input[0][0]']            \n",
      "                                                                                                  \n",
      " DayOfWeek_Embed (Embedding)    (None, 1, 3)         21          ['DayOfWeek_input[0][0]']        \n",
      "                                                                                                  \n",
      " Year_Embed (Embedding)         (None, 1, 2)         6           ['Year_input[0][0]']             \n",
      "                                                                                                  \n",
      " Month_Embed (Embedding)        (None, 1, 4)         48          ['Month_input[0][0]']            \n",
      "                                                                                                  \n",
      " Day_Embed (Embedding)          (None, 1, 8)         248         ['Day_input[0][0]']              \n",
      "                                                                                                  \n",
      " StateHoliday_Embed (Embedding)  (None, 1, 2)        8           ['StateHoliday_input[0][0]']     \n",
      "                                                                                                  \n",
      " CompetitionMonthsOpen_Embed (E  (None, 1, 2)        50          ['CompetitionMonthsOpen_input[0][\n",
      " mbedding)                                                       0]']                             \n",
      "                                                                                                  \n",
      " Promo2Weeks_Embed (Embedding)  (None, 1, 2)         52          ['Promo2Weeks_input[0][0]']      \n",
      "                                                                                                  \n",
      " StoreType_Embed (Embedding)    (None, 1, 3)         12          ['StoreType_input[0][0]']        \n",
      "                                                                                                  \n",
      " Assortment_Embed (Embedding)   (None, 1, 3)         9           ['Assortment_input[0][0]']       \n",
      "                                                                                                  \n",
      " PromoInterval_Embed (Embedding  (None, 1, 3)        12          ['PromoInterval_input[0][0]']    \n",
      " )                                                                                                \n",
      "                                                                                                  \n",
      " CompetitionOpenSinceYear_Embed  (None, 1, 4)        84          ['CompetitionOpenSinceYear_input[\n",
      "  (Embedding)                                                    0][0]']                          \n",
      "                                                                                                  \n",
      " Promo2SinceYear_Embed (Embeddi  (None, 1, 4)        32          ['Promo2SinceYear_input[0][0]']  \n",
      " ng)                                                                                              \n",
      "                                                                                                  \n",
      " State_Embed (Embedding)        (None, 1, 6)         72          ['State_input[0][0]']            \n",
      "                                                                                                  \n",
      " Week_Embed (Embedding)         (None, 1, 25)        1300        ['Week_input[0][0]']             \n",
      "                                                                                                  \n",
      " Events_Embed (Embedding)       (None, 1, 4)         88          ['Events_input[0][0]']           \n",
      "                                                                                                  \n",
      " Promo_fw_Embed (Embedding)     (None, 1, 1)         6           ['Promo_fw_input[0][0]']         \n",
      "                                                                                                  \n",
      " Promo_bw_Embed (Embedding)     (None, 1, 1)         6           ['Promo_bw_input[0][0]']         \n",
      "                                                                                                  \n",
      " StateHoliday_bool_fw_Embed (Em  (None, 1, 1)        3           ['StateHoliday_bool_fw_input[0][0\n",
      " bedding)                                                        ]']                              \n",
      "                                                                                                  \n",
      " StateHoliday_bool_bw_Embed (Em  (None, 1, 1)        3           ['StateHoliday_bool_bw_input[0][0\n",
      " bedding)                                                        ]']                              \n",
      "                                                                                                  \n",
      " SchoolHoliday_fw_Embed (Embedd  (None, 1, 1)        8           ['SchoolHoliday_fw_input[0][0]'] \n",
      " ing)                                                                                             \n",
      "                                                                                                  \n",
      " SchoolHoliday_bw_Embed (Embedd  (None, 1, 1)        8           ['SchoolHoliday_bw_input[0][0]'] \n",
      " ing)                                                                                             \n",
      "                                                                                                  \n",
      " Store_flat (Flatten)           (None, 50)           0           ['Store_Embed[0][0]']            \n",
      "                                                                                                  \n",
      " DayOfWeek_flat (Flatten)       (None, 3)            0           ['DayOfWeek_Embed[0][0]']        \n",
      "                                                                                                  \n",
      " Year_flat (Flatten)            (None, 2)            0           ['Year_Embed[0][0]']             \n",
      "                                                                                                  \n",
      " Month_flat (Flatten)           (None, 4)            0           ['Month_Embed[0][0]']            \n",
      "                                                                                                  \n",
      " Day_flat (Flatten)             (None, 8)            0           ['Day_Embed[0][0]']              \n",
      "                                                                                                  \n",
      " StateHoliday_flat (Flatten)    (None, 2)            0           ['StateHoliday_Embed[0][0]']     \n",
      "                                                                                                  \n",
      " CompetitionMonthsOpen_flat (Fl  (None, 2)           0           ['CompetitionMonthsOpen_Embed[0][\n",
      " atten)                                                          0]']                             \n",
      "                                                                                                  \n",
      " Promo2Weeks_flat (Flatten)     (None, 2)            0           ['Promo2Weeks_Embed[0][0]']      \n",
      "                                                                                                  \n",
      " StoreType_flat (Flatten)       (None, 3)            0           ['StoreType_Embed[0][0]']        \n",
      "                                                                                                  \n",
      " Assortment_flat (Flatten)      (None, 3)            0           ['Assortment_Embed[0][0]']       \n",
      "                                                                                                  \n",
      " PromoInterval_flat (Flatten)   (None, 3)            0           ['PromoInterval_Embed[0][0]']    \n",
      "                                                                                                  \n",
      " CompetitionOpenSinceYear_flat   (None, 4)           0           ['CompetitionOpenSinceYear_Embed[\n",
      " (Flatten)                                                       0][0]']                          \n",
      "                                                                                                  \n",
      " Promo2SinceYear_flat (Flatten)  (None, 4)           0           ['Promo2SinceYear_Embed[0][0]']  \n",
      "                                                                                                  \n",
      " State_flat (Flatten)           (None, 6)            0           ['State_Embed[0][0]']            \n",
      "                                                                                                  \n",
      " Week_flat (Flatten)            (None, 25)           0           ['Week_Embed[0][0]']             \n",
      "                                                                                                  \n",
      " Events_flat (Flatten)          (None, 4)            0           ['Events_Embed[0][0]']           \n",
      "                                                                                                  \n",
      " Promo_fw_flat (Flatten)        (None, 1)            0           ['Promo_fw_Embed[0][0]']         \n",
      "                                                                                                  \n",
      " Promo_bw_flat (Flatten)        (None, 1)            0           ['Promo_bw_Embed[0][0]']         \n",
      "                                                                                                  \n",
      " StateHoliday_bool_fw_flat (Fla  (None, 1)           0           ['StateHoliday_bool_fw_Embed[0][0\n",
      " tten)                                                           ]']                              \n",
      "                                                                                                  \n",
      " StateHoliday_bool_bw_flat (Fla  (None, 1)           0           ['StateHoliday_bool_bw_Embed[0][0\n",
      " tten)                                                           ]']                              \n",
      "                                                                                                  \n",
      " SchoolHoliday_fw_flat (Flatten  (None, 1)           0           ['SchoolHoliday_fw_Embed[0][0]'] \n",
      " )                                                                                                \n",
      "                                                                                                  \n",
      " SchoolHoliday_bw_flat (Flatten  (None, 1)           0           ['SchoolHoliday_bw_Embed[0][0]'] \n",
      " )                                                                                                \n",
      "                                                                                                  \n",
      " CompetitionDistance_input (Inp  [(None, 1)]         0           []                               \n",
      " utLayer)                                                                                         \n",
      "                                                                                                  \n",
      " Max_TemperatureC_input (InputL  [(None, 1)]         0           []                               \n",
      " ayer)                                                                                            \n",
      "                                                                                                  \n",
      " Precipitationmm_input (InputLa  [(None, 1)]         0           []                               \n",
      " yer)                                                                                             \n",
      "                                                                                                  \n",
      " Max_Humidity_input (InputLayer  [(None, 1)]         0           []                               \n",
      " )                                                                                                \n",
      "                                                                                                  \n",
      " CloudCover_input (InputLayer)  [(None, 1)]          0           []                               \n",
      "                                                                                                  \n",
      " trend_input (InputLayer)       [(None, 1)]          0           []                               \n",
      "                                                                                                  \n",
      " AfterStateHoliday_bool_input (  [(None, 1)]         0           []                               \n",
      " InputLayer)                                                                                      \n",
      "                                                                                                  \n",
      " Promo_input (InputLayer)       [(None, 1)]          0           []                               \n",
      "                                                                                                  \n",
      " All_Concatenate (Concatenate)  (None, 139)          0           ['Store_flat[0][0]',             \n",
      "                                                                  'DayOfWeek_flat[0][0]',         \n",
      "                                                                  'Year_flat[0][0]',              \n",
      "                                                                  'Month_flat[0][0]',             \n",
      "                                                                  'Day_flat[0][0]',               \n",
      "                                                                  'StateHoliday_flat[0][0]',      \n",
      "                                                                  'CompetitionMonthsOpen_flat[0][0\n",
      "                                                                 ]',                              \n",
      "                                                                  'Promo2Weeks_flat[0][0]',       \n",
      "                                                                  'StoreType_flat[0][0]',         \n",
      "                                                                  'Assortment_flat[0][0]',        \n",
      "                                                                  'PromoInterval_flat[0][0]',     \n",
      "                                                                  'CompetitionOpenSinceYear_flat[0\n",
      "                                                                 ][0]',                           \n",
      "                                                                  'Promo2SinceYear_flat[0][0]',   \n",
      "                                                                  'State_flat[0][0]',             \n",
      "                                                                  'Week_flat[0][0]',              \n",
      "                                                                  'Events_flat[0][0]',            \n",
      "                                                                  'Promo_fw_flat[0][0]',          \n",
      "                                                                  'Promo_bw_flat[0][0]',          \n",
      "                                                                  'StateHoliday_bool_fw_flat[0][0]\n",
      "                                                                 ',                               \n",
      "                                                                  'StateHoliday_bool_bw_flat[0][0]\n",
      "                                                                 ',                               \n",
      "                                                                  'SchoolHoliday_fw_flat[0][0]',  \n",
      "                                                                  'SchoolHoliday_bw_flat[0][0]',  \n",
      "                                                                  'CompetitionDistance_input[0][0]\n",
      "                                                                 ',                               \n",
      "                                                                  'Max_TemperatureC_input[0][0]', \n",
      "                                                                  'Precipitationmm_input[0][0]',  \n",
      "                                                                  'Max_Humidity_input[0][0]',     \n",
      "                                                                  'CloudCover_input[0][0]',       \n",
      "                                                                  'trend_input[0][0]',            \n",
      "                                                                  'AfterStateHoliday_bool_input[0]\n",
      "                                                                 [0]',                            \n",
      "                                                                  'Promo_input[0][0]']            \n",
      "                                                                                                  \n",
      " dense (Dense)                  (None, 1000)         140000      ['All_Concatenate[0][0]']        \n",
      "                                                                                                  \n",
      " batch_normalization (BatchNorm  (None, 1000)        4000        ['dense[0][0]']                  \n",
      " alization)                                                                                       \n",
      "                                                                                                  \n",
      " leaky_re_lu (LeakyReLU)        (None, 1000)         0           ['batch_normalization[0][0]']    \n",
      "                                                                                                  \n",
      " dropout (Dropout)              (None, 1000)         0           ['leaky_re_lu[0][0]']            \n",
      "                                                                                                  \n",
      " dense_1 (Dense)                (None, 500)          500500      ['dropout[0][0]']                \n",
      "                                                                                                  \n",
      " activation (Activation)        (None, 500)          0           ['dense_1[0][0]']                \n",
      "                                                                                                  \n",
      " dense_2 (Dense)                (None, 500)          250500      ['activation[0][0]']             \n",
      "                                                                                                  \n",
      " activation_1 (Activation)      (None, 500)          0           ['dense_2[0][0]']                \n",
      "                                                                                                  \n",
      " dense_3 (Dense)                (None, 500)          250500      ['activation_1[0][0]']           \n",
      "                                                                                                  \n",
      " activation_2 (Activation)      (None, 500)          0           ['dense_3[0][0]']                \n",
      "                                                                                                  \n",
      " Sales (Dense)                  (None, 1)            501         ['activation_2[0][0]']           \n",
      "                                                                                                  \n",
      " Customers (Dense)              (None, 1)            501         ['activation_2[0][0]']           \n",
      "                                                                                                  \n",
      "==================================================================================================\n",
      "Total params: 1,204,328\n",
      "Trainable params: 1,202,328\n",
      "Non-trainable params: 2,000\n",
      "__________________________________________________________________________________________________\n"
     ]
    }
   ],
   "source": [
    "# Descomentar para ver\n",
    "model.summary()"
   ]
  },
  {
   "cell_type": "code",
   "execution_count": 23,
   "metadata": {},
   "outputs": [],
   "source": [
    "model.save_weights('initial_weights.hdf5')"
   ]
  },
  {
   "cell_type": "code",
   "execution_count": 24,
   "metadata": {},
   "outputs": [
    {
     "name": "stdout",
     "output_type": "stream",
     "text": [
      "Cantidad en val: 30188, porcentaje: 0.9642465458145908\n"
     ]
    }
   ],
   "source": [
    "df_train = df[df.Date < datetime.datetime(2015, 7, 1)]  \n",
    "df_val = df[df.Date >= datetime.datetime(2015, 7, 1)]\n",
    "print(f'Cantidad en val: {len(df_val)}, porcentaje: {len(df_train)/(len(df_train) + len(df_val))}')"
   ]
  },
  {
   "cell_type": "code",
   "execution_count": 25,
   "metadata": {},
   "outputs": [],
   "source": [
    "from matplotlib import pyplot as plt\n",
    "# plt.figure(figsize=(20,5))\n",
    "# plt.plot((df_train[df_train['Store']==1]['Sales'].values - df_train[df_train['Store']==1]['Sales'].mean())/df_train[df_train['Store']==1]['Sales'].std())\n",
    "# plt.show()\n",
    "# plt.figure(figsize=(20,5))\n",
    "# plt.plot(np.log(df_train[df_train['Store']==1]['Sales'].values)/np.max(np.log(df_train[df_train['Store']==1]['Sales'].values)))\n",
    "# plt.show()"
   ]
  },
  {
   "cell_type": "code",
   "execution_count": 26,
   "metadata": {},
   "outputs": [],
   "source": [
    "stores_mean = {}\n",
    "for store, g_df in df_train.groupby('Store'):\n",
    "    stores_mean[store] = g_df[g_df['Sales'] > 0]['Sales'].mean()"
   ]
  },
  {
   "cell_type": "code",
   "execution_count": 27,
   "metadata": {},
   "outputs": [
    {
     "name": "stderr",
     "output_type": "stream",
     "text": [
      "/var/folders/cc/hfx_w22x28j8f0l38h8ww1zc0000gn/T/ipykernel_10655/3553976367.py:1: SettingWithCopyWarning: \n",
      "A value is trying to be set on a copy of a slice from a DataFrame.\n",
      "Try using .loc[row_indexer,col_indexer] = value instead\n",
      "\n",
      "See the caveats in the documentation: https://pandas.pydata.org/pandas-docs/stable/user_guide/indexing.html#returning-a-view-versus-a-copy\n",
      "  df_train.loc[:, 'mean_by_store'] = df_train['Store'].apply(stores_mean.get)\n",
      "/var/folders/cc/hfx_w22x28j8f0l38h8ww1zc0000gn/T/ipykernel_10655/3553976367.py:2: SettingWithCopyWarning: \n",
      "A value is trying to be set on a copy of a slice from a DataFrame.\n",
      "Try using .loc[row_indexer,col_indexer] = value instead\n",
      "\n",
      "See the caveats in the documentation: https://pandas.pydata.org/pandas-docs/stable/user_guide/indexing.html#returning-a-view-versus-a-copy\n",
      "  df_val.loc[:, 'mean_by_store'] = df_val['Store'].apply(stores_mean.get)\n",
      "/var/folders/cc/hfx_w22x28j8f0l38h8ww1zc0000gn/T/ipykernel_10655/3553976367.py:4: SettingWithCopyWarning: \n",
      "A value is trying to be set on a copy of a slice from a DataFrame.\n",
      "Try using .loc[row_indexer,col_indexer] = value instead\n",
      "\n",
      "See the caveats in the documentation: https://pandas.pydata.org/pandas-docs/stable/user_guide/indexing.html#returning-a-view-versus-a-copy\n",
      "  df_train.loc[:, 'Sales_store'] = df_train['Sales'] - df_train['mean_by_store']\n",
      "/var/folders/cc/hfx_w22x28j8f0l38h8ww1zc0000gn/T/ipykernel_10655/3553976367.py:5: SettingWithCopyWarning: \n",
      "A value is trying to be set on a copy of a slice from a DataFrame.\n",
      "Try using .loc[row_indexer,col_indexer] = value instead\n",
      "\n",
      "See the caveats in the documentation: https://pandas.pydata.org/pandas-docs/stable/user_guide/indexing.html#returning-a-view-versus-a-copy\n",
      "  df_val.loc[:, 'Sales_store'] = df_val['Sales'] - df_val['mean_by_store']\n"
     ]
    }
   ],
   "source": [
    "df_train.loc[:, 'mean_by_store'] = df_train['Store'].apply(stores_mean.get)\n",
    "df_val.loc[:, 'mean_by_store'] = df_val['Store'].apply(stores_mean.get)\n",
    "\n",
    "df_train.loc[:, 'Sales_store'] = df_train['Sales'] - df_train['mean_by_store']\n",
    "df_val.loc[:, 'Sales_store'] = df_val['Sales'] - df_val['mean_by_store']"
   ]
  },
  {
   "cell_type": "code",
   "execution_count": 28,
   "metadata": {},
   "outputs": [],
   "source": [
    "from tensorflow.keras import backend as K"
   ]
  },
  {
   "cell_type": "code",
   "execution_count": 29,
   "metadata": {},
   "outputs": [],
   "source": [
    "def rmspe(y_true, y_pred):\n",
    "    return K.sqrt(K.mean(K.square((y_true - y_pred)/y_true)))"
   ]
  },
  {
   "cell_type": "code",
   "execution_count": 30,
   "metadata": {},
   "outputs": [],
   "source": [
    "def get_metric(df, sales_):\n",
    "    return np.sqrt((((df['Sales'] - sales_)/df['Sales'])**2).mean())"
   ]
  },
  {
   "cell_type": "code",
   "execution_count": 31,
   "metadata": {},
   "outputs": [
    {
     "data": {
      "text/plain": [
       "0.30717460853388645"
      ]
     },
     "execution_count": 31,
     "metadata": {},
     "output_type": "execute_result"
    }
   ],
   "source": [
    "get_metric(df_val, df_val['mean_by_store'])"
   ]
  },
  {
   "cell_type": "code",
   "execution_count": 32,
   "metadata": {},
   "outputs": [],
   "source": [
    "all_vars = cat_vars + contin_vars\n",
    "X_train = np.hsplit(df_train[all_vars].values, len(all_vars))\n",
    "X_val = np.hsplit(df_val[all_vars].values, len(all_vars))\n",
    "X_test = np.hsplit(df_test[all_vars].values, len(all_vars))"
   ]
  },
  {
   "cell_type": "code",
   "execution_count": 33,
   "metadata": {},
   "outputs": [
    {
     "name": "stderr",
     "output_type": "stream",
     "text": [
      "/opt/anaconda3/lib/python3.9/site-packages/numpy/core/fromnumeric.py:84: FutureWarning: In a future version, DataFrame.max(axis=None) will return a scalar max over the entire DataFrame. To retain the old behavior, use 'frame.max(axis=0)' or just 'frame.max()'\n",
      "  return reduction(axis=axis, out=out, **passkwargs)\n"
     ]
    }
   ],
   "source": [
    "if add_customers:\n",
    "    y_out_columns = ['Sales', 'Customers']\n",
    "else:\n",
    "    y_out_columns = ['Sales_store']\n",
    "    \n",
    "if log_output:\n",
    "    # Escala logaritmica\n",
    "    max_log_y = np.max(np.log(df[y_out_columns])).values\n",
    "    y_train = np.log(df_train[y_out_columns].values)/max_log_y\n",
    "    y_val = np.log(df_val[y_out_columns].values)/max_log_y\n",
    "else:\n",
    "    # Normalización\n",
    "    y_mean = df_train[y_out_columns].mean().values\n",
    "    y_std = df_train[y_out_columns].std().values\n",
    "#     y_train = (df_train[y_out_columns].values - y_mean)/y_std\n",
    "#     y_val = (df_val[y_out_columns].values - y_mean)/y_std\n",
    "    y_max = df_train[y_out_columns].max().values\n",
    "    y_train = df_train[y_out_columns].values/y_max\n",
    "    y_val = df_val[y_out_columns].values/y_max\n",
    "y_train = np.hsplit(y_train, y_train.shape[1])\n",
    "y_val = np.hsplit(y_val, y_val.shape[1])"
   ]
  },
  {
   "cell_type": "code",
   "execution_count": 34,
   "metadata": {},
   "outputs": [
    {
     "name": "stderr",
     "output_type": "stream",
     "text": [
      "WARNING:absl:`lr` is deprecated, please use `learning_rate` instead, or use the legacy optimizer, e.g.,tf.keras.optimizers.legacy.Adam.\n"
     ]
    }
   ],
   "source": [
    "lr = 0.005\n",
    "model.compile(optimizer=Adam(lr=lr), metrics=['mse', rmspe], loss='mse')"
   ]
  },
  {
   "cell_type": "code",
   "execution_count": 35,
   "metadata": {},
   "outputs": [],
   "source": [
    "if add_customers:\n",
    "    checkpoint = ModelCheckpoint('bestmodel.hdf5', monitor='val_Sales_mse', verbose=1, save_best_only=True)\n",
    "else:\n",
    "    checkpoint = ModelCheckpoint('bestmodel.hdf5', monitor='val_loss', verbose=1, save_best_only=True)"
   ]
  },
  {
   "cell_type": "code",
   "execution_count": 36,
   "metadata": {
    "collapsed": false,
    "jupyter": {
     "outputs_hidden": false
    }
   },
   "outputs": [],
   "source": [
    "# callbacks\n",
    "earlyStopping = EarlyStopping(monitor='val_loss', min_delta=0, patience=15, verbose=1, restore_best_weights=True)\n",
    "reduceLR = ReduceLROnPlateau(monitor ='val_loss', factor=0.2, patience=15, verbose=1, mode='auto', min_delta=0.01, cooldown=0, min_lr=1e-8)"
   ]
  },
  {
   "cell_type": "code",
   "execution_count": 37,
   "metadata": {},
   "outputs": [
    {
     "name": "stderr",
     "output_type": "stream",
     "text": [
      "2023/03/01 19:46:10 INFO mlflow.utils.autologging_utils: Created MLflow autologging run with ID '5b70fa1b1cba496890a6158f8dc22c0c', which will track hyperparameters, performance metrics, model artifacts, and lineage information for the current tensorflow workflow\n"
     ]
    },
    {
     "name": "stdout",
     "output_type": "stream",
     "text": [
      "Epoch 1/200\n",
      "\n",
      "Epoch 1: val_Sales_mse improved from inf to 0.00021, saving model to bestmodel.hdf5\n",
      "3181/3181 - 66s - loss: 0.0243 - Sales_loss: 0.0022 - Customers_loss: 0.0016 - Sales_mse: 0.0022 - Sales_rmspe: 0.0377 - Customers_mse: 0.0016 - Customers_rmspe: 0.0416 - val_loss: 0.0019 - val_Sales_loss: 2.1416e-04 - val_Customers_loss: 2.8903e-04 - val_Sales_mse: 2.1416e-04 - val_Sales_rmspe: 0.0176 - val_Customers_mse: 2.8903e-04 - val_Customers_rmspe: 0.0227 - lr: 0.0010 - 66s/epoch - 21ms/step\n",
      "Epoch 2/200\n",
      "\n",
      "Epoch 2: val_Sales_mse improved from 0.00021 to 0.00021, saving model to bestmodel.hdf5\n",
      "3181/3181 - 62s - loss: 9.0278e-04 - Sales_loss: 2.1534e-04 - Customers_loss: 2.5124e-04 - Sales_mse: 2.1534e-04 - Sales_rmspe: 0.0181 - Customers_mse: 2.5124e-04 - Customers_rmspe: 0.0220 - val_loss: 5.8794e-04 - val_Sales_loss: 2.1142e-04 - val_Customers_loss: 2.1498e-04 - val_Sales_mse: 2.1142e-04 - val_Sales_rmspe: 0.0173 - val_Customers_mse: 2.1498e-04 - val_Customers_rmspe: 0.0199 - lr: 0.0010 - 62s/epoch - 19ms/step\n",
      "Epoch 3/200\n",
      "\n",
      "Epoch 3: val_Sales_mse did not improve from 0.00021\n",
      "3181/3181 - 62s - loss: 5.7428e-04 - Sales_loss: 2.0186e-04 - Customers_loss: 2.2742e-04 - Sales_mse: 2.0186e-04 - Sales_rmspe: 0.0175 - Customers_mse: 2.2742e-04 - Customers_rmspe: 0.0210 - val_loss: 5.8676e-04 - val_Sales_loss: 2.3719e-04 - val_Customers_loss: 2.0705e-04 - val_Sales_mse: 2.3719e-04 - val_Sales_rmspe: 0.0183 - val_Customers_mse: 2.0705e-04 - val_Customers_rmspe: 0.0195 - lr: 0.0010 - 62s/epoch - 19ms/step\n",
      "Epoch 4/200\n",
      "\n",
      "Epoch 4: val_Sales_mse improved from 0.00021 to 0.00017, saving model to bestmodel.hdf5\n",
      "3181/3181 - 61s - loss: 5.3882e-04 - Sales_loss: 1.9273e-04 - Customers_loss: 2.1686e-04 - Sales_mse: 1.9273e-04 - Sales_rmspe: 0.0171 - Customers_mse: 2.1686e-04 - Customers_rmspe: 0.0205 - val_loss: 4.9332e-04 - val_Sales_loss: 1.6880e-04 - val_Customers_loss: 1.9905e-04 - val_Sales_mse: 1.6880e-04 - val_Sales_rmspe: 0.0157 - val_Customers_mse: 1.9905e-04 - val_Customers_rmspe: 0.0191 - lr: 0.0010 - 61s/epoch - 19ms/step\n",
      "Epoch 5/200\n",
      "\n",
      "Epoch 5: val_Sales_mse improved from 0.00017 to 0.00016, saving model to bestmodel.hdf5\n",
      "3181/3181 - 61s - loss: 5.0490e-04 - Sales_loss: 1.8475e-04 - Customers_loss: 2.0426e-04 - Sales_mse: 1.8475e-04 - Sales_rmspe: 0.0167 - Customers_mse: 2.0426e-04 - Customers_rmspe: 0.0199 - val_loss: 4.4745e-04 - val_Sales_loss: 1.5980e-04 - val_Customers_loss: 1.8095e-04 - val_Sales_mse: 1.5980e-04 - val_Sales_rmspe: 0.0153 - val_Customers_mse: 1.8095e-04 - val_Customers_rmspe: 0.0183 - lr: 0.0010 - 61s/epoch - 19ms/step\n",
      "Epoch 6/200\n",
      "\n",
      "Epoch 6: val_Sales_mse did not improve from 0.00016\n",
      "3181/3181 - 62s - loss: 4.8162e-04 - Sales_loss: 1.7740e-04 - Customers_loss: 1.9785e-04 - Sales_mse: 1.7740e-04 - Sales_rmspe: 0.0164 - Customers_mse: 1.9785e-04 - Customers_rmspe: 0.0195 - val_loss: 5.2373e-04 - val_Sales_loss: 2.2558e-04 - val_Customers_loss: 2.0084e-04 - val_Sales_mse: 2.2558e-04 - val_Sales_rmspe: 0.0177 - val_Customers_mse: 2.0084e-04 - val_Customers_rmspe: 0.0189 - lr: 0.0010 - 62s/epoch - 19ms/step\n",
      "Epoch 7/200\n",
      "\n",
      "Epoch 7: val_Sales_mse improved from 0.00016 to 0.00015, saving model to bestmodel.hdf5\n",
      "3181/3181 - 621s - loss: 4.6500e-04 - Sales_loss: 1.7410e-04 - Customers_loss: 1.9181e-04 - Sales_mse: 1.7410e-04 - Sales_rmspe: 0.0162 - Customers_mse: 1.9181e-04 - Customers_rmspe: 0.0192 - val_loss: 4.9614e-04 - val_Sales_loss: 1.5034e-04 - val_Customers_loss: 2.4886e-04 - val_Sales_mse: 1.5034e-04 - val_Sales_rmspe: 0.0148 - val_Customers_mse: 2.4886e-04 - val_Customers_rmspe: 0.0215 - lr: 0.0010 - 621s/epoch - 195ms/step\n",
      "Epoch 8/200\n",
      "\n",
      "Epoch 8: val_Sales_mse did not improve from 0.00015\n",
      "3181/3181 - 60s - loss: 4.5047e-04 - Sales_loss: 1.7003e-04 - Customers_loss: 1.8807e-04 - Sales_mse: 1.7003e-04 - Sales_rmspe: 0.0160 - Customers_mse: 1.8807e-04 - Customers_rmspe: 0.0191 - val_loss: 4.2771e-04 - val_Sales_loss: 1.5462e-04 - val_Customers_loss: 1.8170e-04 - val_Sales_mse: 1.5462e-04 - val_Sales_rmspe: 0.0149 - val_Customers_mse: 1.8170e-04 - val_Customers_rmspe: 0.0181 - lr: 0.0010 - 60s/epoch - 19ms/step\n",
      "Epoch 9/200\n",
      "\n",
      "Epoch 9: val_Sales_mse did not improve from 0.00015\n",
      "3181/3181 - 61s - loss: 4.3659e-04 - Sales_loss: 1.6591e-04 - Customers_loss: 1.8326e-04 - Sales_mse: 1.6591e-04 - Sales_rmspe: 0.0158 - Customers_mse: 1.8326e-04 - Customers_rmspe: 0.0188 - val_loss: 5.0178e-04 - val_Sales_loss: 2.0118e-04 - val_Customers_loss: 2.1617e-04 - val_Sales_mse: 2.0118e-04 - val_Sales_rmspe: 0.0169 - val_Customers_mse: 2.1617e-04 - val_Customers_rmspe: 0.0197 - lr: 0.0010 - 61s/epoch - 19ms/step\n",
      "Epoch 10/200\n",
      "\n",
      "Epoch 10: val_Sales_mse did not improve from 0.00015\n",
      "3181/3181 - 62s - loss: 4.3576e-04 - Sales_loss: 1.6703e-04 - Customers_loss: 1.8378e-04 - Sales_mse: 1.6703e-04 - Sales_rmspe: 0.0159 - Customers_mse: 1.8378e-04 - Customers_rmspe: 0.0188 - val_loss: 4.1030e-04 - val_Sales_loss: 1.6012e-04 - val_Customers_loss: 1.6756e-04 - val_Sales_mse: 1.6012e-04 - val_Sales_rmspe: 0.0152 - val_Customers_mse: 1.6756e-04 - val_Customers_rmspe: 0.0174 - lr: 0.0010 - 62s/epoch - 20ms/step\n",
      "Epoch 11/200\n",
      "\n",
      "Epoch 11: val_Sales_mse did not improve from 0.00015\n",
      "3181/3181 - 61s - loss: 4.2650e-04 - Sales_loss: 1.6369e-04 - Customers_loss: 1.7992e-04 - Sales_mse: 1.6369e-04 - Sales_rmspe: 0.0157 - Customers_mse: 1.7992e-04 - Customers_rmspe: 0.0187 - val_loss: 4.6063e-04 - val_Sales_loss: 1.9304e-04 - val_Customers_loss: 1.8438e-04 - val_Sales_mse: 1.9304e-04 - val_Sales_rmspe: 0.0166 - val_Customers_mse: 1.8438e-04 - val_Customers_rmspe: 0.0182 - lr: 0.0010 - 61s/epoch - 19ms/step\n",
      "Epoch 12/200\n",
      "\n",
      "Epoch 12: val_Sales_mse improved from 0.00015 to 0.00014, saving model to bestmodel.hdf5\n",
      "3181/3181 - 62s - loss: 4.2431e-04 - Sales_loss: 1.6415e-04 - Customers_loss: 1.7897e-04 - Sales_mse: 1.6415e-04 - Sales_rmspe: 0.0157 - Customers_mse: 1.7897e-04 - Customers_rmspe: 0.0186 - val_loss: 3.8917e-04 - val_Sales_loss: 1.4460e-04 - val_Customers_loss: 1.6350e-04 - val_Sales_mse: 1.4460e-04 - val_Sales_rmspe: 0.0145 - val_Customers_mse: 1.6350e-04 - val_Customers_rmspe: 0.0173 - lr: 0.0010 - 62s/epoch - 19ms/step\n",
      "Epoch 13/200\n",
      "\n",
      "Epoch 13: val_Sales_mse did not improve from 0.00014\n",
      "3181/3181 - 62s - loss: 4.2263e-04 - Sales_loss: 1.6367e-04 - Customers_loss: 1.7877e-04 - Sales_mse: 1.6367e-04 - Sales_rmspe: 0.0157 - Customers_mse: 1.7877e-04 - Customers_rmspe: 0.0186 - val_loss: 4.3848e-04 - val_Sales_loss: 1.6631e-04 - val_Customers_loss: 1.9235e-04 - val_Sales_mse: 1.6631e-04 - val_Sales_rmspe: 0.0154 - val_Customers_mse: 1.9235e-04 - val_Customers_rmspe: 0.0185 - lr: 0.0010 - 62s/epoch - 20ms/step\n",
      "Epoch 14/200\n",
      "\n",
      "Epoch 14: val_Sales_mse improved from 0.00014 to 0.00014, saving model to bestmodel.hdf5\n",
      "3181/3181 - 62s - loss: 4.1826e-04 - Sales_loss: 1.6180e-04 - Customers_loss: 1.7725e-04 - Sales_mse: 1.6180e-04 - Sales_rmspe: 0.0156 - Customers_mse: 1.7725e-04 - Customers_rmspe: 0.0185 - val_loss: 3.7735e-04 - val_Sales_loss: 1.4093e-04 - val_Customers_loss: 1.5795e-04 - val_Sales_mse: 1.4093e-04 - val_Sales_rmspe: 0.0143 - val_Customers_mse: 1.5795e-04 - val_Customers_rmspe: 0.0169 - lr: 0.0010 - 62s/epoch - 19ms/step\n",
      "Epoch 15/200\n",
      "\n",
      "Epoch 15: val_Sales_mse did not improve from 0.00014\n",
      "3181/3181 - 62s - loss: 4.1201e-04 - Sales_loss: 1.5896e-04 - Customers_loss: 1.7526e-04 - Sales_mse: 1.5896e-04 - Sales_rmspe: 0.0155 - Customers_mse: 1.7526e-04 - Customers_rmspe: 0.0184 - val_loss: 3.7841e-04 - val_Sales_loss: 1.4631e-04 - val_Customers_loss: 1.5440e-04 - val_Sales_mse: 1.4631e-04 - val_Sales_rmspe: 0.0145 - val_Customers_mse: 1.5440e-04 - val_Customers_rmspe: 0.0166 - lr: 0.0010 - 62s/epoch - 19ms/step\n",
      "Epoch 16/200\n",
      "\n",
      "Epoch 16: val_Sales_mse did not improve from 0.00014\n",
      "\n",
      "Epoch 16: ReduceLROnPlateau reducing learning rate to 0.00020000000949949026.\n",
      "3181/3181 - 61s - loss: 4.1251e-04 - Sales_loss: 1.6039e-04 - Customers_loss: 1.7495e-04 - Sales_mse: 1.6039e-04 - Sales_rmspe: 0.0156 - Customers_mse: 1.7495e-04 - Customers_rmspe: 0.0184 - val_loss: 4.3621e-04 - val_Sales_loss: 1.9775e-04 - val_Customers_loss: 1.6182e-04 - val_Sales_mse: 1.9775e-04 - val_Sales_rmspe: 0.0168 - val_Customers_mse: 1.6182e-04 - val_Customers_rmspe: 0.0171 - lr: 0.0010 - 61s/epoch - 19ms/step\n",
      "Epoch 17/200\n",
      "\n",
      "Epoch 17: val_Sales_mse improved from 0.00014 to 0.00013, saving model to bestmodel.hdf5\n",
      "3181/3181 - 257s - loss: 3.3185e-04 - Sales_loss: 1.2917e-04 - Customers_loss: 1.3988e-04 - Sales_mse: 1.2917e-04 - Sales_rmspe: 0.0140 - Customers_mse: 1.3988e-04 - Customers_rmspe: 0.0165 - val_loss: 3.3564e-04 - val_Sales_loss: 1.3323e-04 - val_Customers_loss: 1.4310e-04 - val_Sales_mse: 1.3323e-04 - val_Sales_rmspe: 0.0139 - val_Customers_mse: 1.4310e-04 - val_Customers_rmspe: 0.0161 - lr: 2.0000e-04 - 257s/epoch - 81ms/step\n",
      "Epoch 18/200\n",
      "\n",
      "Epoch 18: val_Sales_mse did not improve from 0.00013\n",
      "3181/3181 - 60s - loss: 3.2460e-04 - Sales_loss: 1.2811e-04 - Customers_loss: 1.3827e-04 - Sales_mse: 1.2811e-04 - Sales_rmspe: 0.0140 - Customers_mse: 1.3827e-04 - Customers_rmspe: 0.0164 - val_loss: 3.7209e-04 - val_Sales_loss: 1.5229e-04 - val_Customers_loss: 1.6206e-04 - val_Sales_mse: 1.5229e-04 - val_Sales_rmspe: 0.0147 - val_Customers_mse: 1.6206e-04 - val_Customers_rmspe: 0.0170 - lr: 2.0000e-04 - 60s/epoch - 19ms/step\n",
      "Epoch 19/200\n",
      "\n",
      "Epoch 19: val_Sales_mse improved from 0.00013 to 0.00013, saving model to bestmodel.hdf5\n",
      "3181/3181 - 64s - loss: 3.2262e-04 - Sales_loss: 1.2751e-04 - Customers_loss: 1.3773e-04 - Sales_mse: 1.2751e-04 - Sales_rmspe: 0.0139 - Customers_mse: 1.3773e-04 - Customers_rmspe: 0.0164 - val_loss: 3.2858e-04 - val_Sales_loss: 1.3260e-04 - val_Customers_loss: 1.3872e-04 - val_Sales_mse: 1.3260e-04 - val_Sales_rmspe: 0.0138 - val_Customers_mse: 1.3872e-04 - val_Customers_rmspe: 0.0159 - lr: 2.0000e-04 - 64s/epoch - 20ms/step\n",
      "Epoch 20/200\n",
      "\n",
      "Epoch 20: val_Sales_mse did not improve from 0.00013\n",
      "3181/3181 - 197s - loss: 3.2077e-04 - Sales_loss: 1.2670e-04 - Customers_loss: 1.3717e-04 - Sales_mse: 1.2670e-04 - Sales_rmspe: 0.0139 - Customers_mse: 1.3717e-04 - Customers_rmspe: 0.0164 - val_loss: 3.3546e-04 - val_Sales_loss: 1.3444e-04 - val_Customers_loss: 1.4465e-04 - val_Sales_mse: 1.3444e-04 - val_Sales_rmspe: 0.0139 - val_Customers_mse: 1.4465e-04 - val_Customers_rmspe: 0.0162 - lr: 2.0000e-04 - 197s/epoch - 62ms/step\n",
      "Epoch 21/200\n",
      "\n",
      "Epoch 21: val_Sales_mse did not improve from 0.00013\n",
      "3181/3181 - 63s - loss: 3.1988e-04 - Sales_loss: 1.2666e-04 - Customers_loss: 1.3683e-04 - Sales_mse: 1.2666e-04 - Sales_rmspe: 0.0139 - Customers_mse: 1.3683e-04 - Customers_rmspe: 0.0163 - val_loss: 3.4713e-04 - val_Sales_loss: 1.3612e-04 - val_Customers_loss: 1.5488e-04 - val_Sales_mse: 1.3612e-04 - val_Sales_rmspe: 0.0140 - val_Customers_mse: 1.5488e-04 - val_Customers_rmspe: 0.0166 - lr: 2.0000e-04 - 63s/epoch - 20ms/step\n",
      "Epoch 22/200\n",
      "\n",
      "Epoch 22: val_Sales_mse did not improve from 0.00013\n",
      "3181/3181 - 69s - loss: 3.1758e-04 - Sales_loss: 1.2584e-04 - Customers_loss: 1.3574e-04 - Sales_mse: 1.2584e-04 - Sales_rmspe: 0.0138 - Customers_mse: 1.3574e-04 - Customers_rmspe: 0.0163 - val_loss: 3.6041e-04 - val_Sales_loss: 1.4407e-04 - val_Customers_loss: 1.6032e-04 - val_Sales_mse: 1.4407e-04 - val_Sales_rmspe: 0.0144 - val_Customers_mse: 1.6032e-04 - val_Customers_rmspe: 0.0170 - lr: 2.0000e-04 - 69s/epoch - 22ms/step\n",
      "Epoch 23/200\n",
      "\n",
      "Epoch 23: val_Sales_mse did not improve from 0.00013\n",
      "3181/3181 - 62s - loss: 3.1743e-04 - Sales_loss: 1.2575e-04 - Customers_loss: 1.3605e-04 - Sales_mse: 1.2575e-04 - Sales_rmspe: 0.0138 - Customers_mse: 1.3605e-04 - Customers_rmspe: 0.0163 - val_loss: 3.5950e-04 - val_Sales_loss: 1.3287e-04 - val_Customers_loss: 1.7100e-04 - val_Sales_mse: 1.3287e-04 - val_Sales_rmspe: 0.0138 - val_Customers_mse: 1.7100e-04 - val_Customers_rmspe: 0.0174 - lr: 2.0000e-04 - 62s/epoch - 20ms/step\n",
      "Epoch 24/200\n",
      "\n",
      "Epoch 24: val_Sales_mse did not improve from 0.00013\n",
      "3181/3181 - 62s - loss: 3.1749e-04 - Sales_loss: 1.2596e-04 - Customers_loss: 1.3620e-04 - Sales_mse: 1.2596e-04 - Sales_rmspe: 0.0138 - Customers_mse: 1.3620e-04 - Customers_rmspe: 0.0163 - val_loss: 3.4312e-04 - val_Sales_loss: 1.3332e-04 - val_Customers_loss: 1.5441e-04 - val_Sales_mse: 1.3332e-04 - val_Sales_rmspe: 0.0138 - val_Customers_mse: 1.5441e-04 - val_Customers_rmspe: 0.0167 - lr: 2.0000e-04 - 62s/epoch - 19ms/step\n",
      "Epoch 25/200\n",
      "\n",
      "Epoch 25: val_Sales_mse did not improve from 0.00013\n",
      "3181/3181 - 66s - loss: 3.1459e-04 - Sales_loss: 1.2489e-04 - Customers_loss: 1.3474e-04 - Sales_mse: 1.2489e-04 - Sales_rmspe: 0.0138 - Customers_mse: 1.3474e-04 - Customers_rmspe: 0.0162 - val_loss: 3.6389e-04 - val_Sales_loss: 1.4026e-04 - val_Customers_loss: 1.6886e-04 - val_Sales_mse: 1.4026e-04 - val_Sales_rmspe: 0.0142 - val_Customers_mse: 1.6886e-04 - val_Customers_rmspe: 0.0175 - lr: 2.0000e-04 - 66s/epoch - 21ms/step\n",
      "Epoch 26/200\n",
      "\n",
      "Epoch 26: val_Sales_mse did not improve from 0.00013\n",
      "3181/3181 - 71s - loss: 3.1441e-04 - Sales_loss: 1.2515e-04 - Customers_loss: 1.3457e-04 - Sales_mse: 1.2515e-04 - Sales_rmspe: 0.0138 - Customers_mse: 1.3457e-04 - Customers_rmspe: 0.0162 - val_loss: 3.4294e-04 - val_Sales_loss: 1.3817e-04 - val_Customers_loss: 1.4987e-04 - val_Sales_mse: 1.3817e-04 - val_Sales_rmspe: 0.0141 - val_Customers_mse: 1.4987e-04 - val_Customers_rmspe: 0.0165 - lr: 2.0000e-04 - 71s/epoch - 22ms/step\n",
      "Epoch 27/200\n",
      "\n",
      "Epoch 27: val_Sales_mse improved from 0.00013 to 0.00013, saving model to bestmodel.hdf5\n",
      "3181/3181 - 68s - loss: 3.1376e-04 - Sales_loss: 1.2468e-04 - Customers_loss: 1.3467e-04 - Sales_mse: 1.2468e-04 - Sales_rmspe: 0.0138 - Customers_mse: 1.3467e-04 - Customers_rmspe: 0.0162 - val_loss: 3.2845e-04 - val_Sales_loss: 1.3169e-04 - val_Customers_loss: 1.4268e-04 - val_Sales_mse: 1.3169e-04 - val_Sales_rmspe: 0.0138 - val_Customers_mse: 1.4268e-04 - val_Customers_rmspe: 0.0161 - lr: 2.0000e-04 - 68s/epoch - 21ms/step\n",
      "Epoch 28/200\n",
      "\n",
      "Epoch 28: val_Sales_mse did not improve from 0.00013\n",
      "3181/3181 - 66s - loss: 3.1099e-04 - Sales_loss: 1.2386e-04 - Customers_loss: 1.3313e-04 - Sales_mse: 1.2386e-04 - Sales_rmspe: 0.0137 - Customers_mse: 1.3313e-04 - Customers_rmspe: 0.0161 - val_loss: 3.9862e-04 - val_Sales_loss: 1.7067e-04 - val_Customers_loss: 1.7435e-04 - val_Sales_mse: 1.7067e-04 - val_Sales_rmspe: 0.0157 - val_Customers_mse: 1.7435e-04 - val_Customers_rmspe: 0.0177 - lr: 2.0000e-04 - 66s/epoch - 21ms/step\n",
      "Epoch 29/200\n",
      "\n",
      "Epoch 29: val_Sales_mse did not improve from 0.00013\n",
      "3181/3181 - 66s - loss: 3.1229e-04 - Sales_loss: 1.2418e-04 - Customers_loss: 1.3424e-04 - Sales_mse: 1.2418e-04 - Sales_rmspe: 0.0137 - Customers_mse: 1.3424e-04 - Customers_rmspe: 0.0162 - val_loss: 3.2868e-04 - val_Sales_loss: 1.3726e-04 - val_Customers_loss: 1.3745e-04 - val_Sales_mse: 1.3726e-04 - val_Sales_rmspe: 0.0141 - val_Customers_mse: 1.3745e-04 - val_Customers_rmspe: 0.0158 - lr: 2.0000e-04 - 66s/epoch - 21ms/step\n",
      "Epoch 30/200\n",
      "\n",
      "Epoch 30: val_Sales_mse did not improve from 0.00013\n",
      "3181/3181 - 67s - loss: 3.1211e-04 - Sales_loss: 1.2416e-04 - Customers_loss: 1.3437e-04 - Sales_mse: 1.2416e-04 - Sales_rmspe: 0.0137 - Customers_mse: 1.3437e-04 - Customers_rmspe: 0.0162 - val_loss: 4.4207e-04 - val_Sales_loss: 1.8086e-04 - val_Customers_loss: 2.0722e-04 - val_Sales_mse: 1.8086e-04 - val_Sales_rmspe: 0.0162 - val_Customers_mse: 2.0722e-04 - val_Customers_rmspe: 0.0193 - lr: 2.0000e-04 - 67s/epoch - 21ms/step\n",
      "Epoch 31/200\n",
      "\n",
      "Epoch 31: val_Sales_mse did not improve from 0.00013\n",
      "\n",
      "Epoch 31: ReduceLROnPlateau reducing learning rate to 4.0000001899898055e-05.\n",
      "3181/3181 - 67s - loss: 3.0995e-04 - Sales_loss: 1.2340e-04 - Customers_loss: 1.3312e-04 - Sales_mse: 1.2340e-04 - Sales_rmspe: 0.0137 - Customers_mse: 1.3312e-04 - Customers_rmspe: 0.0161 - val_loss: 3.2066e-04 - val_Sales_loss: 1.3384e-04 - val_Customers_loss: 1.3366e-04 - val_Sales_mse: 1.3384e-04 - val_Sales_rmspe: 0.0139 - val_Customers_mse: 1.3366e-04 - val_Customers_rmspe: 0.0155 - lr: 2.0000e-04 - 67s/epoch - 21ms/step\n",
      "Epoch 32/200\n",
      "\n",
      "Epoch 32: val_Sales_mse improved from 0.00013 to 0.00013, saving model to bestmodel.hdf5\n",
      "3181/3181 - 66s - loss: 2.8723e-04 - Sales_loss: 1.1374e-04 - Customers_loss: 1.2120e-04 - Sales_mse: 1.1374e-04 - Sales_rmspe: 0.0132 - Customers_mse: 1.2120e-04 - Customers_rmspe: 0.0154 - val_loss: 3.1830e-04 - val_Sales_loss: 1.2743e-04 - val_Customers_loss: 1.3928e-04 - val_Sales_mse: 1.2743e-04 - val_Sales_rmspe: 0.0136 - val_Customers_mse: 1.3928e-04 - val_Customers_rmspe: 0.0159 - lr: 4.0000e-05 - 66s/epoch - 21ms/step\n",
      "Epoch 33/200\n",
      "\n",
      "Epoch 33: val_Sales_mse improved from 0.00013 to 0.00012, saving model to bestmodel.hdf5\n",
      "3181/3181 - 67s - loss: 2.8441e-04 - Sales_loss: 1.1307e-04 - Customers_loss: 1.2026e-04 - Sales_mse: 1.1307e-04 - Sales_rmspe: 0.0131 - Customers_mse: 1.2026e-04 - Customers_rmspe: 0.0153 - val_loss: 2.9977e-04 - val_Sales_loss: 1.2168e-04 - val_Customers_loss: 1.2732e-04 - val_Sales_mse: 1.2168e-04 - val_Sales_rmspe: 0.0133 - val_Customers_mse: 1.2732e-04 - val_Customers_rmspe: 0.0152 - lr: 4.0000e-05 - 67s/epoch - 21ms/step\n",
      "Epoch 34/200\n",
      "\n",
      "Epoch 34: val_Sales_mse did not improve from 0.00012\n",
      "3181/3181 - 66s - loss: 2.8242e-04 - Sales_loss: 1.1224e-04 - Customers_loss: 1.1965e-04 - Sales_mse: 1.1224e-04 - Sales_rmspe: 0.0131 - Customers_mse: 1.1965e-04 - Customers_rmspe: 0.0153 - val_loss: 3.0816e-04 - val_Sales_loss: 1.2603e-04 - val_Customers_loss: 1.3196e-04 - val_Sales_mse: 1.2603e-04 - val_Sales_rmspe: 0.0135 - val_Customers_mse: 1.3196e-04 - val_Customers_rmspe: 0.0156 - lr: 4.0000e-05 - 66s/epoch - 21ms/step\n",
      "Epoch 35/200\n",
      "\n",
      "Epoch 35: val_Sales_mse did not improve from 0.00012\n",
      "3181/3181 - 68s - loss: 2.8262e-04 - Sales_loss: 1.1250e-04 - Customers_loss: 1.1994e-04 - Sales_mse: 1.1250e-04 - Sales_rmspe: 0.0131 - Customers_mse: 1.1994e-04 - Customers_rmspe: 0.0153 - val_loss: 3.0048e-04 - val_Sales_loss: 1.2213e-04 - val_Customers_loss: 1.2845e-04 - val_Sales_mse: 1.2213e-04 - val_Sales_rmspe: 0.0133 - val_Customers_mse: 1.2845e-04 - val_Customers_rmspe: 0.0153 - lr: 4.0000e-05 - 68s/epoch - 21ms/step\n",
      "Epoch 36/200\n",
      "\n",
      "Epoch 36: val_Sales_mse did not improve from 0.00012\n",
      "3181/3181 - 66s - loss: 2.8200e-04 - Sales_loss: 1.1241e-04 - Customers_loss: 1.1966e-04 - Sales_mse: 1.1241e-04 - Sales_rmspe: 0.0131 - Customers_mse: 1.1966e-04 - Customers_rmspe: 0.0153 - val_loss: 3.0917e-04 - val_Sales_loss: 1.2394e-04 - val_Customers_loss: 1.3525e-04 - val_Sales_mse: 1.2394e-04 - val_Sales_rmspe: 0.0134 - val_Customers_mse: 1.3525e-04 - val_Customers_rmspe: 0.0156 - lr: 4.0000e-05 - 66s/epoch - 21ms/step\n",
      "Epoch 37/200\n",
      "\n",
      "Epoch 37: val_Sales_mse did not improve from 0.00012\n",
      "3181/3181 - 66s - loss: 2.8210e-04 - Sales_loss: 1.1252e-04 - Customers_loss: 1.1974e-04 - Sales_mse: 1.1252e-04 - Sales_rmspe: 0.0131 - Customers_mse: 1.1974e-04 - Customers_rmspe: 0.0153 - val_loss: 3.0418e-04 - val_Sales_loss: 1.2259e-04 - val_Customers_loss: 1.3178e-04 - val_Sales_mse: 1.2259e-04 - val_Sales_rmspe: 0.0133 - val_Customers_mse: 1.3178e-04 - val_Customers_rmspe: 0.0155 - lr: 4.0000e-05 - 66s/epoch - 21ms/step\n",
      "Epoch 38/200\n",
      "\n",
      "Epoch 38: val_Sales_mse improved from 0.00012 to 0.00012, saving model to bestmodel.hdf5\n",
      "3181/3181 - 67s - loss: 2.8029e-04 - Sales_loss: 1.1191e-04 - Customers_loss: 1.1867e-04 - Sales_mse: 1.1191e-04 - Sales_rmspe: 0.0131 - Customers_mse: 1.1867e-04 - Customers_rmspe: 0.0153 - val_loss: 2.9883e-04 - val_Sales_loss: 1.2071e-04 - val_Customers_loss: 1.2840e-04 - val_Sales_mse: 1.2071e-04 - val_Sales_rmspe: 0.0132 - val_Customers_mse: 1.2840e-04 - val_Customers_rmspe: 0.0153 - lr: 4.0000e-05 - 67s/epoch - 21ms/step\n",
      "Epoch 39/200\n",
      "\n",
      "Epoch 39: val_Sales_mse did not improve from 0.00012\n",
      "3181/3181 - 68s - loss: 2.8082e-04 - Sales_loss: 1.1207e-04 - Customers_loss: 1.1919e-04 - Sales_mse: 1.1207e-04 - Sales_rmspe: 0.0131 - Customers_mse: 1.1919e-04 - Customers_rmspe: 0.0153 - val_loss: 2.9973e-04 - val_Sales_loss: 1.2177e-04 - val_Customers_loss: 1.2854e-04 - val_Sales_mse: 1.2177e-04 - val_Sales_rmspe: 0.0133 - val_Customers_mse: 1.2854e-04 - val_Customers_rmspe: 0.0153 - lr: 4.0000e-05 - 68s/epoch - 21ms/step\n",
      "Epoch 40/200\n",
      "\n",
      "Epoch 40: val_Sales_mse did not improve from 0.00012\n",
      "3181/3181 - 65s - loss: 2.8026e-04 - Sales_loss: 1.1176e-04 - Customers_loss: 1.1906e-04 - Sales_mse: 1.1176e-04 - Sales_rmspe: 0.0130 - Customers_mse: 1.1906e-04 - Customers_rmspe: 0.0153 - val_loss: 3.1626e-04 - val_Sales_loss: 1.2878e-04 - val_Customers_loss: 1.3808e-04 - val_Sales_mse: 1.2878e-04 - val_Sales_rmspe: 0.0136 - val_Customers_mse: 1.3808e-04 - val_Customers_rmspe: 0.0157 - lr: 4.0000e-05 - 65s/epoch - 20ms/step\n",
      "Epoch 41/200\n",
      "\n",
      "Epoch 41: val_Sales_mse did not improve from 0.00012\n",
      "3181/3181 - 66s - loss: 2.7929e-04 - Sales_loss: 1.1155e-04 - Customers_loss: 1.1836e-04 - Sales_mse: 1.1155e-04 - Sales_rmspe: 0.0130 - Customers_mse: 1.1836e-04 - Customers_rmspe: 0.0152 - val_loss: 2.9662e-04 - val_Sales_loss: 1.2094e-04 - val_Customers_loss: 1.2643e-04 - val_Sales_mse: 1.2094e-04 - val_Sales_rmspe: 0.0132 - val_Customers_mse: 1.2643e-04 - val_Customers_rmspe: 0.0152 - lr: 4.0000e-05 - 66s/epoch - 21ms/step\n",
      "Epoch 42/200\n",
      "\n",
      "Epoch 42: val_Sales_mse did not improve from 0.00012\n",
      "3181/3181 - 70s - loss: 2.8005e-04 - Sales_loss: 1.1175e-04 - Customers_loss: 1.1903e-04 - Sales_mse: 1.1175e-04 - Sales_rmspe: 0.0130 - Customers_mse: 1.1903e-04 - Customers_rmspe: 0.0153 - val_loss: 3.0781e-04 - val_Sales_loss: 1.2573e-04 - val_Customers_loss: 1.3284e-04 - val_Sales_mse: 1.2573e-04 - val_Sales_rmspe: 0.0135 - val_Customers_mse: 1.3284e-04 - val_Customers_rmspe: 0.0155 - lr: 4.0000e-05 - 70s/epoch - 22ms/step\n",
      "Epoch 43/200\n",
      "\n",
      "Epoch 43: val_Sales_mse did not improve from 0.00012\n",
      "3181/3181 - 78s - loss: 2.7909e-04 - Sales_loss: 1.1140e-04 - Customers_loss: 1.1851e-04 - Sales_mse: 1.1140e-04 - Sales_rmspe: 0.0130 - Customers_mse: 1.1851e-04 - Customers_rmspe: 0.0152 - val_loss: 3.0127e-04 - val_Sales_loss: 1.2344e-04 - val_Customers_loss: 1.2870e-04 - val_Sales_mse: 1.2344e-04 - val_Sales_rmspe: 0.0134 - val_Customers_mse: 1.2870e-04 - val_Customers_rmspe: 0.0153 - lr: 4.0000e-05 - 78s/epoch - 25ms/step\n",
      "Epoch 44/200\n",
      "\n",
      "Epoch 44: val_Sales_mse did not improve from 0.00012\n",
      "3181/3181 - 70s - loss: 2.7904e-04 - Sales_loss: 1.1149e-04 - Customers_loss: 1.1845e-04 - Sales_mse: 1.1149e-04 - Sales_rmspe: 0.0130 - Customers_mse: 1.1845e-04 - Customers_rmspe: 0.0152 - val_loss: 3.2679e-04 - val_Sales_loss: 1.3656e-04 - val_Customers_loss: 1.4122e-04 - val_Sales_mse: 1.3656e-04 - val_Sales_rmspe: 0.0141 - val_Customers_mse: 1.4122e-04 - val_Customers_rmspe: 0.0160 - lr: 4.0000e-05 - 70s/epoch - 22ms/step\n",
      "Epoch 45/200\n",
      "\n",
      "Epoch 45: val_Sales_mse did not improve from 0.00012\n",
      "3181/3181 - 73s - loss: 2.7869e-04 - Sales_loss: 1.1126e-04 - Customers_loss: 1.1840e-04 - Sales_mse: 1.1126e-04 - Sales_rmspe: 0.0130 - Customers_mse: 1.1840e-04 - Customers_rmspe: 0.0152 - val_loss: 3.1502e-04 - val_Sales_loss: 1.2407e-04 - val_Customers_loss: 1.4200e-04 - val_Sales_mse: 1.2407e-04 - val_Sales_rmspe: 0.0134 - val_Customers_mse: 1.4200e-04 - val_Customers_rmspe: 0.0161 - lr: 4.0000e-05 - 73s/epoch - 23ms/step\n",
      "Epoch 46/200\n",
      "\n",
      "Epoch 46: val_Sales_mse improved from 0.00012 to 0.00012, saving model to bestmodel.hdf5\n",
      "\n",
      "Epoch 46: ReduceLROnPlateau reducing learning rate to 8.000000525498762e-06.\n",
      "3181/3181 - 70s - loss: 2.7877e-04 - Sales_loss: 1.1138e-04 - Customers_loss: 1.1844e-04 - Sales_mse: 1.1138e-04 - Sales_rmspe: 0.0130 - Customers_mse: 1.1844e-04 - Customers_rmspe: 0.0152 - val_loss: 2.9227e-04 - val_Sales_loss: 1.1919e-04 - val_Customers_loss: 1.2425e-04 - val_Sales_mse: 1.1919e-04 - val_Sales_rmspe: 0.0132 - val_Customers_mse: 1.2425e-04 - val_Customers_rmspe: 0.0151 - lr: 4.0000e-05 - 70s/epoch - 22ms/step\n",
      "Epoch 47/200\n",
      "\n",
      "Epoch 47: val_Sales_mse did not improve from 0.00012\n",
      "3181/3181 - 70s - loss: 2.7277e-04 - Sales_loss: 1.0872e-04 - Customers_loss: 1.1512e-04 - Sales_mse: 1.0872e-04 - Sales_rmspe: 0.0129 - Customers_mse: 1.1512e-04 - Customers_rmspe: 0.0150 - val_loss: 2.9505e-04 - val_Sales_loss: 1.1942e-04 - val_Customers_loss: 1.2669e-04 - val_Sales_mse: 1.1942e-04 - val_Sales_rmspe: 0.0132 - val_Customers_mse: 1.2669e-04 - val_Customers_rmspe: 0.0152 - lr: 8.0000e-06 - 70s/epoch - 22ms/step\n",
      "Epoch 48/200\n",
      "\n",
      "Epoch 48: val_Sales_mse did not improve from 0.00012\n",
      "3181/3181 - 69s - loss: 2.7250e-04 - Sales_loss: 1.0859e-04 - Customers_loss: 1.1498e-04 - Sales_mse: 1.0859e-04 - Sales_rmspe: 0.0129 - Customers_mse: 1.1498e-04 - Customers_rmspe: 0.0150 - val_loss: 2.9512e-04 - val_Sales_loss: 1.1954e-04 - val_Customers_loss: 1.2665e-04 - val_Sales_mse: 1.1954e-04 - val_Sales_rmspe: 0.0132 - val_Customers_mse: 1.2665e-04 - val_Customers_rmspe: 0.0152 - lr: 8.0000e-06 - 69s/epoch - 22ms/step\n",
      "Epoch 49/200\n",
      "\n",
      "Epoch 49: val_Sales_mse improved from 0.00012 to 0.00012, saving model to bestmodel.hdf5\n",
      "3181/3181 - 67s - loss: 2.7163e-04 - Sales_loss: 1.0823e-04 - Customers_loss: 1.1446e-04 - Sales_mse: 1.0823e-04 - Sales_rmspe: 0.0128 - Customers_mse: 1.1446e-04 - Customers_rmspe: 0.0150 - val_loss: 2.9209e-04 - val_Sales_loss: 1.1839e-04 - val_Customers_loss: 1.2479e-04 - val_Sales_mse: 1.1839e-04 - val_Sales_rmspe: 0.0131 - val_Customers_mse: 1.2479e-04 - val_Customers_rmspe: 0.0151 - lr: 8.0000e-06 - 67s/epoch - 21ms/step\n",
      "Epoch 50/200\n",
      "\n",
      "Epoch 50: val_Sales_mse did not improve from 0.00012\n",
      "3181/3181 - 67s - loss: 2.7183e-04 - Sales_loss: 1.0820e-04 - Customers_loss: 1.1473e-04 - Sales_mse: 1.0820e-04 - Sales_rmspe: 0.0128 - Customers_mse: 1.1473e-04 - Customers_rmspe: 0.0150 - val_loss: 2.9427e-04 - val_Sales_loss: 1.1936e-04 - val_Customers_loss: 1.2600e-04 - val_Sales_mse: 1.1936e-04 - val_Sales_rmspe: 0.0132 - val_Customers_mse: 1.2600e-04 - val_Customers_rmspe: 0.0152 - lr: 8.0000e-06 - 67s/epoch - 21ms/step\n",
      "Epoch 51/200\n",
      "\n",
      "Epoch 51: val_Sales_mse did not improve from 0.00012\n",
      "3181/3181 - 66s - loss: 2.7194e-04 - Sales_loss: 1.0842e-04 - Customers_loss: 1.1462e-04 - Sales_mse: 1.0842e-04 - Sales_rmspe: 0.0128 - Customers_mse: 1.1462e-04 - Customers_rmspe: 0.0150 - val_loss: 2.9495e-04 - val_Sales_loss: 1.1914e-04 - val_Customers_loss: 1.2687e-04 - val_Sales_mse: 1.1914e-04 - val_Sales_rmspe: 0.0131 - val_Customers_mse: 1.2687e-04 - val_Customers_rmspe: 0.0152 - lr: 8.0000e-06 - 66s/epoch - 21ms/step\n",
      "Epoch 52/200\n",
      "\n",
      "Epoch 52: val_Sales_mse did not improve from 0.00012\n",
      "3181/3181 - 67s - loss: 2.7156e-04 - Sales_loss: 1.0824e-04 - Customers_loss: 1.1442e-04 - Sales_mse: 1.0824e-04 - Sales_rmspe: 0.0128 - Customers_mse: 1.1442e-04 - Customers_rmspe: 0.0150 - val_loss: 2.9193e-04 - val_Sales_loss: 1.1876e-04 - val_Customers_loss: 1.2430e-04 - val_Sales_mse: 1.1876e-04 - val_Sales_rmspe: 0.0131 - val_Customers_mse: 1.2430e-04 - val_Customers_rmspe: 0.0151 - lr: 8.0000e-06 - 67s/epoch - 21ms/step\n",
      "Epoch 53/200\n",
      "\n",
      "Epoch 53: val_Sales_mse did not improve from 0.00012\n",
      "3181/3181 - 68s - loss: 2.7191e-04 - Sales_loss: 1.0837e-04 - Customers_loss: 1.1465e-04 - Sales_mse: 1.0837e-04 - Sales_rmspe: 0.0129 - Customers_mse: 1.1465e-04 - Customers_rmspe: 0.0150 - val_loss: 2.9383e-04 - val_Sales_loss: 1.1911e-04 - val_Customers_loss: 1.2587e-04 - val_Sales_mse: 1.1911e-04 - val_Sales_rmspe: 0.0131 - val_Customers_mse: 1.2587e-04 - val_Customers_rmspe: 0.0152 - lr: 8.0000e-06 - 68s/epoch - 21ms/step\n",
      "Epoch 54/200\n",
      "\n",
      "Epoch 54: val_Sales_mse did not improve from 0.00012\n",
      "3181/3181 - 82s - loss: 2.7067e-04 - Sales_loss: 1.0795e-04 - Customers_loss: 1.1389e-04 - Sales_mse: 1.0795e-04 - Sales_rmspe: 0.0128 - Customers_mse: 1.1389e-04 - Customers_rmspe: 0.0149 - val_loss: 3.0279e-04 - val_Sales_loss: 1.2213e-04 - val_Customers_loss: 1.3183e-04 - val_Sales_mse: 1.2213e-04 - val_Sales_rmspe: 0.0133 - val_Customers_mse: 1.3183e-04 - val_Customers_rmspe: 0.0155 - lr: 8.0000e-06 - 82s/epoch - 26ms/step\n",
      "Epoch 55/200\n",
      "\n",
      "Epoch 55: val_Sales_mse did not improve from 0.00012\n",
      "3181/3181 - 70s - loss: 2.7136e-04 - Sales_loss: 1.0806e-04 - Customers_loss: 1.1447e-04 - Sales_mse: 1.0806e-04 - Sales_rmspe: 0.0128 - Customers_mse: 1.1447e-04 - Customers_rmspe: 0.0150 - val_loss: 3.0385e-04 - val_Sales_loss: 1.2232e-04 - val_Customers_loss: 1.3271e-04 - val_Sales_mse: 1.2232e-04 - val_Sales_rmspe: 0.0133 - val_Customers_mse: 1.3271e-04 - val_Customers_rmspe: 0.0156 - lr: 8.0000e-06 - 70s/epoch - 22ms/step\n",
      "Epoch 56/200\n",
      "\n",
      "Epoch 56: val_Sales_mse did not improve from 0.00012\n",
      "3181/3181 - 70s - loss: 2.7119e-04 - Sales_loss: 1.0822e-04 - Customers_loss: 1.1414e-04 - Sales_mse: 1.0822e-04 - Sales_rmspe: 0.0128 - Customers_mse: 1.1414e-04 - Customers_rmspe: 0.0150 - val_loss: 2.9564e-04 - val_Sales_loss: 1.2010e-04 - val_Customers_loss: 1.2674e-04 - val_Sales_mse: 1.2010e-04 - val_Sales_rmspe: 0.0132 - val_Customers_mse: 1.2674e-04 - val_Customers_rmspe: 0.0152 - lr: 8.0000e-06 - 70s/epoch - 22ms/step\n",
      "Epoch 57/200\n",
      "\n",
      "Epoch 57: val_Sales_mse did not improve from 0.00012\n",
      "3181/3181 - 71s - loss: 2.7058e-04 - Sales_loss: 1.0787e-04 - Customers_loss: 1.1390e-04 - Sales_mse: 1.0787e-04 - Sales_rmspe: 0.0128 - Customers_mse: 1.1390e-04 - Customers_rmspe: 0.0149 - val_loss: 3.0008e-04 - val_Sales_loss: 1.2121e-04 - val_Customers_loss: 1.3008e-04 - val_Sales_mse: 1.2121e-04 - val_Sales_rmspe: 0.0133 - val_Customers_mse: 1.3008e-04 - val_Customers_rmspe: 0.0154 - lr: 8.0000e-06 - 71s/epoch - 22ms/step\n",
      "Epoch 58/200\n",
      "\n",
      "Epoch 58: val_Sales_mse did not improve from 0.00012\n",
      "3181/3181 - 71s - loss: 2.7115e-04 - Sales_loss: 1.0797e-04 - Customers_loss: 1.1441e-04 - Sales_mse: 1.0797e-04 - Sales_rmspe: 0.0128 - Customers_mse: 1.1441e-04 - Customers_rmspe: 0.0150 - val_loss: 2.9679e-04 - val_Sales_loss: 1.2032e-04 - val_Customers_loss: 1.2768e-04 - val_Sales_mse: 1.2032e-04 - val_Sales_rmspe: 0.0132 - val_Customers_mse: 1.2768e-04 - val_Customers_rmspe: 0.0152 - lr: 8.0000e-06 - 71s/epoch - 22ms/step\n",
      "Epoch 59/200\n",
      "\n",
      "Epoch 59: val_Sales_mse did not improve from 0.00012\n",
      "3181/3181 - 70s - loss: 2.7129e-04 - Sales_loss: 1.0793e-04 - Customers_loss: 1.1456e-04 - Sales_mse: 1.0793e-04 - Sales_rmspe: 0.0128 - Customers_mse: 1.1456e-04 - Customers_rmspe: 0.0150 - val_loss: 2.9368e-04 - val_Sales_loss: 1.1950e-04 - val_Customers_loss: 1.2546e-04 - val_Sales_mse: 1.1950e-04 - val_Sales_rmspe: 0.0132 - val_Customers_mse: 1.2546e-04 - val_Customers_rmspe: 0.0151 - lr: 8.0000e-06 - 70s/epoch - 22ms/step\n",
      "Epoch 60/200\n",
      "\n",
      "Epoch 60: val_Sales_mse did not improve from 0.00012\n",
      "3181/3181 - 75s - loss: 2.7051e-04 - Sales_loss: 1.0775e-04 - Customers_loss: 1.1403e-04 - Sales_mse: 1.0775e-04 - Sales_rmspe: 0.0128 - Customers_mse: 1.1403e-04 - Customers_rmspe: 0.0149 - val_loss: 2.9293e-04 - val_Sales_loss: 1.1919e-04 - val_Customers_loss: 1.2497e-04 - val_Sales_mse: 1.1919e-04 - val_Sales_rmspe: 0.0131 - val_Customers_mse: 1.2497e-04 - val_Customers_rmspe: 0.0151 - lr: 8.0000e-06 - 75s/epoch - 23ms/step\n",
      "Epoch 61/200\n",
      "\n",
      "Epoch 61: val_Sales_mse did not improve from 0.00012\n",
      "\n",
      "Epoch 61: ReduceLROnPlateau reducing learning rate to 1.6000001778593287e-06.\n",
      "3181/3181 - 70s - loss: 2.7090e-04 - Sales_loss: 1.0801e-04 - Customers_loss: 1.1417e-04 - Sales_mse: 1.0801e-04 - Sales_rmspe: 0.0128 - Customers_mse: 1.1417e-04 - Customers_rmspe: 0.0150 - val_loss: 2.9278e-04 - val_Sales_loss: 1.1864e-04 - val_Customers_loss: 1.2536e-04 - val_Sales_mse: 1.1864e-04 - val_Sales_rmspe: 0.0131 - val_Customers_mse: 1.2536e-04 - val_Customers_rmspe: 0.0151 - lr: 8.0000e-06 - 70s/epoch - 22ms/step\n",
      "Epoch 62/200\n",
      "\n",
      "Epoch 62: val_Sales_mse improved from 0.00012 to 0.00012, saving model to bestmodel.hdf5\n",
      "3181/3181 - 67s - loss: 2.6929e-04 - Sales_loss: 1.0725e-04 - Customers_loss: 1.1329e-04 - Sales_mse: 1.0725e-04 - Sales_rmspe: 0.0128 - Customers_mse: 1.1329e-04 - Customers_rmspe: 0.0149 - val_loss: 2.8981e-04 - val_Sales_loss: 1.1761e-04 - val_Customers_loss: 1.2345e-04 - val_Sales_mse: 1.1761e-04 - val_Sales_rmspe: 0.0131 - val_Customers_mse: 1.2345e-04 - val_Customers_rmspe: 0.0150 - lr: 1.6000e-06 - 67s/epoch - 21ms/step\n",
      "Epoch 63/200\n",
      "\n",
      "Epoch 63: val_Sales_mse improved from 0.00012 to 0.00012, saving model to bestmodel.hdf5\n",
      "3181/3181 - 67s - loss: 2.6917e-04 - Sales_loss: 1.0715e-04 - Customers_loss: 1.1326e-04 - Sales_mse: 1.0715e-04 - Sales_rmspe: 0.0128 - Customers_mse: 1.1326e-04 - Customers_rmspe: 0.0149 - val_loss: 2.9026e-04 - val_Sales_loss: 1.1756e-04 - val_Customers_loss: 1.2394e-04 - val_Sales_mse: 1.1756e-04 - val_Sales_rmspe: 0.0131 - val_Customers_mse: 1.2394e-04 - val_Customers_rmspe: 0.0151 - lr: 1.6000e-06 - 67s/epoch - 21ms/step\n",
      "Epoch 64/200\n",
      "\n",
      "Epoch 64: val_Sales_mse did not improve from 0.00012\n",
      "3181/3181 - 66s - loss: 2.6947e-04 - Sales_loss: 1.0723e-04 - Customers_loss: 1.1347e-04 - Sales_mse: 1.0723e-04 - Sales_rmspe: 0.0128 - Customers_mse: 1.1347e-04 - Customers_rmspe: 0.0149 - val_loss: 2.9015e-04 - val_Sales_loss: 1.1761e-04 - val_Customers_loss: 1.2378e-04 - val_Sales_mse: 1.1761e-04 - val_Sales_rmspe: 0.0131 - val_Customers_mse: 1.2378e-04 - val_Customers_rmspe: 0.0150 - lr: 1.6000e-06 - 66s/epoch - 21ms/step\n",
      "Epoch 65/200\n",
      "\n",
      "Epoch 65: val_Sales_mse did not improve from 0.00012\n",
      "3181/3181 - 66s - loss: 2.6879e-04 - Sales_loss: 1.0712e-04 - Customers_loss: 1.1290e-04 - Sales_mse: 1.0712e-04 - Sales_rmspe: 0.0128 - Customers_mse: 1.1290e-04 - Customers_rmspe: 0.0149 - val_loss: 2.9208e-04 - val_Sales_loss: 1.1830e-04 - val_Customers_loss: 1.2503e-04 - val_Sales_mse: 1.1830e-04 - val_Sales_rmspe: 0.0131 - val_Customers_mse: 1.2503e-04 - val_Customers_rmspe: 0.0151 - lr: 1.6000e-06 - 66s/epoch - 21ms/step\n",
      "Epoch 66/200\n",
      "\n",
      "Epoch 66: val_Sales_mse did not improve from 0.00012\n",
      "3181/3181 - 66s - loss: 2.6982e-04 - Sales_loss: 1.0735e-04 - Customers_loss: 1.1371e-04 - Sales_mse: 1.0735e-04 - Sales_rmspe: 0.0128 - Customers_mse: 1.1371e-04 - Customers_rmspe: 0.0149 - val_loss: 2.9068e-04 - val_Sales_loss: 1.1797e-04 - val_Customers_loss: 1.2396e-04 - val_Sales_mse: 1.1797e-04 - val_Sales_rmspe: 0.0131 - val_Customers_mse: 1.2396e-04 - val_Customers_rmspe: 0.0151 - lr: 1.6000e-06 - 66s/epoch - 21ms/step\n",
      "Epoch 67/200\n",
      "\n",
      "Epoch 67: val_Sales_mse did not improve from 0.00012\n",
      "3181/3181 - 64s - loss: 2.6906e-04 - Sales_loss: 1.0709e-04 - Customers_loss: 1.1322e-04 - Sales_mse: 1.0709e-04 - Sales_rmspe: 0.0128 - Customers_mse: 1.1322e-04 - Customers_rmspe: 0.0149 - val_loss: 2.9157e-04 - val_Sales_loss: 1.1813e-04 - val_Customers_loss: 1.2468e-04 - val_Sales_mse: 1.1813e-04 - val_Sales_rmspe: 0.0131 - val_Customers_mse: 1.2468e-04 - val_Customers_rmspe: 0.0151 - lr: 1.6000e-06 - 64s/epoch - 20ms/step\n",
      "Epoch 68/200\n",
      "\n",
      "Epoch 68: val_Sales_mse did not improve from 0.00012\n",
      "3181/3181 - 64s - loss: 2.6897e-04 - Sales_loss: 1.0707e-04 - Customers_loss: 1.1314e-04 - Sales_mse: 1.0707e-04 - Sales_rmspe: 0.0128 - Customers_mse: 1.1314e-04 - Customers_rmspe: 0.0149 - val_loss: 2.9087e-04 - val_Sales_loss: 1.1776e-04 - val_Customers_loss: 1.2434e-04 - val_Sales_mse: 1.1776e-04 - val_Sales_rmspe: 0.0131 - val_Customers_mse: 1.2434e-04 - val_Customers_rmspe: 0.0151 - lr: 1.6000e-06 - 64s/epoch - 20ms/step\n",
      "Epoch 69/200\n",
      "\n",
      "Epoch 69: val_Sales_mse did not improve from 0.00012\n",
      "3181/3181 - 63s - loss: 2.6923e-04 - Sales_loss: 1.0717e-04 - Customers_loss: 1.1330e-04 - Sales_mse: 1.0717e-04 - Sales_rmspe: 0.0128 - Customers_mse: 1.1330e-04 - Customers_rmspe: 0.0149 - val_loss: 2.9381e-04 - val_Sales_loss: 1.1901e-04 - val_Customers_loss: 1.2605e-04 - val_Sales_mse: 1.1901e-04 - val_Sales_rmspe: 0.0131 - val_Customers_mse: 1.2605e-04 - val_Customers_rmspe: 0.0152 - lr: 1.6000e-06 - 63s/epoch - 20ms/step\n",
      "Epoch 70/200\n",
      "\n",
      "Epoch 70: val_Sales_mse did not improve from 0.00012\n",
      "3181/3181 - 63s - loss: 2.6891e-04 - Sales_loss: 1.0706e-04 - Customers_loss: 1.1309e-04 - Sales_mse: 1.0706e-04 - Sales_rmspe: 0.0128 - Customers_mse: 1.1309e-04 - Customers_rmspe: 0.0149 - val_loss: 2.9269e-04 - val_Sales_loss: 1.1850e-04 - val_Customers_loss: 1.2543e-04 - val_Sales_mse: 1.1850e-04 - val_Sales_rmspe: 0.0131 - val_Customers_mse: 1.2543e-04 - val_Customers_rmspe: 0.0151 - lr: 1.6000e-06 - 63s/epoch - 20ms/step\n",
      "Epoch 71/200\n",
      "\n",
      "Epoch 71: val_Sales_mse did not improve from 0.00012\n",
      "3181/3181 - 63s - loss: 2.6884e-04 - Sales_loss: 1.0713e-04 - Customers_loss: 1.1296e-04 - Sales_mse: 1.0713e-04 - Sales_rmspe: 0.0128 - Customers_mse: 1.1296e-04 - Customers_rmspe: 0.0149 - val_loss: 2.9199e-04 - val_Sales_loss: 1.1827e-04 - val_Customers_loss: 1.2496e-04 - val_Sales_mse: 1.1827e-04 - val_Sales_rmspe: 0.0131 - val_Customers_mse: 1.2496e-04 - val_Customers_rmspe: 0.0151 - lr: 1.6000e-06 - 63s/epoch - 20ms/step\n",
      "Epoch 72/200\n",
      "\n",
      "Epoch 72: val_Sales_mse did not improve from 0.00012\n",
      "3181/3181 - 62s - loss: 2.6877e-04 - Sales_loss: 1.0713e-04 - Customers_loss: 1.1288e-04 - Sales_mse: 1.0713e-04 - Sales_rmspe: 0.0128 - Customers_mse: 1.1288e-04 - Customers_rmspe: 0.0149 - val_loss: 2.9195e-04 - val_Sales_loss: 1.1821e-04 - val_Customers_loss: 1.2498e-04 - val_Sales_mse: 1.1821e-04 - val_Sales_rmspe: 0.0131 - val_Customers_mse: 1.2498e-04 - val_Customers_rmspe: 0.0151 - lr: 1.6000e-06 - 62s/epoch - 20ms/step\n",
      "Epoch 73/200\n",
      "\n",
      "Epoch 73: val_Sales_mse did not improve from 0.00012\n",
      "3181/3181 - 62s - loss: 2.6880e-04 - Sales_loss: 1.0706e-04 - Customers_loss: 1.1298e-04 - Sales_mse: 1.0706e-04 - Sales_rmspe: 0.0128 - Customers_mse: 1.1298e-04 - Customers_rmspe: 0.0149 - val_loss: 2.9099e-04 - val_Sales_loss: 1.1791e-04 - val_Customers_loss: 1.2431e-04 - val_Sales_mse: 1.1791e-04 - val_Sales_rmspe: 0.0131 - val_Customers_mse: 1.2431e-04 - val_Customers_rmspe: 0.0151 - lr: 1.6000e-06 - 62s/epoch - 19ms/step\n",
      "Epoch 74/200\n",
      "\n",
      "Epoch 74: val_Sales_mse did not improve from 0.00012\n",
      "3181/3181 - 62s - loss: 2.6855e-04 - Sales_loss: 1.0694e-04 - Customers_loss: 1.1284e-04 - Sales_mse: 1.0694e-04 - Sales_rmspe: 0.0128 - Customers_mse: 1.1284e-04 - Customers_rmspe: 0.0149 - val_loss: 2.9175e-04 - val_Sales_loss: 1.1822e-04 - val_Customers_loss: 1.2478e-04 - val_Sales_mse: 1.1822e-04 - val_Sales_rmspe: 0.0131 - val_Customers_mse: 1.2478e-04 - val_Customers_rmspe: 0.0151 - lr: 1.6000e-06 - 62s/epoch - 19ms/step\n",
      "Epoch 75/200\n",
      "\n",
      "Epoch 75: val_Sales_mse did not improve from 0.00012\n",
      "3181/3181 - 61s - loss: 2.6909e-04 - Sales_loss: 1.0719e-04 - Customers_loss: 1.1314e-04 - Sales_mse: 1.0719e-04 - Sales_rmspe: 0.0128 - Customers_mse: 1.1314e-04 - Customers_rmspe: 0.0149 - val_loss: 2.9257e-04 - val_Sales_loss: 1.1856e-04 - val_Customers_loss: 1.2526e-04 - val_Sales_mse: 1.1856e-04 - val_Sales_rmspe: 0.0131 - val_Customers_mse: 1.2526e-04 - val_Customers_rmspe: 0.0151 - lr: 1.6000e-06 - 61s/epoch - 19ms/step\n",
      "Epoch 76/200\n",
      "\n",
      "Epoch 76: val_Sales_mse did not improve from 0.00012\n",
      "\n",
      "Epoch 76: ReduceLROnPlateau reducing learning rate to 3.200000264769187e-07.\n",
      "3181/3181 - 60s - loss: 2.6870e-04 - Sales_loss: 1.0690e-04 - Customers_loss: 1.1304e-04 - Sales_mse: 1.0690e-04 - Sales_rmspe: 0.0128 - Customers_mse: 1.1304e-04 - Customers_rmspe: 0.0149 - val_loss: 2.9267e-04 - val_Sales_loss: 1.1847e-04 - val_Customers_loss: 1.2545e-04 - val_Sales_mse: 1.1847e-04 - val_Sales_rmspe: 0.0131 - val_Customers_mse: 1.2545e-04 - val_Customers_rmspe: 0.0151 - lr: 1.6000e-06 - 60s/epoch - 19ms/step\n",
      "Epoch 77/200\n",
      "\n",
      "Epoch 77: val_Sales_mse did not improve from 0.00012\n",
      "Restoring model weights from the end of the best epoch: 62.\n",
      "3181/3181 - 61s - loss: 2.6878e-04 - Sales_loss: 1.0702e-04 - Customers_loss: 1.1300e-04 - Sales_mse: 1.0702e-04 - Sales_rmspe: 0.0128 - Customers_mse: 1.1300e-04 - Customers_rmspe: 0.0149 - val_loss: 2.9274e-04 - val_Sales_loss: 1.1851e-04 - val_Customers_loss: 1.2548e-04 - val_Sales_mse: 1.1851e-04 - val_Sales_rmspe: 0.0131 - val_Customers_mse: 1.2548e-04 - val_Customers_rmspe: 0.0151 - lr: 3.2000e-07 - 61s/epoch - 19ms/step\n",
      "Epoch 77: early stopping\n"
     ]
    },
    {
     "name": "stderr",
     "output_type": "stream",
     "text": [
      "2023/03/01 21:25:20 WARNING mlflow.tensorflow: Failed to infer model signature: could not sample data to infer model signature: Cannot log input example or model signature for input with type <class 'list'>. TensorFlow Keras autologging can only log input examples and model signatures for the following input types: numpy.ndarray, dict[string -> numpy.ndarray], tensorflow.keras.utils.Sequence, and tensorflow.data.Dataset (TensorFlow >= 2.1.0 required)\n",
      "2023/03/01 21:25:20 WARNING mlflow.tensorflow: You are saving a TensorFlow Core model or Keras model without a signature. Inference with mlflow.pyfunc.spark_udf() will not work unless the model's pyfunc representation accepts pandas DataFrames as inference inputs.\n",
      "WARNING:absl:Function `_wrapped_model` contains input name(s) Store_input, DayOfWeek_input, Year_input, Month_input, Day_input, StateHoliday_input, CompetitionMonthsOpen_input, Promo2Weeks_input, StoreType_input, Assortment_input, PromoInterval_input, CompetitionOpenSinceYear_input, Promo2SinceYear_input, State_input, Week_input, Events_input, Promo_fw_input, Promo_bw_input, StateHoliday_bool_fw_input, StateHoliday_bool_bw_input, SchoolHoliday_fw_input, SchoolHoliday_bw_input, CompetitionDistance_input, Max_TemperatureC_input, Precipitationmm_input, Max_Humidity_input, CloudCover_input, AfterStateHoliday_bool_input, Promo_input with unsupported characters which will be renamed to store_input, dayofweek_input, year_input, month_input, day_input, stateholiday_input, competitionmonthsopen_input, promo2weeks_input, storetype_input, assortment_input, promointerval_input, competitionopensinceyear_input, promo2sinceyear_input, state_input, week_input, events_input, promo_fw_input, promo_bw_input, stateholiday_bool_fw_input, stateholiday_bool_bw_input, schoolholiday_fw_input, schoolholiday_bw_input, competitiondistance_input, max_temperaturec_input, precipitationmm_input, max_humidity_input, cloudcover_input, afterstateholiday_bool_input, promo_input in the SavedModel.\n",
      "WARNING:absl:Found untraced functions such as _update_step_xla while saving (showing 1 of 1). These functions will not be directly callable after loading.\n"
     ]
    },
    {
     "name": "stdout",
     "output_type": "stream",
     "text": [
      "INFO:tensorflow:Assets written to: /var/folders/cc/hfx_w22x28j8f0l38h8ww1zc0000gn/T/tmph3cqxti1/model/data/model/assets\n"
     ]
    },
    {
     "name": "stderr",
     "output_type": "stream",
     "text": [
      "INFO:tensorflow:Assets written to: /var/folders/cc/hfx_w22x28j8f0l38h8ww1zc0000gn/T/tmph3cqxti1/model/data/model/assets\n",
      "2023/03/01 21:25:33 WARNING mlflow.utils.environment: Encountered an unexpected error while inferring pip requirements (model URI: /var/folders/cc/hfx_w22x28j8f0l38h8ww1zc0000gn/T/tmph3cqxti1/model, flavor: tensorflow), fall back to return ['tensorflow==2.11.0']. Set logging level to DEBUG to see the full traceback.\n",
      "2023/03/01 21:25:33 WARNING mlflow.utils.autologging_utils: MLflow autologging encountered a warning: \"/opt/anaconda3/lib/python3.9/site-packages/_distutils_hack/__init__.py:33: UserWarning: Setuptools is replacing distutils.\"\n"
     ]
    },
    {
     "name": "stdout",
     "output_type": "stream",
     "text": [
      "CPU times: user 5h 53min 55s, sys: 1h 53min 12s, total: 7h 47min 8s\n",
      "Wall time: 1h 39min 23s\n"
     ]
    }
   ],
   "source": [
    "%%time\n",
    "epochs = 200\n",
    "batch_size = 256\n",
    "history = model.fit(X_train, y_train, validation_data=(X_val, y_val),  epochs=epochs, batch_size=batch_size, callbacks=[checkpoint, earlyStopping, reduceLR], verbose=2)"
   ]
  },
  {
   "cell_type": "code",
   "execution_count": 38,
   "metadata": {},
   "outputs": [
    {
     "data": {
      "image/png": "[encoded data removed]",
      "text/plain": [
       "<Figure size 640x480 with 1 Axes>"
      ]
     },
     "metadata": {},
     "output_type": "display_data"
    },
    {
     "data": {
      "text/plain": [
       "[<matplotlib.lines.Line2D at 0x7fc3248597f0>]"
      ]
     },
     "execution_count": 38,
     "metadata": {},
     "output_type": "execute_result"
    },
    {
     "data": {
      "image/png": "[encoded data removed]",
      "text/plain": [
       "<Figure size 640x480 with 1 Axes>"
      ]
     },
     "metadata": {},
     "output_type": "display_data"
    }
   ],
   "source": [
    "plt.plot(history.history['val_loss'])\n",
    "# plt.plot(history.history['val_Customers_mse'])\n",
    "# plt.plot(history.history['val_Sales_mse'])\n",
    "plt.show()\n",
    "plt.plot(history.history['loss'])\n",
    "# plt.plot(history.history['Customers_mse'])\n",
    "# plt.plot(history.history['Sales_mse'])"
   ]
  },
  {
   "cell_type": "markdown",
   "metadata": {},
   "source": [
    "# Métrica"
   ]
  },
  {
   "cell_type": "markdown",
   "metadata": {},
   "source": [
    "$$\n",
    "\\textrm{RMSE} = \\sqrt{\\frac{1}{n} \\sum_{i=1}^{n} \\left(\\frac{\\hat{y}_i - y_i}{y_i}\\right)^2}\n",
    "$$"
   ]
  },
  {
   "cell_type": "code",
   "execution_count": 39,
   "metadata": {},
   "outputs": [
    {
     "name": "stdout",
     "output_type": "stream",
     "text": [
      "944/944 [==============================] - 3s 3ms/step - loss: 2.8981e-04 - Sales_loss: 1.1761e-04 - Customers_loss: 1.2345e-04 - Sales_mse: 1.1761e-04 - Sales_rmspe: 0.0128 - Customers_mse: 1.2345e-04 - Customers_rmspe: 0.0147\n"
     ]
    },
    {
     "data": {
      "text/plain": [
       "[0.00028981451760046184,\n",
       " 0.00011760566121665761,\n",
       " 0.00012345367576926947,\n",
       " 0.00011760566121665761,\n",
       " 0.012838313356041908,\n",
       " 0.00012345367576926947,\n",
       " 0.01471603661775589]"
      ]
     },
     "execution_count": 39,
     "metadata": {},
     "output_type": "execute_result"
    }
   ],
   "source": [
    "model.evaluate(X_val, y_val)"
   ]
  },
  {
   "cell_type": "code",
   "execution_count": 40,
   "metadata": {},
   "outputs": [
    {
     "name": "stdout",
     "output_type": "stream",
     "text": [
      "944/944 [==============================] - 3s 3ms/step - loss: 2.8981e-04 - Sales_loss: 1.1761e-04 - Customers_loss: 1.2345e-04 - Sales_mse: 1.1761e-04 - Sales_rmspe: 0.0128 - Customers_mse: 1.2345e-04 - Customers_rmspe: 0.0147\n"
     ]
    },
    {
     "data": {
      "text/plain": [
       "[0.00028981451760046184,\n",
       " 0.00011760566121665761,\n",
       " 0.00012345367576926947,\n",
       " 0.00011760566121665761,\n",
       " 0.012838313356041908,\n",
       " 0.00012345367576926947,\n",
       " 0.01471603661775589]"
      ]
     },
     "execution_count": 40,
     "metadata": {},
     "output_type": "execute_result"
    }
   ],
   "source": [
    "#model.load_weights('bestmodel.hdf5')\n",
    "model.evaluate(X_val, y_val)"
   ]
  },
  {
   "cell_type": "markdown",
   "metadata": {},
   "source": [
    "A superar\n",
    "\n",
    "loss: 0.0017 - Sales_loss: 0.0013 - Customers_loss: 3.0471e-04 - Sales_mse: 0.0013 - Sales_rmspe: 0.2060 - Customers_mse: 3.0471e-04 - Customers_rmspe: 0.1715\n",
    "\n",
    "[0.0016888834070414305,\n",
    " 0.001275751506909728,\n",
    " 0.00030471361242234707,\n",
    " 0.001275751506909728,\n",
    " 0.20596320927143097,\n",
    " 0.00030471361242234707,\n",
    " 0.17151840031147003]\n",
    "\n",
    "\n",
    "Epoch 20: val_Sales_mse did not improve from 0.00128\n",
    "3181/3181 - 28s - loss: 0.0022 - Sales_loss: 0.0017 - Customers_loss: 3.5647e-04 - Sales_mse: 0.0017 - Sales_rmspe: 0.2827 - Customers_mse: 3.5647e-04 - Customers_rmspe: 0.2046 - val_loss: 0.0017 - val_Sales_loss: 0.0013 - val_Customers_loss: 3.1156e-04 - val_Sales_mse: 0.0013 - val_Sales_rmspe: 0.2137 - val_Customers_mse: 3.1156e-04 - val_Customers_rmspe: 0.1805 - 28s/epoch - 9ms/step"
   ]
  },
  {
   "cell_type": "code",
   "execution_count": 41,
   "metadata": {},
   "outputs": [],
   "source": [
    "# model.load_weights('bestmodel.hdf5')\n",
    "# model.evaluate(X_val, y_val)\n",
    "# 30188/30188 [==============================] - 5s 172us/step\n",
    "# [0.12197033089921382,\n",
    "#  0.07211007360268763,\n",
    "#  0.037183713050426136,\n",
    "#  0.07211007360268763,\n",
    "#  0.037183713050426136]\n",
    "\n",
    "# [0.12932546436786652,\n",
    "#  0.07751645147800446,\n",
    "#  0.039259567856788635,\n",
    "#  0.07751645147800446,\n",
    "#  0.039259567856788635]"
   ]
  },
  {
   "cell_type": "code",
   "execution_count": 42,
   "metadata": {},
   "outputs": [
    {
     "name": "stdout",
     "output_type": "stream",
     "text": [
      "944/944 [==============================] - 3s 3ms/step\n",
      "1284/1284 [==============================] - 4s 3ms/step\n"
     ]
    }
   ],
   "source": [
    "if log_output:\n",
    "    if add_customers:\n",
    "        y_pred = np.exp(model.predict(X_val, verbose=1)[0][:, 0]*max_log_y[0])\n",
    "        y_pred_test = np.exp(model.predict(X_test, verbose=1)[0][:, 0]*max_log_y[0])\n",
    "    else:\n",
    "        y_pred = np.exp(model.predict(X_val, verbose=1)*max_log_y)[:,0]\n",
    "        y_pred_test = np.exp(model.predict(X_test, verbose=1)*max_log_y)[:,0]\n",
    "else:\n",
    "    if add_customers:\n",
    "        y_pred = (model.predict(X_val, verbose=1)[0]*y_std[0] + y_mean[0])[:,0]\n",
    "        y_pred_test = (model.predict(X_test, verbose=1)[0]*y_std[0] + y_mean[0])[:,0]\n",
    "    else:\n",
    "#         y_pred = model.predict(X_val, verbose=1)[:,0]*y_std + y_mean\n",
    "#         y_pred_test = model.predict(X_test, verbose=1)[:,0]*y_std + y_mean\n",
    "        y_pred = model.predict(X_val, verbose=1)[:,0]*y_max\n",
    "        y_pred_test = model.predict(X_test, verbose=1)[:,0]*y_max\n",
    "y_pred_test[df_test['Open'] == 0] = 0"
   ]
  },
  {
   "cell_type": "code",
   "execution_count": 43,
   "metadata": {},
   "outputs": [
    {
     "data": {
      "text/plain": [
       "0.12201811399033238"
      ]
     },
     "execution_count": 43,
     "metadata": {},
     "output_type": "execute_result"
    }
   ],
   "source": [
    "metric_sales = np.sqrt((((df_val['Sales'].values - y_pred)/df_val['Sales'].values)**2).sum()/len(y_pred))\n",
    "log_metric(\"metric_sales\", metric_sales)\n",
    "metric_sales"
   ]
  },
  {
   "cell_type": "code",
   "execution_count": 44,
   "metadata": {},
   "outputs": [
    {
     "data": {
      "text/plain": [
       "array([4180.716 , 6715.649 , 9006.316 , 6173.8853, 6992.953 , 5613.672 ,\n",
       "       7739.0913, 7641.1343, 4403.6714, 5605.7812], dtype=float32)"
      ]
     },
     "execution_count": 44,
     "metadata": {},
     "output_type": "execute_result"
    }
   ],
   "source": [
    "y_pred_test[:10]"
   ]
  },
  {
   "cell_type": "markdown",
   "metadata": {},
   "source": [
    "# Baseline"
   ]
  },
  {
   "cell_type": "code",
   "execution_count": 45,
   "metadata": {},
   "outputs": [],
   "source": [
    "import pandas as pd\n",
    "sample_csv = pd.read_csv('dataset/rossmann/sample_submission.csv')"
   ]
  },
  {
   "cell_type": "code",
   "execution_count": 46,
   "metadata": {},
   "outputs": [],
   "source": [
    "stores_mean = {}\n",
    "for store, g_df in df.groupby('Store'):\n",
    "    stores_mean[store] = g_df[g_df['Sales'] > 0]['Sales'].mean()"
   ]
  },
  {
   "cell_type": "code",
   "execution_count": 47,
   "metadata": {},
   "outputs": [],
   "source": [
    "df_test['Sales'] = df_test['Store'].apply(stores_mean.get)\n",
    "df_test.loc[df_test['Open'] == 0, 'Sales'] = 0"
   ]
  },
  {
   "cell_type": "code",
   "execution_count": 48,
   "metadata": {},
   "outputs": [
    {
     "data": {
      "text/html": [
       "<div>\n",
       "<style scoped>\n",
       "    .dataframe tbody tr th:only-of-type {\n",
       "        vertical-align: middle;\n",
       "    }\n",
       "\n",
       "    .dataframe tbody tr th {\n",
       "        vertical-align: top;\n",
       "    }\n",
       "\n",
       "    .dataframe thead th {\n",
       "        text-align: right;\n",
       "    }\n",
       "</style>\n",
       "<table border=\"1\" class=\"dataframe\">\n",
       "  <thead>\n",
       "    <tr style=\"text-align: right;\">\n",
       "      <th></th>\n",
       "      <th>Store</th>\n",
       "      <th>Sales</th>\n",
       "    </tr>\n",
       "  </thead>\n",
       "  <tbody>\n",
       "    <tr>\n",
       "      <th>0</th>\n",
       "      <td>0</td>\n",
       "      <td>4759.096031</td>\n",
       "    </tr>\n",
       "    <tr>\n",
       "      <th>1</th>\n",
       "      <td>2</td>\n",
       "      <td>6942.568678</td>\n",
       "    </tr>\n",
       "    <tr>\n",
       "      <th>2</th>\n",
       "      <td>6</td>\n",
       "      <td>8817.050891</td>\n",
       "    </tr>\n",
       "    <tr>\n",
       "      <th>3</th>\n",
       "      <td>7</td>\n",
       "      <td>5539.358418</td>\n",
       "    </tr>\n",
       "    <tr>\n",
       "      <th>4</th>\n",
       "      <td>8</td>\n",
       "      <td>6562.337612</td>\n",
       "    </tr>\n",
       "    <tr>\n",
       "      <th>5</th>\n",
       "      <td>9</td>\n",
       "      <td>5568.420918</td>\n",
       "    </tr>\n",
       "    <tr>\n",
       "      <th>6</th>\n",
       "      <td>10</td>\n",
       "      <td>8030.977041</td>\n",
       "    </tr>\n",
       "    <tr>\n",
       "      <th>7</th>\n",
       "      <td>11</td>\n",
       "      <td>7589.598214</td>\n",
       "    </tr>\n",
       "    <tr>\n",
       "      <th>8</th>\n",
       "      <td>12</td>\n",
       "      <td>5034.747182</td>\n",
       "    </tr>\n",
       "    <tr>\n",
       "      <th>9</th>\n",
       "      <td>13</td>\n",
       "      <td>5508.567394</td>\n",
       "    </tr>\n",
       "  </tbody>\n",
       "</table>\n",
       "</div>"
      ],
      "text/plain": [
       "   Store        Sales\n",
       "0      0  4759.096031\n",
       "1      2  6942.568678\n",
       "2      6  8817.050891\n",
       "3      7  5539.358418\n",
       "4      8  6562.337612\n",
       "5      9  5568.420918\n",
       "6     10  8030.977041\n",
       "7     11  7589.598214\n",
       "8     12  5034.747182\n",
       "9     13  5508.567394"
      ]
     },
     "execution_count": 48,
     "metadata": {},
     "output_type": "execute_result"
    }
   ],
   "source": [
    "df_test[['Store', 'Sales']].head(10)"
   ]
  },
  {
   "cell_type": "code",
   "execution_count": 49,
   "metadata": {},
   "outputs": [
    {
     "data": {
      "text/html": [
       "<div>\n",
       "<style scoped>\n",
       "    .dataframe tbody tr th:only-of-type {\n",
       "        vertical-align: middle;\n",
       "    }\n",
       "\n",
       "    .dataframe tbody tr th {\n",
       "        vertical-align: top;\n",
       "    }\n",
       "\n",
       "    .dataframe thead th {\n",
       "        text-align: right;\n",
       "    }\n",
       "</style>\n",
       "<table border=\"1\" class=\"dataframe\">\n",
       "  <thead>\n",
       "    <tr style=\"text-align: right;\">\n",
       "      <th></th>\n",
       "      <th>Store</th>\n",
       "      <th>Sales</th>\n",
       "    </tr>\n",
       "  </thead>\n",
       "  <tbody>\n",
       "  </tbody>\n",
       "</table>\n",
       "</div>"
      ],
      "text/plain": [
       "Empty DataFrame\n",
       "Columns: [Store, Sales]\n",
       "Index: []"
      ]
     },
     "execution_count": 49,
     "metadata": {},
     "output_type": "execute_result"
    }
   ],
   "source": [
    "df_test[df_test['Open'] == 0][['Store', 'Sales']].head()"
   ]
  },
  {
   "cell_type": "code",
   "execution_count": 50,
   "metadata": {},
   "outputs": [],
   "source": [
    "sample_csv['Sales'] = df_test['Sales']"
   ]
  },
  {
   "cell_type": "code",
   "execution_count": 51,
   "metadata": {},
   "outputs": [],
   "source": [
    "sample_csv.to_csv(f'submision_baseline.csv', index=False)"
   ]
  },
  {
   "cell_type": "code",
   "execution_count": 52,
   "metadata": {},
   "outputs": [
    {
     "data": {
      "text/html": [
       "<div>\n",
       "<style scoped>\n",
       "    .dataframe tbody tr th:only-of-type {\n",
       "        vertical-align: middle;\n",
       "    }\n",
       "\n",
       "    .dataframe tbody tr th {\n",
       "        vertical-align: top;\n",
       "    }\n",
       "\n",
       "    .dataframe thead th {\n",
       "        text-align: right;\n",
       "    }\n",
       "</style>\n",
       "<table border=\"1\" class=\"dataframe\">\n",
       "  <thead>\n",
       "    <tr style=\"text-align: right;\">\n",
       "      <th></th>\n",
       "      <th>Id</th>\n",
       "      <th>Sales</th>\n",
       "    </tr>\n",
       "  </thead>\n",
       "  <tbody>\n",
       "    <tr>\n",
       "      <th>0</th>\n",
       "      <td>1</td>\n",
       "      <td>4759.096031</td>\n",
       "    </tr>\n",
       "    <tr>\n",
       "      <th>1</th>\n",
       "      <td>2</td>\n",
       "      <td>6942.568678</td>\n",
       "    </tr>\n",
       "    <tr>\n",
       "      <th>2</th>\n",
       "      <td>3</td>\n",
       "      <td>8817.050891</td>\n",
       "    </tr>\n",
       "    <tr>\n",
       "      <th>3</th>\n",
       "      <td>4</td>\n",
       "      <td>5539.358418</td>\n",
       "    </tr>\n",
       "    <tr>\n",
       "      <th>4</th>\n",
       "      <td>5</td>\n",
       "      <td>6562.337612</td>\n",
       "    </tr>\n",
       "  </tbody>\n",
       "</table>\n",
       "</div>"
      ],
      "text/plain": [
       "   Id        Sales\n",
       "0   1  4759.096031\n",
       "1   2  6942.568678\n",
       "2   3  8817.050891\n",
       "3   4  5539.358418\n",
       "4   5  6562.337612"
      ]
     },
     "execution_count": 52,
     "metadata": {},
     "output_type": "execute_result"
    }
   ],
   "source": [
    "sample_csv.head()"
   ]
  },
  {
   "cell_type": "markdown",
   "metadata": {},
   "source": [
    "# Sumbit a la competición"
   ]
  },
  {
   "cell_type": "code",
   "execution_count": 53,
   "metadata": {},
   "outputs": [],
   "source": [
    "\n",
    "sample_csv = pd.read_csv('dataset/rossmann/sample_submission.csv')\n",
    "sample_csv['Sales'] = y_pred_test\n",
    "sample_csv.head()\n",
    "\n",
    "sample_csv.to_csv(f'c06-submision_{add_customers}-{log_output}-{output_activation}-{l2_lambda}-{first_hidden_units}-{epochs}-{batch_size}-{lr}.csv', index=False)\n"
   ]
  },
  {
   "cell_type": "markdown",
   "metadata": {},
   "source": [
    "# Analisis de embedings"
   ]
  },
  {
   "cell_type": "code",
   "execution_count": 54,
   "metadata": {},
   "outputs": [],
   "source": [
    "def plot_embed(layer_name, cat_names):\n",
    "    Y = model.get_layer(layer_name).get_weights()[0]\n",
    "    print(Y.shape)\n",
    "    plt.figure(figsize=(8,8))\n",
    "    plt.scatter(-Y[:, 0], -Y[:, 1])\n",
    "    for i, txt in enumerate(cat_names):\n",
    "        plt.annotate(txt, (-Y[i, 0],-Y[i, 1]), xytext = (-5, 8), textcoords = 'offset points')"
   ]
  },
  {
   "cell_type": "code",
   "execution_count": 55,
   "metadata": {},
   "outputs": [
    {
     "name": "stdout",
     "output_type": "stream",
     "text": [
      "(7, 3)\n"
     ]
    },
    {
     "data": {
      "image/png": "[encoded data removed]",
      "text/plain": [
       "<Figure size 800x800 with 1 Axes>"
      ]
     },
     "metadata": {},
     "output_type": "display_data"
    }
   ],
   "source": [
    "model.load_weights('bestmodel.hdf5')\n",
    "plot_embed('DayOfWeek_Embed', ['Mon', 'Tue', 'Wed', 'Thu', 'Fri', 'Sat','Sun'])"
   ]
  },
  {
   "cell_type": "code",
   "execution_count": 56,
   "metadata": {},
   "outputs": [
    {
     "name": "stdout",
     "output_type": "stream",
     "text": [
      "(22, 4)\n"
     ]
    },
    {
     "data": {
      "image/png": "[encoded data removed]",
      "text/plain": [
       "<Figure size 800x800 with 1 Axes>"
      ]
     },
     "metadata": {},
     "output_type": "display_data"
    }
   ],
   "source": [
    "#plot_embed('Month_Embed', list(range(12)))\n",
    "plot_embed('Events_Embed', list(range(4)))"
   ]
  },
  {
   "cell_type": "code",
   "execution_count": 57,
   "metadata": {},
   "outputs": [
    {
     "name": "stderr",
     "output_type": "stream",
     "text": [
      "2023/03/01 21:25:51 INFO mlflow.tracking.fluent: Autologging successfully enabled for sklearn.\n"
     ]
    }
   ],
   "source": [
    "from sklearn.manifold import TSNE\n",
    "from sklearn.decomposition import PCA"
   ]
  },
  {
   "cell_type": "code",
   "execution_count": 58,
   "metadata": {},
   "outputs": [
    {
     "data": {
      "text/plain": [
       "(7, 3)"
      ]
     },
     "execution_count": 58,
     "metadata": {},
     "output_type": "execute_result"
    }
   ],
   "source": [
    "day_of_week_embedding = model.get_layer('DayOfWeek_Embed').get_weights()[0]\n",
    "day_of_week_embedding.shape"
   ]
  },
  {
   "cell_type": "code",
   "execution_count": 59,
   "metadata": {},
   "outputs": [
    {
     "name": "stderr",
     "output_type": "stream",
     "text": [
      "/opt/anaconda3/lib/python3.9/site-packages/sklearn/manifold/_t_sne.py:780: FutureWarning: The default initialization in TSNE will change from 'random' to 'pca' in 1.2.\n",
      "  warnings.warn(\n",
      "2023/03/01 21:25:51 WARNING mlflow.sklearn: Training metrics will not be recorded because training labels were not specified. To automatically record training metrics, provide training labels as inputs to the model training function.\n",
      "2023/03/01 21:25:51 WARNING mlflow.sklearn: Failed to infer model signature: the trained model does not specify a `predict` function, which is required in order to infer the signature\n",
      "2023/03/01 21:25:51 WARNING mlflow.sklearn: Model was missing function: predict. Not logging python_function flavor!\n"
     ]
    },
    {
     "data": {
      "image/png": "[encoded data removed]",
      "text/plain": [
       "<Figure size 800x800 with 1 Axes>"
      ]
     },
     "metadata": {},
     "output_type": "display_data"
    }
   ],
   "source": [
    "tsne = TSNE(n_components=2, random_state=1, learning_rate=10, n_iter=10000)\n",
    "Y = tsne.fit_transform(day_of_week_embedding)\n",
    "names = ['Mon', 'Tue', 'Wed', 'Thu', 'Fri', 'Sat','Sun']\n",
    "plt.figure(figsize=(8,8))\n",
    "plt.scatter(-Y[:, 0], -Y[:, 1])\n",
    "for i, txt in enumerate(names):\n",
    "    plt.annotate(txt, (-Y[i, 0],-Y[i, 1]), xytext = (-5, 8), textcoords = 'offset points')"
   ]
  },
  {
   "cell_type": "markdown",
   "metadata": {},
   "source": [
    "## Store embeddings"
   ]
  },
  {
   "cell_type": "code",
   "execution_count": 60,
   "metadata": {},
   "outputs": [],
   "source": [
    "submodel = Model(cat_var_inputs + cont_vars_inputs, merged)"
   ]
  },
  {
   "cell_type": "code",
   "execution_count": 61,
   "metadata": {},
   "outputs": [
    {
     "name": "stdout",
     "output_type": "stream",
     "text": [
      "Model: \"model_1\"\n",
      "__________________________________________________________________________________________________\n",
      " Layer (type)                   Output Shape         Param #     Connected to                     \n",
      "==================================================================================================\n",
      " Store_input (InputLayer)       [(None, 1)]          0           []                               \n",
      "                                                                                                  \n",
      " DayOfWeek_input (InputLayer)   [(None, 1)]          0           []                               \n",
      "                                                                                                  \n",
      " Year_input (InputLayer)        [(None, 1)]          0           []                               \n",
      "                                                                                                  \n",
      " Month_input (InputLayer)       [(None, 1)]          0           []                               \n",
      "                                                                                                  \n",
      " Day_input (InputLayer)         [(None, 1)]          0           []                               \n",
      "                                                                                                  \n",
      " StateHoliday_input (InputLayer  [(None, 1)]         0           []                               \n",
      " )                                                                                                \n",
      "                                                                                                  \n",
      " CompetitionMonthsOpen_input (I  [(None, 1)]         0           []                               \n",
      " nputLayer)                                                                                       \n",
      "                                                                                                  \n",
      " Promo2Weeks_input (InputLayer)  [(None, 1)]         0           []                               \n",
      "                                                                                                  \n",
      " StoreType_input (InputLayer)   [(None, 1)]          0           []                               \n",
      "                                                                                                  \n",
      " Assortment_input (InputLayer)  [(None, 1)]          0           []                               \n",
      "                                                                                                  \n",
      " PromoInterval_input (InputLaye  [(None, 1)]         0           []                               \n",
      " r)                                                                                               \n",
      "                                                                                                  \n",
      " CompetitionOpenSinceYear_input  [(None, 1)]         0           []                               \n",
      "  (InputLayer)                                                                                    \n",
      "                                                                                                  \n",
      " Promo2SinceYear_input (InputLa  [(None, 1)]         0           []                               \n",
      " yer)                                                                                             \n",
      "                                                                                                  \n",
      " State_input (InputLayer)       [(None, 1)]          0           []                               \n",
      "                                                                                                  \n",
      " Week_input (InputLayer)        [(None, 1)]          0           []                               \n",
      "                                                                                                  \n",
      " Events_input (InputLayer)      [(None, 1)]          0           []                               \n",
      "                                                                                                  \n",
      " Promo_fw_input (InputLayer)    [(None, 1)]          0           []                               \n",
      "                                                                                                  \n",
      " Promo_bw_input (InputLayer)    [(None, 1)]          0           []                               \n",
      "                                                                                                  \n",
      " StateHoliday_bool_fw_input (In  [(None, 1)]         0           []                               \n",
      " putLayer)                                                                                        \n",
      "                                                                                                  \n",
      " StateHoliday_bool_bw_input (In  [(None, 1)]         0           []                               \n",
      " putLayer)                                                                                        \n",
      "                                                                                                  \n",
      " SchoolHoliday_fw_input (InputL  [(None, 1)]         0           []                               \n",
      " ayer)                                                                                            \n",
      "                                                                                                  \n",
      " SchoolHoliday_bw_input (InputL  [(None, 1)]         0           []                               \n",
      " ayer)                                                                                            \n",
      "                                                                                                  \n",
      " Store_Embed (Embedding)        (None, 1, 50)        55750       ['Store_input[0][0]']            \n",
      "                                                                                                  \n",
      " DayOfWeek_Embed (Embedding)    (None, 1, 3)         21          ['DayOfWeek_input[0][0]']        \n",
      "                                                                                                  \n",
      " Year_Embed (Embedding)         (None, 1, 2)         6           ['Year_input[0][0]']             \n",
      "                                                                                                  \n",
      " Month_Embed (Embedding)        (None, 1, 4)         48          ['Month_input[0][0]']            \n",
      "                                                                                                  \n",
      " Day_Embed (Embedding)          (None, 1, 8)         248         ['Day_input[0][0]']              \n",
      "                                                                                                  \n",
      " StateHoliday_Embed (Embedding)  (None, 1, 2)        8           ['StateHoliday_input[0][0]']     \n",
      "                                                                                                  \n",
      " CompetitionMonthsOpen_Embed (E  (None, 1, 2)        50          ['CompetitionMonthsOpen_input[0][\n",
      " mbedding)                                                       0]']                             \n",
      "                                                                                                  \n",
      " Promo2Weeks_Embed (Embedding)  (None, 1, 2)         52          ['Promo2Weeks_input[0][0]']      \n",
      "                                                                                                  \n",
      " StoreType_Embed (Embedding)    (None, 1, 3)         12          ['StoreType_input[0][0]']        \n",
      "                                                                                                  \n",
      " Assortment_Embed (Embedding)   (None, 1, 3)         9           ['Assortment_input[0][0]']       \n",
      "                                                                                                  \n",
      " PromoInterval_Embed (Embedding  (None, 1, 3)        12          ['PromoInterval_input[0][0]']    \n",
      " )                                                                                                \n",
      "                                                                                                  \n",
      " CompetitionOpenSinceYear_Embed  (None, 1, 4)        84          ['CompetitionOpenSinceYear_input[\n",
      "  (Embedding)                                                    0][0]']                          \n",
      "                                                                                                  \n",
      " Promo2SinceYear_Embed (Embeddi  (None, 1, 4)        32          ['Promo2SinceYear_input[0][0]']  \n",
      " ng)                                                                                              \n",
      "                                                                                                  \n",
      " State_Embed (Embedding)        (None, 1, 6)         72          ['State_input[0][0]']            \n",
      "                                                                                                  \n",
      " Week_Embed (Embedding)         (None, 1, 25)        1300        ['Week_input[0][0]']             \n",
      "                                                                                                  \n",
      " Events_Embed (Embedding)       (None, 1, 4)         88          ['Events_input[0][0]']           \n",
      "                                                                                                  \n",
      " Promo_fw_Embed (Embedding)     (None, 1, 1)         6           ['Promo_fw_input[0][0]']         \n",
      "                                                                                                  \n",
      " Promo_bw_Embed (Embedding)     (None, 1, 1)         6           ['Promo_bw_input[0][0]']         \n",
      "                                                                                                  \n",
      " StateHoliday_bool_fw_Embed (Em  (None, 1, 1)        3           ['StateHoliday_bool_fw_input[0][0\n",
      " bedding)                                                        ]']                              \n",
      "                                                                                                  \n",
      " StateHoliday_bool_bw_Embed (Em  (None, 1, 1)        3           ['StateHoliday_bool_bw_input[0][0\n",
      " bedding)                                                        ]']                              \n",
      "                                                                                                  \n",
      " SchoolHoliday_fw_Embed (Embedd  (None, 1, 1)        8           ['SchoolHoliday_fw_input[0][0]'] \n",
      " ing)                                                                                             \n",
      "                                                                                                  \n",
      " SchoolHoliday_bw_Embed (Embedd  (None, 1, 1)        8           ['SchoolHoliday_bw_input[0][0]'] \n",
      " ing)                                                                                             \n",
      "                                                                                                  \n",
      " Store_flat (Flatten)           (None, 50)           0           ['Store_Embed[0][0]']            \n",
      "                                                                                                  \n",
      " DayOfWeek_flat (Flatten)       (None, 3)            0           ['DayOfWeek_Embed[0][0]']        \n",
      "                                                                                                  \n",
      " Year_flat (Flatten)            (None, 2)            0           ['Year_Embed[0][0]']             \n",
      "                                                                                                  \n",
      " Month_flat (Flatten)           (None, 4)            0           ['Month_Embed[0][0]']            \n",
      "                                                                                                  \n",
      " Day_flat (Flatten)             (None, 8)            0           ['Day_Embed[0][0]']              \n",
      "                                                                                                  \n",
      " StateHoliday_flat (Flatten)    (None, 2)            0           ['StateHoliday_Embed[0][0]']     \n",
      "                                                                                                  \n",
      " CompetitionMonthsOpen_flat (Fl  (None, 2)           0           ['CompetitionMonthsOpen_Embed[0][\n",
      " atten)                                                          0]']                             \n",
      "                                                                                                  \n",
      " Promo2Weeks_flat (Flatten)     (None, 2)            0           ['Promo2Weeks_Embed[0][0]']      \n",
      "                                                                                                  \n",
      " StoreType_flat (Flatten)       (None, 3)            0           ['StoreType_Embed[0][0]']        \n",
      "                                                                                                  \n",
      " Assortment_flat (Flatten)      (None, 3)            0           ['Assortment_Embed[0][0]']       \n",
      "                                                                                                  \n",
      " PromoInterval_flat (Flatten)   (None, 3)            0           ['PromoInterval_Embed[0][0]']    \n",
      "                                                                                                  \n",
      " CompetitionOpenSinceYear_flat   (None, 4)           0           ['CompetitionOpenSinceYear_Embed[\n",
      " (Flatten)                                                       0][0]']                          \n",
      "                                                                                                  \n",
      " Promo2SinceYear_flat (Flatten)  (None, 4)           0           ['Promo2SinceYear_Embed[0][0]']  \n",
      "                                                                                                  \n",
      " State_flat (Flatten)           (None, 6)            0           ['State_Embed[0][0]']            \n",
      "                                                                                                  \n",
      " Week_flat (Flatten)            (None, 25)           0           ['Week_Embed[0][0]']             \n",
      "                                                                                                  \n",
      " Events_flat (Flatten)          (None, 4)            0           ['Events_Embed[0][0]']           \n",
      "                                                                                                  \n",
      " Promo_fw_flat (Flatten)        (None, 1)            0           ['Promo_fw_Embed[0][0]']         \n",
      "                                                                                                  \n",
      " Promo_bw_flat (Flatten)        (None, 1)            0           ['Promo_bw_Embed[0][0]']         \n",
      "                                                                                                  \n",
      " StateHoliday_bool_fw_flat (Fla  (None, 1)           0           ['StateHoliday_bool_fw_Embed[0][0\n",
      " tten)                                                           ]']                              \n",
      "                                                                                                  \n",
      " StateHoliday_bool_bw_flat (Fla  (None, 1)           0           ['StateHoliday_bool_bw_Embed[0][0\n",
      " tten)                                                           ]']                              \n",
      "                                                                                                  \n",
      " SchoolHoliday_fw_flat (Flatten  (None, 1)           0           ['SchoolHoliday_fw_Embed[0][0]'] \n",
      " )                                                                                                \n",
      "                                                                                                  \n",
      " SchoolHoliday_bw_flat (Flatten  (None, 1)           0           ['SchoolHoliday_bw_Embed[0][0]'] \n",
      " )                                                                                                \n",
      "                                                                                                  \n",
      " CompetitionDistance_input (Inp  [(None, 1)]         0           []                               \n",
      " utLayer)                                                                                         \n",
      "                                                                                                  \n",
      " Max_TemperatureC_input (InputL  [(None, 1)]         0           []                               \n",
      " ayer)                                                                                            \n",
      "                                                                                                  \n",
      " Precipitationmm_input (InputLa  [(None, 1)]         0           []                               \n",
      " yer)                                                                                             \n",
      "                                                                                                  \n",
      " Max_Humidity_input (InputLayer  [(None, 1)]         0           []                               \n",
      " )                                                                                                \n",
      "                                                                                                  \n",
      " CloudCover_input (InputLayer)  [(None, 1)]          0           []                               \n",
      "                                                                                                  \n",
      " trend_input (InputLayer)       [(None, 1)]          0           []                               \n",
      "                                                                                                  \n",
      " AfterStateHoliday_bool_input (  [(None, 1)]         0           []                               \n",
      " InputLayer)                                                                                      \n",
      "                                                                                                  \n",
      " Promo_input (InputLayer)       [(None, 1)]          0           []                               \n",
      "                                                                                                  \n",
      " All_Concatenate (Concatenate)  (None, 139)          0           ['Store_flat[0][0]',             \n",
      "                                                                  'DayOfWeek_flat[0][0]',         \n",
      "                                                                  'Year_flat[0][0]',              \n",
      "                                                                  'Month_flat[0][0]',             \n",
      "                                                                  'Day_flat[0][0]',               \n",
      "                                                                  'StateHoliday_flat[0][0]',      \n",
      "                                                                  'CompetitionMonthsOpen_flat[0][0\n",
      "                                                                 ]',                              \n",
      "                                                                  'Promo2Weeks_flat[0][0]',       \n",
      "                                                                  'StoreType_flat[0][0]',         \n",
      "                                                                  'Assortment_flat[0][0]',        \n",
      "                                                                  'PromoInterval_flat[0][0]',     \n",
      "                                                                  'CompetitionOpenSinceYear_flat[0\n",
      "                                                                 ][0]',                           \n",
      "                                                                  'Promo2SinceYear_flat[0][0]',   \n",
      "                                                                  'State_flat[0][0]',             \n",
      "                                                                  'Week_flat[0][0]',              \n",
      "                                                                  'Events_flat[0][0]',            \n",
      "                                                                  'Promo_fw_flat[0][0]',          \n",
      "                                                                  'Promo_bw_flat[0][0]',          \n",
      "                                                                  'StateHoliday_bool_fw_flat[0][0]\n",
      "                                                                 ',                               \n",
      "                                                                  'StateHoliday_bool_bw_flat[0][0]\n",
      "                                                                 ',                               \n",
      "                                                                  'SchoolHoliday_fw_flat[0][0]',  \n",
      "                                                                  'SchoolHoliday_bw_flat[0][0]',  \n",
      "                                                                  'CompetitionDistance_input[0][0]\n",
      "                                                                 ',                               \n",
      "                                                                  'Max_TemperatureC_input[0][0]', \n",
      "                                                                  'Precipitationmm_input[0][0]',  \n",
      "                                                                  'Max_Humidity_input[0][0]',     \n",
      "                                                                  'CloudCover_input[0][0]',       \n",
      "                                                                  'trend_input[0][0]',            \n",
      "                                                                  'AfterStateHoliday_bool_input[0]\n",
      "                                                                 [0]',                            \n",
      "                                                                  'Promo_input[0][0]']            \n",
      "                                                                                                  \n",
      "==================================================================================================\n",
      "Total params: 57,826\n",
      "Trainable params: 57,826\n",
      "Non-trainable params: 0\n",
      "__________________________________________________________________________________________________\n"
     ]
    }
   ],
   "source": [
    "submodel.summary()"
   ]
  },
  {
   "cell_type": "code",
   "execution_count": 62,
   "metadata": {},
   "outputs": [
    {
     "name": "stdout",
     "output_type": "stream",
     "text": [
      "WARNING:tensorflow:Compiled the loaded model, but the compiled metrics have yet to be built. `model.compile_metrics` will be empty until you train or evaluate the model.\n"
     ]
    },
    {
     "name": "stderr",
     "output_type": "stream",
     "text": [
      "WARNING:tensorflow:Compiled the loaded model, but the compiled metrics have yet to be built. `model.compile_metrics` will be empty until you train or evaluate the model.\n"
     ]
    }
   ],
   "source": [
    "submodel.save('embeddings_model.hdf5')"
   ]
  },
  {
   "cell_type": "code",
   "execution_count": 63,
   "metadata": {},
   "outputs": [
    {
     "name": "stdout",
     "output_type": "stream",
     "text": [
      "date and time = 01/03/2023 21:25:55\n"
     ]
    }
   ],
   "source": [
    "from datetime import datetime\n",
    "\n",
    "# datetime object containing current date and time\n",
    "now = datetime.now()\n",
    "# dd/mm/YY H:M:S\n",
    "dt_string = now.strftime(\"%d/%m/%Y %H:%M:%S\")\n",
    "print(\"date and time =\", dt_string)"
   ]
  },
  {
   "cell_type": "code",
   "execution_count": 64,
   "metadata": {
    "collapsed": false,
    "jupyter": {
     "outputs_hidden": false
    }
   },
   "outputs": [],
   "source": [
    "#! mlflow ui"
   ]
  },
  {
   "cell_type": "code",
   "execution_count": null,
   "metadata": {
    "collapsed": false,
    "jupyter": {
     "outputs_hidden": false
    }
   },
   "outputs": [],
   "source": []
  }
 ],
 "metadata": {
  "kernelspec": {
   "display_name": "Python 3 (ipykernel)",
   "language": "python",
   "name": "python3"
  },
  "language_info": {
   "codemirror_mode": {
    "name": "ipython",
    "version": 3
   },
   "file_extension": ".py",
   "mimetype": "text/x-python",
   "name": "python",
   "nbconvert_exporter": "python",
   "pygments_lexer": "ipython3",
   "version": "3.9.13"
  }
 },
 "nbformat": 4,
 "nbformat_minor": 4
}
