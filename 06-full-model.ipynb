{
 "cells": [
  {
   "cell_type": "code",
   "execution_count": 91,
   "metadata": {},
   "outputs": [
    {
     "name": "stderr",
     "output_type": "stream",
     "text": [
      "/opt/anaconda3/lib/python3.9/site-packages/tensorflow/python/client/session.py:1769: UserWarning: An interactive session is already active. This can cause out-of-memory errors in some cases. You must explicitly call `InteractiveSession.close()` to release resources held by the other session(s).\n",
      "  warnings.warn('An interactive session is already active. This can '\n"
     ]
    }
   ],
   "source": [
    "from tensorflow.compat.v1 import ConfigProto\n",
    "from tensorflow.compat.v1 import InteractiveSession\n",
    "config = ConfigProto()\n",
    "config.gpu_options.allow_growth = True\n",
    "session = InteractiveSession(config=config)"
   ]
  },
  {
   "cell_type": "code",
   "execution_count": 92,
   "metadata": {},
   "outputs": [],
   "source": [
    "import pandas as pd\n",
    "import numpy as np\n",
    "import datetime\n",
    "from pandas_summary import DataFrameSummary"
   ]
  },
  {
   "cell_type": "code",
   "execution_count": 93,
   "metadata": {},
   "outputs": [],
   "source": [
    "from tensorflow.keras.utils import to_categorical"
   ]
  },
  {
   "cell_type": "code",
   "execution_count": 94,
   "outputs": [
    {
     "name": "stderr",
     "output_type": "stream",
     "text": [
      "2023/02/28 15:29:57 INFO mlflow.tracking.fluent: Autologging successfully enabled for sklearn.\n",
      "2023/02/28 15:29:57 INFO mlflow.tracking.fluent: Autologging successfully enabled for tensorflow.\n",
      "2023/02/28 15:30:01 INFO mlflow.tracking.fluent: Autologging successfully enabled for statsmodels.\n"
     ]
    }
   ],
   "source": [
    "import mlflow.tensorflow\n",
    "mlflow.autolog()\n",
    "\n",
    "#! mlflow ui"
   ],
   "metadata": {
    "collapsed": false
   }
  },
  {
   "cell_type": "code",
   "execution_count": 95,
   "metadata": {},
   "outputs": [],
   "source": [
    "df = pd.read_feather('train_normalized_data.fth')\n",
    "df_test = pd.read_feather('test_normalized_data.fth')"
   ]
  },
  {
   "cell_type": "code",
   "execution_count": 96,
   "metadata": {},
   "outputs": [],
   "source": [
    "cat_vars = ['Store', 'DayOfWeek', 'Year', 'Month', 'Day', 'StateHoliday', 'CompetitionMonthsOpen', 'Promo2Weeks', \n",
    "            'StoreType', 'Assortment', 'PromoInterval', 'State',\n",
    "            'Week', 'Events', 'Promo_fw', 'Promo_bw', 'StateHoliday_bool_fw', 'StateHoliday_bool_bw', 'SchoolHoliday_fw', 'SchoolHoliday_bw']\n",
    "\n",
    "cat_vars += ['OpenCat', 'AmplitudTermicaCat']\n",
    "#cat_vars = ['Store', 'DayOfWeek']"
   ]
  },
  {
   "cell_type": "code",
   "execution_count": 97,
   "metadata": {},
   "outputs": [],
   "source": [
    "contin_vars = ['CompetitionDistance', \n",
    "   'Max_TemperatureC', 'Mean_TemperatureC', 'Min_TemperatureC', 'Precipitationmm',\n",
    "   'Max_Humidity', 'Mean_Humidity', 'Min_Humidity', 'Max_Wind_SpeedKm_h', \n",
    "   'Mean_Wind_SpeedKm_h', 'CloudCover', 'trend', 'trend_DE',\n",
    "   'AfterStateHoliday_bool', 'BeforeStateHoliday_bool', 'Promo', 'SchoolHoliday', 'StateHoliday_bool']\n",
    "\n",
    "contin_vars = ['CompetitionDistance', 'AfterStateHoliday_bool', 'BeforeStateHoliday_bool', 'Promo', 'SchoolHoliday', 'StateHoliday_bool', 'trend', 'trend_DE']\n",
    "contin_vars += ['CompetitionOpenSinceYear', 'Promo2SinceYear'] #eran categoricas\n",
    "contin_vars += ['Min_TemperatureC', 'Precipitationmm',\n",
    "               'Max_Humidity', 'Max_Wind_SpeedKm_h', 'CloudCover'\n",
    "               ]\n",
    "#contin_vars += ['Open', 'AmplitudTermica', 'CompetitionDaysOpen']"
   ]
  },
  {
   "cell_type": "code",
   "execution_count": 98,
   "metadata": {},
   "outputs": [],
   "source": [
    "uniques = DataFrameSummary(df[cat_vars]).summary().loc[['uniques']]"
   ]
  },
  {
   "cell_type": "code",
   "execution_count": 99,
   "metadata": {},
   "outputs": [
    {
     "data": {
      "text/plain": "                      uniques\nStore                    1115\nDayOfWeek                   7\nYear                        3\nMonth                      12\nDay                        31\nStateHoliday                4\nCompetitionMonthsOpen      25\nPromo2Weeks                26\nStoreType                   4\nAssortment                  3\nPromoInterval               4\nState                      12\nWeek                       52\nEvents                     22\nPromo_fw                    6\nPromo_bw                    6\nStateHoliday_bool_fw        3\nStateHoliday_bool_bw        3\nSchoolHoliday_fw            8\nSchoolHoliday_bw            8",
      "text/html": "<div>\n<style scoped>\n    .dataframe tbody tr th:only-of-type {\n        vertical-align: middle;\n    }\n\n    .dataframe tbody tr th {\n        vertical-align: top;\n    }\n\n    .dataframe thead th {\n        text-align: right;\n    }\n</style>\n<table border=\"1\" class=\"dataframe\">\n  <thead>\n    <tr style=\"text-align: right;\">\n      <th></th>\n      <th>uniques</th>\n    </tr>\n  </thead>\n  <tbody>\n    <tr>\n      <th>Store</th>\n      <td>1115</td>\n    </tr>\n    <tr>\n      <th>DayOfWeek</th>\n      <td>7</td>\n    </tr>\n    <tr>\n      <th>Year</th>\n      <td>3</td>\n    </tr>\n    <tr>\n      <th>Month</th>\n      <td>12</td>\n    </tr>\n    <tr>\n      <th>Day</th>\n      <td>31</td>\n    </tr>\n    <tr>\n      <th>StateHoliday</th>\n      <td>4</td>\n    </tr>\n    <tr>\n      <th>CompetitionMonthsOpen</th>\n      <td>25</td>\n    </tr>\n    <tr>\n      <th>Promo2Weeks</th>\n      <td>26</td>\n    </tr>\n    <tr>\n      <th>StoreType</th>\n      <td>4</td>\n    </tr>\n    <tr>\n      <th>Assortment</th>\n      <td>3</td>\n    </tr>\n    <tr>\n      <th>PromoInterval</th>\n      <td>4</td>\n    </tr>\n    <tr>\n      <th>State</th>\n      <td>12</td>\n    </tr>\n    <tr>\n      <th>Week</th>\n      <td>52</td>\n    </tr>\n    <tr>\n      <th>Events</th>\n      <td>22</td>\n    </tr>\n    <tr>\n      <th>Promo_fw</th>\n      <td>6</td>\n    </tr>\n    <tr>\n      <th>Promo_bw</th>\n      <td>6</td>\n    </tr>\n    <tr>\n      <th>StateHoliday_bool_fw</th>\n      <td>3</td>\n    </tr>\n    <tr>\n      <th>StateHoliday_bool_bw</th>\n      <td>3</td>\n    </tr>\n    <tr>\n      <th>SchoolHoliday_fw</th>\n      <td>8</td>\n    </tr>\n    <tr>\n      <th>SchoolHoliday_bw</th>\n      <td>8</td>\n    </tr>\n  </tbody>\n</table>\n</div>"
     },
     "execution_count": 99,
     "metadata": {},
     "output_type": "execute_result"
    }
   ],
   "source": [
    "uniques.T"
   ]
  },
  {
   "cell_type": "markdown",
   "metadata": {},
   "source": [
    "# Asignación de dimensión de embeddings"
   ]
  },
  {
   "cell_type": "code",
   "execution_count": 100,
   "metadata": {},
   "outputs": [],
   "source": [
    "cat_var_dict = {'Store': 50, 'DayOfWeek': 4, 'Year': 2, 'Month': 4,\n",
    "'Day': 10, 'StateHoliday': 2, 'CompetitionMonthsOpen': 2,\n",
    "'Promo2Weeks': 1, 'StoreType': 2, 'Assortment': 3, 'PromoInterval': 3,\n",
    "'CompetitionOpenSinceYear': 4, 'Promo2SinceYear': 4, 'State': 6,\n",
    "'Week': 25, 'Events': 4, 'Promo_fw': 1,\n",
    "'Promo_bw': 1, 'StateHoliday_bool_fw': 1,\n",
    "'StateHoliday_bool_bw': 1, 'SchoolHoliday_fw': 1,\n",
    "'SchoolHoliday_bw': 1}"
   ]
  },
  {
   "cell_type": "code",
   "execution_count": 101,
   "outputs": [],
   "source": [
    "cat_var_dict = {'Store': 20, 'DayOfWeek': 3, 'Year': 2, 'Month': 4,\n",
    "                'Day': 5, 'StateHoliday': 2, 'CompetitionMonthsOpen': 2,\n",
    "                'Promo2Weeks': 2, 'StoreType': 3, 'Assortment': 2, 'PromoInterval': 3,\n",
    "                'CompetitionOpenSinceYear': 4, 'Promo2SinceYear': 4, 'State': 6,\n",
    "                'Week': 6, 'Events': 4, 'Promo_fw': 1,\n",
    "                'Promo_bw': 1, 'StateHoliday_bool_fw': 1,\n",
    "                'StateHoliday_bool_bw': 1, 'SchoolHoliday_fw': 1,\n",
    "                'SchoolHoliday_bw': 1,\n",
    "                'OpenCat': 1, 'AmplitudTermicaCat': 2}"
   ],
   "metadata": {
    "collapsed": false
   }
  },
  {
   "cell_type": "code",
   "execution_count": 102,
   "metadata": {},
   "outputs": [
    {
     "name": "stdout",
     "output_type": "stream",
     "text": [
      "Store 20 1115 [   0    1    2 ... 1112 1113 1114]\n",
      "\n",
      "DayOfWeek 3 7 [0 1 2 3 4 5 6]\n",
      "\n",
      "Year 2 3 [0 1 2]\n",
      "\n",
      "Month 4 12 [ 0  1  2  3  4  5  6  7  8  9 10 11]\n",
      "\n",
      "Day 5 31 [ 0  1  2  3  4  5  6  7  8  9 10 11 12 13 14 15 16 17 18 19 20 21 22 23\n",
      " 24 25 26 27 28 29 30]\n",
      "\n",
      "StateHoliday 2 4 [0 1 2 3]\n",
      "\n",
      "CompetitionMonthsOpen 2 25 [ 0  1  2  3  4  5  6  7  8  9 10 11 12 13 14 15 16 17 18 19 20 21 22 23\n",
      " 24]\n",
      "\n",
      "Promo2Weeks 2 26 [ 0  1  2  3  4  5  6  7  8  9 10 11 12 13 14 15 16 17 18 19 20 21 22 23\n",
      " 24 25]\n",
      "\n",
      "StoreType 3 4 [0 1 2 3]\n",
      "\n",
      "Assortment 2 3 [0 1 2]\n",
      "\n",
      "PromoInterval 3 4 [0 1 2 3]\n",
      "\n",
      "State 6 12 [ 0  1  2  3  4  5  6  7  8  9 10 11]\n",
      "\n",
      "Week 6 52 [ 0  1  2  3  4  5  6  7  8  9 10 11 12 13 14 15 16 17 18 19 20 21 22 23\n",
      " 24 25 26 27 28 29 30 31 32 33 34 35 36 37 38 39 40 41 42 43 44 45 46 47\n",
      " 48 49 50 51]\n",
      "\n",
      "Events 4 22 [ 0  1  2  3  4  5  6  7  8  9 10 11 12 13 14 15 16 17 18 19 20 21]\n",
      "\n",
      "Promo_fw 1 6 [0 1 2 3 4 5]\n",
      "\n",
      "Promo_bw 1 6 [0 1 2 3 4 5]\n",
      "\n",
      "StateHoliday_bool_fw 1 3 [0 1 2]\n",
      "\n",
      "StateHoliday_bool_bw 1 3 [0 1 2]\n",
      "\n",
      "SchoolHoliday_fw 1 8 [0 1 2 3 4 5 6 7]\n",
      "\n",
      "SchoolHoliday_bw 1 8 [0 1 2 3 4 5 6 7]\n",
      "\n"
     ]
    }
   ],
   "source": [
    "for v in cat_vars:\n",
    "    uniques_ = df[v].unique()\n",
    "    uniques_.sort()\n",
    "    print(v, cat_var_dict[v], len(uniques_), uniques_)\n",
    "    print()"
   ]
  },
  {
   "cell_type": "markdown",
   "metadata": {},
   "source": [
    "# Definición de modelo"
   ]
  },
  {
   "cell_type": "code",
   "execution_count": 103,
   "metadata": {},
   "outputs": [],
   "source": [
    "add_customers = True\n",
    "log_output = True\n",
    "output_activation = 'linear'"
   ]
  },
  {
   "cell_type": "code",
   "execution_count": 104,
   "metadata": {},
   "outputs": [],
   "source": [
    "from tensorflow.keras.models import Model\n",
    "from tensorflow.keras.callbacks import ModelCheckpoint, EarlyStopping, ReduceLROnPlateau\n",
    "from tensorflow.keras.optimizers import Adam\n",
    "from tensorflow.keras.layers import Embedding, Input, Flatten, Concatenate, Dense, BatchNormalization, Activation, LeakyReLU, Dropout\n",
    "from tensorflow.keras.regularizers import l2"
   ]
  },
  {
   "cell_type": "code",
   "execution_count": 105,
   "metadata": {},
   "outputs": [],
   "source": [
    "def get_cat_vars_model(cat_vars, uniques, cat_var_dict):\n",
    "    cat_vars_embed_outs = []\n",
    "    cat_var_inputs = []\n",
    "    for cat_var in cat_vars:\n",
    "        cat_var_in = Input(shape=(1,), name=f\"{cat_var}_input\")\n",
    "        cat_var_inputs.append(cat_var_in)\n",
    "        embed_out = Embedding(uniques[cat_var][0], cat_var_dict[cat_var], name=f'{cat_var}_Embed')(cat_var_in)\n",
    "        flatten_out = Flatten(name=f\"{cat_var}_flat\")(embed_out)\n",
    "        cat_vars_embed_outs.append(flatten_out)\n",
    "    return cat_var_inputs, cat_vars_embed_outs\n",
    "\n",
    "def get_cont_vars_input(contin_vars, dense_layer=False):\n",
    "    cont_vars_inputs = []\n",
    "    cont_vars_outputs = []\n",
    "    for cont_var in contin_vars:\n",
    "        cont_var_in = Input(shape=(1,), name=f\"{cont_var}_input\")\n",
    "        cont_vars_inputs.append(cont_var_in)\n",
    "        if dense_layer:\n",
    "            cont_var_out = Dense(1, name=f\"{cont_var}_input\", activation = 'linear')(cont_var_in)\n",
    "            cont_vars_outputs.append(cont_var_out)\n",
    "        else:\n",
    "            cont_vars_outputs.append(cont_var_in)\n",
    "    return cont_vars_inputs, cont_vars_outputs"
   ]
  },
  {
   "cell_type": "code",
   "execution_count": 106,
   "metadata": {},
   "outputs": [],
   "source": [
    "cat_var_inputs, cat_vars_embed_outs = get_cat_vars_model(cat_vars, uniques, cat_var_dict)\n",
    "cont_vars_inputs,  cont_vars_outs= get_cont_vars_input(contin_vars)"
   ]
  },
  {
   "cell_type": "code",
   "execution_count": 107,
   "metadata": {},
   "outputs": [],
   "source": [
    "# Descomentar para ver resultados\n",
    "# cat_vars_embed_outs\n",
    "# cat_var_inputs\n",
    "# cont_vars_inputs\n",
    "# cont_vars_outs"
   ]
  },
  {
   "cell_type": "code",
   "execution_count": 108,
   "metadata": {},
   "outputs": [],
   "source": [
    "first_hidden_units = 750 #1000\n",
    "second_hidden_units = 256 #500\n",
    "l2_lambda = 1e-4\n",
    "merged = Concatenate(name='All_Concatenate')(cat_vars_embed_outs + cont_vars_inputs)\n",
    "x = Dense(first_hidden_units, kernel_initializer=\"uniform\")(merged)\n",
    "#x = Dense(first_hidden_units, kernel_initializer=\"uniform\", kernel_regularizer=l2(l2_lambda))(merged)\n",
    "# x = BatchNormalization()(x)\n",
    "x = Activation('relu')(x)\n",
    "# x = LeakyReLU()(x)\n",
    "x = Dense(second_hidden_units, kernel_initializer=\"uniform\")(x)\n",
    "#x = Dense(second_hidden_units, kernel_initializer=\"uniform\", kernel_regularizer=l2(l2_lambda))(x)\n",
    "# x = BatchNormalization()(x)\n",
    "x = Activation('relu')(x)\n",
    "# x = LeakyReLU()(x)\n",
    "\n",
    "output_1 = Dense(1, name='Sales', activation=output_activation)(x)\n",
    "output_2 = Dense(1, name='Customers', activation=output_activation)(x)"
   ]
  },
  {
   "cell_type": "code",
   "execution_count": 109,
   "metadata": {},
   "outputs": [],
   "source": [
    "if add_customers:\n",
    "    model = Model(cat_var_inputs + cont_vars_inputs, [output_1, output_2])\n",
    "else: \n",
    "    model = Model(cat_var_inputs + cont_vars_inputs, [output_1])"
   ]
  },
  {
   "cell_type": "code",
   "execution_count": 110,
   "metadata": {},
   "outputs": [
    {
     "name": "stdout",
     "output_type": "stream",
     "text": [
      "Model: \"model_3\"\n",
      "__________________________________________________________________________________________________\n",
      " Layer (type)                   Output Shape         Param #     Connected to                     \n",
      "==================================================================================================\n",
      " Store_input (InputLayer)       [(None, 1)]          0           []                               \n",
      "                                                                                                  \n",
      " DayOfWeek_input (InputLayer)   [(None, 1)]          0           []                               \n",
      "                                                                                                  \n",
      " Year_input (InputLayer)        [(None, 1)]          0           []                               \n",
      "                                                                                                  \n",
      " Month_input (InputLayer)       [(None, 1)]          0           []                               \n",
      "                                                                                                  \n",
      " Day_input (InputLayer)         [(None, 1)]          0           []                               \n",
      "                                                                                                  \n",
      " StateHoliday_input (InputLayer  [(None, 1)]         0           []                               \n",
      " )                                                                                                \n",
      "                                                                                                  \n",
      " CompetitionMonthsOpen_input (I  [(None, 1)]         0           []                               \n",
      " nputLayer)                                                                                       \n",
      "                                                                                                  \n",
      " Promo2Weeks_input (InputLayer)  [(None, 1)]         0           []                               \n",
      "                                                                                                  \n",
      " StoreType_input (InputLayer)   [(None, 1)]          0           []                               \n",
      "                                                                                                  \n",
      " Assortment_input (InputLayer)  [(None, 1)]          0           []                               \n",
      "                                                                                                  \n",
      " PromoInterval_input (InputLaye  [(None, 1)]         0           []                               \n",
      " r)                                                                                               \n",
      "                                                                                                  \n",
      " State_input (InputLayer)       [(None, 1)]          0           []                               \n",
      "                                                                                                  \n",
      " Week_input (InputLayer)        [(None, 1)]          0           []                               \n",
      "                                                                                                  \n",
      " Events_input (InputLayer)      [(None, 1)]          0           []                               \n",
      "                                                                                                  \n",
      " Promo_fw_input (InputLayer)    [(None, 1)]          0           []                               \n",
      "                                                                                                  \n",
      " Promo_bw_input (InputLayer)    [(None, 1)]          0           []                               \n",
      "                                                                                                  \n",
      " StateHoliday_bool_fw_input (In  [(None, 1)]         0           []                               \n",
      " putLayer)                                                                                        \n",
      "                                                                                                  \n",
      " StateHoliday_bool_bw_input (In  [(None, 1)]         0           []                               \n",
      " putLayer)                                                                                        \n",
      "                                                                                                  \n",
      " SchoolHoliday_fw_input (InputL  [(None, 1)]         0           []                               \n",
      " ayer)                                                                                            \n",
      "                                                                                                  \n",
      " SchoolHoliday_bw_input (InputL  [(None, 1)]         0           []                               \n",
      " ayer)                                                                                            \n",
      "                                                                                                  \n",
      " Store_Embed (Embedding)        (None, 1, 20)        22300       ['Store_input[0][0]']            \n",
      "                                                                                                  \n",
      " DayOfWeek_Embed (Embedding)    (None, 1, 3)         21          ['DayOfWeek_input[0][0]']        \n",
      "                                                                                                  \n",
      " Year_Embed (Embedding)         (None, 1, 2)         6           ['Year_input[0][0]']             \n",
      "                                                                                                  \n",
      " Month_Embed (Embedding)        (None, 1, 4)         48          ['Month_input[0][0]']            \n",
      "                                                                                                  \n",
      " Day_Embed (Embedding)          (None, 1, 5)         155         ['Day_input[0][0]']              \n",
      "                                                                                                  \n",
      " StateHoliday_Embed (Embedding)  (None, 1, 2)        8           ['StateHoliday_input[0][0]']     \n",
      "                                                                                                  \n",
      " CompetitionMonthsOpen_Embed (E  (None, 1, 2)        50          ['CompetitionMonthsOpen_input[0][\n",
      " mbedding)                                                       0]']                             \n",
      "                                                                                                  \n",
      " Promo2Weeks_Embed (Embedding)  (None, 1, 2)         52          ['Promo2Weeks_input[0][0]']      \n",
      "                                                                                                  \n",
      " StoreType_Embed (Embedding)    (None, 1, 3)         12          ['StoreType_input[0][0]']        \n",
      "                                                                                                  \n",
      " Assortment_Embed (Embedding)   (None, 1, 2)         6           ['Assortment_input[0][0]']       \n",
      "                                                                                                  \n",
      " PromoInterval_Embed (Embedding  (None, 1, 3)        12          ['PromoInterval_input[0][0]']    \n",
      " )                                                                                                \n",
      "                                                                                                  \n",
      " State_Embed (Embedding)        (None, 1, 6)         72          ['State_input[0][0]']            \n",
      "                                                                                                  \n",
      " Week_Embed (Embedding)         (None, 1, 6)         312         ['Week_input[0][0]']             \n",
      "                                                                                                  \n",
      " Events_Embed (Embedding)       (None, 1, 4)         88          ['Events_input[0][0]']           \n",
      "                                                                                                  \n",
      " Promo_fw_Embed (Embedding)     (None, 1, 1)         6           ['Promo_fw_input[0][0]']         \n",
      "                                                                                                  \n",
      " Promo_bw_Embed (Embedding)     (None, 1, 1)         6           ['Promo_bw_input[0][0]']         \n",
      "                                                                                                  \n",
      " StateHoliday_bool_fw_Embed (Em  (None, 1, 1)        3           ['StateHoliday_bool_fw_input[0][0\n",
      " bedding)                                                        ]']                              \n",
      "                                                                                                  \n",
      " StateHoliday_bool_bw_Embed (Em  (None, 1, 1)        3           ['StateHoliday_bool_bw_input[0][0\n",
      " bedding)                                                        ]']                              \n",
      "                                                                                                  \n",
      " SchoolHoliday_fw_Embed (Embedd  (None, 1, 1)        8           ['SchoolHoliday_fw_input[0][0]'] \n",
      " ing)                                                                                             \n",
      "                                                                                                  \n",
      " SchoolHoliday_bw_Embed (Embedd  (None, 1, 1)        8           ['SchoolHoliday_bw_input[0][0]'] \n",
      " ing)                                                                                             \n",
      "                                                                                                  \n",
      " Store_flat (Flatten)           (None, 20)           0           ['Store_Embed[0][0]']            \n",
      "                                                                                                  \n",
      " DayOfWeek_flat (Flatten)       (None, 3)            0           ['DayOfWeek_Embed[0][0]']        \n",
      "                                                                                                  \n",
      " Year_flat (Flatten)            (None, 2)            0           ['Year_Embed[0][0]']             \n",
      "                                                                                                  \n",
      " Month_flat (Flatten)           (None, 4)            0           ['Month_Embed[0][0]']            \n",
      "                                                                                                  \n",
      " Day_flat (Flatten)             (None, 5)            0           ['Day_Embed[0][0]']              \n",
      "                                                                                                  \n",
      " StateHoliday_flat (Flatten)    (None, 2)            0           ['StateHoliday_Embed[0][0]']     \n",
      "                                                                                                  \n",
      " CompetitionMonthsOpen_flat (Fl  (None, 2)           0           ['CompetitionMonthsOpen_Embed[0][\n",
      " atten)                                                          0]']                             \n",
      "                                                                                                  \n",
      " Promo2Weeks_flat (Flatten)     (None, 2)            0           ['Promo2Weeks_Embed[0][0]']      \n",
      "                                                                                                  \n",
      " StoreType_flat (Flatten)       (None, 3)            0           ['StoreType_Embed[0][0]']        \n",
      "                                                                                                  \n",
      " Assortment_flat (Flatten)      (None, 2)            0           ['Assortment_Embed[0][0]']       \n",
      "                                                                                                  \n",
      " PromoInterval_flat (Flatten)   (None, 3)            0           ['PromoInterval_Embed[0][0]']    \n",
      "                                                                                                  \n",
      " State_flat (Flatten)           (None, 6)            0           ['State_Embed[0][0]']            \n",
      "                                                                                                  \n",
      " Week_flat (Flatten)            (None, 6)            0           ['Week_Embed[0][0]']             \n",
      "                                                                                                  \n",
      " Events_flat (Flatten)          (None, 4)            0           ['Events_Embed[0][0]']           \n",
      "                                                                                                  \n",
      " Promo_fw_flat (Flatten)        (None, 1)            0           ['Promo_fw_Embed[0][0]']         \n",
      "                                                                                                  \n",
      " Promo_bw_flat (Flatten)        (None, 1)            0           ['Promo_bw_Embed[0][0]']         \n",
      "                                                                                                  \n",
      " StateHoliday_bool_fw_flat (Fla  (None, 1)           0           ['StateHoliday_bool_fw_Embed[0][0\n",
      " tten)                                                           ]']                              \n",
      "                                                                                                  \n",
      " StateHoliday_bool_bw_flat (Fla  (None, 1)           0           ['StateHoliday_bool_bw_Embed[0][0\n",
      " tten)                                                           ]']                              \n",
      "                                                                                                  \n",
      " SchoolHoliday_fw_flat (Flatten  (None, 1)           0           ['SchoolHoliday_fw_Embed[0][0]'] \n",
      " )                                                                                                \n",
      "                                                                                                  \n",
      " SchoolHoliday_bw_flat (Flatten  (None, 1)           0           ['SchoolHoliday_bw_Embed[0][0]'] \n",
      " )                                                                                                \n",
      "                                                                                                  \n",
      " CompetitionDistance_input (Inp  [(None, 1)]         0           []                               \n",
      " utLayer)                                                                                         \n",
      "                                                                                                  \n",
      " AfterStateHoliday_bool_input (  [(None, 1)]         0           []                               \n",
      " InputLayer)                                                                                      \n",
      "                                                                                                  \n",
      " BeforeStateHoliday_bool_input   [(None, 1)]         0           []                               \n",
      " (InputLayer)                                                                                     \n",
      "                                                                                                  \n",
      " Promo_input (InputLayer)       [(None, 1)]          0           []                               \n",
      "                                                                                                  \n",
      " SchoolHoliday_input (InputLaye  [(None, 1)]         0           []                               \n",
      " r)                                                                                               \n",
      "                                                                                                  \n",
      " StateHoliday_bool_input (Input  [(None, 1)]         0           []                               \n",
      " Layer)                                                                                           \n",
      "                                                                                                  \n",
      " trend_input (InputLayer)       [(None, 1)]          0           []                               \n",
      "                                                                                                  \n",
      " trend_DE_input (InputLayer)    [(None, 1)]          0           []                               \n",
      "                                                                                                  \n",
      " CompetitionOpenSinceYear_input  [(None, 1)]         0           []                               \n",
      "  (InputLayer)                                                                                    \n",
      "                                                                                                  \n",
      " Promo2SinceYear_input (InputLa  [(None, 1)]         0           []                               \n",
      " yer)                                                                                             \n",
      "                                                                                                  \n",
      " Min_TemperatureC_input (InputL  [(None, 1)]         0           []                               \n",
      " ayer)                                                                                            \n",
      "                                                                                                  \n",
      " Precipitationmm_input (InputLa  [(None, 1)]         0           []                               \n",
      " yer)                                                                                             \n",
      "                                                                                                  \n",
      " Max_Humidity_input (InputLayer  [(None, 1)]         0           []                               \n",
      " )                                                                                                \n",
      "                                                                                                  \n",
      " Max_Wind_SpeedKm_h_input (Inpu  [(None, 1)]         0           []                               \n",
      " tLayer)                                                                                          \n",
      "                                                                                                  \n",
      " CloudCover_input (InputLayer)  [(None, 1)]          0           []                               \n",
      "                                                                                                  \n",
      " Open_input (InputLayer)        [(None, 1)]          0           []                               \n",
      "                                                                                                  \n",
      " AmplitudTermica_input (InputLa  [(None, 1)]         0           []                               \n",
      " yer)                                                                                             \n",
      "                                                                                                  \n",
      " CompetitionDaysOpen_input (Inp  [(None, 1)]         0           []                               \n",
      " utLayer)                                                                                         \n",
      "                                                                                                  \n",
      " All_Concatenate (Concatenate)  (None, 88)           0           ['Store_flat[0][0]',             \n",
      "                                                                  'DayOfWeek_flat[0][0]',         \n",
      "                                                                  'Year_flat[0][0]',              \n",
      "                                                                  'Month_flat[0][0]',             \n",
      "                                                                  'Day_flat[0][0]',               \n",
      "                                                                  'StateHoliday_flat[0][0]',      \n",
      "                                                                  'CompetitionMonthsOpen_flat[0][0\n",
      "                                                                 ]',                              \n",
      "                                                                  'Promo2Weeks_flat[0][0]',       \n",
      "                                                                  'StoreType_flat[0][0]',         \n",
      "                                                                  'Assortment_flat[0][0]',        \n",
      "                                                                  'PromoInterval_flat[0][0]',     \n",
      "                                                                  'State_flat[0][0]',             \n",
      "                                                                  'Week_flat[0][0]',              \n",
      "                                                                  'Events_flat[0][0]',            \n",
      "                                                                  'Promo_fw_flat[0][0]',          \n",
      "                                                                  'Promo_bw_flat[0][0]',          \n",
      "                                                                  'StateHoliday_bool_fw_flat[0][0]\n",
      "                                                                 ',                               \n",
      "                                                                  'StateHoliday_bool_bw_flat[0][0]\n",
      "                                                                 ',                               \n",
      "                                                                  'SchoolHoliday_fw_flat[0][0]',  \n",
      "                                                                  'SchoolHoliday_bw_flat[0][0]',  \n",
      "                                                                  'CompetitionDistance_input[0][0]\n",
      "                                                                 ',                               \n",
      "                                                                  'AfterStateHoliday_bool_input[0]\n",
      "                                                                 [0]',                            \n",
      "                                                                  'BeforeStateHoliday_bool_input[0\n",
      "                                                                 ][0]',                           \n",
      "                                                                  'Promo_input[0][0]',            \n",
      "                                                                  'SchoolHoliday_input[0][0]',    \n",
      "                                                                  'StateHoliday_bool_input[0][0]',\n",
      "                                                                  'trend_input[0][0]',            \n",
      "                                                                  'trend_DE_input[0][0]',         \n",
      "                                                                  'CompetitionOpenSinceYear_input[\n",
      "                                                                 0][0]',                          \n",
      "                                                                  'Promo2SinceYear_input[0][0]',  \n",
      "                                                                  'Min_TemperatureC_input[0][0]', \n",
      "                                                                  'Precipitationmm_input[0][0]',  \n",
      "                                                                  'Max_Humidity_input[0][0]',     \n",
      "                                                                  'Max_Wind_SpeedKm_h_input[0][0]'\n",
      "                                                                 , 'CloudCover_input[0][0]',      \n",
      "                                                                  'Open_input[0][0]',             \n",
      "                                                                  'AmplitudTermica_input[0][0]',  \n",
      "                                                                  'CompetitionDaysOpen_input[0][0]\n",
      "                                                                 ']                               \n",
      "                                                                                                  \n",
      " dense_4 (Dense)                (None, 750)          66750       ['All_Concatenate[0][0]']        \n",
      "                                                                                                  \n",
      " activation_4 (Activation)      (None, 750)          0           ['dense_4[0][0]']                \n",
      "                                                                                                  \n",
      " dense_5 (Dense)                (None, 256)          192256      ['activation_4[0][0]']           \n",
      "                                                                                                  \n",
      " activation_5 (Activation)      (None, 256)          0           ['dense_5[0][0]']                \n",
      "                                                                                                  \n",
      " Sales (Dense)                  (None, 1)            257         ['activation_5[0][0]']           \n",
      "                                                                                                  \n",
      " Customers (Dense)              (None, 1)            257         ['activation_5[0][0]']           \n",
      "                                                                                                  \n",
      "==================================================================================================\n",
      "Total params: 282,696\n",
      "Trainable params: 282,696\n",
      "Non-trainable params: 0\n",
      "__________________________________________________________________________________________________\n"
     ]
    }
   ],
   "source": [
    "# Descomentar para ver\n",
    "model.summary()"
   ]
  },
  {
   "cell_type": "code",
   "execution_count": 111,
   "metadata": {},
   "outputs": [],
   "source": [
    "model.save_weights('initial_weights.hdf5')"
   ]
  },
  {
   "cell_type": "code",
   "execution_count": 112,
   "metadata": {},
   "outputs": [
    {
     "name": "stdout",
     "output_type": "stream",
     "text": [
      "Cantidad en val: 30188, porcentaje: 0.9642465458145908\n"
     ]
    }
   ],
   "source": [
    "df_train = df[df.Date < datetime.datetime(2015, 7, 1)]  \n",
    "df_val = df[df.Date >= datetime.datetime(2015, 7, 1)]\n",
    "print(f'Cantidad en val: {len(df_val)}, porcentaje: {len(df_train)/(len(df_train) + len(df_val))}')"
   ]
  },
  {
   "cell_type": "code",
   "execution_count": 113,
   "metadata": {},
   "outputs": [],
   "source": [
    "from matplotlib import pyplot as plt\n",
    "# plt.figure(figsize=(20,5))\n",
    "# plt.plot((df_train[df_train['Store']==1]['Sales'].values - df_train[df_train['Store']==1]['Sales'].mean())/df_train[df_train['Store']==1]['Sales'].std())\n",
    "# plt.show()\n",
    "# plt.figure(figsize=(20,5))\n",
    "# plt.plot(np.log(df_train[df_train['Store']==1]['Sales'].values)/np.max(np.log(df_train[df_train['Store']==1]['Sales'].values)))\n",
    "# plt.show()"
   ]
  },
  {
   "cell_type": "code",
   "execution_count": 114,
   "metadata": {},
   "outputs": [],
   "source": [
    "stores_mean = {}\n",
    "for store, g_df in df_train.groupby('Store'):\n",
    "    stores_mean[store] = g_df[g_df['Sales'] > 0]['Sales'].mean()"
   ]
  },
  {
   "cell_type": "code",
   "execution_count": 115,
   "metadata": {},
   "outputs": [
    {
     "name": "stderr",
     "output_type": "stream",
     "text": [
      "/var/folders/cc/hfx_w22x28j8f0l38h8ww1zc0000gn/T/ipykernel_7474/154391213.py:1: SettingWithCopyWarning: \n",
      "A value is trying to be set on a copy of a slice from a DataFrame.\n",
      "Try using .loc[row_indexer,col_indexer] = value instead\n",
      "\n",
      "See the caveats in the documentation: https://pandas.pydata.org/pandas-docs/stable/user_guide/indexing.html#returning-a-view-versus-a-copy\n",
      "  df_train.loc[:, 'mean_by_store'] = df_train['Store'].apply(stores_mean.get)\n",
      "/var/folders/cc/hfx_w22x28j8f0l38h8ww1zc0000gn/T/ipykernel_7474/154391213.py:2: SettingWithCopyWarning: \n",
      "A value is trying to be set on a copy of a slice from a DataFrame.\n",
      "Try using .loc[row_indexer,col_indexer] = value instead\n",
      "\n",
      "See the caveats in the documentation: https://pandas.pydata.org/pandas-docs/stable/user_guide/indexing.html#returning-a-view-versus-a-copy\n",
      "  df_val.loc[:, 'mean_by_store'] = df_val['Store'].apply(stores_mean.get)\n",
      "/var/folders/cc/hfx_w22x28j8f0l38h8ww1zc0000gn/T/ipykernel_7474/154391213.py:4: SettingWithCopyWarning: \n",
      "A value is trying to be set on a copy of a slice from a DataFrame.\n",
      "Try using .loc[row_indexer,col_indexer] = value instead\n",
      "\n",
      "See the caveats in the documentation: https://pandas.pydata.org/pandas-docs/stable/user_guide/indexing.html#returning-a-view-versus-a-copy\n",
      "  df_train.loc[:, 'Sales_store'] = df_train['Sales'] - df_train['mean_by_store']\n",
      "/var/folders/cc/hfx_w22x28j8f0l38h8ww1zc0000gn/T/ipykernel_7474/154391213.py:5: SettingWithCopyWarning: \n",
      "A value is trying to be set on a copy of a slice from a DataFrame.\n",
      "Try using .loc[row_indexer,col_indexer] = value instead\n",
      "\n",
      "See the caveats in the documentation: https://pandas.pydata.org/pandas-docs/stable/user_guide/indexing.html#returning-a-view-versus-a-copy\n",
      "  df_val.loc[:, 'Sales_store'] = df_val['Sales'] - df_val['mean_by_store']\n"
     ]
    }
   ],
   "source": [
    "df_train.loc[:, 'mean_by_store'] = df_train['Store'].apply(stores_mean.get)\n",
    "df_val.loc[:, 'mean_by_store'] = df_val['Store'].apply(stores_mean.get)\n",
    "\n",
    "df_train.loc[:, 'Sales_store'] = df_train['Sales'] - df_train['mean_by_store']\n",
    "df_val.loc[:, 'Sales_store'] = df_val['Sales'] - df_val['mean_by_store']"
   ]
  },
  {
   "cell_type": "code",
   "execution_count": 116,
   "metadata": {},
   "outputs": [],
   "source": [
    "from tensorflow.keras import backend as K"
   ]
  },
  {
   "cell_type": "code",
   "execution_count": 117,
   "metadata": {},
   "outputs": [],
   "source": [
    "def rmspe(y_true, y_pred):\n",
    "    return K.sqrt(K.mean(K.square((y_true - y_pred)/y_true)))"
   ]
  },
  {
   "cell_type": "code",
   "execution_count": 118,
   "metadata": {},
   "outputs": [],
   "source": [
    "def get_metric(df, sales_):\n",
    "    return np.sqrt((((df['Sales'] - sales_)/df['Sales'])**2).mean())"
   ]
  },
  {
   "cell_type": "code",
   "execution_count": 119,
   "metadata": {},
   "outputs": [
    {
     "data": {
      "text/plain": "0.30717460853388645"
     },
     "execution_count": 119,
     "metadata": {},
     "output_type": "execute_result"
    }
   ],
   "source": [
    "get_metric(df_val, df_val['mean_by_store'])"
   ]
  },
  {
   "cell_type": "code",
   "execution_count": 120,
   "outputs": [
    {
     "data": {
      "text/plain": "Index(['index', 'Store', 'DayOfWeek', 'Date', 'Sales', 'Customers', 'Open',\n       'Promo', 'StateHoliday', 'SchoolHoliday', 'Year', 'Month', 'Week',\n       'Day', 'StoreType', 'Assortment', 'CompetitionDistance',\n       'CompetitionOpenSinceMonth', 'CompetitionOpenSinceYear', 'Promo2',\n       'Promo2SinceWeek', 'Promo2SinceYear', 'PromoInterval',\n       'CompetitionOpenSince', 'Promo2Since', 'State', 'file', 'week', 'trend',\n       'Date_y', 'Month_y', 'Day_y', 'file_DE', 'week_DE', 'trend_DE',\n       'Date_DE', 'State_DE', 'Month_DE', 'Day_DE', 'file_y',\n       'Max_TemperatureC', 'Mean_TemperatureC', 'Min_TemperatureC',\n       'Dew_PointC', 'MeanDew_PointC', 'Min_DewpointC', 'Max_Humidity',\n       'Mean_Humidity', 'Min_Humidity', 'Max_Sea_Level_PressurehPa',\n       'Mean_Sea_Level_PressurehPa', 'Min_Sea_Level_PressurehPa',\n       'Max_VisibilityKm', 'Mean_VisibilityKm', 'Min_VisibilitykM',\n       'Max_Wind_SpeedKm_h', 'Mean_Wind_SpeedKm_h', 'Max_Gust_SpeedKm_h',\n       'Precipitationmm', 'CloudCover', 'Events', 'WindDirDegrees',\n       'StateName', 'Year_y', 'Week_y', 'CompetitionDaysOpen',\n       'CompetitionMonthsOpen', 'Promo2Days', 'Promo2Weeks',\n       'StateHoliday_bool', 'AfterSchoolHoliday', 'BeforeSchoolHoliday',\n       'AfterStateHoliday_bool', 'BeforeStateHoliday_bool', 'AfterPromo',\n       'BeforePromo', 'SchoolHoliday_bw', 'StateHoliday_bool_bw', 'Promo_bw',\n       'SchoolHoliday_fw', 'StateHoliday_bool_fw', 'Promo_fw',\n       'AmplitudTermica', 'mean_by_store', 'Sales_store'],\n      dtype='object')"
     },
     "execution_count": 120,
     "metadata": {},
     "output_type": "execute_result"
    }
   ],
   "source": [
    "df_train.columns"
   ],
   "metadata": {
    "collapsed": false
   }
  },
  {
   "cell_type": "code",
   "execution_count": 121,
   "metadata": {},
   "outputs": [],
   "source": [
    "all_vars = cat_vars + contin_vars\n",
    "X_train = np.hsplit(df_train[all_vars].values, len(all_vars))\n",
    "X_val = np.hsplit(df_val[all_vars].values, len(all_vars))\n",
    "X_test = np.hsplit(df_test[all_vars].values, len(all_vars))"
   ]
  },
  {
   "cell_type": "code",
   "execution_count": 122,
   "metadata": {},
   "outputs": [
    {
     "name": "stderr",
     "output_type": "stream",
     "text": [
      "/opt/anaconda3/lib/python3.9/site-packages/numpy/core/fromnumeric.py:84: FutureWarning: In a future version, DataFrame.max(axis=None) will return a scalar max over the entire DataFrame. To retain the old behavior, use 'frame.max(axis=0)' or just 'frame.max()'\n",
      "  return reduction(axis=axis, out=out, **passkwargs)\n"
     ]
    }
   ],
   "source": [
    "if add_customers:\n",
    "    y_out_columns = ['Sales', 'Customers']\n",
    "else:\n",
    "    y_out_columns = ['Sales_store']\n",
    "    \n",
    "if log_output:\n",
    "    # Escala logaritmica\n",
    "    max_log_y = np.max(np.log(df[y_out_columns])).values\n",
    "    y_train = np.log(df_train[y_out_columns].values)/max_log_y\n",
    "    y_val = np.log(df_val[y_out_columns].values)/max_log_y\n",
    "else:\n",
    "    # Normalización\n",
    "#     y_mean = df_train[y_out_columns].mean().values\n",
    "#     y_std = df_train[y_out_columns].std().values\n",
    "#     y_train = (df_train[y_out_columns].values - y_mean)/y_std\n",
    "#     y_val = (df_val[y_out_columns].values - y_mean)/y_std\n",
    "    y_max = df_train[y_out_columns].max().values\n",
    "    y_train = df_train[y_out_columns].values/y_max\n",
    "    y_val = df_val[y_out_columns].values/y_max\n",
    "y_train = np.hsplit(y_train, y_train.shape[1])\n",
    "y_val = np.hsplit(y_val, y_val.shape[1])"
   ]
  },
  {
   "cell_type": "code",
   "execution_count": 123,
   "metadata": {},
   "outputs": [
    {
     "name": "stderr",
     "output_type": "stream",
     "text": [
      "WARNING:absl:`lr` is deprecated, please use `learning_rate` instead, or use the legacy optimizer, e.g.,tf.keras.optimizers.legacy.Adam.\n"
     ]
    }
   ],
   "source": [
    "lr = 0.01 #0.001\n",
    "epochs = 100 #20\n",
    "batch_size = 128 #64 128 256\n",
    "\n",
    "model.compile(optimizer=Adam(lr=lr), metrics=['mse', rmspe], loss='mse')"
   ]
  },
  {
   "cell_type": "code",
   "execution_count": 124,
   "metadata": {},
   "outputs": [],
   "source": [
    "if add_customers:\n",
    "    checkpoint = ModelCheckpoint('bestmodel.hdf5', monitor='val_Sales_mse', verbose=1, save_best_only=True)\n",
    "else:\n",
    "    checkpoint = ModelCheckpoint('bestmodel.hdf5', monitor='val_loss', verbose=1, save_best_only=True)"
   ]
  },
  {
   "cell_type": "code",
   "execution_count": 125,
   "outputs": [],
   "source": [
    "# callbacks\n",
    "earlyStopping = EarlyStopping(monitor='val_loss', min_delta=0, patience=15, verbose=1, restore_best_weights=True)\n",
    "reduceLR = ReduceLROnPlateau(monitor ='val_loss', factor=0.2, patience=15, verbose=1, mode='auto', min_delta=0.01, cooldown=0, min_lr=1e-8)"
   ],
   "metadata": {
    "collapsed": false
   }
  },
  {
   "cell_type": "code",
   "execution_count": 126,
   "metadata": {},
   "outputs": [
    {
     "name": "stderr",
     "output_type": "stream",
     "text": [
      "2023/02/28 15:30:09 INFO mlflow.utils.autologging_utils: Created MLflow autologging run with ID '832d4a003881472cad992ba65b7270bc', which will track hyperparameters, performance metrics, model artifacts, and lineage information for the current tensorflow workflow\n"
     ]
    },
    {
     "name": "stdout",
     "output_type": "stream",
     "text": [
      "Epoch 1/100\n",
      "\n",
      "Epoch 1: val_Sales_mse improved from inf to 0.00018, saving model to bestmodel.hdf5\n",
      "6361/6361 - 38s - loss: 0.0014 - Sales_loss: 7.2403e-04 - Customers_loss: 7.0598e-04 - Sales_mse: 7.2403e-04 - Sales_rmspe: 0.0230 - Customers_mse: 7.0598e-04 - Customers_rmspe: 0.0269 - val_loss: 3.7661e-04 - val_Sales_loss: 1.7655e-04 - val_Customers_loss: 2.0006e-04 - val_Sales_mse: 1.7655e-04 - val_Sales_rmspe: 0.0160 - val_Customers_mse: 2.0006e-04 - val_Customers_rmspe: 0.0191 - lr: 0.0010 - 38s/epoch - 6ms/step\n",
      "Epoch 2/100\n",
      "\n",
      "Epoch 2: val_Sales_mse improved from 0.00018 to 0.00016, saving model to bestmodel.hdf5\n",
      "6361/6361 - 36s - loss: 3.0213e-04 - Sales_loss: 1.5012e-04 - Customers_loss: 1.5201e-04 - Sales_mse: 1.5012e-04 - Sales_rmspe: 0.0149 - Customers_mse: 1.5201e-04 - Customers_rmspe: 0.0170 - val_loss: 3.3270e-04 - val_Sales_loss: 1.6418e-04 - val_Customers_loss: 1.6851e-04 - val_Sales_mse: 1.6418e-04 - val_Sales_rmspe: 0.0153 - val_Customers_mse: 1.6851e-04 - val_Customers_rmspe: 0.0175 - lr: 0.0010 - 36s/epoch - 6ms/step\n",
      "Epoch 3/100\n",
      "\n",
      "Epoch 3: val_Sales_mse improved from 0.00016 to 0.00013, saving model to bestmodel.hdf5\n",
      "6361/6361 - 39s - loss: 2.3767e-04 - Sales_loss: 1.1906e-04 - Customers_loss: 1.1861e-04 - Sales_mse: 1.1906e-04 - Sales_rmspe: 0.0133 - Customers_mse: 1.1861e-04 - Customers_rmspe: 0.0150 - val_loss: 2.6579e-04 - val_Sales_loss: 1.3412e-04 - val_Customers_loss: 1.3167e-04 - val_Sales_mse: 1.3412e-04 - val_Sales_rmspe: 0.0138 - val_Customers_mse: 1.3167e-04 - val_Customers_rmspe: 0.0155 - lr: 0.0010 - 39s/epoch - 6ms/step\n",
      "Epoch 4/100\n",
      "\n",
      "Epoch 4: val_Sales_mse did not improve from 0.00013\n",
      "6361/6361 - 34s - loss: 2.0731e-04 - Sales_loss: 1.0442e-04 - Customers_loss: 1.0288e-04 - Sales_mse: 1.0442e-04 - Sales_rmspe: 0.0125 - Customers_mse: 1.0288e-04 - Customers_rmspe: 0.0140 - val_loss: 2.9103e-04 - val_Sales_loss: 1.3830e-04 - val_Customers_loss: 1.5274e-04 - val_Sales_mse: 1.3830e-04 - val_Sales_rmspe: 0.0140 - val_Customers_mse: 1.5274e-04 - val_Customers_rmspe: 0.0167 - lr: 0.0010 - 34s/epoch - 5ms/step\n",
      "Epoch 5/100\n",
      "\n",
      "Epoch 5: val_Sales_mse improved from 0.00013 to 0.00013, saving model to bestmodel.hdf5\n",
      "6361/6361 - 38s - loss: 1.8987e-04 - Sales_loss: 9.5824e-05 - Customers_loss: 9.4041e-05 - Sales_mse: 9.5824e-05 - Sales_rmspe: 0.0119 - Customers_mse: 9.4041e-05 - Customers_rmspe: 0.0134 - val_loss: 2.5120e-04 - val_Sales_loss: 1.2562e-04 - val_Customers_loss: 1.2558e-04 - val_Sales_mse: 1.2562e-04 - val_Sales_rmspe: 0.0134 - val_Customers_mse: 1.2558e-04 - val_Customers_rmspe: 0.0152 - lr: 0.0010 - 38s/epoch - 6ms/step\n",
      "Epoch 6/100\n",
      "\n",
      "Epoch 6: val_Sales_mse did not improve from 0.00013\n",
      "6361/6361 - 38s - loss: 1.7784e-04 - Sales_loss: 8.9946e-05 - Customers_loss: 8.7899e-05 - Sales_mse: 8.9946e-05 - Sales_rmspe: 0.0116 - Customers_mse: 8.7899e-05 - Customers_rmspe: 0.0129 - val_loss: 3.0709e-04 - val_Sales_loss: 1.6607e-04 - val_Customers_loss: 1.4103e-04 - val_Sales_mse: 1.6607e-04 - val_Sales_rmspe: 0.0154 - val_Customers_mse: 1.4103e-04 - val_Customers_rmspe: 0.0161 - lr: 0.0010 - 38s/epoch - 6ms/step\n",
      "Epoch 7/100\n",
      "\n",
      "Epoch 7: val_Sales_mse did not improve from 0.00013\n",
      "6361/6361 - 38s - loss: 1.6972e-04 - Sales_loss: 8.6076e-05 - Customers_loss: 8.3648e-05 - Sales_mse: 8.6076e-05 - Sales_rmspe: 0.0113 - Customers_mse: 8.3648e-05 - Customers_rmspe: 0.0126 - val_loss: 2.6914e-04 - val_Sales_loss: 1.3525e-04 - val_Customers_loss: 1.3389e-04 - val_Sales_mse: 1.3525e-04 - val_Sales_rmspe: 0.0139 - val_Customers_mse: 1.3389e-04 - val_Customers_rmspe: 0.0156 - lr: 0.0010 - 38s/epoch - 6ms/step\n",
      "Epoch 8/100\n",
      "\n",
      "Epoch 8: val_Sales_mse did not improve from 0.00013\n",
      "6361/6361 - 39s - loss: 1.6256e-04 - Sales_loss: 8.2614e-05 - Customers_loss: 7.9942e-05 - Sales_mse: 8.2614e-05 - Sales_rmspe: 0.0111 - Customers_mse: 7.9942e-05 - Customers_rmspe: 0.0123 - val_loss: 2.7431e-04 - val_Sales_loss: 1.3983e-04 - val_Customers_loss: 1.3448e-04 - val_Sales_mse: 1.3983e-04 - val_Sales_rmspe: 0.0140 - val_Customers_mse: 1.3448e-04 - val_Customers_rmspe: 0.0155 - lr: 0.0010 - 39s/epoch - 6ms/step\n",
      "Epoch 9/100\n",
      "\n",
      "Epoch 9: val_Sales_mse improved from 0.00013 to 0.00012, saving model to bestmodel.hdf5\n",
      "6361/6361 - 39s - loss: 1.5610e-04 - Sales_loss: 7.9482e-05 - Customers_loss: 7.6619e-05 - Sales_mse: 7.9482e-05 - Sales_rmspe: 0.0109 - Customers_mse: 7.6619e-05 - Customers_rmspe: 0.0121 - val_loss: 2.3681e-04 - val_Sales_loss: 1.1777e-04 - val_Customers_loss: 1.1904e-04 - val_Sales_mse: 1.1777e-04 - val_Sales_rmspe: 0.0130 - val_Customers_mse: 1.1904e-04 - val_Customers_rmspe: 0.0147 - lr: 0.0010 - 39s/epoch - 6ms/step\n",
      "Epoch 10/100\n",
      "\n",
      "Epoch 10: val_Sales_mse did not improve from 0.00012\n",
      "6361/6361 - 39s - loss: 1.5065e-04 - Sales_loss: 7.6774e-05 - Customers_loss: 7.3880e-05 - Sales_mse: 7.6774e-05 - Sales_rmspe: 0.0107 - Customers_mse: 7.3880e-05 - Customers_rmspe: 0.0119 - val_loss: 2.5332e-04 - val_Sales_loss: 1.2713e-04 - val_Customers_loss: 1.2619e-04 - val_Sales_mse: 1.2713e-04 - val_Sales_rmspe: 0.0134 - val_Customers_mse: 1.2619e-04 - val_Customers_rmspe: 0.0151 - lr: 0.0010 - 39s/epoch - 6ms/step\n",
      "Epoch 11/100\n",
      "\n",
      "Epoch 11: val_Sales_mse did not improve from 0.00012\n",
      "6361/6361 - 40s - loss: 1.4702e-04 - Sales_loss: 7.5093e-05 - Customers_loss: 7.1924e-05 - Sales_mse: 7.5093e-05 - Sales_rmspe: 0.0106 - Customers_mse: 7.1924e-05 - Customers_rmspe: 0.0117 - val_loss: 2.4241e-04 - val_Sales_loss: 1.2014e-04 - val_Customers_loss: 1.2227e-04 - val_Sales_mse: 1.2014e-04 - val_Sales_rmspe: 0.0130 - val_Customers_mse: 1.2227e-04 - val_Customers_rmspe: 0.0150 - lr: 0.0010 - 40s/epoch - 6ms/step\n",
      "Epoch 12/100\n",
      "\n",
      "Epoch 12: val_Sales_mse did not improve from 0.00012\n",
      "6361/6361 - 37s - loss: 1.4363e-04 - Sales_loss: 7.3429e-05 - Customers_loss: 7.0204e-05 - Sales_mse: 7.3429e-05 - Sales_rmspe: 0.0104 - Customers_mse: 7.0204e-05 - Customers_rmspe: 0.0116 - val_loss: 2.4892e-04 - val_Sales_loss: 1.2370e-04 - val_Customers_loss: 1.2522e-04 - val_Sales_mse: 1.2370e-04 - val_Sales_rmspe: 0.0132 - val_Customers_mse: 1.2522e-04 - val_Customers_rmspe: 0.0150 - lr: 0.0010 - 37s/epoch - 6ms/step\n",
      "Epoch 13/100\n",
      "\n",
      "Epoch 13: val_Sales_mse did not improve from 0.00012\n",
      "6361/6361 - 38s - loss: 1.4046e-04 - Sales_loss: 7.1886e-05 - Customers_loss: 6.8573e-05 - Sales_mse: 7.1886e-05 - Sales_rmspe: 0.0103 - Customers_mse: 6.8573e-05 - Customers_rmspe: 0.0114 - val_loss: 2.5488e-04 - val_Sales_loss: 1.2692e-04 - val_Customers_loss: 1.2796e-04 - val_Sales_mse: 1.2692e-04 - val_Sales_rmspe: 0.0135 - val_Customers_mse: 1.2796e-04 - val_Customers_rmspe: 0.0154 - lr: 0.0010 - 38s/epoch - 6ms/step\n",
      "Epoch 14/100\n",
      "\n",
      "Epoch 14: val_Sales_mse did not improve from 0.00012\n",
      "6361/6361 - 42s - loss: 1.3800e-04 - Sales_loss: 7.0835e-05 - Customers_loss: 6.7164e-05 - Sales_mse: 7.0835e-05 - Sales_rmspe: 0.0102 - Customers_mse: 6.7164e-05 - Customers_rmspe: 0.0113 - val_loss: 2.4663e-04 - val_Sales_loss: 1.1961e-04 - val_Customers_loss: 1.2702e-04 - val_Sales_mse: 1.1961e-04 - val_Sales_rmspe: 0.0130 - val_Customers_mse: 1.2702e-04 - val_Customers_rmspe: 0.0151 - lr: 0.0010 - 42s/epoch - 7ms/step\n",
      "Epoch 15/100\n",
      "\n",
      "Epoch 15: val_Sales_mse did not improve from 0.00012\n",
      "6361/6361 - 38s - loss: 1.3581e-04 - Sales_loss: 6.9848e-05 - Customers_loss: 6.5962e-05 - Sales_mse: 6.9848e-05 - Sales_rmspe: 0.0102 - Customers_mse: 6.5962e-05 - Customers_rmspe: 0.0112 - val_loss: 2.6930e-04 - val_Sales_loss: 1.3319e-04 - val_Customers_loss: 1.3610e-04 - val_Sales_mse: 1.3319e-04 - val_Sales_rmspe: 0.0135 - val_Customers_mse: 1.3610e-04 - val_Customers_rmspe: 0.0154 - lr: 0.0010 - 38s/epoch - 6ms/step\n",
      "Epoch 16/100\n",
      "\n",
      "Epoch 16: val_Sales_mse improved from 0.00012 to 0.00012, saving model to bestmodel.hdf5\n",
      "\n",
      "Epoch 16: ReduceLROnPlateau reducing learning rate to 0.00020000000949949026.\n",
      "6361/6361 - 39s - loss: 1.3338e-04 - Sales_loss: 6.8626e-05 - Customers_loss: 6.4752e-05 - Sales_mse: 6.8626e-05 - Sales_rmspe: 0.0101 - Customers_mse: 6.4752e-05 - Customers_rmspe: 0.0111 - val_loss: 2.4568e-04 - val_Sales_loss: 1.1731e-04 - val_Customers_loss: 1.2836e-04 - val_Sales_mse: 1.1731e-04 - val_Sales_rmspe: 0.0130 - val_Customers_mse: 1.2836e-04 - val_Customers_rmspe: 0.0152 - lr: 0.0010 - 39s/epoch - 6ms/step\n",
      "Epoch 17/100\n",
      "\n",
      "Epoch 17: val_Sales_mse improved from 0.00012 to 0.00011, saving model to bestmodel.hdf5\n",
      "6361/6361 - 39s - loss: 1.1603e-04 - Sales_loss: 6.0649e-05 - Customers_loss: 5.5385e-05 - Sales_mse: 6.0649e-05 - Sales_rmspe: 0.0095 - Customers_mse: 5.5385e-05 - Customers_rmspe: 0.0102 - val_loss: 2.3338e-04 - val_Sales_loss: 1.1461e-04 - val_Customers_loss: 1.1877e-04 - val_Sales_mse: 1.1461e-04 - val_Sales_rmspe: 0.0128 - val_Customers_mse: 1.1877e-04 - val_Customers_rmspe: 0.0147 - lr: 2.0000e-04 - 39s/epoch - 6ms/step\n",
      "Epoch 18/100\n",
      "\n",
      "Epoch 18: val_Sales_mse did not improve from 0.00011\n",
      "6361/6361 - 39s - loss: 1.1408e-04 - Sales_loss: 5.9716e-05 - Customers_loss: 5.4362e-05 - Sales_mse: 5.9716e-05 - Sales_rmspe: 0.0094 - Customers_mse: 5.4362e-05 - Customers_rmspe: 0.0102 - val_loss: 2.3166e-04 - val_Sales_loss: 1.1497e-04 - val_Customers_loss: 1.1669e-04 - val_Sales_mse: 1.1497e-04 - val_Sales_rmspe: 0.0129 - val_Customers_mse: 1.1669e-04 - val_Customers_rmspe: 0.0147 - lr: 2.0000e-04 - 39s/epoch - 6ms/step\n",
      "Epoch 19/100\n",
      "\n",
      "Epoch 19: val_Sales_mse improved from 0.00011 to 0.00011, saving model to bestmodel.hdf5\n",
      "6361/6361 - 36s - loss: 1.1342e-04 - Sales_loss: 5.9417e-05 - Customers_loss: 5.4007e-05 - Sales_mse: 5.9417e-05 - Sales_rmspe: 0.0094 - Customers_mse: 5.4007e-05 - Customers_rmspe: 0.0101 - val_loss: 2.2073e-04 - val_Sales_loss: 1.0982e-04 - val_Customers_loss: 1.1092e-04 - val_Sales_mse: 1.0982e-04 - val_Sales_rmspe: 0.0126 - val_Customers_mse: 1.1092e-04 - val_Customers_rmspe: 0.0144 - lr: 2.0000e-04 - 36s/epoch - 6ms/step\n",
      "Epoch 20/100\n",
      "\n",
      "Epoch 20: val_Sales_mse did not improve from 0.00011\n",
      "6361/6361 - 36s - loss: 1.1288e-04 - Sales_loss: 5.9159e-05 - Customers_loss: 5.3719e-05 - Sales_mse: 5.9159e-05 - Sales_rmspe: 0.0093 - Customers_mse: 5.3719e-05 - Customers_rmspe: 0.0101 - val_loss: 2.2777e-04 - val_Sales_loss: 1.1338e-04 - val_Customers_loss: 1.1438e-04 - val_Sales_mse: 1.1338e-04 - val_Sales_rmspe: 0.0128 - val_Customers_mse: 1.1438e-04 - val_Customers_rmspe: 0.0146 - lr: 2.0000e-04 - 36s/epoch - 6ms/step\n",
      "Epoch 21/100\n",
      "\n",
      "Epoch 21: val_Sales_mse did not improve from 0.00011\n",
      "6361/6361 - 36s - loss: 1.1240e-04 - Sales_loss: 5.8936e-05 - Customers_loss: 5.3468e-05 - Sales_mse: 5.8936e-05 - Sales_rmspe: 0.0093 - Customers_mse: 5.3468e-05 - Customers_rmspe: 0.0101 - val_loss: 2.2634e-04 - val_Sales_loss: 1.1163e-04 - val_Customers_loss: 1.1471e-04 - val_Sales_mse: 1.1163e-04 - val_Sales_rmspe: 0.0127 - val_Customers_mse: 1.1471e-04 - val_Customers_rmspe: 0.0145 - lr: 2.0000e-04 - 36s/epoch - 6ms/step\n",
      "Epoch 22/100\n",
      "\n",
      "Epoch 22: val_Sales_mse did not improve from 0.00011\n",
      "6361/6361 - 36s - loss: 1.1211e-04 - Sales_loss: 5.8819e-05 - Customers_loss: 5.3296e-05 - Sales_mse: 5.8819e-05 - Sales_rmspe: 0.0093 - Customers_mse: 5.3296e-05 - Customers_rmspe: 0.0100 - val_loss: 2.3246e-04 - val_Sales_loss: 1.1540e-04 - val_Customers_loss: 1.1705e-04 - val_Sales_mse: 1.1540e-04 - val_Sales_rmspe: 0.0129 - val_Customers_mse: 1.1705e-04 - val_Customers_rmspe: 0.0146 - lr: 2.0000e-04 - 36s/epoch - 6ms/step\n",
      "Epoch 23/100\n",
      "\n",
      "Epoch 23: val_Sales_mse did not improve from 0.00011\n",
      "6361/6361 - 37s - loss: 1.1160e-04 - Sales_loss: 5.8549e-05 - Customers_loss: 5.3052e-05 - Sales_mse: 5.8549e-05 - Sales_rmspe: 0.0093 - Customers_mse: 5.3052e-05 - Customers_rmspe: 0.0100 - val_loss: 2.2563e-04 - val_Sales_loss: 1.1251e-04 - val_Customers_loss: 1.1312e-04 - val_Sales_mse: 1.1251e-04 - val_Sales_rmspe: 0.0127 - val_Customers_mse: 1.1312e-04 - val_Customers_rmspe: 0.0144 - lr: 2.0000e-04 - 37s/epoch - 6ms/step\n",
      "Epoch 24/100\n",
      "\n",
      "Epoch 24: val_Sales_mse did not improve from 0.00011\n",
      "6361/6361 - 36s - loss: 1.1118e-04 - Sales_loss: 5.8336e-05 - Customers_loss: 5.2845e-05 - Sales_mse: 5.8336e-05 - Sales_rmspe: 0.0093 - Customers_mse: 5.2845e-05 - Customers_rmspe: 0.0100 - val_loss: 2.3236e-04 - val_Sales_loss: 1.1481e-04 - val_Customers_loss: 1.1756e-04 - val_Sales_mse: 1.1481e-04 - val_Sales_rmspe: 0.0128 - val_Customers_mse: 1.1756e-04 - val_Customers_rmspe: 0.0147 - lr: 2.0000e-04 - 36s/epoch - 6ms/step\n",
      "Epoch 25/100\n",
      "\n",
      "Epoch 25: val_Sales_mse did not improve from 0.00011\n",
      "6361/6361 - 36s - loss: 1.1087e-04 - Sales_loss: 5.8212e-05 - Customers_loss: 5.2657e-05 - Sales_mse: 5.8212e-05 - Sales_rmspe: 0.0093 - Customers_mse: 5.2657e-05 - Customers_rmspe: 0.0100 - val_loss: 2.2693e-04 - val_Sales_loss: 1.1307e-04 - val_Customers_loss: 1.1386e-04 - val_Sales_mse: 1.1307e-04 - val_Sales_rmspe: 0.0128 - val_Customers_mse: 1.1386e-04 - val_Customers_rmspe: 0.0145 - lr: 2.0000e-04 - 36s/epoch - 6ms/step\n",
      "Epoch 26/100\n",
      "\n",
      "Epoch 26: val_Sales_mse did not improve from 0.00011\n",
      "6361/6361 - 37s - loss: 1.1048e-04 - Sales_loss: 5.8023e-05 - Customers_loss: 5.2460e-05 - Sales_mse: 5.8023e-05 - Sales_rmspe: 0.0092 - Customers_mse: 5.2460e-05 - Customers_rmspe: 0.0100 - val_loss: 2.3753e-04 - val_Sales_loss: 1.1694e-04 - val_Customers_loss: 1.2059e-04 - val_Sales_mse: 1.1694e-04 - val_Sales_rmspe: 0.0129 - val_Customers_mse: 1.2059e-04 - val_Customers_rmspe: 0.0148 - lr: 2.0000e-04 - 37s/epoch - 6ms/step\n",
      "Epoch 27/100\n",
      "\n",
      "Epoch 27: val_Sales_mse did not improve from 0.00011\n",
      "6361/6361 - 35s - loss: 1.1011e-04 - Sales_loss: 5.7836e-05 - Customers_loss: 5.2273e-05 - Sales_mse: 5.7836e-05 - Sales_rmspe: 0.0092 - Customers_mse: 5.2273e-05 - Customers_rmspe: 0.0099 - val_loss: 2.2990e-04 - val_Sales_loss: 1.1322e-04 - val_Customers_loss: 1.1668e-04 - val_Sales_mse: 1.1322e-04 - val_Sales_rmspe: 0.0128 - val_Customers_mse: 1.1668e-04 - val_Customers_rmspe: 0.0147 - lr: 2.0000e-04 - 35s/epoch - 6ms/step\n",
      "Epoch 28/100\n",
      "\n",
      "Epoch 28: val_Sales_mse did not improve from 0.00011\n",
      "6361/6361 - 35s - loss: 1.0982e-04 - Sales_loss: 5.7707e-05 - Customers_loss: 5.2108e-05 - Sales_mse: 5.7707e-05 - Sales_rmspe: 0.0092 - Customers_mse: 5.2108e-05 - Customers_rmspe: 0.0099 - val_loss: 2.3785e-04 - val_Sales_loss: 1.1701e-04 - val_Customers_loss: 1.2084e-04 - val_Sales_mse: 1.1701e-04 - val_Sales_rmspe: 0.0129 - val_Customers_mse: 1.2084e-04 - val_Customers_rmspe: 0.0148 - lr: 2.0000e-04 - 35s/epoch - 5ms/step\n",
      "Epoch 29/100\n",
      "\n",
      "Epoch 29: val_Sales_mse did not improve from 0.00011\n",
      "6361/6361 - 35s - loss: 1.0957e-04 - Sales_loss: 5.7598e-05 - Customers_loss: 5.1975e-05 - Sales_mse: 5.7598e-05 - Sales_rmspe: 0.0092 - Customers_mse: 5.1975e-05 - Customers_rmspe: 0.0099 - val_loss: 2.3434e-04 - val_Sales_loss: 1.1838e-04 - val_Customers_loss: 1.1597e-04 - val_Sales_mse: 1.1838e-04 - val_Sales_rmspe: 0.0131 - val_Customers_mse: 1.1597e-04 - val_Customers_rmspe: 0.0146 - lr: 2.0000e-04 - 35s/epoch - 6ms/step\n",
      "Epoch 30/100\n",
      "\n",
      "Epoch 30: val_Sales_mse did not improve from 0.00011\n",
      "6361/6361 - 35s - loss: 1.0926e-04 - Sales_loss: 5.7458e-05 - Customers_loss: 5.1805e-05 - Sales_mse: 5.7458e-05 - Sales_rmspe: 0.0092 - Customers_mse: 5.1805e-05 - Customers_rmspe: 0.0099 - val_loss: 2.4633e-04 - val_Sales_loss: 1.2081e-04 - val_Customers_loss: 1.2552e-04 - val_Sales_mse: 1.2081e-04 - val_Sales_rmspe: 0.0131 - val_Customers_mse: 1.2552e-04 - val_Customers_rmspe: 0.0150 - lr: 2.0000e-04 - 35s/epoch - 5ms/step\n",
      "Epoch 31/100\n",
      "\n",
      "Epoch 31: val_Sales_mse did not improve from 0.00011\n",
      "\n",
      "Epoch 31: ReduceLROnPlateau reducing learning rate to 4.0000001899898055e-05.\n",
      "6361/6361 - 34s - loss: 1.0906e-04 - Sales_loss: 5.7361e-05 - Customers_loss: 5.1697e-05 - Sales_mse: 5.7361e-05 - Sales_rmspe: 0.0092 - Customers_mse: 5.1697e-05 - Customers_rmspe: 0.0099 - val_loss: 2.4511e-04 - val_Sales_loss: 1.2028e-04 - val_Customers_loss: 1.2483e-04 - val_Sales_mse: 1.2028e-04 - val_Sales_rmspe: 0.0131 - val_Customers_mse: 1.2483e-04 - val_Customers_rmspe: 0.0150 - lr: 2.0000e-04 - 34s/epoch - 5ms/step\n",
      "Epoch 32/100\n",
      "\n",
      "Epoch 32: val_Sales_mse did not improve from 0.00011\n",
      "6361/6361 - 36s - loss: 1.0500e-04 - Sales_loss: 5.5482e-05 - Customers_loss: 4.9516e-05 - Sales_mse: 5.5482e-05 - Sales_rmspe: 0.0090 - Customers_mse: 4.9516e-05 - Customers_rmspe: 0.0097 - val_loss: 2.4957e-04 - val_Sales_loss: 1.2368e-04 - val_Customers_loss: 1.2590e-04 - val_Sales_mse: 1.2368e-04 - val_Sales_rmspe: 0.0133 - val_Customers_mse: 1.2590e-04 - val_Customers_rmspe: 0.0151 - lr: 4.0000e-05 - 36s/epoch - 6ms/step\n",
      "Epoch 33/100\n",
      "\n",
      "Epoch 33: val_Sales_mse did not improve from 0.00011\n",
      "6361/6361 - 33s - loss: 1.0463e-04 - Sales_loss: 5.5299e-05 - Customers_loss: 4.9333e-05 - Sales_mse: 5.5299e-05 - Sales_rmspe: 0.0090 - Customers_mse: 4.9333e-05 - Customers_rmspe: 0.0097 - val_loss: 2.4937e-04 - val_Sales_loss: 1.2287e-04 - val_Customers_loss: 1.2651e-04 - val_Sales_mse: 1.2287e-04 - val_Sales_rmspe: 0.0133 - val_Customers_mse: 1.2651e-04 - val_Customers_rmspe: 0.0151 - lr: 4.0000e-05 - 33s/epoch - 5ms/step\n",
      "Epoch 34/100\n",
      "\n",
      "Epoch 34: val_Sales_mse did not improve from 0.00011\n",
      "Restoring model weights from the end of the best epoch: 19.\n",
      "6361/6361 - 32s - loss: 1.0452e-04 - Sales_loss: 5.5244e-05 - Customers_loss: 4.9280e-05 - Sales_mse: 5.5244e-05 - Sales_rmspe: 0.0090 - Customers_mse: 4.9280e-05 - Customers_rmspe: 0.0096 - val_loss: 2.4940e-04 - val_Sales_loss: 1.2230e-04 - val_Customers_loss: 1.2710e-04 - val_Sales_mse: 1.2230e-04 - val_Sales_rmspe: 0.0132 - val_Customers_mse: 1.2710e-04 - val_Customers_rmspe: 0.0151 - lr: 4.0000e-05 - 32s/epoch - 5ms/step\n",
      "Epoch 34: early stopping\n"
     ]
    },
    {
     "name": "stderr",
     "output_type": "stream",
     "text": [
      "2023/02/28 15:51:02 WARNING mlflow.tensorflow: Failed to infer model signature: could not sample data to infer model signature: Cannot log input example or model signature for input with type <class 'list'>. TensorFlow Keras autologging can only log input examples and model signatures for the following input types: numpy.ndarray, dict[string -> numpy.ndarray], tensorflow.keras.utils.Sequence, and tensorflow.data.Dataset (TensorFlow >= 2.1.0 required)\n",
      "2023/02/28 15:51:02 WARNING mlflow.tensorflow: You are saving a TensorFlow Core model or Keras model without a signature. Inference with mlflow.pyfunc.spark_udf() will not work unless the model's pyfunc representation accepts pandas DataFrames as inference inputs.\n",
      "WARNING:absl:Function `_wrapped_model` contains input name(s) Store_input, DayOfWeek_input, Year_input, Month_input, Day_input, StateHoliday_input, CompetitionMonthsOpen_input, Promo2Weeks_input, StoreType_input, Assortment_input, PromoInterval_input, State_input, Week_input, Events_input, Promo_fw_input, Promo_bw_input, StateHoliday_bool_fw_input, StateHoliday_bool_bw_input, SchoolHoliday_fw_input, SchoolHoliday_bw_input, CompetitionDistance_input, AfterStateHoliday_bool_input, BeforeStateHoliday_bool_input, Promo_input, SchoolHoliday_input, StateHoliday_bool_input, trend_DE_input, CompetitionOpenSinceYear_input, Promo2SinceYear_input, Min_TemperatureC_input, Precipitationmm_input, Max_Humidity_input, Max_Wind_SpeedKm_h_input, CloudCover_input, Open_input, AmplitudTermica_input, CompetitionDaysOpen_input with unsupported characters which will be renamed to store_input, dayofweek_input, year_input, month_input, day_input, stateholiday_input, competitionmonthsopen_input, promo2weeks_input, storetype_input, assortment_input, promointerval_input, state_input, week_input, events_input, promo_fw_input, promo_bw_input, stateholiday_bool_fw_input, stateholiday_bool_bw_input, schoolholiday_fw_input, schoolholiday_bw_input, competitiondistance_input, afterstateholiday_bool_input, beforestateholiday_bool_input, promo_input, schoolholiday_input, stateholiday_bool_input, trend_de_input, competitionopensinceyear_input, promo2sinceyear_input, min_temperaturec_input, precipitationmm_input, max_humidity_input, max_wind_speedkm_h_input, cloudcover_input, open_input, amplitudtermica_input, competitiondaysopen_input in the SavedModel.\n",
      "WARNING:absl:Found untraced functions such as _update_step_xla while saving (showing 1 of 1). These functions will not be directly callable after loading.\n"
     ]
    },
    {
     "name": "stdout",
     "output_type": "stream",
     "text": [
      "INFO:tensorflow:Assets written to: /var/folders/cc/hfx_w22x28j8f0l38h8ww1zc0000gn/T/tmpfsfepek4/model/data/model/assets\n"
     ]
    },
    {
     "name": "stderr",
     "output_type": "stream",
     "text": [
      "INFO:tensorflow:Assets written to: /var/folders/cc/hfx_w22x28j8f0l38h8ww1zc0000gn/T/tmpfsfepek4/model/data/model/assets\n",
      "2023/02/28 15:51:18 WARNING mlflow.utils.environment: Encountered an unexpected error while inferring pip requirements (model URI: /var/folders/cc/hfx_w22x28j8f0l38h8ww1zc0000gn/T/tmpfsfepek4/model, flavor: tensorflow), fall back to return ['tensorflow==2.11.0']. Set logging level to DEBUG to see the full traceback.\n",
      "2023/02/28 15:51:18 WARNING mlflow.utils.autologging_utils: MLflow autologging encountered a warning: \"/opt/anaconda3/lib/python3.9/site-packages/_distutils_hack/__init__.py:33: UserWarning: Setuptools is replacing distutils.\"\n"
     ]
    },
    {
     "name": "stdout",
     "output_type": "stream",
     "text": [
      "CPU times: user 55min 37s, sys: 17min 50s, total: 1h 13min 28s\n",
      "Wall time: 21min 9s\n"
     ]
    }
   ],
   "source": [
    "%%time\n",
    "history = model.fit(X_train, y_train, validation_data=(X_val, y_val),  epochs=epochs, batch_size=batch_size, callbacks=[checkpoint, earlyStopping, reduceLR], verbose=2)"
   ]
  },
  {
   "cell_type": "code",
   "execution_count": 127,
   "metadata": {},
   "outputs": [
    {
     "data": {
      "text/plain": "<Figure size 640x480 with 1 Axes>",
      "image/png": "[encoded data removed]"
     },
     "metadata": {},
     "output_type": "display_data"
    },
    {
     "data": {
      "text/plain": "[<matplotlib.lines.Line2D at 0x7fc6cef45a60>]"
     },
     "execution_count": 127,
     "metadata": {},
     "output_type": "execute_result"
    },
    {
     "data": {
      "text/plain": "<Figure size 640x480 with 1 Axes>",
      "image/png": "[encoded data removed]"
     },
     "metadata": {},
     "output_type": "display_data"
    }
   ],
   "source": [
    "plt.plot(history.history['val_loss'])\n",
    "# plt.plot(history.history['val_Customers_mse'])\n",
    "# plt.plot(history.history['val_Sales_mse'])\n",
    "plt.show()\n",
    "plt.plot(history.history['loss'])\n",
    "# plt.plot(history.history['Customers_mse'])\n",
    "# plt.plot(history.history['Sales_mse'])"
   ]
  },
  {
   "cell_type": "markdown",
   "metadata": {},
   "source": [
    "# Métrica"
   ]
  },
  {
   "cell_type": "markdown",
   "metadata": {},
   "source": [
    "$$\n",
    "\\textrm{RMSE} = \\sqrt{\\frac{1}{n} \\sum_{i=1}^{n} \\left(\\frac{\\hat{y}_i - y_i}{y_i}\\right)^2}\n",
    "$$"
   ]
  },
  {
   "cell_type": "code",
   "execution_count": 128,
   "metadata": {},
   "outputs": [
    {
     "name": "stdout",
     "output_type": "stream",
     "text": [
      "944/944 [==============================] - 3s 3ms/step - loss: 2.2073e-04 - Sales_loss: 1.0982e-04 - Customers_loss: 1.1092e-04 - Sales_mse: 1.0982e-04 - Sales_rmspe: 0.0124 - Customers_mse: 1.1092e-04 - Customers_rmspe: 0.0142\n"
     ]
    },
    {
     "data": {
      "text/plain": "[0.00022073414584156126,\n 0.00010981807281496003,\n 0.0001109161094063893,\n 0.00010981807281496003,\n 0.01244394015520811,\n 0.0001109161094063893,\n 0.014187931083142757]"
     },
     "execution_count": 128,
     "metadata": {},
     "output_type": "execute_result"
    }
   ],
   "source": [
    "model.evaluate(X_val, y_val)"
   ]
  },
  {
   "cell_type": "code",
   "execution_count": 129,
   "metadata": {},
   "outputs": [
    {
     "name": "stdout",
     "output_type": "stream",
     "text": [
      "944/944 [==============================] - 3s 3ms/step - loss: 2.2073e-04 - Sales_loss: 1.0982e-04 - Customers_loss: 1.1092e-04 - Sales_mse: 1.0982e-04 - Sales_rmspe: 0.0124 - Customers_mse: 1.1092e-04 - Customers_rmspe: 0.0142\n"
     ]
    },
    {
     "data": {
      "text/plain": "[0.00022073414584156126,\n 0.00010981807281496003,\n 0.0001109161094063893,\n 0.00010981807281496003,\n 0.01244394015520811,\n 0.0001109161094063893,\n 0.014187931083142757]"
     },
     "execution_count": 129,
     "metadata": {},
     "output_type": "execute_result"
    }
   ],
   "source": [
    "#model.load_weights('bestmodel.hdf5')\n",
    "model.evaluate(X_val, y_val)"
   ]
  },
  {
   "cell_type": "code",
   "execution_count": 130,
   "metadata": {},
   "outputs": [],
   "source": [
    "# model.load_weights('bestmodel.hdf5')\n",
    "# model.evaluate(X_val, y_val)\n",
    "# 30188/30188 [==============================] - 5s 172us/step\n",
    "# [0.12197033089921382,\n",
    "#  0.07211007360268763,\n",
    "#  0.037183713050426136,\n",
    "#  0.07211007360268763,\n",
    "#  0.037183713050426136]\n",
    "\n",
    "# [0.12932546436786652,\n",
    "#  0.07751645147800446,\n",
    "#  0.039259567856788635,\n",
    "#  0.07751645147800446,\n",
    "#  0.039259567856788635]"
   ]
  },
  {
   "cell_type": "code",
   "execution_count": 131,
   "metadata": {},
   "outputs": [
    {
     "name": "stdout",
     "output_type": "stream",
     "text": [
      "944/944 [==============================] - 2s 2ms/step\n",
      "1284/1284 [==============================] - 4s 3ms/step\n"
     ]
    }
   ],
   "source": [
    "if log_output:\n",
    "    if add_customers:\n",
    "        y_pred = np.exp(model.predict(X_val, verbose=1)[0][:, 0]*max_log_y[0])\n",
    "        y_pred_test = np.exp(model.predict(X_test, verbose=1)[0][:, 0]*max_log_y[0])\n",
    "    else:\n",
    "        y_pred = np.exp(model.predict(X_val, verbose=1)*max_log_y)[:,0]\n",
    "        y_pred_test = np.exp(model.predict(X_test, verbose=1)*max_log_y)[:,0]\n",
    "else:\n",
    "    if add_customers:\n",
    "        y_std = df_train[y_out_columns].std().values\n",
    "        y_mean = df_train[y_out_columns].mean().values\n",
    "        y_pred = (model.predict(X_val, verbose=1)[0]*y_std[0] + y_mean[0])[:,0]\n",
    "        y_pred_test = (model.predict(X_test, verbose=1)[0]*y_std[0] + y_mean[0])[:,0]\n",
    "    else:\n",
    "#         y_pred = model.predict(X_val, verbose=1)[:,0]*y_std + y_mean\n",
    "#         y_pred_test = model.predict(X_test, verbose=1)[:,0]*y_std + y_mean\n",
    "        y_pred = model.predict(X_val, verbose=1)[:,0]*y_max\n",
    "        y_pred_test = model.predict(X_test, verbose=1)[:,0]*y_max\n",
    "y_pred_test[df_test['Open'] == 0] = 0"
   ]
  },
  {
   "cell_type": "code",
   "execution_count": 132,
   "metadata": {},
   "outputs": [
    {
     "data": {
      "text/plain": "0.11639442834148614"
     },
     "execution_count": 132,
     "metadata": {},
     "output_type": "execute_result"
    }
   ],
   "source": [
    "np.sqrt((((df_val['Sales'].values - y_pred)/df_val['Sales'].values)**2).sum()/len(y_pred))"
   ]
  },
  {
   "cell_type": "code",
   "execution_count": 133,
   "metadata": {},
   "outputs": [
    {
     "data": {
      "text/plain": "array([4642.3677, 7873.2607, 9079.481 , 8597.035 , 7773.302 , 5843.333 ,\n       7902.8403, 8746.721 , 4614.322 , 6477.814 ], dtype=float32)"
     },
     "execution_count": 133,
     "metadata": {},
     "output_type": "execute_result"
    }
   ],
   "source": [
    "y_pred_test[:10]"
   ]
  },
  {
   "cell_type": "markdown",
   "metadata": {},
   "source": [
    "# Baseline"
   ]
  },
  {
   "cell_type": "code",
   "execution_count": 134,
   "metadata": {},
   "outputs": [],
   "source": [
    "import pandas as pd\n",
    "sample_csv = pd.read_csv('dataset/rossmann/sample_submission.csv')"
   ]
  },
  {
   "cell_type": "code",
   "execution_count": 135,
   "metadata": {},
   "outputs": [],
   "source": [
    "stores_mean = {}\n",
    "for store, g_df in df.groupby('Store'):\n",
    "    stores_mean[store] = g_df[g_df['Sales'] > 0]['Sales'].mean()"
   ]
  },
  {
   "cell_type": "code",
   "execution_count": 136,
   "metadata": {},
   "outputs": [],
   "source": [
    "df_test['Sales'] = df_test['Store'].apply(stores_mean.get)\n",
    "df_test.loc[df_test['Open'] == 0, 'Sales'] = 0"
   ]
  },
  {
   "cell_type": "code",
   "execution_count": 137,
   "metadata": {},
   "outputs": [
    {
     "data": {
      "text/plain": "   Store        Sales\n0      0  4759.096031\n1      2  6942.568678\n2      6  8817.050891\n3      7  5539.358418\n4      8  6562.337612\n5      9  5568.420918\n6     10  8030.977041\n7     11  7589.598214\n8     12  5034.747182\n9     13  5508.567394",
      "text/html": "<div>\n<style scoped>\n    .dataframe tbody tr th:only-of-type {\n        vertical-align: middle;\n    }\n\n    .dataframe tbody tr th {\n        vertical-align: top;\n    }\n\n    .dataframe thead th {\n        text-align: right;\n    }\n</style>\n<table border=\"1\" class=\"dataframe\">\n  <thead>\n    <tr style=\"text-align: right;\">\n      <th></th>\n      <th>Store</th>\n      <th>Sales</th>\n    </tr>\n  </thead>\n  <tbody>\n    <tr>\n      <th>0</th>\n      <td>0</td>\n      <td>4759.096031</td>\n    </tr>\n    <tr>\n      <th>1</th>\n      <td>2</td>\n      <td>6942.568678</td>\n    </tr>\n    <tr>\n      <th>2</th>\n      <td>6</td>\n      <td>8817.050891</td>\n    </tr>\n    <tr>\n      <th>3</th>\n      <td>7</td>\n      <td>5539.358418</td>\n    </tr>\n    <tr>\n      <th>4</th>\n      <td>8</td>\n      <td>6562.337612</td>\n    </tr>\n    <tr>\n      <th>5</th>\n      <td>9</td>\n      <td>5568.420918</td>\n    </tr>\n    <tr>\n      <th>6</th>\n      <td>10</td>\n      <td>8030.977041</td>\n    </tr>\n    <tr>\n      <th>7</th>\n      <td>11</td>\n      <td>7589.598214</td>\n    </tr>\n    <tr>\n      <th>8</th>\n      <td>12</td>\n      <td>5034.747182</td>\n    </tr>\n    <tr>\n      <th>9</th>\n      <td>13</td>\n      <td>5508.567394</td>\n    </tr>\n  </tbody>\n</table>\n</div>"
     },
     "execution_count": 137,
     "metadata": {},
     "output_type": "execute_result"
    }
   ],
   "source": [
    "df_test[['Store', 'Sales']].head(10)"
   ]
  },
  {
   "cell_type": "code",
   "execution_count": 138,
   "outputs": [
    {
     "data": {
      "text/plain": "Empty DataFrame\nColumns: [Store, Sales]\nIndex: []",
      "text/html": "<div>\n<style scoped>\n    .dataframe tbody tr th:only-of-type {\n        vertical-align: middle;\n    }\n\n    .dataframe tbody tr th {\n        vertical-align: top;\n    }\n\n    .dataframe thead th {\n        text-align: right;\n    }\n</style>\n<table border=\"1\" class=\"dataframe\">\n  <thead>\n    <tr style=\"text-align: right;\">\n      <th></th>\n      <th>Store</th>\n      <th>Sales</th>\n    </tr>\n  </thead>\n  <tbody>\n  </tbody>\n</table>\n</div>"
     },
     "execution_count": 138,
     "metadata": {},
     "output_type": "execute_result"
    }
   ],
   "source": [
    "df_test[df_test['Open'] == 0][['Store', 'Sales']].head()"
   ],
   "metadata": {
    "collapsed": false
   }
  },
  {
   "cell_type": "code",
   "execution_count": 139,
   "outputs": [],
   "source": [
    "sample_csv['Sales'] = df_test['Sales']"
   ],
   "metadata": {
    "collapsed": false
   }
  },
  {
   "cell_type": "markdown",
   "source": [
    "# Sumbit a la competición"
   ],
   "metadata": {
    "collapsed": false
   }
  },
  {
   "cell_type": "code",
   "execution_count": 140,
   "outputs": [],
   "source": [
    "sample_csv.to_csv(f'dataset/06-submision_{add_customers}-{log_output}-{output_activation}-{l2_lambda}-{first_hidden_units}-{epochs}-{batch_size}-{lr}.csv', index=False)"
   ],
   "metadata": {
    "collapsed": false
   }
  },
  {
   "cell_type": "code",
   "execution_count": 141,
   "outputs": [
    {
     "data": {
      "text/plain": "   Id        Sales\n0   1  4759.096031\n1   2  6942.568678\n2   3  8817.050891\n3   4  5539.358418\n4   5  6562.337612",
      "text/html": "<div>\n<style scoped>\n    .dataframe tbody tr th:only-of-type {\n        vertical-align: middle;\n    }\n\n    .dataframe tbody tr th {\n        vertical-align: top;\n    }\n\n    .dataframe thead th {\n        text-align: right;\n    }\n</style>\n<table border=\"1\" class=\"dataframe\">\n  <thead>\n    <tr style=\"text-align: right;\">\n      <th></th>\n      <th>Id</th>\n      <th>Sales</th>\n    </tr>\n  </thead>\n  <tbody>\n    <tr>\n      <th>0</th>\n      <td>1</td>\n      <td>4759.096031</td>\n    </tr>\n    <tr>\n      <th>1</th>\n      <td>2</td>\n      <td>6942.568678</td>\n    </tr>\n    <tr>\n      <th>2</th>\n      <td>3</td>\n      <td>8817.050891</td>\n    </tr>\n    <tr>\n      <th>3</th>\n      <td>4</td>\n      <td>5539.358418</td>\n    </tr>\n    <tr>\n      <th>4</th>\n      <td>5</td>\n      <td>6562.337612</td>\n    </tr>\n  </tbody>\n</table>\n</div>"
     },
     "execution_count": 141,
     "metadata": {},
     "output_type": "execute_result"
    }
   ],
   "source": [
    "sample_csv.head()"
   ],
   "metadata": {
    "collapsed": false
   }
  },
  {
   "cell_type": "markdown",
   "metadata": {},
   "source": [
    "# Analisis de embedings"
   ]
  },
  {
   "cell_type": "code",
   "execution_count": 142,
   "metadata": {},
   "outputs": [],
   "source": [
    "def plot_embed(layer_name, cat_names):\n",
    "    Y = model.get_layer(layer_name).get_weights()[0]\n",
    "    print(Y.shape)\n",
    "    plt.figure(figsize=(8,8))\n",
    "    plt.scatter(-Y[:, 0], -Y[:, 1])\n",
    "    for i, txt in enumerate(cat_names):\n",
    "        plt.annotate(txt, (-Y[i, 0],-Y[i, 1]), xytext = (-5, 8), textcoords = 'offset points')"
   ]
  },
  {
   "cell_type": "code",
   "execution_count": 143,
   "metadata": {},
   "outputs": [
    {
     "name": "stdout",
     "output_type": "stream",
     "text": [
      "(7, 3)\n"
     ]
    },
    {
     "data": {
      "text/plain": "<Figure size 800x800 with 1 Axes>",
      "image/png": "[encoded data removed]"
     },
     "metadata": {},
     "output_type": "display_data"
    }
   ],
   "source": [
    "model.load_weights('bestmodel.hdf5')\n",
    "plot_embed('DayOfWeek_Embed', ['Mon', 'Tue', 'Wed', 'Thu', 'Fri', 'Sat','Sun'])"
   ]
  },
  {
   "cell_type": "code",
   "execution_count": 144,
   "metadata": {},
   "outputs": [
    {
     "name": "stdout",
     "output_type": "stream",
     "text": [
      "(12, 4)\n"
     ]
    },
    {
     "data": {
      "text/plain": "<Figure size 800x800 with 1 Axes>",
      "image/png": "[encoded data removed]"
     },
     "metadata": {},
     "output_type": "display_data"
    }
   ],
   "source": [
    "plot_embed('Month_Embed', list(range(12)))"
   ]
  },
  {
   "cell_type": "code",
   "execution_count": 145,
   "metadata": {},
   "outputs": [],
   "source": [
    "from sklearn.manifold import TSNE\n",
    "from sklearn.decomposition import PCA"
   ]
  },
  {
   "cell_type": "code",
   "execution_count": 146,
   "outputs": [
    {
     "name": "stdout",
     "output_type": "stream",
     "text": [
      "DayOfWeek_Embed\n"
     ]
    },
    {
     "data": {
      "text/plain": "(7, 3)"
     },
     "execution_count": 146,
     "metadata": {},
     "output_type": "execute_result"
    }
   ],
   "source": [
    "for model_layer in model.layers:\n",
    "    if model_layer.name == 'DayOfWeek_Embed':\n",
    "        day_of_week_embedding = model_layer\n",
    "print(day_of_week_embedding.name)\n",
    "day_of_week_embedding.get_weights()[0].shape"
   ],
   "metadata": {
    "collapsed": false
   }
  },
  {
   "cell_type": "code",
   "execution_count": 147,
   "metadata": {},
   "outputs": [
    {
     "name": "stderr",
     "output_type": "stream",
     "text": [
      "2023/02/28 15:51:37 INFO mlflow.utils.autologging_utils: Created MLflow autologging run with ID 'e17c6d4294b649128868ad8940d9785a', which will track hyperparameters, performance metrics, model artifacts, and lineage information for the current sklearn workflow\n",
      "/opt/anaconda3/lib/python3.9/site-packages/sklearn/manifold/_t_sne.py:780: FutureWarning: The default initialization in TSNE will change from 'random' to 'pca' in 1.2.\n",
      "  warnings.warn(\n",
      "2023/02/28 15:51:38 WARNING mlflow.sklearn: Training metrics will not be recorded because training labels were not specified. To automatically record training metrics, provide training labels as inputs to the model training function.\n",
      "2023/02/28 15:51:38 WARNING mlflow.sklearn: Failed to infer model signature: the trained model does not specify a `predict` function, which is required in order to infer the signature\n",
      "2023/02/28 15:51:38 WARNING mlflow.sklearn: Model was missing function: predict. Not logging python_function flavor!\n"
     ]
    },
    {
     "data": {
      "text/plain": "<Figure size 800x800 with 1 Axes>",
      "image/png": "[encoded data removed]"
     },
     "metadata": {},
     "output_type": "display_data"
    }
   ],
   "source": [
    "tsne = TSNE(n_components=2, random_state=1, learning_rate=10, n_iter=10000)\n",
    "Y = tsne.fit_transform(day_of_week_embedding.get_weights()[0])\n",
    "names = ['Mon', 'Tue', 'Wed', 'Thu', 'Fri', 'Sat','Sun']\n",
    "plt.figure(figsize=(8,8))\n",
    "plt.scatter(-Y[:, 0], -Y[:, 1])\n",
    "for i, txt in enumerate(names):\n",
    "    plt.annotate(txt, (-Y[i, 0],-Y[i, 1]), xytext = (-5, 8), textcoords = 'offset points')"
   ]
  },
  {
   "cell_type": "code",
   "execution_count": 148,
   "metadata": {},
   "outputs": [
    {
     "data": {
      "text/plain": "['Store',\n 'DayOfWeek',\n 'Year',\n 'Month',\n 'Day',\n 'StateHoliday',\n 'CompetitionMonthsOpen',\n 'Promo2Weeks',\n 'StoreType',\n 'Assortment',\n 'PromoInterval',\n 'State',\n 'Week',\n 'Events',\n 'Promo_fw',\n 'Promo_bw',\n 'StateHoliday_bool_fw',\n 'StateHoliday_bool_bw',\n 'SchoolHoliday_fw',\n 'SchoolHoliday_bw']"
     },
     "execution_count": 148,
     "metadata": {},
     "output_type": "execute_result"
    }
   ],
   "source": [
    "cat_vars"
   ]
  },
  {
   "cell_type": "markdown",
   "metadata": {},
   "source": [
    "## Store embeddings"
   ]
  },
  {
   "cell_type": "code",
   "execution_count": 149,
   "metadata": {},
   "outputs": [],
   "source": [
    "submodel = Model(cat_var_inputs + cont_vars_inputs, merged)"
   ]
  },
  {
   "cell_type": "code",
   "execution_count": 150,
   "metadata": {},
   "outputs": [
    {
     "name": "stdout",
     "output_type": "stream",
     "text": [
      "Model: \"model_4\"\n",
      "__________________________________________________________________________________________________\n",
      " Layer (type)                   Output Shape         Param #     Connected to                     \n",
      "==================================================================================================\n",
      " Store_input (InputLayer)       [(None, 1)]          0           []                               \n",
      "                                                                                                  \n",
      " DayOfWeek_input (InputLayer)   [(None, 1)]          0           []                               \n",
      "                                                                                                  \n",
      " Year_input (InputLayer)        [(None, 1)]          0           []                               \n",
      "                                                                                                  \n",
      " Month_input (InputLayer)       [(None, 1)]          0           []                               \n",
      "                                                                                                  \n",
      " Day_input (InputLayer)         [(None, 1)]          0           []                               \n",
      "                                                                                                  \n",
      " StateHoliday_input (InputLayer  [(None, 1)]         0           []                               \n",
      " )                                                                                                \n",
      "                                                                                                  \n",
      " CompetitionMonthsOpen_input (I  [(None, 1)]         0           []                               \n",
      " nputLayer)                                                                                       \n",
      "                                                                                                  \n",
      " Promo2Weeks_input (InputLayer)  [(None, 1)]         0           []                               \n",
      "                                                                                                  \n",
      " StoreType_input (InputLayer)   [(None, 1)]          0           []                               \n",
      "                                                                                                  \n",
      " Assortment_input (InputLayer)  [(None, 1)]          0           []                               \n",
      "                                                                                                  \n",
      " PromoInterval_input (InputLaye  [(None, 1)]         0           []                               \n",
      " r)                                                                                               \n",
      "                                                                                                  \n",
      " State_input (InputLayer)       [(None, 1)]          0           []                               \n",
      "                                                                                                  \n",
      " Week_input (InputLayer)        [(None, 1)]          0           []                               \n",
      "                                                                                                  \n",
      " Events_input (InputLayer)      [(None, 1)]          0           []                               \n",
      "                                                                                                  \n",
      " Promo_fw_input (InputLayer)    [(None, 1)]          0           []                               \n",
      "                                                                                                  \n",
      " Promo_bw_input (InputLayer)    [(None, 1)]          0           []                               \n",
      "                                                                                                  \n",
      " StateHoliday_bool_fw_input (In  [(None, 1)]         0           []                               \n",
      " putLayer)                                                                                        \n",
      "                                                                                                  \n",
      " StateHoliday_bool_bw_input (In  [(None, 1)]         0           []                               \n",
      " putLayer)                                                                                        \n",
      "                                                                                                  \n",
      " SchoolHoliday_fw_input (InputL  [(None, 1)]         0           []                               \n",
      " ayer)                                                                                            \n",
      "                                                                                                  \n",
      " SchoolHoliday_bw_input (InputL  [(None, 1)]         0           []                               \n",
      " ayer)                                                                                            \n",
      "                                                                                                  \n",
      " Store_Embed (Embedding)        (None, 1, 20)        22300       ['Store_input[0][0]']            \n",
      "                                                                                                  \n",
      " DayOfWeek_Embed (Embedding)    (None, 1, 3)         21          ['DayOfWeek_input[0][0]']        \n",
      "                                                                                                  \n",
      " Year_Embed (Embedding)         (None, 1, 2)         6           ['Year_input[0][0]']             \n",
      "                                                                                                  \n",
      " Month_Embed (Embedding)        (None, 1, 4)         48          ['Month_input[0][0]']            \n",
      "                                                                                                  \n",
      " Day_Embed (Embedding)          (None, 1, 5)         155         ['Day_input[0][0]']              \n",
      "                                                                                                  \n",
      " StateHoliday_Embed (Embedding)  (None, 1, 2)        8           ['StateHoliday_input[0][0]']     \n",
      "                                                                                                  \n",
      " CompetitionMonthsOpen_Embed (E  (None, 1, 2)        50          ['CompetitionMonthsOpen_input[0][\n",
      " mbedding)                                                       0]']                             \n",
      "                                                                                                  \n",
      " Promo2Weeks_Embed (Embedding)  (None, 1, 2)         52          ['Promo2Weeks_input[0][0]']      \n",
      "                                                                                                  \n",
      " StoreType_Embed (Embedding)    (None, 1, 3)         12          ['StoreType_input[0][0]']        \n",
      "                                                                                                  \n",
      " Assortment_Embed (Embedding)   (None, 1, 2)         6           ['Assortment_input[0][0]']       \n",
      "                                                                                                  \n",
      " PromoInterval_Embed (Embedding  (None, 1, 3)        12          ['PromoInterval_input[0][0]']    \n",
      " )                                                                                                \n",
      "                                                                                                  \n",
      " State_Embed (Embedding)        (None, 1, 6)         72          ['State_input[0][0]']            \n",
      "                                                                                                  \n",
      " Week_Embed (Embedding)         (None, 1, 6)         312         ['Week_input[0][0]']             \n",
      "                                                                                                  \n",
      " Events_Embed (Embedding)       (None, 1, 4)         88          ['Events_input[0][0]']           \n",
      "                                                                                                  \n",
      " Promo_fw_Embed (Embedding)     (None, 1, 1)         6           ['Promo_fw_input[0][0]']         \n",
      "                                                                                                  \n",
      " Promo_bw_Embed (Embedding)     (None, 1, 1)         6           ['Promo_bw_input[0][0]']         \n",
      "                                                                                                  \n",
      " StateHoliday_bool_fw_Embed (Em  (None, 1, 1)        3           ['StateHoliday_bool_fw_input[0][0\n",
      " bedding)                                                        ]']                              \n",
      "                                                                                                  \n",
      " StateHoliday_bool_bw_Embed (Em  (None, 1, 1)        3           ['StateHoliday_bool_bw_input[0][0\n",
      " bedding)                                                        ]']                              \n",
      "                                                                                                  \n",
      " SchoolHoliday_fw_Embed (Embedd  (None, 1, 1)        8           ['SchoolHoliday_fw_input[0][0]'] \n",
      " ing)                                                                                             \n",
      "                                                                                                  \n",
      " SchoolHoliday_bw_Embed (Embedd  (None, 1, 1)        8           ['SchoolHoliday_bw_input[0][0]'] \n",
      " ing)                                                                                             \n",
      "                                                                                                  \n",
      " Store_flat (Flatten)           (None, 20)           0           ['Store_Embed[0][0]']            \n",
      "                                                                                                  \n",
      " DayOfWeek_flat (Flatten)       (None, 3)            0           ['DayOfWeek_Embed[0][0]']        \n",
      "                                                                                                  \n",
      " Year_flat (Flatten)            (None, 2)            0           ['Year_Embed[0][0]']             \n",
      "                                                                                                  \n",
      " Month_flat (Flatten)           (None, 4)            0           ['Month_Embed[0][0]']            \n",
      "                                                                                                  \n",
      " Day_flat (Flatten)             (None, 5)            0           ['Day_Embed[0][0]']              \n",
      "                                                                                                  \n",
      " StateHoliday_flat (Flatten)    (None, 2)            0           ['StateHoliday_Embed[0][0]']     \n",
      "                                                                                                  \n",
      " CompetitionMonthsOpen_flat (Fl  (None, 2)           0           ['CompetitionMonthsOpen_Embed[0][\n",
      " atten)                                                          0]']                             \n",
      "                                                                                                  \n",
      " Promo2Weeks_flat (Flatten)     (None, 2)            0           ['Promo2Weeks_Embed[0][0]']      \n",
      "                                                                                                  \n",
      " StoreType_flat (Flatten)       (None, 3)            0           ['StoreType_Embed[0][0]']        \n",
      "                                                                                                  \n",
      " Assortment_flat (Flatten)      (None, 2)            0           ['Assortment_Embed[0][0]']       \n",
      "                                                                                                  \n",
      " PromoInterval_flat (Flatten)   (None, 3)            0           ['PromoInterval_Embed[0][0]']    \n",
      "                                                                                                  \n",
      " State_flat (Flatten)           (None, 6)            0           ['State_Embed[0][0]']            \n",
      "                                                                                                  \n",
      " Week_flat (Flatten)            (None, 6)            0           ['Week_Embed[0][0]']             \n",
      "                                                                                                  \n",
      " Events_flat (Flatten)          (None, 4)            0           ['Events_Embed[0][0]']           \n",
      "                                                                                                  \n",
      " Promo_fw_flat (Flatten)        (None, 1)            0           ['Promo_fw_Embed[0][0]']         \n",
      "                                                                                                  \n",
      " Promo_bw_flat (Flatten)        (None, 1)            0           ['Promo_bw_Embed[0][0]']         \n",
      "                                                                                                  \n",
      " StateHoliday_bool_fw_flat (Fla  (None, 1)           0           ['StateHoliday_bool_fw_Embed[0][0\n",
      " tten)                                                           ]']                              \n",
      "                                                                                                  \n",
      " StateHoliday_bool_bw_flat (Fla  (None, 1)           0           ['StateHoliday_bool_bw_Embed[0][0\n",
      " tten)                                                           ]']                              \n",
      "                                                                                                  \n",
      " SchoolHoliday_fw_flat (Flatten  (None, 1)           0           ['SchoolHoliday_fw_Embed[0][0]'] \n",
      " )                                                                                                \n",
      "                                                                                                  \n",
      " SchoolHoliday_bw_flat (Flatten  (None, 1)           0           ['SchoolHoliday_bw_Embed[0][0]'] \n",
      " )                                                                                                \n",
      "                                                                                                  \n",
      " CompetitionDistance_input (Inp  [(None, 1)]         0           []                               \n",
      " utLayer)                                                                                         \n",
      "                                                                                                  \n",
      " AfterStateHoliday_bool_input (  [(None, 1)]         0           []                               \n",
      " InputLayer)                                                                                      \n",
      "                                                                                                  \n",
      " BeforeStateHoliday_bool_input   [(None, 1)]         0           []                               \n",
      " (InputLayer)                                                                                     \n",
      "                                                                                                  \n",
      " Promo_input (InputLayer)       [(None, 1)]          0           []                               \n",
      "                                                                                                  \n",
      " SchoolHoliday_input (InputLaye  [(None, 1)]         0           []                               \n",
      " r)                                                                                               \n",
      "                                                                                                  \n",
      " StateHoliday_bool_input (Input  [(None, 1)]         0           []                               \n",
      " Layer)                                                                                           \n",
      "                                                                                                  \n",
      " trend_input (InputLayer)       [(None, 1)]          0           []                               \n",
      "                                                                                                  \n",
      " trend_DE_input (InputLayer)    [(None, 1)]          0           []                               \n",
      "                                                                                                  \n",
      " CompetitionOpenSinceYear_input  [(None, 1)]         0           []                               \n",
      "  (InputLayer)                                                                                    \n",
      "                                                                                                  \n",
      " Promo2SinceYear_input (InputLa  [(None, 1)]         0           []                               \n",
      " yer)                                                                                             \n",
      "                                                                                                  \n",
      " Min_TemperatureC_input (InputL  [(None, 1)]         0           []                               \n",
      " ayer)                                                                                            \n",
      "                                                                                                  \n",
      " Precipitationmm_input (InputLa  [(None, 1)]         0           []                               \n",
      " yer)                                                                                             \n",
      "                                                                                                  \n",
      " Max_Humidity_input (InputLayer  [(None, 1)]         0           []                               \n",
      " )                                                                                                \n",
      "                                                                                                  \n",
      " Max_Wind_SpeedKm_h_input (Inpu  [(None, 1)]         0           []                               \n",
      " tLayer)                                                                                          \n",
      "                                                                                                  \n",
      " CloudCover_input (InputLayer)  [(None, 1)]          0           []                               \n",
      "                                                                                                  \n",
      " Open_input (InputLayer)        [(None, 1)]          0           []                               \n",
      "                                                                                                  \n",
      " AmplitudTermica_input (InputLa  [(None, 1)]         0           []                               \n",
      " yer)                                                                                             \n",
      "                                                                                                  \n",
      " CompetitionDaysOpen_input (Inp  [(None, 1)]         0           []                               \n",
      " utLayer)                                                                                         \n",
      "                                                                                                  \n",
      " All_Concatenate (Concatenate)  (None, 88)           0           ['Store_flat[0][0]',             \n",
      "                                                                  'DayOfWeek_flat[0][0]',         \n",
      "                                                                  'Year_flat[0][0]',              \n",
      "                                                                  'Month_flat[0][0]',             \n",
      "                                                                  'Day_flat[0][0]',               \n",
      "                                                                  'StateHoliday_flat[0][0]',      \n",
      "                                                                  'CompetitionMonthsOpen_flat[0][0\n",
      "                                                                 ]',                              \n",
      "                                                                  'Promo2Weeks_flat[0][0]',       \n",
      "                                                                  'StoreType_flat[0][0]',         \n",
      "                                                                  'Assortment_flat[0][0]',        \n",
      "                                                                  'PromoInterval_flat[0][0]',     \n",
      "                                                                  'State_flat[0][0]',             \n",
      "                                                                  'Week_flat[0][0]',              \n",
      "                                                                  'Events_flat[0][0]',            \n",
      "                                                                  'Promo_fw_flat[0][0]',          \n",
      "                                                                  'Promo_bw_flat[0][0]',          \n",
      "                                                                  'StateHoliday_bool_fw_flat[0][0]\n",
      "                                                                 ',                               \n",
      "                                                                  'StateHoliday_bool_bw_flat[0][0]\n",
      "                                                                 ',                               \n",
      "                                                                  'SchoolHoliday_fw_flat[0][0]',  \n",
      "                                                                  'SchoolHoliday_bw_flat[0][0]',  \n",
      "                                                                  'CompetitionDistance_input[0][0]\n",
      "                                                                 ',                               \n",
      "                                                                  'AfterStateHoliday_bool_input[0]\n",
      "                                                                 [0]',                            \n",
      "                                                                  'BeforeStateHoliday_bool_input[0\n",
      "                                                                 ][0]',                           \n",
      "                                                                  'Promo_input[0][0]',            \n",
      "                                                                  'SchoolHoliday_input[0][0]',    \n",
      "                                                                  'StateHoliday_bool_input[0][0]',\n",
      "                                                                  'trend_input[0][0]',            \n",
      "                                                                  'trend_DE_input[0][0]',         \n",
      "                                                                  'CompetitionOpenSinceYear_input[\n",
      "                                                                 0][0]',                          \n",
      "                                                                  'Promo2SinceYear_input[0][0]',  \n",
      "                                                                  'Min_TemperatureC_input[0][0]', \n",
      "                                                                  'Precipitationmm_input[0][0]',  \n",
      "                                                                  'Max_Humidity_input[0][0]',     \n",
      "                                                                  'Max_Wind_SpeedKm_h_input[0][0]'\n",
      "                                                                 , 'CloudCover_input[0][0]',      \n",
      "                                                                  'Open_input[0][0]',             \n",
      "                                                                  'AmplitudTermica_input[0][0]',  \n",
      "                                                                  'CompetitionDaysOpen_input[0][0]\n",
      "                                                                 ']                               \n",
      "                                                                                                  \n",
      "==================================================================================================\n",
      "Total params: 23,176\n",
      "Trainable params: 23,176\n",
      "Non-trainable params: 0\n",
      "__________________________________________________________________________________________________\n"
     ]
    }
   ],
   "source": [
    "submodel.summary()"
   ]
  },
  {
   "cell_type": "code",
   "execution_count": 151,
   "metadata": {},
   "outputs": [
    {
     "name": "stdout",
     "output_type": "stream",
     "text": [
      "WARNING:tensorflow:Compiled the loaded model, but the compiled metrics have yet to be built. `model.compile_metrics` will be empty until you train or evaluate the model.\n"
     ]
    },
    {
     "name": "stderr",
     "output_type": "stream",
     "text": [
      "WARNING:tensorflow:Compiled the loaded model, but the compiled metrics have yet to be built. `model.compile_metrics` will be empty until you train or evaluate the model.\n"
     ]
    }
   ],
   "source": [
    "submodel.save('embeddings_model.hdf5')"
   ]
  },
  {
   "cell_type": "code",
   "execution_count": 152,
   "metadata": {},
   "outputs": [
    {
     "name": "stdout",
     "output_type": "stream",
     "text": [
      "date and time = 28/02/2023 15:51:44\n"
     ]
    }
   ],
   "source": [
    "import beepy\n",
    "beepy.beep(sound=1)\n",
    "\n",
    "from datetime import datetime\n",
    "\n",
    "# datetime object containing current date and time\n",
    "now = datetime.now()\n",
    "# dd/mm/YY H:M:S\n",
    "dt_string = now.strftime(\"%d/%m/%Y %H:%M:%S\")\n",
    "print(\"date and time =\", dt_string)"
   ]
  },
  {
   "cell_type": "code",
   "execution_count": 152,
   "outputs": [],
   "source": [],
   "metadata": {
    "collapsed": false
   }
  }
 ],
 "metadata": {
  "kernelspec": {
   "display_name": "Python 3",
   "language": "python",
   "name": "python3"
  },
  "language_info": {
   "codemirror_mode": {
    "name": "ipython",
    "version": 3
   },
   "file_extension": ".py",
   "mimetype": "text/x-python",
   "name": "python",
   "nbconvert_exporter": "python",
   "pygments_lexer": "ipython3",
   "version": "3.6.10"
  }
 },
 "nbformat": 4,
 "nbformat_minor": 4
}
