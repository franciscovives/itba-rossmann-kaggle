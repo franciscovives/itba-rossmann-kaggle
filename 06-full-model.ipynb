{
 "cells": [
  {
   "cell_type": "code",
   "execution_count": 2,
   "metadata": {},
   "outputs": [
    {
     "name": "stderr",
     "output_type": "stream",
     "text": [
      "2023-02-27 15:49:48.151881: I tensorflow/core/platform/cpu_feature_guard.cc:193] This TensorFlow binary is optimized with oneAPI Deep Neural Network Library (oneDNN) to use the following CPU instructions in performance-critical operations:  AVX2 FMA\n",
      "To enable them in other operations, rebuild TensorFlow with the appropriate compiler flags.\n"
     ]
    }
   ],
   "source": [
    "from tensorflow.compat.v1 import ConfigProto\n",
    "from tensorflow.compat.v1 import InteractiveSession\n",
    "config = ConfigProto()\n",
    "config.gpu_options.allow_growth = True\n",
    "session = InteractiveSession(config=config)"
   ]
  },
  {
   "cell_type": "code",
   "execution_count": 3,
   "metadata": {},
   "outputs": [],
   "source": [
    "import pandas as pd\n",
    "import numpy as np\n",
    "import datetime\n",
    "from pandas_summary import DataFrameSummary"
   ]
  },
  {
   "cell_type": "code",
   "execution_count": 4,
   "metadata": {},
   "outputs": [],
   "source": [
    "from tensorflow.keras.utils import to_categorical"
   ]
  },
  {
   "cell_type": "code",
   "execution_count": 5,
   "metadata": {},
   "outputs": [],
   "source": [
    "df = pd.read_feather('train_normalized_data.fth')\n",
    "df_test = pd.read_feather('test_normalized_data.fth')"
   ]
  },
  {
   "cell_type": "code",
   "execution_count": 6,
   "metadata": {},
   "outputs": [],
   "source": [
    "cat_vars = ['Store', 'DayOfWeek', 'Year', 'Month', 'Day', 'StateHoliday', 'CompetitionMonthsOpen', 'Promo2Weeks', \n",
    "            'StoreType', 'Assortment', 'PromoInterval', 'CompetitionOpenSinceYear', 'Promo2SinceYear', 'State', \n",
    "            'Week', 'Events', 'Promo_fw', 'Promo_bw', 'StateHoliday_bool_fw', 'StateHoliday_bool_bw', 'SchoolHoliday_fw', 'SchoolHoliday_bw']\n",
    "\n",
    "#cat_vars = ['Store', 'DayOfWeek']"
   ]
  },
  {
   "cell_type": "code",
   "execution_count": 7,
   "metadata": {},
   "outputs": [],
   "source": [
    "contin_vars = ['CompetitionDistance', \n",
    "   'Max_TemperatureC', 'Mean_TemperatureC', 'Min_TemperatureC', 'Precipitationmm',\n",
    "   'Max_Humidity', 'Mean_Humidity', 'Min_Humidity', 'Max_Wind_SpeedKm_h', \n",
    "   'Mean_Wind_SpeedKm_h', 'CloudCover', 'trend', 'trend_DE',\n",
    "   'AfterStateHoliday_bool', 'BeforeStateHoliday_bool', 'Promo', 'SchoolHoliday', 'StateHoliday_bool']\n",
    "contin_vars += ['Open', 'AmplitudTermica', 'CompetitionDaysOpen']"
   ]
  },
  {
   "cell_type": "code",
   "execution_count": 8,
   "metadata": {},
   "outputs": [],
   "source": [
    "uniques = DataFrameSummary(df[cat_vars]).summary().loc[['uniques']]"
   ]
  },
  {
   "cell_type": "code",
   "execution_count": 9,
   "metadata": {},
   "outputs": [
    {
     "data": {
      "text/plain": "                         uniques\nStore                       1115\nDayOfWeek                      7\nYear                           3\nMonth                         12\nDay                           31\nStateHoliday                   4\nCompetitionMonthsOpen         25\nPromo2Weeks                   26\nStoreType                      4\nAssortment                     3\nPromoInterval                  4\nCompetitionOpenSinceYear      21\nPromo2SinceYear                8\nState                         12\nWeek                          52\nEvents                        22\nPromo_fw                       6\nPromo_bw                       6\nStateHoliday_bool_fw           3\nStateHoliday_bool_bw           3\nSchoolHoliday_fw               8\nSchoolHoliday_bw               8",
      "text/html": "<div>\n<style scoped>\n    .dataframe tbody tr th:only-of-type {\n        vertical-align: middle;\n    }\n\n    .dataframe tbody tr th {\n        vertical-align: top;\n    }\n\n    .dataframe thead th {\n        text-align: right;\n    }\n</style>\n<table border=\"1\" class=\"dataframe\">\n  <thead>\n    <tr style=\"text-align: right;\">\n      <th></th>\n      <th>uniques</th>\n    </tr>\n  </thead>\n  <tbody>\n    <tr>\n      <th>Store</th>\n      <td>1115</td>\n    </tr>\n    <tr>\n      <th>DayOfWeek</th>\n      <td>7</td>\n    </tr>\n    <tr>\n      <th>Year</th>\n      <td>3</td>\n    </tr>\n    <tr>\n      <th>Month</th>\n      <td>12</td>\n    </tr>\n    <tr>\n      <th>Day</th>\n      <td>31</td>\n    </tr>\n    <tr>\n      <th>StateHoliday</th>\n      <td>4</td>\n    </tr>\n    <tr>\n      <th>CompetitionMonthsOpen</th>\n      <td>25</td>\n    </tr>\n    <tr>\n      <th>Promo2Weeks</th>\n      <td>26</td>\n    </tr>\n    <tr>\n      <th>StoreType</th>\n      <td>4</td>\n    </tr>\n    <tr>\n      <th>Assortment</th>\n      <td>3</td>\n    </tr>\n    <tr>\n      <th>PromoInterval</th>\n      <td>4</td>\n    </tr>\n    <tr>\n      <th>CompetitionOpenSinceYear</th>\n      <td>21</td>\n    </tr>\n    <tr>\n      <th>Promo2SinceYear</th>\n      <td>8</td>\n    </tr>\n    <tr>\n      <th>State</th>\n      <td>12</td>\n    </tr>\n    <tr>\n      <th>Week</th>\n      <td>52</td>\n    </tr>\n    <tr>\n      <th>Events</th>\n      <td>22</td>\n    </tr>\n    <tr>\n      <th>Promo_fw</th>\n      <td>6</td>\n    </tr>\n    <tr>\n      <th>Promo_bw</th>\n      <td>6</td>\n    </tr>\n    <tr>\n      <th>StateHoliday_bool_fw</th>\n      <td>3</td>\n    </tr>\n    <tr>\n      <th>StateHoliday_bool_bw</th>\n      <td>3</td>\n    </tr>\n    <tr>\n      <th>SchoolHoliday_fw</th>\n      <td>8</td>\n    </tr>\n    <tr>\n      <th>SchoolHoliday_bw</th>\n      <td>8</td>\n    </tr>\n  </tbody>\n</table>\n</div>"
     },
     "execution_count": 9,
     "metadata": {},
     "output_type": "execute_result"
    }
   ],
   "source": [
    "uniques.T"
   ]
  },
  {
   "cell_type": "markdown",
   "metadata": {},
   "source": [
    "# Asignación de dimensión de embeddings"
   ]
  },
  {
   "cell_type": "code",
   "execution_count": 10,
   "metadata": {},
   "outputs": [],
   "source": [
    "cat_var_dict = {'Store': 50, 'DayOfWeek': 4, 'Year': 2, 'Month': 4,\n",
    "'Day': 10, 'StateHoliday': 2, 'CompetitionMonthsOpen': 2,\n",
    "'Promo2Weeks': 1, 'StoreType': 2, 'Assortment': 3, 'PromoInterval': 3,\n",
    "'CompetitionOpenSinceYear': 4, 'Promo2SinceYear': 4, 'State': 6,\n",
    "'Week': 25, 'Events': 4, 'Promo_fw': 1,\n",
    "'Promo_bw': 1, 'StateHoliday_bool_fw': 1,\n",
    "'StateHoliday_bool_bw': 1, 'SchoolHoliday_fw': 1,\n",
    "'SchoolHoliday_bw': 1}"
   ]
  },
  {
   "cell_type": "code",
   "execution_count": 11,
   "metadata": {},
   "outputs": [
    {
     "name": "stdout",
     "output_type": "stream",
     "text": [
      "Store 50 1115 [   0    1    2 ... 1112 1113 1114]\n",
      "\n",
      "DayOfWeek 2 7 [0 1 2 3 4 5 6]\n",
      "\n",
      "Year 2 3 [0 1 2]\n",
      "\n",
      "Month 2 12 [ 0  1  2  3  4  5  6  7  8  9 10 11]\n",
      "\n",
      "Day 10 31 [ 0  1  2  3  4  5  6  7  8  9 10 11 12 13 14 15 16 17 18 19 20 21 22 23\n",
      " 24 25 26 27 28 29 30]\n",
      "\n",
      "StateHoliday 2 4 [0 1 2 3]\n",
      "\n",
      "CompetitionMonthsOpen 2 25 [ 0  1  2  3  4  5  6  7  8  9 10 11 12 13 14 15 16 17 18 19 20 21 22 23\n",
      " 24]\n",
      "\n",
      "Promo2Weeks 1 26 [ 0  1  2  3  4  5  6  7  8  9 10 11 12 13 14 15 16 17 18 19 20 21 22 23\n",
      " 24 25]\n",
      "\n",
      "StoreType 2 4 [0 1 2 3]\n",
      "\n",
      "Assortment 3 3 [0 1 2]\n",
      "\n",
      "PromoInterval 3 4 [0 1 2 3]\n",
      "\n",
      "CompetitionOpenSinceYear 4 21 [ 0  1  2  3  4  5  6  7  8  9 10 11 12 13 14 15 16 17 18 19 20]\n",
      "\n",
      "Promo2SinceYear 4 8 [0 1 2 3 4 5 6 7]\n",
      "\n",
      "State 6 12 [ 0  1  2  3  4  5  6  7  8  9 10 11]\n",
      "\n",
      "Week 25 52 [ 0  1  2  3  4  5  6  7  8  9 10 11 12 13 14 15 16 17 18 19 20 21 22 23\n",
      " 24 25 26 27 28 29 30 31 32 33 34 35 36 37 38 39 40 41 42 43 44 45 46 47\n",
      " 48 49 50 51]\n",
      "\n",
      "Events 4 22 [ 0  1  2  3  4  5  6  7  8  9 10 11 12 13 14 15 16 17 18 19 20 21]\n",
      "\n",
      "Promo_fw 1 6 [0 1 2 3 4 5]\n",
      "\n",
      "Promo_bw 1 6 [0 1 2 3 4 5]\n",
      "\n",
      "StateHoliday_bool_fw 1 3 [0 1 2]\n",
      "\n",
      "StateHoliday_bool_bw 1 3 [0 1 2]\n",
      "\n",
      "SchoolHoliday_fw 1 8 [0 1 2 3 4 5 6 7]\n",
      "\n",
      "SchoolHoliday_bw 1 8 [0 1 2 3 4 5 6 7]\n",
      "\n"
     ]
    }
   ],
   "source": [
    "for v in cat_vars:\n",
    "    uniques_ = df[v].unique()\n",
    "    uniques_.sort()\n",
    "    print(v, cat_var_dict[v], len(uniques_), uniques_)\n",
    "    print()"
   ]
  },
  {
   "cell_type": "markdown",
   "metadata": {},
   "source": [
    "# Definición de modelo"
   ]
  },
  {
   "cell_type": "code",
   "execution_count": 12,
   "metadata": {},
   "outputs": [],
   "source": [
    "add_customers = True\n",
    "log_output = False\n",
    "output_activation = 'linear'"
   ]
  },
  {
   "cell_type": "code",
   "execution_count": 13,
   "metadata": {},
   "outputs": [],
   "source": [
    "from tensorflow.keras.models import Model\n",
    "from tensorflow.keras.callbacks import ModelCheckpoint\n",
    "from tensorflow.keras.optimizers import Adam\n",
    "from tensorflow.keras.layers import Embedding, Input, Flatten, Concatenate, Dense, BatchNormalization, Activation, LeakyReLU, Dropout\n",
    "from tensorflow.keras.regularizers import l2"
   ]
  },
  {
   "cell_type": "code",
   "execution_count": 14,
   "metadata": {},
   "outputs": [],
   "source": [
    "def get_cat_vars_model(cat_vars, uniques, cat_var_dict):\n",
    "    cat_vars_embed_outs = []\n",
    "    cat_var_inputs = []\n",
    "    for cat_var in cat_vars:\n",
    "        cat_var_in = Input(shape=(1,), name=f\"{cat_var}_input\")\n",
    "        cat_var_inputs.append(cat_var_in)\n",
    "        embed_out = Embedding(uniques[cat_var][0], cat_var_dict[cat_var], name=f'{cat_var}_Embed')(cat_var_in)\n",
    "        flatten_out = Flatten(name=f\"{cat_var}_flat\")(embed_out)\n",
    "        cat_vars_embed_outs.append(flatten_out)\n",
    "    return cat_var_inputs, cat_vars_embed_outs\n",
    "\n",
    "def get_cont_vars_input(contin_vars, dense_layer=False):\n",
    "    cont_vars_inputs = []\n",
    "    cont_vars_outputs = []\n",
    "    for cont_var in contin_vars:\n",
    "        cont_var_in = Input(shape=(1,), name=f\"{cont_var}_input\")\n",
    "        cont_vars_inputs.append(cont_var_in)\n",
    "        if dense_layer:\n",
    "            cont_var_out = Dense(1, name=f\"{cont_var}_input\", activation = 'linear')(cont_var_in)\n",
    "            cont_vars_outputs.append(cont_var_out)\n",
    "        else:\n",
    "            cont_vars_outputs.append(cont_var_in)\n",
    "    return cont_vars_inputs, cont_vars_outputs"
   ]
  },
  {
   "cell_type": "code",
   "execution_count": 15,
   "metadata": {},
   "outputs": [],
   "source": [
    "cat_var_inputs, cat_vars_embed_outs = get_cat_vars_model(cat_vars, uniques, cat_var_dict)\n",
    "cont_vars_inputs,  cont_vars_outs= get_cont_vars_input(contin_vars)"
   ]
  },
  {
   "cell_type": "code",
   "execution_count": 16,
   "metadata": {},
   "outputs": [],
   "source": [
    "# Descomentar para ver resultados\n",
    "# cat_vars_embed_outs\n",
    "# cat_var_inputs\n",
    "# cont_vars_inputs\n",
    "# cont_vars_outs"
   ]
  },
  {
   "cell_type": "code",
   "execution_count": 17,
   "metadata": {},
   "outputs": [],
   "source": [
    "first_hidden_units = 750 #1000\n",
    "second_hidden_units = 256 #500\n",
    "l2_lambda = 1e-4\n",
    "merged = Concatenate(name='All_Concatenate')(cat_vars_embed_outs + cont_vars_inputs)\n",
    "x = Dense(first_hidden_units, kernel_initializer=\"uniform\", kernel_regularizer=l2(l2_lambda))(merged)\n",
    "# x = BatchNormalization()(x)\n",
    "x = Activation('relu')(x)\n",
    "# x = LeakyReLU()(x)\n",
    "x = Dense(second_hidden_units, kernel_initializer=\"uniform\", kernel_regularizer=l2(l2_lambda))(x)\n",
    "# x = BatchNormalization()(x)\n",
    "x = Activation('relu')(x)\n",
    "# x = LeakyReLU()(x)\n",
    "\n",
    "output_1 = Dense(1, name='Sales', activation=output_activation)(x)\n",
    "output_2 = Dense(1, name='Customers', activation=output_activation)(x)"
   ]
  },
  {
   "cell_type": "code",
   "execution_count": 18,
   "metadata": {},
   "outputs": [],
   "source": [
    "if add_customers:\n",
    "    model = Model(cat_var_inputs + cont_vars_inputs, [output_1, output_2])\n",
    "else: \n",
    "    model = Model(cat_var_inputs + cont_vars_inputs, [output_1])"
   ]
  },
  {
   "cell_type": "code",
   "execution_count": 19,
   "metadata": {},
   "outputs": [
    {
     "name": "stdout",
     "output_type": "stream",
     "text": [
      "Model: \"model\"\n",
      "__________________________________________________________________________________________________\n",
      " Layer (type)                   Output Shape         Param #     Connected to                     \n",
      "==================================================================================================\n",
      " Store_input (InputLayer)       [(None, 1)]          0           []                               \n",
      "                                                                                                  \n",
      " DayOfWeek_input (InputLayer)   [(None, 1)]          0           []                               \n",
      "                                                                                                  \n",
      " Year_input (InputLayer)        [(None, 1)]          0           []                               \n",
      "                                                                                                  \n",
      " Month_input (InputLayer)       [(None, 1)]          0           []                               \n",
      "                                                                                                  \n",
      " Day_input (InputLayer)         [(None, 1)]          0           []                               \n",
      "                                                                                                  \n",
      " StateHoliday_input (InputLayer  [(None, 1)]         0           []                               \n",
      " )                                                                                                \n",
      "                                                                                                  \n",
      " CompetitionMonthsOpen_input (I  [(None, 1)]         0           []                               \n",
      " nputLayer)                                                                                       \n",
      "                                                                                                  \n",
      " Promo2Weeks_input (InputLayer)  [(None, 1)]         0           []                               \n",
      "                                                                                                  \n",
      " StoreType_input (InputLayer)   [(None, 1)]          0           []                               \n",
      "                                                                                                  \n",
      " Assortment_input (InputLayer)  [(None, 1)]          0           []                               \n",
      "                                                                                                  \n",
      " PromoInterval_input (InputLaye  [(None, 1)]         0           []                               \n",
      " r)                                                                                               \n",
      "                                                                                                  \n",
      " CompetitionOpenSinceYear_input  [(None, 1)]         0           []                               \n",
      "  (InputLayer)                                                                                    \n",
      "                                                                                                  \n",
      " Promo2SinceYear_input (InputLa  [(None, 1)]         0           []                               \n",
      " yer)                                                                                             \n",
      "                                                                                                  \n",
      " State_input (InputLayer)       [(None, 1)]          0           []                               \n",
      "                                                                                                  \n",
      " Week_input (InputLayer)        [(None, 1)]          0           []                               \n",
      "                                                                                                  \n",
      " Events_input (InputLayer)      [(None, 1)]          0           []                               \n",
      "                                                                                                  \n",
      " Promo_fw_input (InputLayer)    [(None, 1)]          0           []                               \n",
      "                                                                                                  \n",
      " Promo_bw_input (InputLayer)    [(None, 1)]          0           []                               \n",
      "                                                                                                  \n",
      " StateHoliday_bool_fw_input (In  [(None, 1)]         0           []                               \n",
      " putLayer)                                                                                        \n",
      "                                                                                                  \n",
      " StateHoliday_bool_bw_input (In  [(None, 1)]         0           []                               \n",
      " putLayer)                                                                                        \n",
      "                                                                                                  \n",
      " SchoolHoliday_fw_input (InputL  [(None, 1)]         0           []                               \n",
      " ayer)                                                                                            \n",
      "                                                                                                  \n",
      " SchoolHoliday_bw_input (InputL  [(None, 1)]         0           []                               \n",
      " ayer)                                                                                            \n",
      "                                                                                                  \n",
      " Store_Embed (Embedding)        (None, 1, 50)        55750       ['Store_input[0][0]']            \n",
      "                                                                                                  \n",
      " DayOfWeek_Embed (Embedding)    (None, 1, 2)         14          ['DayOfWeek_input[0][0]']        \n",
      "                                                                                                  \n",
      " Year_Embed (Embedding)         (None, 1, 2)         6           ['Year_input[0][0]']             \n",
      "                                                                                                  \n",
      " Month_Embed (Embedding)        (None, 1, 2)         24          ['Month_input[0][0]']            \n",
      "                                                                                                  \n",
      " Day_Embed (Embedding)          (None, 1, 10)        310         ['Day_input[0][0]']              \n",
      "                                                                                                  \n",
      " StateHoliday_Embed (Embedding)  (None, 1, 2)        8           ['StateHoliday_input[0][0]']     \n",
      "                                                                                                  \n",
      " CompetitionMonthsOpen_Embed (E  (None, 1, 2)        50          ['CompetitionMonthsOpen_input[0][\n",
      " mbedding)                                                       0]']                             \n",
      "                                                                                                  \n",
      " Promo2Weeks_Embed (Embedding)  (None, 1, 1)         26          ['Promo2Weeks_input[0][0]']      \n",
      "                                                                                                  \n",
      " StoreType_Embed (Embedding)    (None, 1, 2)         8           ['StoreType_input[0][0]']        \n",
      "                                                                                                  \n",
      " Assortment_Embed (Embedding)   (None, 1, 3)         9           ['Assortment_input[0][0]']       \n",
      "                                                                                                  \n",
      " PromoInterval_Embed (Embedding  (None, 1, 3)        12          ['PromoInterval_input[0][0]']    \n",
      " )                                                                                                \n",
      "                                                                                                  \n",
      " CompetitionOpenSinceYear_Embed  (None, 1, 4)        84          ['CompetitionOpenSinceYear_input[\n",
      "  (Embedding)                                                    0][0]']                          \n",
      "                                                                                                  \n",
      " Promo2SinceYear_Embed (Embeddi  (None, 1, 4)        32          ['Promo2SinceYear_input[0][0]']  \n",
      " ng)                                                                                              \n",
      "                                                                                                  \n",
      " State_Embed (Embedding)        (None, 1, 6)         72          ['State_input[0][0]']            \n",
      "                                                                                                  \n",
      " Week_Embed (Embedding)         (None, 1, 25)        1300        ['Week_input[0][0]']             \n",
      "                                                                                                  \n",
      " Events_Embed (Embedding)       (None, 1, 4)         88          ['Events_input[0][0]']           \n",
      "                                                                                                  \n",
      " Promo_fw_Embed (Embedding)     (None, 1, 1)         6           ['Promo_fw_input[0][0]']         \n",
      "                                                                                                  \n",
      " Promo_bw_Embed (Embedding)     (None, 1, 1)         6           ['Promo_bw_input[0][0]']         \n",
      "                                                                                                  \n",
      " StateHoliday_bool_fw_Embed (Em  (None, 1, 1)        3           ['StateHoliday_bool_fw_input[0][0\n",
      " bedding)                                                        ]']                              \n",
      "                                                                                                  \n",
      " StateHoliday_bool_bw_Embed (Em  (None, 1, 1)        3           ['StateHoliday_bool_bw_input[0][0\n",
      " bedding)                                                        ]']                              \n",
      "                                                                                                  \n",
      " SchoolHoliday_fw_Embed (Embedd  (None, 1, 1)        8           ['SchoolHoliday_fw_input[0][0]'] \n",
      " ing)                                                                                             \n",
      "                                                                                                  \n",
      " SchoolHoliday_bw_Embed (Embedd  (None, 1, 1)        8           ['SchoolHoliday_bw_input[0][0]'] \n",
      " ing)                                                                                             \n",
      "                                                                                                  \n",
      " Store_flat (Flatten)           (None, 50)           0           ['Store_Embed[0][0]']            \n",
      "                                                                                                  \n",
      " DayOfWeek_flat (Flatten)       (None, 2)            0           ['DayOfWeek_Embed[0][0]']        \n",
      "                                                                                                  \n",
      " Year_flat (Flatten)            (None, 2)            0           ['Year_Embed[0][0]']             \n",
      "                                                                                                  \n",
      " Month_flat (Flatten)           (None, 2)            0           ['Month_Embed[0][0]']            \n",
      "                                                                                                  \n",
      " Day_flat (Flatten)             (None, 10)           0           ['Day_Embed[0][0]']              \n",
      "                                                                                                  \n",
      " StateHoliday_flat (Flatten)    (None, 2)            0           ['StateHoliday_Embed[0][0]']     \n",
      "                                                                                                  \n",
      " CompetitionMonthsOpen_flat (Fl  (None, 2)           0           ['CompetitionMonthsOpen_Embed[0][\n",
      " atten)                                                          0]']                             \n",
      "                                                                                                  \n",
      " Promo2Weeks_flat (Flatten)     (None, 1)            0           ['Promo2Weeks_Embed[0][0]']      \n",
      "                                                                                                  \n",
      " StoreType_flat (Flatten)       (None, 2)            0           ['StoreType_Embed[0][0]']        \n",
      "                                                                                                  \n",
      " Assortment_flat (Flatten)      (None, 3)            0           ['Assortment_Embed[0][0]']       \n",
      "                                                                                                  \n",
      " PromoInterval_flat (Flatten)   (None, 3)            0           ['PromoInterval_Embed[0][0]']    \n",
      "                                                                                                  \n",
      " CompetitionOpenSinceYear_flat   (None, 4)           0           ['CompetitionOpenSinceYear_Embed[\n",
      " (Flatten)                                                       0][0]']                          \n",
      "                                                                                                  \n",
      " Promo2SinceYear_flat (Flatten)  (None, 4)           0           ['Promo2SinceYear_Embed[0][0]']  \n",
      "                                                                                                  \n",
      " State_flat (Flatten)           (None, 6)            0           ['State_Embed[0][0]']            \n",
      "                                                                                                  \n",
      " Week_flat (Flatten)            (None, 25)           0           ['Week_Embed[0][0]']             \n",
      "                                                                                                  \n",
      " Events_flat (Flatten)          (None, 4)            0           ['Events_Embed[0][0]']           \n",
      "                                                                                                  \n",
      " Promo_fw_flat (Flatten)        (None, 1)            0           ['Promo_fw_Embed[0][0]']         \n",
      "                                                                                                  \n",
      " Promo_bw_flat (Flatten)        (None, 1)            0           ['Promo_bw_Embed[0][0]']         \n",
      "                                                                                                  \n",
      " StateHoliday_bool_fw_flat (Fla  (None, 1)           0           ['StateHoliday_bool_fw_Embed[0][0\n",
      " tten)                                                           ]']                              \n",
      "                                                                                                  \n",
      " StateHoliday_bool_bw_flat (Fla  (None, 1)           0           ['StateHoliday_bool_bw_Embed[0][0\n",
      " tten)                                                           ]']                              \n",
      "                                                                                                  \n",
      " SchoolHoliday_fw_flat (Flatten  (None, 1)           0           ['SchoolHoliday_fw_Embed[0][0]'] \n",
      " )                                                                                                \n",
      "                                                                                                  \n",
      " SchoolHoliday_bw_flat (Flatten  (None, 1)           0           ['SchoolHoliday_bw_Embed[0][0]'] \n",
      " )                                                                                                \n",
      "                                                                                                  \n",
      " CompetitionDistance_input (Inp  [(None, 1)]         0           []                               \n",
      " utLayer)                                                                                         \n",
      "                                                                                                  \n",
      " Max_TemperatureC_input (InputL  [(None, 1)]         0           []                               \n",
      " ayer)                                                                                            \n",
      "                                                                                                  \n",
      " Mean_TemperatureC_input (Input  [(None, 1)]         0           []                               \n",
      " Layer)                                                                                           \n",
      "                                                                                                  \n",
      " Min_TemperatureC_input (InputL  [(None, 1)]         0           []                               \n",
      " ayer)                                                                                            \n",
      "                                                                                                  \n",
      " Precipitationmm_input (InputLa  [(None, 1)]         0           []                               \n",
      " yer)                                                                                             \n",
      "                                                                                                  \n",
      " Max_Humidity_input (InputLayer  [(None, 1)]         0           []                               \n",
      " )                                                                                                \n",
      "                                                                                                  \n",
      " Mean_Humidity_input (InputLaye  [(None, 1)]         0           []                               \n",
      " r)                                                                                               \n",
      "                                                                                                  \n",
      " Min_Humidity_input (InputLayer  [(None, 1)]         0           []                               \n",
      " )                                                                                                \n",
      "                                                                                                  \n",
      " Max_Wind_SpeedKm_h_input (Inpu  [(None, 1)]         0           []                               \n",
      " tLayer)                                                                                          \n",
      "                                                                                                  \n",
      " Mean_Wind_SpeedKm_h_input (Inp  [(None, 1)]         0           []                               \n",
      " utLayer)                                                                                         \n",
      "                                                                                                  \n",
      " CloudCover_input (InputLayer)  [(None, 1)]          0           []                               \n",
      "                                                                                                  \n",
      " trend_input (InputLayer)       [(None, 1)]          0           []                               \n",
      "                                                                                                  \n",
      " trend_DE_input (InputLayer)    [(None, 1)]          0           []                               \n",
      "                                                                                                  \n",
      " AfterStateHoliday_bool_input (  [(None, 1)]         0           []                               \n",
      " InputLayer)                                                                                      \n",
      "                                                                                                  \n",
      " BeforeStateHoliday_bool_input   [(None, 1)]         0           []                               \n",
      " (InputLayer)                                                                                     \n",
      "                                                                                                  \n",
      " Promo_input (InputLayer)       [(None, 1)]          0           []                               \n",
      "                                                                                                  \n",
      " SchoolHoliday_input (InputLaye  [(None, 1)]         0           []                               \n",
      " r)                                                                                               \n",
      "                                                                                                  \n",
      " StateHoliday_bool_input (Input  [(None, 1)]         0           []                               \n",
      " Layer)                                                                                           \n",
      "                                                                                                  \n",
      " Open_input (InputLayer)        [(None, 1)]          0           []                               \n",
      "                                                                                                  \n",
      " AmplitudTermica_input (InputLa  [(None, 1)]         0           []                               \n",
      " yer)                                                                                             \n",
      "                                                                                                  \n",
      " CompetitionDaysOpen_input (Inp  [(None, 1)]         0           []                               \n",
      " utLayer)                                                                                         \n",
      "                                                                                                  \n",
      " All_Concatenate (Concatenate)  (None, 149)          0           ['Store_flat[0][0]',             \n",
      "                                                                  'DayOfWeek_flat[0][0]',         \n",
      "                                                                  'Year_flat[0][0]',              \n",
      "                                                                  'Month_flat[0][0]',             \n",
      "                                                                  'Day_flat[0][0]',               \n",
      "                                                                  'StateHoliday_flat[0][0]',      \n",
      "                                                                  'CompetitionMonthsOpen_flat[0][0\n",
      "                                                                 ]',                              \n",
      "                                                                  'Promo2Weeks_flat[0][0]',       \n",
      "                                                                  'StoreType_flat[0][0]',         \n",
      "                                                                  'Assortment_flat[0][0]',        \n",
      "                                                                  'PromoInterval_flat[0][0]',     \n",
      "                                                                  'CompetitionOpenSinceYear_flat[0\n",
      "                                                                 ][0]',                           \n",
      "                                                                  'Promo2SinceYear_flat[0][0]',   \n",
      "                                                                  'State_flat[0][0]',             \n",
      "                                                                  'Week_flat[0][0]',              \n",
      "                                                                  'Events_flat[0][0]',            \n",
      "                                                                  'Promo_fw_flat[0][0]',          \n",
      "                                                                  'Promo_bw_flat[0][0]',          \n",
      "                                                                  'StateHoliday_bool_fw_flat[0][0]\n",
      "                                                                 ',                               \n",
      "                                                                  'StateHoliday_bool_bw_flat[0][0]\n",
      "                                                                 ',                               \n",
      "                                                                  'SchoolHoliday_fw_flat[0][0]',  \n",
      "                                                                  'SchoolHoliday_bw_flat[0][0]',  \n",
      "                                                                  'CompetitionDistance_input[0][0]\n",
      "                                                                 ',                               \n",
      "                                                                  'Max_TemperatureC_input[0][0]', \n",
      "                                                                  'Mean_TemperatureC_input[0][0]',\n",
      "                                                                  'Min_TemperatureC_input[0][0]', \n",
      "                                                                  'Precipitationmm_input[0][0]',  \n",
      "                                                                  'Max_Humidity_input[0][0]',     \n",
      "                                                                  'Mean_Humidity_input[0][0]',    \n",
      "                                                                  'Min_Humidity_input[0][0]',     \n",
      "                                                                  'Max_Wind_SpeedKm_h_input[0][0]'\n",
      "                                                                 , 'Mean_Wind_SpeedKm_h_input[0][0\n",
      "                                                                 ]',                              \n",
      "                                                                  'CloudCover_input[0][0]',       \n",
      "                                                                  'trend_input[0][0]',            \n",
      "                                                                  'trend_DE_input[0][0]',         \n",
      "                                                                  'AfterStateHoliday_bool_input[0]\n",
      "                                                                 [0]',                            \n",
      "                                                                  'BeforeStateHoliday_bool_input[0\n",
      "                                                                 ][0]',                           \n",
      "                                                                  'Promo_input[0][0]',            \n",
      "                                                                  'SchoolHoliday_input[0][0]',    \n",
      "                                                                  'StateHoliday_bool_input[0][0]',\n",
      "                                                                  'Open_input[0][0]',             \n",
      "                                                                  'AmplitudTermica_input[0][0]',  \n",
      "                                                                  'CompetitionDaysOpen_input[0][0]\n",
      "                                                                 ']                               \n",
      "                                                                                                  \n",
      " dense (Dense)                  (None, 750)          112500      ['All_Concatenate[0][0]']        \n",
      "                                                                                                  \n",
      " activation (Activation)        (None, 750)          0           ['dense[0][0]']                  \n",
      "                                                                                                  \n",
      " dense_1 (Dense)                (None, 256)          192256      ['activation[0][0]']             \n",
      "                                                                                                  \n",
      " activation_1 (Activation)      (None, 256)          0           ['dense_1[0][0]']                \n",
      "                                                                                                  \n",
      " Sales (Dense)                  (None, 1)            257         ['activation_1[0][0]']           \n",
      "                                                                                                  \n",
      " Customers (Dense)              (None, 1)            257         ['activation_1[0][0]']           \n",
      "                                                                                                  \n",
      "==================================================================================================\n",
      "Total params: 363,097\n",
      "Trainable params: 363,097\n",
      "Non-trainable params: 0\n",
      "__________________________________________________________________________________________________\n"
     ]
    }
   ],
   "source": [
    "# Descomentar para ver\n",
    "model.summary()"
   ]
  },
  {
   "cell_type": "code",
   "execution_count": 20,
   "metadata": {},
   "outputs": [],
   "source": [
    "model.save_weights('initial_weights.hdf5')"
   ]
  },
  {
   "cell_type": "code",
   "execution_count": 21,
   "metadata": {},
   "outputs": [
    {
     "name": "stdout",
     "output_type": "stream",
     "text": [
      "Cantidad en val: 30188, porcentaje: 0.9642465458145908\n"
     ]
    }
   ],
   "source": [
    "df_train = df[df.Date < datetime.datetime(2015, 7, 1)]  \n",
    "df_val = df[df.Date >= datetime.datetime(2015, 7, 1)]\n",
    "print(f'Cantidad en val: {len(df_val)}, porcentaje: {len(df_train)/(len(df_train) + len(df_val))}')"
   ]
  },
  {
   "cell_type": "code",
   "execution_count": 22,
   "metadata": {},
   "outputs": [],
   "source": [
    "from matplotlib import pyplot as plt\n",
    "# plt.figure(figsize=(20,5))\n",
    "# plt.plot((df_train[df_train['Store']==1]['Sales'].values - df_train[df_train['Store']==1]['Sales'].mean())/df_train[df_train['Store']==1]['Sales'].std())\n",
    "# plt.show()\n",
    "# plt.figure(figsize=(20,5))\n",
    "# plt.plot(np.log(df_train[df_train['Store']==1]['Sales'].values)/np.max(np.log(df_train[df_train['Store']==1]['Sales'].values)))\n",
    "# plt.show()"
   ]
  },
  {
   "cell_type": "code",
   "execution_count": 23,
   "metadata": {},
   "outputs": [],
   "source": [
    "stores_mean = {}\n",
    "for store, g_df in df_train.groupby('Store'):\n",
    "    stores_mean[store] = g_df[g_df['Sales'] > 0]['Sales'].mean()"
   ]
  },
  {
   "cell_type": "code",
   "execution_count": 24,
   "metadata": {},
   "outputs": [
    {
     "name": "stderr",
     "output_type": "stream",
     "text": [
      "/var/folders/cc/hfx_w22x28j8f0l38h8ww1zc0000gn/T/ipykernel_1415/154391213.py:1: SettingWithCopyWarning: \n",
      "A value is trying to be set on a copy of a slice from a DataFrame.\n",
      "Try using .loc[row_indexer,col_indexer] = value instead\n",
      "\n",
      "See the caveats in the documentation: https://pandas.pydata.org/pandas-docs/stable/user_guide/indexing.html#returning-a-view-versus-a-copy\n",
      "  df_train.loc[:, 'mean_by_store'] = df_train['Store'].apply(stores_mean.get)\n",
      "/var/folders/cc/hfx_w22x28j8f0l38h8ww1zc0000gn/T/ipykernel_1415/154391213.py:2: SettingWithCopyWarning: \n",
      "A value is trying to be set on a copy of a slice from a DataFrame.\n",
      "Try using .loc[row_indexer,col_indexer] = value instead\n",
      "\n",
      "See the caveats in the documentation: https://pandas.pydata.org/pandas-docs/stable/user_guide/indexing.html#returning-a-view-versus-a-copy\n",
      "  df_val.loc[:, 'mean_by_store'] = df_val['Store'].apply(stores_mean.get)\n",
      "/var/folders/cc/hfx_w22x28j8f0l38h8ww1zc0000gn/T/ipykernel_1415/154391213.py:4: SettingWithCopyWarning: \n",
      "A value is trying to be set on a copy of a slice from a DataFrame.\n",
      "Try using .loc[row_indexer,col_indexer] = value instead\n",
      "\n",
      "See the caveats in the documentation: https://pandas.pydata.org/pandas-docs/stable/user_guide/indexing.html#returning-a-view-versus-a-copy\n",
      "  df_train.loc[:, 'Sales_store'] = df_train['Sales'] - df_train['mean_by_store']\n",
      "/var/folders/cc/hfx_w22x28j8f0l38h8ww1zc0000gn/T/ipykernel_1415/154391213.py:5: SettingWithCopyWarning: \n",
      "A value is trying to be set on a copy of a slice from a DataFrame.\n",
      "Try using .loc[row_indexer,col_indexer] = value instead\n",
      "\n",
      "See the caveats in the documentation: https://pandas.pydata.org/pandas-docs/stable/user_guide/indexing.html#returning-a-view-versus-a-copy\n",
      "  df_val.loc[:, 'Sales_store'] = df_val['Sales'] - df_val['mean_by_store']\n"
     ]
    }
   ],
   "source": [
    "df_train.loc[:, 'mean_by_store'] = df_train['Store'].apply(stores_mean.get)\n",
    "df_val.loc[:, 'mean_by_store'] = df_val['Store'].apply(stores_mean.get)\n",
    "\n",
    "df_train.loc[:, 'Sales_store'] = df_train['Sales'] - df_train['mean_by_store']\n",
    "df_val.loc[:, 'Sales_store'] = df_val['Sales'] - df_val['mean_by_store']"
   ]
  },
  {
   "cell_type": "code",
   "execution_count": 25,
   "metadata": {},
   "outputs": [],
   "source": [
    "from tensorflow.keras import backend as K"
   ]
  },
  {
   "cell_type": "code",
   "execution_count": 26,
   "metadata": {},
   "outputs": [],
   "source": [
    "def rmspe(y_true, y_pred):\n",
    "    return K.sqrt(K.mean(K.square((y_true - y_pred)/y_true)))"
   ]
  },
  {
   "cell_type": "code",
   "execution_count": 27,
   "metadata": {},
   "outputs": [],
   "source": [
    "def get_metric(df, sales_):\n",
    "    return np.sqrt((((df['Sales'] - sales_)/df['Sales'])**2).mean())"
   ]
  },
  {
   "cell_type": "code",
   "execution_count": 28,
   "metadata": {},
   "outputs": [
    {
     "data": {
      "text/plain": "0.30717460853388645"
     },
     "execution_count": 28,
     "metadata": {},
     "output_type": "execute_result"
    }
   ],
   "source": [
    "get_metric(df_val, df_val['mean_by_store'])"
   ]
  },
  {
   "cell_type": "code",
   "execution_count": 29,
   "metadata": {},
   "outputs": [],
   "source": [
    "all_vars = cat_vars + contin_vars\n",
    "X_train = np.hsplit(df_train[all_vars].values, len(all_vars))\n",
    "X_val = np.hsplit(df_val[all_vars].values, len(all_vars))\n",
    "X_test = np.hsplit(df_test[all_vars].values, len(all_vars))"
   ]
  },
  {
   "cell_type": "code",
   "execution_count": 30,
   "metadata": {},
   "outputs": [],
   "source": [
    "if add_customers:\n",
    "    y_out_columns = ['Sales', 'Customers']\n",
    "else:\n",
    "    y_out_columns = ['Sales_store']\n",
    "    \n",
    "if log_output:\n",
    "    # Escala logaritmica\n",
    "    max_log_y = np.max(np.log(df[y_out_columns])).values\n",
    "    y_train = np.log(df_train[y_out_columns].values)/max_log_y\n",
    "    y_val = np.log(df_val[y_out_columns].values)/max_log_y\n",
    "else:\n",
    "    # Normalización\n",
    "#     y_mean = df_train[y_out_columns].mean().values\n",
    "#     y_std = df_train[y_out_columns].std().values\n",
    "#     y_train = (df_train[y_out_columns].values - y_mean)/y_std\n",
    "#     y_val = (df_val[y_out_columns].values - y_mean)/y_std\n",
    "    y_max = df_train[y_out_columns].max().values\n",
    "    y_train = df_train[y_out_columns].values/y_max\n",
    "    y_val = df_val[y_out_columns].values/y_max\n",
    "y_train = np.hsplit(y_train, y_train.shape[1])\n",
    "y_val = np.hsplit(y_val, y_val.shape[1])"
   ]
  },
  {
   "cell_type": "code",
   "execution_count": 31,
   "metadata": {},
   "outputs": [
    {
     "name": "stderr",
     "output_type": "stream",
     "text": [
      "WARNING:absl:`lr` is deprecated, please use `learning_rate` instead, or use the legacy optimizer, e.g.,tf.keras.optimizers.legacy.Adam.\n"
     ]
    }
   ],
   "source": [
    "lr = 0.001\n",
    "model.compile(optimizer=Adam(lr=lr), metrics=['mse', rmspe], loss='mse')"
   ]
  },
  {
   "cell_type": "code",
   "execution_count": 32,
   "metadata": {},
   "outputs": [],
   "source": [
    "if add_customers:\n",
    "    checkpoint = ModelCheckpoint('bestmodel.hdf5', monitor='val_Sales_mse', verbose=1, save_best_only=True)\n",
    "else:\n",
    "    checkpoint = ModelCheckpoint('bestmodel.hdf5', monitor='val_loss', verbose=1, save_best_only=True)"
   ]
  },
  {
   "cell_type": "code",
   "execution_count": 33,
   "metadata": {},
   "outputs": [
    {
     "name": "stdout",
     "output_type": "stream",
     "text": [
      "Epoch 1/40\n",
      "\n",
      "Epoch 1: val_Sales_mse improved from inf to 0.00075, saving model to bestmodel.hdf5\n",
      "12722/12722 - 70s - loss: 0.0018 - Sales_loss: 8.1773e-04 - Customers_loss: 3.1158e-04 - Sales_mse: 8.1773e-04 - Sales_rmspe: 0.1965 - Customers_mse: 3.1158e-04 - Customers_rmspe: 0.1861 - val_loss: 0.0012 - val_Sales_loss: 7.4977e-04 - val_Customers_loss: 2.5879e-04 - val_Sales_mse: 7.4977e-04 - val_Sales_rmspe: 0.1582 - val_Customers_mse: 2.5879e-04 - val_Customers_rmspe: 0.1450 - 70s/epoch - 6ms/step\n",
      "Epoch 2/40\n",
      "\n",
      "Epoch 2: val_Sales_mse improved from 0.00075 to 0.00067, saving model to bestmodel.hdf5\n",
      "12722/12722 - 63s - loss: 8.7591e-04 - Sales_loss: 5.5803e-04 - Customers_loss: 1.9820e-04 - Sales_mse: 5.5803e-04 - Sales_rmspe: 0.1602 - Customers_mse: 1.9820e-04 - Customers_rmspe: 0.1458 - val_loss: 0.0011 - val_Sales_loss: 6.7446e-04 - val_Customers_loss: 2.9200e-04 - val_Sales_mse: 6.7446e-04 - val_Sales_rmspe: 0.1522 - val_Customers_mse: 2.9200e-04 - val_Customers_rmspe: 0.1899 - 63s/epoch - 5ms/step\n",
      "Epoch 3/40\n",
      "\n",
      "Epoch 3: val_Sales_mse improved from 0.00067 to 0.00065, saving model to bestmodel.hdf5\n",
      "12722/12722 - 62s - loss: 8.1727e-04 - Sales_loss: 5.2473e-04 - Customers_loss: 1.8555e-04 - Sales_mse: 5.2473e-04 - Sales_rmspe: 0.1540 - Customers_mse: 1.8555e-04 - Customers_rmspe: 0.1401 - val_loss: 9.7490e-04 - val_Sales_loss: 6.4821e-04 - val_Customers_loss: 2.2145e-04 - val_Sales_mse: 6.4821e-04 - val_Sales_rmspe: 0.1416 - val_Customers_mse: 2.2145e-04 - val_Customers_rmspe: 0.1347 - 62s/epoch - 5ms/step\n",
      "Epoch 4/40\n"
     ]
    },
    {
     "ename": "KeyboardInterrupt",
     "evalue": "",
     "output_type": "error",
     "traceback": [
      "\u001B[0;31m---------------------------------------------------------------------------\u001B[0m",
      "\u001B[0;31mKeyboardInterrupt\u001B[0m                         Traceback (most recent call last)",
      "\u001B[0;32m/var/folders/cc/hfx_w22x28j8f0l38h8ww1zc0000gn/T/ipykernel_1415/922918182.py\u001B[0m in \u001B[0;36m<module>\u001B[0;34m\u001B[0m\n\u001B[1;32m      1\u001B[0m \u001B[0mepochs\u001B[0m \u001B[0;34m=\u001B[0m \u001B[0;36m40\u001B[0m \u001B[0;31m#20\u001B[0m\u001B[0;34m\u001B[0m\u001B[0;34m\u001B[0m\u001B[0m\n\u001B[1;32m      2\u001B[0m \u001B[0mbatch_size\u001B[0m \u001B[0;34m=\u001B[0m \u001B[0;36m64\u001B[0m \u001B[0;31m#256\u001B[0m\u001B[0;34m\u001B[0m\u001B[0;34m\u001B[0m\u001B[0m\n\u001B[0;32m----> 3\u001B[0;31m \u001B[0mhistory\u001B[0m \u001B[0;34m=\u001B[0m \u001B[0mmodel\u001B[0m\u001B[0;34m.\u001B[0m\u001B[0mfit\u001B[0m\u001B[0;34m(\u001B[0m\u001B[0mX_train\u001B[0m\u001B[0;34m,\u001B[0m \u001B[0my_train\u001B[0m\u001B[0;34m,\u001B[0m \u001B[0mvalidation_data\u001B[0m\u001B[0;34m=\u001B[0m\u001B[0;34m(\u001B[0m\u001B[0mX_val\u001B[0m\u001B[0;34m,\u001B[0m \u001B[0my_val\u001B[0m\u001B[0;34m)\u001B[0m\u001B[0;34m,\u001B[0m  \u001B[0mepochs\u001B[0m\u001B[0;34m=\u001B[0m\u001B[0mepochs\u001B[0m\u001B[0;34m,\u001B[0m \u001B[0mbatch_size\u001B[0m\u001B[0;34m=\u001B[0m\u001B[0mbatch_size\u001B[0m\u001B[0;34m,\u001B[0m \u001B[0mcallbacks\u001B[0m\u001B[0;34m=\u001B[0m\u001B[0;34m[\u001B[0m\u001B[0mcheckpoint\u001B[0m\u001B[0;34m]\u001B[0m\u001B[0;34m,\u001B[0m \u001B[0mverbose\u001B[0m\u001B[0;34m=\u001B[0m\u001B[0;36m2\u001B[0m\u001B[0;34m)\u001B[0m\u001B[0;34m\u001B[0m\u001B[0;34m\u001B[0m\u001B[0m\n\u001B[0m",
      "\u001B[0;32m/opt/anaconda3/lib/python3.9/site-packages/keras/utils/traceback_utils.py\u001B[0m in \u001B[0;36merror_handler\u001B[0;34m(*args, **kwargs)\u001B[0m\n\u001B[1;32m     63\u001B[0m         \u001B[0mfiltered_tb\u001B[0m \u001B[0;34m=\u001B[0m \u001B[0;32mNone\u001B[0m\u001B[0;34m\u001B[0m\u001B[0;34m\u001B[0m\u001B[0m\n\u001B[1;32m     64\u001B[0m         \u001B[0;32mtry\u001B[0m\u001B[0;34m:\u001B[0m\u001B[0;34m\u001B[0m\u001B[0;34m\u001B[0m\u001B[0m\n\u001B[0;32m---> 65\u001B[0;31m             \u001B[0;32mreturn\u001B[0m \u001B[0mfn\u001B[0m\u001B[0;34m(\u001B[0m\u001B[0;34m*\u001B[0m\u001B[0margs\u001B[0m\u001B[0;34m,\u001B[0m \u001B[0;34m**\u001B[0m\u001B[0mkwargs\u001B[0m\u001B[0;34m)\u001B[0m\u001B[0;34m\u001B[0m\u001B[0;34m\u001B[0m\u001B[0m\n\u001B[0m\u001B[1;32m     66\u001B[0m         \u001B[0;32mexcept\u001B[0m \u001B[0mException\u001B[0m \u001B[0;32mas\u001B[0m \u001B[0me\u001B[0m\u001B[0;34m:\u001B[0m\u001B[0;34m\u001B[0m\u001B[0;34m\u001B[0m\u001B[0m\n\u001B[1;32m     67\u001B[0m             \u001B[0mfiltered_tb\u001B[0m \u001B[0;34m=\u001B[0m \u001B[0m_process_traceback_frames\u001B[0m\u001B[0;34m(\u001B[0m\u001B[0me\u001B[0m\u001B[0;34m.\u001B[0m\u001B[0m__traceback__\u001B[0m\u001B[0;34m)\u001B[0m\u001B[0;34m\u001B[0m\u001B[0;34m\u001B[0m\u001B[0m\n",
      "\u001B[0;32m/opt/anaconda3/lib/python3.9/site-packages/keras/engine/training.py\u001B[0m in \u001B[0;36mfit\u001B[0;34m(self, x, y, batch_size, epochs, verbose, callbacks, validation_split, validation_data, shuffle, class_weight, sample_weight, initial_epoch, steps_per_epoch, validation_steps, validation_batch_size, validation_freq, max_queue_size, workers, use_multiprocessing)\u001B[0m\n\u001B[1;32m   1648\u001B[0m                         ):\n\u001B[1;32m   1649\u001B[0m                             \u001B[0mcallbacks\u001B[0m\u001B[0;34m.\u001B[0m\u001B[0mon_train_batch_begin\u001B[0m\u001B[0;34m(\u001B[0m\u001B[0mstep\u001B[0m\u001B[0;34m)\u001B[0m\u001B[0;34m\u001B[0m\u001B[0;34m\u001B[0m\u001B[0m\n\u001B[0;32m-> 1650\u001B[0;31m                             \u001B[0mtmp_logs\u001B[0m \u001B[0;34m=\u001B[0m \u001B[0mself\u001B[0m\u001B[0;34m.\u001B[0m\u001B[0mtrain_function\u001B[0m\u001B[0;34m(\u001B[0m\u001B[0miterator\u001B[0m\u001B[0;34m)\u001B[0m\u001B[0;34m\u001B[0m\u001B[0;34m\u001B[0m\u001B[0m\n\u001B[0m\u001B[1;32m   1651\u001B[0m                             \u001B[0;32mif\u001B[0m \u001B[0mdata_handler\u001B[0m\u001B[0;34m.\u001B[0m\u001B[0mshould_sync\u001B[0m\u001B[0;34m:\u001B[0m\u001B[0;34m\u001B[0m\u001B[0;34m\u001B[0m\u001B[0m\n\u001B[1;32m   1652\u001B[0m                                 \u001B[0mcontext\u001B[0m\u001B[0;34m.\u001B[0m\u001B[0masync_wait\u001B[0m\u001B[0;34m(\u001B[0m\u001B[0;34m)\u001B[0m\u001B[0;34m\u001B[0m\u001B[0;34m\u001B[0m\u001B[0m\n",
      "\u001B[0;32m/opt/anaconda3/lib/python3.9/site-packages/tensorflow/python/util/traceback_utils.py\u001B[0m in \u001B[0;36merror_handler\u001B[0;34m(*args, **kwargs)\u001B[0m\n\u001B[1;32m    148\u001B[0m     \u001B[0mfiltered_tb\u001B[0m \u001B[0;34m=\u001B[0m \u001B[0;32mNone\u001B[0m\u001B[0;34m\u001B[0m\u001B[0;34m\u001B[0m\u001B[0m\n\u001B[1;32m    149\u001B[0m     \u001B[0;32mtry\u001B[0m\u001B[0;34m:\u001B[0m\u001B[0;34m\u001B[0m\u001B[0;34m\u001B[0m\u001B[0m\n\u001B[0;32m--> 150\u001B[0;31m       \u001B[0;32mreturn\u001B[0m \u001B[0mfn\u001B[0m\u001B[0;34m(\u001B[0m\u001B[0;34m*\u001B[0m\u001B[0margs\u001B[0m\u001B[0;34m,\u001B[0m \u001B[0;34m**\u001B[0m\u001B[0mkwargs\u001B[0m\u001B[0;34m)\u001B[0m\u001B[0;34m\u001B[0m\u001B[0;34m\u001B[0m\u001B[0m\n\u001B[0m\u001B[1;32m    151\u001B[0m     \u001B[0;32mexcept\u001B[0m \u001B[0mException\u001B[0m \u001B[0;32mas\u001B[0m \u001B[0me\u001B[0m\u001B[0;34m:\u001B[0m\u001B[0;34m\u001B[0m\u001B[0;34m\u001B[0m\u001B[0m\n\u001B[1;32m    152\u001B[0m       \u001B[0mfiltered_tb\u001B[0m \u001B[0;34m=\u001B[0m \u001B[0m_process_traceback_frames\u001B[0m\u001B[0;34m(\u001B[0m\u001B[0me\u001B[0m\u001B[0;34m.\u001B[0m\u001B[0m__traceback__\u001B[0m\u001B[0;34m)\u001B[0m\u001B[0;34m\u001B[0m\u001B[0;34m\u001B[0m\u001B[0m\n",
      "\u001B[0;32m/opt/anaconda3/lib/python3.9/site-packages/tensorflow/python/eager/polymorphic_function/polymorphic_function.py\u001B[0m in \u001B[0;36m__call__\u001B[0;34m(self, *args, **kwds)\u001B[0m\n\u001B[1;32m    878\u001B[0m \u001B[0;34m\u001B[0m\u001B[0m\n\u001B[1;32m    879\u001B[0m       \u001B[0;32mwith\u001B[0m \u001B[0mOptionalXlaContext\u001B[0m\u001B[0;34m(\u001B[0m\u001B[0mself\u001B[0m\u001B[0;34m.\u001B[0m\u001B[0m_jit_compile\u001B[0m\u001B[0;34m)\u001B[0m\u001B[0;34m:\u001B[0m\u001B[0;34m\u001B[0m\u001B[0;34m\u001B[0m\u001B[0m\n\u001B[0;32m--> 880\u001B[0;31m         \u001B[0mresult\u001B[0m \u001B[0;34m=\u001B[0m \u001B[0mself\u001B[0m\u001B[0;34m.\u001B[0m\u001B[0m_call\u001B[0m\u001B[0;34m(\u001B[0m\u001B[0;34m*\u001B[0m\u001B[0margs\u001B[0m\u001B[0;34m,\u001B[0m \u001B[0;34m**\u001B[0m\u001B[0mkwds\u001B[0m\u001B[0;34m)\u001B[0m\u001B[0;34m\u001B[0m\u001B[0;34m\u001B[0m\u001B[0m\n\u001B[0m\u001B[1;32m    881\u001B[0m \u001B[0;34m\u001B[0m\u001B[0m\n\u001B[1;32m    882\u001B[0m       \u001B[0mnew_tracing_count\u001B[0m \u001B[0;34m=\u001B[0m \u001B[0mself\u001B[0m\u001B[0;34m.\u001B[0m\u001B[0mexperimental_get_tracing_count\u001B[0m\u001B[0;34m(\u001B[0m\u001B[0;34m)\u001B[0m\u001B[0;34m\u001B[0m\u001B[0;34m\u001B[0m\u001B[0m\n",
      "\u001B[0;32m/opt/anaconda3/lib/python3.9/site-packages/tensorflow/python/eager/polymorphic_function/polymorphic_function.py\u001B[0m in \u001B[0;36m_call\u001B[0;34m(self, *args, **kwds)\u001B[0m\n\u001B[1;32m    910\u001B[0m       \u001B[0;31m# In this case we have created variables on the first call, so we run the\u001B[0m\u001B[0;34m\u001B[0m\u001B[0;34m\u001B[0m\u001B[0m\n\u001B[1;32m    911\u001B[0m       \u001B[0;31m# defunned version which is guaranteed to never create variables.\u001B[0m\u001B[0;34m\u001B[0m\u001B[0;34m\u001B[0m\u001B[0m\n\u001B[0;32m--> 912\u001B[0;31m       \u001B[0;32mreturn\u001B[0m \u001B[0mself\u001B[0m\u001B[0;34m.\u001B[0m\u001B[0m_no_variable_creation_fn\u001B[0m\u001B[0;34m(\u001B[0m\u001B[0;34m*\u001B[0m\u001B[0margs\u001B[0m\u001B[0;34m,\u001B[0m \u001B[0;34m**\u001B[0m\u001B[0mkwds\u001B[0m\u001B[0;34m)\u001B[0m  \u001B[0;31m# pylint: disable=not-callable\u001B[0m\u001B[0;34m\u001B[0m\u001B[0;34m\u001B[0m\u001B[0m\n\u001B[0m\u001B[1;32m    913\u001B[0m     \u001B[0;32melif\u001B[0m \u001B[0mself\u001B[0m\u001B[0;34m.\u001B[0m\u001B[0m_variable_creation_fn\u001B[0m \u001B[0;32mis\u001B[0m \u001B[0;32mnot\u001B[0m \u001B[0;32mNone\u001B[0m\u001B[0;34m:\u001B[0m\u001B[0;34m\u001B[0m\u001B[0;34m\u001B[0m\u001B[0m\n\u001B[1;32m    914\u001B[0m       \u001B[0;31m# Release the lock early so that multiple threads can perform the call\u001B[0m\u001B[0;34m\u001B[0m\u001B[0;34m\u001B[0m\u001B[0m\n",
      "\u001B[0;32m/opt/anaconda3/lib/python3.9/site-packages/tensorflow/python/eager/polymorphic_function/tracing_compiler.py\u001B[0m in \u001B[0;36m__call__\u001B[0;34m(self, *args, **kwargs)\u001B[0m\n\u001B[1;32m    132\u001B[0m       (concrete_function,\n\u001B[1;32m    133\u001B[0m        filtered_flat_args) = self._maybe_define_function(args, kwargs)\n\u001B[0;32m--> 134\u001B[0;31m     return concrete_function._call_flat(\n\u001B[0m\u001B[1;32m    135\u001B[0m         filtered_flat_args, captured_inputs=concrete_function.captured_inputs)  # pylint: disable=protected-access\n\u001B[1;32m    136\u001B[0m \u001B[0;34m\u001B[0m\u001B[0m\n",
      "\u001B[0;32m/opt/anaconda3/lib/python3.9/site-packages/tensorflow/python/eager/polymorphic_function/monomorphic_function.py\u001B[0m in \u001B[0;36m_call_flat\u001B[0;34m(self, args, captured_inputs, cancellation_manager)\u001B[0m\n\u001B[1;32m   1743\u001B[0m         and executing_eagerly):\n\u001B[1;32m   1744\u001B[0m       \u001B[0;31m# No tape is watching; skip to running the function.\u001B[0m\u001B[0;34m\u001B[0m\u001B[0;34m\u001B[0m\u001B[0m\n\u001B[0;32m-> 1745\u001B[0;31m       return self._build_call_outputs(self._inference_function.call(\n\u001B[0m\u001B[1;32m   1746\u001B[0m           ctx, args, cancellation_manager=cancellation_manager))\n\u001B[1;32m   1747\u001B[0m     forward_backward = self._select_forward_and_backward_functions(\n",
      "\u001B[0;32m/opt/anaconda3/lib/python3.9/site-packages/tensorflow/python/eager/polymorphic_function/monomorphic_function.py\u001B[0m in \u001B[0;36mcall\u001B[0;34m(self, ctx, args, cancellation_manager)\u001B[0m\n\u001B[1;32m    376\u001B[0m       \u001B[0;32mwith\u001B[0m \u001B[0m_InterpolateFunctionError\u001B[0m\u001B[0;34m(\u001B[0m\u001B[0mself\u001B[0m\u001B[0;34m)\u001B[0m\u001B[0;34m:\u001B[0m\u001B[0;34m\u001B[0m\u001B[0;34m\u001B[0m\u001B[0m\n\u001B[1;32m    377\u001B[0m         \u001B[0;32mif\u001B[0m \u001B[0mcancellation_manager\u001B[0m \u001B[0;32mis\u001B[0m \u001B[0;32mNone\u001B[0m\u001B[0;34m:\u001B[0m\u001B[0;34m\u001B[0m\u001B[0;34m\u001B[0m\u001B[0m\n\u001B[0;32m--> 378\u001B[0;31m           outputs = execute.execute(\n\u001B[0m\u001B[1;32m    379\u001B[0m               \u001B[0mstr\u001B[0m\u001B[0;34m(\u001B[0m\u001B[0mself\u001B[0m\u001B[0;34m.\u001B[0m\u001B[0msignature\u001B[0m\u001B[0;34m.\u001B[0m\u001B[0mname\u001B[0m\u001B[0;34m)\u001B[0m\u001B[0;34m,\u001B[0m\u001B[0;34m\u001B[0m\u001B[0;34m\u001B[0m\u001B[0m\n\u001B[1;32m    380\u001B[0m               \u001B[0mnum_outputs\u001B[0m\u001B[0;34m=\u001B[0m\u001B[0mself\u001B[0m\u001B[0;34m.\u001B[0m\u001B[0m_num_outputs\u001B[0m\u001B[0;34m,\u001B[0m\u001B[0;34m\u001B[0m\u001B[0;34m\u001B[0m\u001B[0m\n",
      "\u001B[0;32m/opt/anaconda3/lib/python3.9/site-packages/tensorflow/python/eager/execute.py\u001B[0m in \u001B[0;36mquick_execute\u001B[0;34m(op_name, num_outputs, inputs, attrs, ctx, name)\u001B[0m\n\u001B[1;32m     50\u001B[0m   \u001B[0;32mtry\u001B[0m\u001B[0;34m:\u001B[0m\u001B[0;34m\u001B[0m\u001B[0;34m\u001B[0m\u001B[0m\n\u001B[1;32m     51\u001B[0m     \u001B[0mctx\u001B[0m\u001B[0;34m.\u001B[0m\u001B[0mensure_initialized\u001B[0m\u001B[0;34m(\u001B[0m\u001B[0;34m)\u001B[0m\u001B[0;34m\u001B[0m\u001B[0;34m\u001B[0m\u001B[0m\n\u001B[0;32m---> 52\u001B[0;31m     tensors = pywrap_tfe.TFE_Py_Execute(ctx._handle, device_name, op_name,\n\u001B[0m\u001B[1;32m     53\u001B[0m                                         inputs, attrs, num_outputs)\n\u001B[1;32m     54\u001B[0m   \u001B[0;32mexcept\u001B[0m \u001B[0mcore\u001B[0m\u001B[0;34m.\u001B[0m\u001B[0m_NotOkStatusException\u001B[0m \u001B[0;32mas\u001B[0m \u001B[0me\u001B[0m\u001B[0;34m:\u001B[0m\u001B[0;34m\u001B[0m\u001B[0;34m\u001B[0m\u001B[0m\n",
      "\u001B[0;31mKeyboardInterrupt\u001B[0m: "
     ]
    }
   ],
   "source": [
    "epochs = 40 #20\n",
    "batch_size = 64 #256\n",
    "history = model.fit(X_train, y_train, validation_data=(X_val, y_val),  epochs=epochs, batch_size=batch_size, callbacks=[checkpoint], verbose=2)"
   ]
  },
  {
   "cell_type": "code",
   "execution_count": null,
   "metadata": {},
   "outputs": [],
   "source": [
    "plt.plot(history.history['val_loss'])\n",
    "# plt.plot(history.history['val_Customers_mse'])\n",
    "# plt.plot(history.history['val_Sales_mse'])\n",
    "plt.show()\n",
    "plt.plot(history.history['loss'])\n",
    "# plt.plot(history.history['Customers_mse'])\n",
    "# plt.plot(history.history['Sales_mse'])"
   ]
  },
  {
   "cell_type": "markdown",
   "metadata": {},
   "source": [
    "# Métrica"
   ]
  },
  {
   "cell_type": "markdown",
   "metadata": {},
   "source": [
    "$$\n",
    "\\textrm{RMSE} = \\sqrt{\\frac{1}{n} \\sum_{i=1}^{n} \\left(\\frac{\\hat{y}_i - y_i}{y_i}\\right)^2}\n",
    "$$"
   ]
  },
  {
   "cell_type": "code",
   "execution_count": null,
   "metadata": {},
   "outputs": [],
   "source": [
    "model.evaluate(X_val, y_val)"
   ]
  },
  {
   "cell_type": "code",
   "execution_count": null,
   "metadata": {},
   "outputs": [],
   "source": [
    "model.load_weights('bestmodel.hdf5')\n",
    "model.evaluate(X_val, y_val)"
   ]
  },
  {
   "cell_type": "code",
   "execution_count": null,
   "metadata": {},
   "outputs": [],
   "source": [
    "# model.load_weights('bestmodel.hdf5')\n",
    "# model.evaluate(X_val, y_val)\n",
    "# 30188/30188 [==============================] - 5s 172us/step\n",
    "# [0.12197033089921382,\n",
    "#  0.07211007360268763,\n",
    "#  0.037183713050426136,\n",
    "#  0.07211007360268763,\n",
    "#  0.037183713050426136]\n",
    "\n",
    "# [0.12932546436786652,\n",
    "#  0.07751645147800446,\n",
    "#  0.039259567856788635,\n",
    "#  0.07751645147800446,\n",
    "#  0.039259567856788635]"
   ]
  },
  {
   "cell_type": "code",
   "execution_count": null,
   "metadata": {},
   "outputs": [],
   "source": [
    "if log_output:\n",
    "    if add_customers:\n",
    "        y_pred = np.exp(model.predict(X_val, verbose=1)[0][:, 0]*max_log_y[0])\n",
    "        y_pred_test = np.exp(model.predict(X_test, verbose=1)[0][:, 0]*max_log_y[0])\n",
    "    else:\n",
    "        y_pred = np.exp(model.predict(X_val, verbose=1)*max_log_y)[:,0]\n",
    "        y_pred_test = np.exp(model.predict(X_test, verbose=1)*max_log_y)[:,0]\n",
    "else:\n",
    "    if add_customers:\n",
    "        y_pred = (model.predict(X_val, verbose=1)[0]*y_std[0] + y_mean[0])[:,0]\n",
    "        y_pred_test = (model.predict(X_test, verbose=1)[0]*y_std[0] + y_mean[0])[:,0]\n",
    "    else:\n",
    "#         y_pred = model.predict(X_val, verbose=1)[:,0]*y_std + y_mean\n",
    "#         y_pred_test = model.predict(X_test, verbose=1)[:,0]*y_std + y_mean\n",
    "        y_pred = model.predict(X_val, verbose=1)[:,0]*y_max\n",
    "        y_pred_test = model.predict(X_test, verbose=1)[:,0]*y_max\n",
    "y_pred_test[df_test['Open'] == 0] = 0"
   ]
  },
  {
   "cell_type": "code",
   "execution_count": null,
   "metadata": {},
   "outputs": [],
   "source": [
    "np.sqrt((((df_val['Sales'].values - y_pred)/df_val['Sales'].values)**2).sum()/len(y_pred))"
   ]
  },
  {
   "cell_type": "code",
   "execution_count": null,
   "metadata": {},
   "outputs": [],
   "source": [
    "y_pred_test[:10]"
   ]
  },
  {
   "cell_type": "markdown",
   "metadata": {},
   "source": [
    "# Baseline"
   ]
  },
  {
   "cell_type": "code",
   "execution_count": null,
   "metadata": {},
   "outputs": [],
   "source": [
    "import pandas as pd\n",
    "sample_csv = pd.read_csv('dataset/rossmann/sample_submission.csv')"
   ]
  },
  {
   "cell_type": "code",
   "execution_count": null,
   "metadata": {},
   "outputs": [],
   "source": [
    "stores_mean = {}\n",
    "for store, g_df in df.groupby('Store'):\n",
    "    stores_mean[store] = g_df[g_df['Sales'] > 0]['Sales'].mean()"
   ]
  },
  {
   "cell_type": "code",
   "execution_count": null,
   "metadata": {},
   "outputs": [],
   "source": [
    "df_test['Sales'] = df_test['Store'].apply(stores_mean.get)\n",
    "df_test.loc[df_test['Open'] == 0, 'Sales'] = 0"
   ]
  },
  {
   "cell_type": "code",
   "execution_count": null,
   "metadata": {},
   "outputs": [],
   "source": [
    "df_test[['Store', 'Sales']].head(10)"
   ]
  },
  {
   "cell_type": "code",
   "execution_count": null,
   "metadata": {},
   "outputs": [],
   "source": [
    "df_test[df_test['Open'] == 0][['Store', 'Sales']].head()"
   ]
  },
  {
   "cell_type": "code",
   "execution_count": null,
   "metadata": {},
   "outputs": [],
   "source": [
    "sample_csv['Sales'] = df_test['Sales']"
   ]
  },
  {
   "cell_type": "code",
   "execution_count": null,
   "metadata": {},
   "outputs": [],
   "source": [
    "sample_csv.to_csv(f'submision_baseline.csv', index=False)"
   ]
  },
  {
   "cell_type": "code",
   "execution_count": null,
   "metadata": {},
   "outputs": [],
   "source": [
    "sample_csv.head()"
   ]
  },
  {
   "cell_type": "markdown",
   "metadata": {},
   "source": [
    "# Sumbit a la competición"
   ]
  },
  {
   "cell_type": "code",
   "execution_count": null,
   "metadata": {},
   "outputs": [],
   "source": [
    "\n",
    "sample_csv = pd.read_csv('dataset/sample_submission.csv')\n",
    "sample_csv['Sales'] = y_pred_test\n",
    "sample_csv.head()\n",
    "\n",
    "sample_csv.to_csv(f'dataset/06-submision_{add_customers}-{log_output}-{output_activation}-{l2_lambda}-{first_hidden_units}-{epochs}-{batch_size}-{lr}.csv', index=False)\n"
   ]
  },
  {
   "cell_type": "markdown",
   "metadata": {},
   "source": [
    "# Analisis de embedings"
   ]
  },
  {
   "cell_type": "code",
   "execution_count": null,
   "metadata": {},
   "outputs": [],
   "source": [
    "def plot_embed(layer_name, cat_names):\n",
    "    Y = model.get_layer(layer_name).get_weights()[0]\n",
    "    print(Y.shape)\n",
    "    plt.figure(figsize=(8,8))\n",
    "    plt.scatter(-Y[:, 0], -Y[:, 1])\n",
    "    for i, txt in enumerate(cat_names):\n",
    "        plt.annotate(txt, (-Y[i, 0],-Y[i, 1]), xytext = (-5, 8), textcoords = 'offset points')"
   ]
  },
  {
   "cell_type": "code",
   "execution_count": null,
   "metadata": {},
   "outputs": [],
   "source": [
    "model.load_weights('bestmodel.hdf5')\n",
    "plot_embed('DayOfWeek_Embed', ['Mon', 'Tue', 'Wed', 'Thu', 'Fri', 'Sat','Sun'])"
   ]
  },
  {
   "cell_type": "code",
   "execution_count": null,
   "metadata": {},
   "outputs": [],
   "source": [
    "plot_embed('Month_Embed', list(range(12)))"
   ]
  },
  {
   "cell_type": "code",
   "execution_count": null,
   "metadata": {},
   "outputs": [],
   "source": [
    "from sklearn.manifold import TSNE\n",
    "from sklearn.decomposition import PCA"
   ]
  },
  {
   "cell_type": "code",
   "execution_count": null,
   "metadata": {},
   "outputs": [],
   "source": [
    "day_of_week_embedding.shape"
   ]
  },
  {
   "cell_type": "code",
   "execution_count": null,
   "metadata": {},
   "outputs": [],
   "source": [
    "tsne = TSNE(n_components=2, random_state=1, learning_rate=10, n_iter=10000)\n",
    "Y = tsne.fit_transform(day_of_week_embedding)\n",
    "names = ['Mon', 'Tue', 'Wed', 'Thu', 'Fri', 'Sat','Sun']\n",
    "plt.figure(figsize=(8,8))\n",
    "plt.scatter(-Y[:, 0], -Y[:, 1])\n",
    "for i, txt in enumerate(names):\n",
    "    plt.annotate(txt, (-Y[i, 0],-Y[i, 1]), xytext = (-5, 8), textcoords = 'offset points')"
   ]
  },
  {
   "cell_type": "code",
   "execution_count": null,
   "metadata": {},
   "outputs": [],
   "source": [
    "cat_vars"
   ]
  },
  {
   "cell_type": "markdown",
   "metadata": {},
   "source": [
    "## Store embeddings"
   ]
  },
  {
   "cell_type": "code",
   "execution_count": null,
   "metadata": {},
   "outputs": [],
   "source": [
    "submodel = Model(cat_var_inputs + cont_vars_inputs, merged)"
   ]
  },
  {
   "cell_type": "code",
   "execution_count": null,
   "metadata": {},
   "outputs": [],
   "source": [
    "submodel.summary()"
   ]
  },
  {
   "cell_type": "code",
   "execution_count": null,
   "metadata": {},
   "outputs": [],
   "source": [
    "submodel.save('embeddings_model.hdf5')"
   ]
  },
  {
   "cell_type": "code",
   "execution_count": null,
   "metadata": {},
   "outputs": [],
   "source": [
    "#import beepy\n",
    "#beepy.beep(sound=1)\n",
    "\n",
    "from datetime import datetime\n",
    "\n",
    "# datetime object containing current date and time\n",
    "now = datetime.now()\n",
    "# dd/mm/YY H:M:S\n",
    "dt_string = now.strftime(\"%d/%m/%Y %H:%M:%S\")\n",
    "print(\"date and time =\", dt_string)"
   ]
  }
 ],
 "metadata": {
  "kernelspec": {
   "display_name": "Python 3",
   "language": "python",
   "name": "python3"
  },
  "language_info": {
   "codemirror_mode": {
    "name": "ipython",
    "version": 3
   },
   "file_extension": ".py",
   "mimetype": "text/x-python",
   "name": "python",
   "nbconvert_exporter": "python",
   "pygments_lexer": "ipython3",
   "version": "3.6.10"
  }
 },
 "nbformat": 4,
 "nbformat_minor": 4
}
