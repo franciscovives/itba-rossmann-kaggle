{
 "cells": [
  {
   "cell_type": "code",
   "execution_count": 2,
   "outputs": [
    {
     "name": "stdout",
     "output_type": "stream",
     "text": [
      "Collecting lightgbm\r\n",
      "  Downloading lightgbm-3.3.5-py3-none-macosx_10_15_x86_64.macosx_11_6_x86_64.macosx_12_0_x86_64.whl (1.3 MB)\r\n",
      "\u001B[2K     \u001B[90m━━━━━━━━━━━━━━━━━━━━━━━━━━━━━━━━━━━━━━━━\u001B[0m \u001B[32m1.3/1.3 MB\u001B[0m \u001B[31m4.3 MB/s\u001B[0m eta \u001B[36m0:00:00\u001B[0m00:01\u001B[0m00:01\u001B[0m\r\n",
      "\u001B[?25hRequirement already satisfied: scipy in /opt/anaconda3/lib/python3.9/site-packages (from lightgbm) (1.8.1)\r\n",
      "Requirement already satisfied: scikit-learn!=0.22.0 in /opt/anaconda3/lib/python3.9/site-packages (from lightgbm) (1.0.2)\r\n",
      "Requirement already satisfied: wheel in /opt/anaconda3/lib/python3.9/site-packages (from lightgbm) (0.37.1)\r\n",
      "Requirement already satisfied: numpy in /opt/anaconda3/lib/python3.9/site-packages (from lightgbm) (1.21.5)\r\n",
      "Requirement already satisfied: joblib>=0.11 in /opt/anaconda3/lib/python3.9/site-packages (from scikit-learn!=0.22.0->lightgbm) (1.1.0)\r\n",
      "Requirement already satisfied: threadpoolctl>=2.0.0 in /opt/anaconda3/lib/python3.9/site-packages (from scikit-learn!=0.22.0->lightgbm) (2.2.0)\r\n",
      "Installing collected packages: lightgbm\r\n",
      "Successfully installed lightgbm-3.3.5\r\n"
     ]
    }
   ],
   "source": [
    "#! pip install pandas_summary\n",
    "#! pip install isoweek\n",
    "#! pip install beepy\n",
    "#! pip install lightgbm"
   ],
   "metadata": {
    "collapsed": false
   }
  },
  {
   "cell_type": "code",
   "execution_count": 8,
   "outputs": [],
   "source": [
    "import pandas as pd\n",
    "#  pip install pandas_summary\n",
    "from pandas_summary import DataFrameSummary"
   ],
   "metadata": {
    "collapsed": false
   }
  },
  {
   "cell_type": "markdown",
   "metadata": {},
   "source": [
    "# Competencia de Kaggle\n",
    "\n",
    "[ir a Kaggle](https://www.kaggle.com/c/rossmann-store-sales/data)\n",
    "\n",
    "[3er puesto](https://github.com/entron/entity-embedding-rossmann)"
   ]
  },
  {
   "cell_type": "markdown",
   "metadata": {},
   "source": [
    "# Métrica de la competencia"
   ]
  },
  {
   "cell_type": "markdown",
   "metadata": {},
   "source": [
    "$$\n",
    "\\textrm{RMSPE} = \\sqrt{\\frac{1}{n} \\sum_{i=1}^{n} \\left(\\frac{\\hat{y}_i - y_i}{y_i}\\right)^2}\n",
    "$$\n",
    "\n",
    "donde:\n",
    "\n",
    "- $y_i$ las ventas de un día particular de un store\n",
    "- $\\hat{y}_i$ ventas estimadas por el modelo\n",
    "- $n$ es el número de predicciones realizadas"
   ]
  },
  {
   "cell_type": "markdown",
   "metadata": {},
   "source": [
    "## Importamos dataset"
   ]
  },
  {
   "cell_type": "markdown",
   "metadata": {},
   "source": [
    "La competencia permitía agregar datos externos para realizar la predicción"
   ]
  },
  {
   "cell_type": "markdown",
   "metadata": {},
   "source": [
    "The following tables are available in the datasets:\n",
    "\n",
    "| Archivo      | Descripción| Origen de Datos|\n",
    "|--------------|--------------------------------------------------------------------|--|\n",
    "| train.csv        | training set: información del store día a día, ventas, clientes, si es feriado, etc | Kaggle |\n",
    "| store.csv       | Información general del store, por ejemplo datos del competidor | Kaggle |\n",
    "| store_states.csv | Mapea de store a estado - Dato externo| Externos |\n",
    "| state_names.csv  | Mapea estados a acronimo de estado | Externos |\n",
    "| googletrend.csv  | Tendencias por semana - Dato externo| Externos|\n",
    "| weather.csv      | Condiciones meteorológicas por día | Externos|"
   ]
  },
  {
   "cell_type": "code",
   "execution_count": 9,
   "metadata": {},
   "outputs": [],
   "source": [
    "PATH = 'dataset/rossmann/'"
   ]
  },
  {
   "cell_type": "code",
   "execution_count": 10,
   "metadata": {},
   "outputs": [],
   "source": [
    "table_names = ['train', 'store', 'store_states', 'state_names', 'googletrend', 'weather']\n",
    "train, store, store_states, state_names, googletrend, weather = [pd.read_csv(PATH + fname+'.csv', \n",
    "                                                                             low_memory=False) for fname in table_names]"
   ]
  },
  {
   "cell_type": "code",
   "execution_count": 11,
   "metadata": {},
   "outputs": [
    {
     "data": {
      "text/plain": "   Store  DayOfWeek        Date  Sales  Customers  Open  Promo StateHoliday  \\\n0      1          5  2015-07-31   5263        555     1      1            0   \n1      2          5  2015-07-31   6064        625     1      1            0   \n2      3          5  2015-07-31   8314        821     1      1            0   \n3      4          5  2015-07-31  13995       1498     1      1            0   \n4      5          5  2015-07-31   4822        559     1      1            0   \n\n   SchoolHoliday  \n0              1  \n1              1  \n2              1  \n3              1  \n4              1  ",
      "text/html": "<div>\n<style scoped>\n    .dataframe tbody tr th:only-of-type {\n        vertical-align: middle;\n    }\n\n    .dataframe tbody tr th {\n        vertical-align: top;\n    }\n\n    .dataframe thead th {\n        text-align: right;\n    }\n</style>\n<table border=\"1\" class=\"dataframe\">\n  <thead>\n    <tr style=\"text-align: right;\">\n      <th></th>\n      <th>Store</th>\n      <th>DayOfWeek</th>\n      <th>Date</th>\n      <th>Sales</th>\n      <th>Customers</th>\n      <th>Open</th>\n      <th>Promo</th>\n      <th>StateHoliday</th>\n      <th>SchoolHoliday</th>\n    </tr>\n  </thead>\n  <tbody>\n    <tr>\n      <th>0</th>\n      <td>1</td>\n      <td>5</td>\n      <td>2015-07-31</td>\n      <td>5263</td>\n      <td>555</td>\n      <td>1</td>\n      <td>1</td>\n      <td>0</td>\n      <td>1</td>\n    </tr>\n    <tr>\n      <th>1</th>\n      <td>2</td>\n      <td>5</td>\n      <td>2015-07-31</td>\n      <td>6064</td>\n      <td>625</td>\n      <td>1</td>\n      <td>1</td>\n      <td>0</td>\n      <td>1</td>\n    </tr>\n    <tr>\n      <th>2</th>\n      <td>3</td>\n      <td>5</td>\n      <td>2015-07-31</td>\n      <td>8314</td>\n      <td>821</td>\n      <td>1</td>\n      <td>1</td>\n      <td>0</td>\n      <td>1</td>\n    </tr>\n    <tr>\n      <th>3</th>\n      <td>4</td>\n      <td>5</td>\n      <td>2015-07-31</td>\n      <td>13995</td>\n      <td>1498</td>\n      <td>1</td>\n      <td>1</td>\n      <td>0</td>\n      <td>1</td>\n    </tr>\n    <tr>\n      <th>4</th>\n      <td>5</td>\n      <td>5</td>\n      <td>2015-07-31</td>\n      <td>4822</td>\n      <td>559</td>\n      <td>1</td>\n      <td>1</td>\n      <td>0</td>\n      <td>1</td>\n    </tr>\n  </tbody>\n</table>\n</div>"
     },
     "metadata": {},
     "output_type": "display_data"
    },
    {
     "data": {
      "text/plain": "                   Store  DayOfWeek         Date        Sales   Customers  \\\ncount          1017209.0  1017209.0          NaN    1017209.0   1017209.0   \nmean          558.429727   3.998341          NaN  5773.818972  633.145946   \nstd           321.908651   1.997391          NaN  3849.926175  464.411734   \nmin                  1.0        1.0          NaN          0.0         0.0   \n25%                280.0        2.0          NaN       3727.0       405.0   \n50%                558.0        4.0          NaN       5744.0       609.0   \n75%                838.0        6.0          NaN       7856.0       837.0   \nmax               1115.0        7.0          NaN      41551.0      7388.0   \ncounts           1017209    1017209      1017209      1017209     1017209   \nuniques             1115          7          942        21734        4086   \nmissing                0          0            0            0           0   \nmissing_perc          0%         0%           0%           0%          0%   \ntypes            numeric    numeric  categorical      numeric     numeric   \n\n                   Open      Promo StateHoliday SchoolHoliday  \ncount         1017209.0  1017209.0          NaN     1017209.0  \nmean           0.830107   0.381515          NaN      0.178647  \nstd            0.375539   0.485759          NaN      0.383056  \nmin                 0.0        0.0          NaN           0.0  \n25%                 1.0        0.0          NaN           0.0  \n50%                 1.0        0.0          NaN           0.0  \n75%                 1.0        1.0          NaN           0.0  \nmax                 1.0        1.0          NaN           1.0  \ncounts          1017209    1017209      1017209       1017209  \nuniques               2          2            4             2  \nmissing               0          0            0             0  \nmissing_perc         0%         0%           0%            0%  \ntypes              bool       bool  categorical          bool  ",
      "text/html": "<div>\n<style scoped>\n    .dataframe tbody tr th:only-of-type {\n        vertical-align: middle;\n    }\n\n    .dataframe tbody tr th {\n        vertical-align: top;\n    }\n\n    .dataframe thead th {\n        text-align: right;\n    }\n</style>\n<table border=\"1\" class=\"dataframe\">\n  <thead>\n    <tr style=\"text-align: right;\">\n      <th></th>\n      <th>Store</th>\n      <th>DayOfWeek</th>\n      <th>Date</th>\n      <th>Sales</th>\n      <th>Customers</th>\n      <th>Open</th>\n      <th>Promo</th>\n      <th>StateHoliday</th>\n      <th>SchoolHoliday</th>\n    </tr>\n  </thead>\n  <tbody>\n    <tr>\n      <th>count</th>\n      <td>1017209.0</td>\n      <td>1017209.0</td>\n      <td>NaN</td>\n      <td>1017209.0</td>\n      <td>1017209.0</td>\n      <td>1017209.0</td>\n      <td>1017209.0</td>\n      <td>NaN</td>\n      <td>1017209.0</td>\n    </tr>\n    <tr>\n      <th>mean</th>\n      <td>558.429727</td>\n      <td>3.998341</td>\n      <td>NaN</td>\n      <td>5773.818972</td>\n      <td>633.145946</td>\n      <td>0.830107</td>\n      <td>0.381515</td>\n      <td>NaN</td>\n      <td>0.178647</td>\n    </tr>\n    <tr>\n      <th>std</th>\n      <td>321.908651</td>\n      <td>1.997391</td>\n      <td>NaN</td>\n      <td>3849.926175</td>\n      <td>464.411734</td>\n      <td>0.375539</td>\n      <td>0.485759</td>\n      <td>NaN</td>\n      <td>0.383056</td>\n    </tr>\n    <tr>\n      <th>min</th>\n      <td>1.0</td>\n      <td>1.0</td>\n      <td>NaN</td>\n      <td>0.0</td>\n      <td>0.0</td>\n      <td>0.0</td>\n      <td>0.0</td>\n      <td>NaN</td>\n      <td>0.0</td>\n    </tr>\n    <tr>\n      <th>25%</th>\n      <td>280.0</td>\n      <td>2.0</td>\n      <td>NaN</td>\n      <td>3727.0</td>\n      <td>405.0</td>\n      <td>1.0</td>\n      <td>0.0</td>\n      <td>NaN</td>\n      <td>0.0</td>\n    </tr>\n    <tr>\n      <th>50%</th>\n      <td>558.0</td>\n      <td>4.0</td>\n      <td>NaN</td>\n      <td>5744.0</td>\n      <td>609.0</td>\n      <td>1.0</td>\n      <td>0.0</td>\n      <td>NaN</td>\n      <td>0.0</td>\n    </tr>\n    <tr>\n      <th>75%</th>\n      <td>838.0</td>\n      <td>6.0</td>\n      <td>NaN</td>\n      <td>7856.0</td>\n      <td>837.0</td>\n      <td>1.0</td>\n      <td>1.0</td>\n      <td>NaN</td>\n      <td>0.0</td>\n    </tr>\n    <tr>\n      <th>max</th>\n      <td>1115.0</td>\n      <td>7.0</td>\n      <td>NaN</td>\n      <td>41551.0</td>\n      <td>7388.0</td>\n      <td>1.0</td>\n      <td>1.0</td>\n      <td>NaN</td>\n      <td>1.0</td>\n    </tr>\n    <tr>\n      <th>counts</th>\n      <td>1017209</td>\n      <td>1017209</td>\n      <td>1017209</td>\n      <td>1017209</td>\n      <td>1017209</td>\n      <td>1017209</td>\n      <td>1017209</td>\n      <td>1017209</td>\n      <td>1017209</td>\n    </tr>\n    <tr>\n      <th>uniques</th>\n      <td>1115</td>\n      <td>7</td>\n      <td>942</td>\n      <td>21734</td>\n      <td>4086</td>\n      <td>2</td>\n      <td>2</td>\n      <td>4</td>\n      <td>2</td>\n    </tr>\n    <tr>\n      <th>missing</th>\n      <td>0</td>\n      <td>0</td>\n      <td>0</td>\n      <td>0</td>\n      <td>0</td>\n      <td>0</td>\n      <td>0</td>\n      <td>0</td>\n      <td>0</td>\n    </tr>\n    <tr>\n      <th>missing_perc</th>\n      <td>0%</td>\n      <td>0%</td>\n      <td>0%</td>\n      <td>0%</td>\n      <td>0%</td>\n      <td>0%</td>\n      <td>0%</td>\n      <td>0%</td>\n      <td>0%</td>\n    </tr>\n    <tr>\n      <th>types</th>\n      <td>numeric</td>\n      <td>numeric</td>\n      <td>categorical</td>\n      <td>numeric</td>\n      <td>numeric</td>\n      <td>bool</td>\n      <td>bool</td>\n      <td>categorical</td>\n      <td>bool</td>\n    </tr>\n  </tbody>\n</table>\n</div>"
     },
     "metadata": {},
     "output_type": "display_data"
    }
   ],
   "source": [
    "display(train.head())\n",
    "display(DataFrameSummary(train).summary())"
   ]
  },
  {
   "cell_type": "markdown",
   "metadata": {},
   "source": [
    "- Mirar counts que todos tienen la misma cantidad\n",
    "- Ninguno tiene missing\n",
    "- Los tipos tambien es interesante observar"
   ]
  },
  {
   "cell_type": "code",
   "execution_count": 12,
   "metadata": {},
   "outputs": [
    {
     "data": {
      "text/plain": "0    986159\na     20260\nb      6690\nc      4100\nName: StateHoliday, dtype: int64"
     },
     "execution_count": 12,
     "metadata": {},
     "output_type": "execute_result"
    }
   ],
   "source": [
    "train['StateHoliday'].value_counts()"
   ]
  },
  {
   "cell_type": "code",
   "execution_count": 13,
   "metadata": {},
   "outputs": [
    {
     "data": {
      "text/plain": "   Store StoreType Assortment  CompetitionDistance  CompetitionOpenSinceMonth  \\\n0      1         c          a               1270.0                        9.0   \n1      2         a          a                570.0                       11.0   \n2      3         a          a              14130.0                       12.0   \n3      4         c          c                620.0                        9.0   \n4      5         a          a              29910.0                        4.0   \n\n   CompetitionOpenSinceYear  Promo2  Promo2SinceWeek  Promo2SinceYear  \\\n0                    2008.0       0              NaN              NaN   \n1                    2007.0       1             13.0           2010.0   \n2                    2006.0       1             14.0           2011.0   \n3                    2009.0       0              NaN              NaN   \n4                    2015.0       0              NaN              NaN   \n\n     PromoInterval  \n0              NaN  \n1  Jan,Apr,Jul,Oct  \n2  Jan,Apr,Jul,Oct  \n3              NaN  \n4              NaN  ",
      "text/html": "<div>\n<style scoped>\n    .dataframe tbody tr th:only-of-type {\n        vertical-align: middle;\n    }\n\n    .dataframe tbody tr th {\n        vertical-align: top;\n    }\n\n    .dataframe thead th {\n        text-align: right;\n    }\n</style>\n<table border=\"1\" class=\"dataframe\">\n  <thead>\n    <tr style=\"text-align: right;\">\n      <th></th>\n      <th>Store</th>\n      <th>StoreType</th>\n      <th>Assortment</th>\n      <th>CompetitionDistance</th>\n      <th>CompetitionOpenSinceMonth</th>\n      <th>CompetitionOpenSinceYear</th>\n      <th>Promo2</th>\n      <th>Promo2SinceWeek</th>\n      <th>Promo2SinceYear</th>\n      <th>PromoInterval</th>\n    </tr>\n  </thead>\n  <tbody>\n    <tr>\n      <th>0</th>\n      <td>1</td>\n      <td>c</td>\n      <td>a</td>\n      <td>1270.0</td>\n      <td>9.0</td>\n      <td>2008.0</td>\n      <td>0</td>\n      <td>NaN</td>\n      <td>NaN</td>\n      <td>NaN</td>\n    </tr>\n    <tr>\n      <th>1</th>\n      <td>2</td>\n      <td>a</td>\n      <td>a</td>\n      <td>570.0</td>\n      <td>11.0</td>\n      <td>2007.0</td>\n      <td>1</td>\n      <td>13.0</td>\n      <td>2010.0</td>\n      <td>Jan,Apr,Jul,Oct</td>\n    </tr>\n    <tr>\n      <th>2</th>\n      <td>3</td>\n      <td>a</td>\n      <td>a</td>\n      <td>14130.0</td>\n      <td>12.0</td>\n      <td>2006.0</td>\n      <td>1</td>\n      <td>14.0</td>\n      <td>2011.0</td>\n      <td>Jan,Apr,Jul,Oct</td>\n    </tr>\n    <tr>\n      <th>3</th>\n      <td>4</td>\n      <td>c</td>\n      <td>c</td>\n      <td>620.0</td>\n      <td>9.0</td>\n      <td>2009.0</td>\n      <td>0</td>\n      <td>NaN</td>\n      <td>NaN</td>\n      <td>NaN</td>\n    </tr>\n    <tr>\n      <th>4</th>\n      <td>5</td>\n      <td>a</td>\n      <td>a</td>\n      <td>29910.0</td>\n      <td>4.0</td>\n      <td>2015.0</td>\n      <td>0</td>\n      <td>NaN</td>\n      <td>NaN</td>\n      <td>NaN</td>\n    </tr>\n  </tbody>\n</table>\n</div>"
     },
     "metadata": {},
     "output_type": "display_data"
    },
    {
     "data": {
      "text/plain": "                  Store    StoreType   Assortment CompetitionDistance  \\\ncount            1115.0          NaN          NaN              1112.0   \nmean              558.0          NaN          NaN         5404.901079   \nstd           322.01708          NaN          NaN          7663.17472   \nmin                 1.0          NaN          NaN                20.0   \n25%               279.5          NaN          NaN               717.5   \n50%               558.0          NaN          NaN              2325.0   \n75%               836.5          NaN          NaN              6882.5   \nmax              1115.0          NaN          NaN             75860.0   \ncounts             1115         1115         1115                1112   \nuniques            1115            4            3                 654   \nmissing               0            0            0                   3   \nmissing_perc         0%           0%           0%               0.27%   \ntypes           numeric  categorical  categorical             numeric   \n\n             CompetitionOpenSinceMonth CompetitionOpenSinceYear    Promo2  \\\ncount                            761.0                    761.0    1115.0   \nmean                          7.224704              2008.668857  0.512108   \nstd                           3.212348                 6.195983  0.500078   \nmin                                1.0                   1900.0       0.0   \n25%                                4.0                   2006.0       0.0   \n50%                                8.0                   2010.0       1.0   \n75%                               10.0                   2013.0       1.0   \nmax                               12.0                   2015.0       1.0   \ncounts                             761                      761      1115   \nuniques                             12                       23         2   \nmissing                            354                      354         0   \nmissing_perc                    31.75%                   31.75%        0%   \ntypes                          numeric                  numeric      bool   \n\n             Promo2SinceWeek Promo2SinceYear PromoInterval  \ncount                  571.0           571.0           NaN  \nmean               23.595447     2011.763573           NaN  \nstd                14.141984        1.674935           NaN  \nmin                      1.0          2009.0           NaN  \n25%                     13.0          2011.0           NaN  \n50%                     22.0          2012.0           NaN  \n75%                     37.0          2013.0           NaN  \nmax                     50.0          2015.0           NaN  \ncounts                   571             571           571  \nuniques                   24               7             3  \nmissing                  544             544           544  \nmissing_perc          48.79%          48.79%        48.79%  \ntypes                numeric         numeric   categorical  ",
      "text/html": "<div>\n<style scoped>\n    .dataframe tbody tr th:only-of-type {\n        vertical-align: middle;\n    }\n\n    .dataframe tbody tr th {\n        vertical-align: top;\n    }\n\n    .dataframe thead th {\n        text-align: right;\n    }\n</style>\n<table border=\"1\" class=\"dataframe\">\n  <thead>\n    <tr style=\"text-align: right;\">\n      <th></th>\n      <th>Store</th>\n      <th>StoreType</th>\n      <th>Assortment</th>\n      <th>CompetitionDistance</th>\n      <th>CompetitionOpenSinceMonth</th>\n      <th>CompetitionOpenSinceYear</th>\n      <th>Promo2</th>\n      <th>Promo2SinceWeek</th>\n      <th>Promo2SinceYear</th>\n      <th>PromoInterval</th>\n    </tr>\n  </thead>\n  <tbody>\n    <tr>\n      <th>count</th>\n      <td>1115.0</td>\n      <td>NaN</td>\n      <td>NaN</td>\n      <td>1112.0</td>\n      <td>761.0</td>\n      <td>761.0</td>\n      <td>1115.0</td>\n      <td>571.0</td>\n      <td>571.0</td>\n      <td>NaN</td>\n    </tr>\n    <tr>\n      <th>mean</th>\n      <td>558.0</td>\n      <td>NaN</td>\n      <td>NaN</td>\n      <td>5404.901079</td>\n      <td>7.224704</td>\n      <td>2008.668857</td>\n      <td>0.512108</td>\n      <td>23.595447</td>\n      <td>2011.763573</td>\n      <td>NaN</td>\n    </tr>\n    <tr>\n      <th>std</th>\n      <td>322.01708</td>\n      <td>NaN</td>\n      <td>NaN</td>\n      <td>7663.17472</td>\n      <td>3.212348</td>\n      <td>6.195983</td>\n      <td>0.500078</td>\n      <td>14.141984</td>\n      <td>1.674935</td>\n      <td>NaN</td>\n    </tr>\n    <tr>\n      <th>min</th>\n      <td>1.0</td>\n      <td>NaN</td>\n      <td>NaN</td>\n      <td>20.0</td>\n      <td>1.0</td>\n      <td>1900.0</td>\n      <td>0.0</td>\n      <td>1.0</td>\n      <td>2009.0</td>\n      <td>NaN</td>\n    </tr>\n    <tr>\n      <th>25%</th>\n      <td>279.5</td>\n      <td>NaN</td>\n      <td>NaN</td>\n      <td>717.5</td>\n      <td>4.0</td>\n      <td>2006.0</td>\n      <td>0.0</td>\n      <td>13.0</td>\n      <td>2011.0</td>\n      <td>NaN</td>\n    </tr>\n    <tr>\n      <th>50%</th>\n      <td>558.0</td>\n      <td>NaN</td>\n      <td>NaN</td>\n      <td>2325.0</td>\n      <td>8.0</td>\n      <td>2010.0</td>\n      <td>1.0</td>\n      <td>22.0</td>\n      <td>2012.0</td>\n      <td>NaN</td>\n    </tr>\n    <tr>\n      <th>75%</th>\n      <td>836.5</td>\n      <td>NaN</td>\n      <td>NaN</td>\n      <td>6882.5</td>\n      <td>10.0</td>\n      <td>2013.0</td>\n      <td>1.0</td>\n      <td>37.0</td>\n      <td>2013.0</td>\n      <td>NaN</td>\n    </tr>\n    <tr>\n      <th>max</th>\n      <td>1115.0</td>\n      <td>NaN</td>\n      <td>NaN</td>\n      <td>75860.0</td>\n      <td>12.0</td>\n      <td>2015.0</td>\n      <td>1.0</td>\n      <td>50.0</td>\n      <td>2015.0</td>\n      <td>NaN</td>\n    </tr>\n    <tr>\n      <th>counts</th>\n      <td>1115</td>\n      <td>1115</td>\n      <td>1115</td>\n      <td>1112</td>\n      <td>761</td>\n      <td>761</td>\n      <td>1115</td>\n      <td>571</td>\n      <td>571</td>\n      <td>571</td>\n    </tr>\n    <tr>\n      <th>uniques</th>\n      <td>1115</td>\n      <td>4</td>\n      <td>3</td>\n      <td>654</td>\n      <td>12</td>\n      <td>23</td>\n      <td>2</td>\n      <td>24</td>\n      <td>7</td>\n      <td>3</td>\n    </tr>\n    <tr>\n      <th>missing</th>\n      <td>0</td>\n      <td>0</td>\n      <td>0</td>\n      <td>3</td>\n      <td>354</td>\n      <td>354</td>\n      <td>0</td>\n      <td>544</td>\n      <td>544</td>\n      <td>544</td>\n    </tr>\n    <tr>\n      <th>missing_perc</th>\n      <td>0%</td>\n      <td>0%</td>\n      <td>0%</td>\n      <td>0.27%</td>\n      <td>31.75%</td>\n      <td>31.75%</td>\n      <td>0%</td>\n      <td>48.79%</td>\n      <td>48.79%</td>\n      <td>48.79%</td>\n    </tr>\n    <tr>\n      <th>types</th>\n      <td>numeric</td>\n      <td>categorical</td>\n      <td>categorical</td>\n      <td>numeric</td>\n      <td>numeric</td>\n      <td>numeric</td>\n      <td>bool</td>\n      <td>numeric</td>\n      <td>numeric</td>\n      <td>categorical</td>\n    </tr>\n  </tbody>\n</table>\n</div>"
     },
     "metadata": {},
     "output_type": "display_data"
    }
   ],
   "source": [
    "display(store.head())\n",
    "display(DataFrameSummary(store).summary())"
   ]
  },
  {
   "cell_type": "markdown",
   "metadata": {},
   "source": [
    "Descripción de algunas columnas que quizas no sean tan claras:\n",
    "\n",
    "- `Customers`: La cantidad de clientes por día\n",
    "- `Open`: Indicador si el store estaba abierto o cerrado: 0 = closed, 1 = open\n",
    "- `StateHoliday`: Indica feriado en ese estado. a = public holiday, b = Easter holiday, c = Christmas, 0 = None\n",
    "- `SchoolHoliday`: Inidica si el store fue afectado por el feriado escolar\n",
    "- `StoreType`: Tipos de store: a, b, c, d\n",
    "- `Assortment`: Describe el nivel de surtido de la tienda: a = basic, b = extra, c = extended\n",
    "- `CompetitionDistance`: Distancia en metros al competidor\n",
    "- `CompetitionOpenSince[Month/Year]`: Fecha en que abrío la competencia\n",
    "- `Promo`: Si el store esta corriendo una promoción ese día\n",
    "- `Promo2`: Promo2 is a continuing and consecutive promotion for some stores: 0 = store is not participating, 1 = store is participating\n",
    "- `Promo2Since[Year/Week]`: describes the year and calendar week when the store started participating in Promo2\n",
    "- `PromoInterval`: describes the consecutive intervals Promo2 is started, naming the months the promotion is started anew. E.g. \"Feb,May,Aug,Nov\" means each round starts in February, May, August, November of any given year for that store\n"
   ]
  },
  {
   "cell_type": "code",
   "execution_count": 14,
   "metadata": {},
   "outputs": [
    {
     "data": {
      "text/plain": "a    602\nd    348\nc    148\nb     17\nName: StoreType, dtype: int64"
     },
     "execution_count": 14,
     "metadata": {},
     "output_type": "execute_result"
    }
   ],
   "source": [
    "store['StoreType'].value_counts()"
   ]
  },
  {
   "cell_type": "code",
   "execution_count": 15,
   "metadata": {},
   "outputs": [
    {
     "data": {
      "text/plain": "Jan,Apr,Jul,Oct     335\nFeb,May,Aug,Nov     130\nMar,Jun,Sept,Dec    106\nName: PromoInterval, dtype: int64"
     },
     "execution_count": 15,
     "metadata": {},
     "output_type": "execute_result"
    }
   ],
   "source": [
    "store['PromoInterval'].value_counts()"
   ]
  },
  {
   "cell_type": "code",
   "execution_count": 16,
   "metadata": {},
   "outputs": [
    {
     "data": {
      "text/plain": "    Store  State\n0       1     HE\n1       2     TH\n2       3     NW\n3       4     BE\n4       5     SN\n5       6     SN\n6       7     SH\n7       8     SH\n8       9     NW\n9      10  HB,NI\n10     11     SH\n11     12     SH\n12     13     BY\n13     14     NW\n14     15     SH\n15     16     BW\n16     17     TH\n17     18     TH\n18     19     NW\n19     20     BY",
      "text/html": "<div>\n<style scoped>\n    .dataframe tbody tr th:only-of-type {\n        vertical-align: middle;\n    }\n\n    .dataframe tbody tr th {\n        vertical-align: top;\n    }\n\n    .dataframe thead th {\n        text-align: right;\n    }\n</style>\n<table border=\"1\" class=\"dataframe\">\n  <thead>\n    <tr style=\"text-align: right;\">\n      <th></th>\n      <th>Store</th>\n      <th>State</th>\n    </tr>\n  </thead>\n  <tbody>\n    <tr>\n      <th>0</th>\n      <td>1</td>\n      <td>HE</td>\n    </tr>\n    <tr>\n      <th>1</th>\n      <td>2</td>\n      <td>TH</td>\n    </tr>\n    <tr>\n      <th>2</th>\n      <td>3</td>\n      <td>NW</td>\n    </tr>\n    <tr>\n      <th>3</th>\n      <td>4</td>\n      <td>BE</td>\n    </tr>\n    <tr>\n      <th>4</th>\n      <td>5</td>\n      <td>SN</td>\n    </tr>\n    <tr>\n      <th>5</th>\n      <td>6</td>\n      <td>SN</td>\n    </tr>\n    <tr>\n      <th>6</th>\n      <td>7</td>\n      <td>SH</td>\n    </tr>\n    <tr>\n      <th>7</th>\n      <td>8</td>\n      <td>SH</td>\n    </tr>\n    <tr>\n      <th>8</th>\n      <td>9</td>\n      <td>NW</td>\n    </tr>\n    <tr>\n      <th>9</th>\n      <td>10</td>\n      <td>HB,NI</td>\n    </tr>\n    <tr>\n      <th>10</th>\n      <td>11</td>\n      <td>SH</td>\n    </tr>\n    <tr>\n      <th>11</th>\n      <td>12</td>\n      <td>SH</td>\n    </tr>\n    <tr>\n      <th>12</th>\n      <td>13</td>\n      <td>BY</td>\n    </tr>\n    <tr>\n      <th>13</th>\n      <td>14</td>\n      <td>NW</td>\n    </tr>\n    <tr>\n      <th>14</th>\n      <td>15</td>\n      <td>SH</td>\n    </tr>\n    <tr>\n      <th>15</th>\n      <td>16</td>\n      <td>BW</td>\n    </tr>\n    <tr>\n      <th>16</th>\n      <td>17</td>\n      <td>TH</td>\n    </tr>\n    <tr>\n      <th>17</th>\n      <td>18</td>\n      <td>TH</td>\n    </tr>\n    <tr>\n      <th>18</th>\n      <td>19</td>\n      <td>NW</td>\n    </tr>\n    <tr>\n      <th>19</th>\n      <td>20</td>\n      <td>BY</td>\n    </tr>\n  </tbody>\n</table>\n</div>"
     },
     "metadata": {},
     "output_type": "display_data"
    },
    {
     "data": {
      "text/plain": "                  Store        State\ncount            1115.0          NaN\nmean              558.0          NaN\nstd           322.01708          NaN\nmin                 1.0          NaN\n25%               279.5          NaN\n50%               558.0          NaN\n75%               836.5          NaN\nmax              1115.0          NaN\ncounts             1115         1115\nuniques            1115           12\nmissing               0            0\nmissing_perc         0%           0%\ntypes           numeric  categorical",
      "text/html": "<div>\n<style scoped>\n    .dataframe tbody tr th:only-of-type {\n        vertical-align: middle;\n    }\n\n    .dataframe tbody tr th {\n        vertical-align: top;\n    }\n\n    .dataframe thead th {\n        text-align: right;\n    }\n</style>\n<table border=\"1\" class=\"dataframe\">\n  <thead>\n    <tr style=\"text-align: right;\">\n      <th></th>\n      <th>Store</th>\n      <th>State</th>\n    </tr>\n  </thead>\n  <tbody>\n    <tr>\n      <th>count</th>\n      <td>1115.0</td>\n      <td>NaN</td>\n    </tr>\n    <tr>\n      <th>mean</th>\n      <td>558.0</td>\n      <td>NaN</td>\n    </tr>\n    <tr>\n      <th>std</th>\n      <td>322.01708</td>\n      <td>NaN</td>\n    </tr>\n    <tr>\n      <th>min</th>\n      <td>1.0</td>\n      <td>NaN</td>\n    </tr>\n    <tr>\n      <th>25%</th>\n      <td>279.5</td>\n      <td>NaN</td>\n    </tr>\n    <tr>\n      <th>50%</th>\n      <td>558.0</td>\n      <td>NaN</td>\n    </tr>\n    <tr>\n      <th>75%</th>\n      <td>836.5</td>\n      <td>NaN</td>\n    </tr>\n    <tr>\n      <th>max</th>\n      <td>1115.0</td>\n      <td>NaN</td>\n    </tr>\n    <tr>\n      <th>counts</th>\n      <td>1115</td>\n      <td>1115</td>\n    </tr>\n    <tr>\n      <th>uniques</th>\n      <td>1115</td>\n      <td>12</td>\n    </tr>\n    <tr>\n      <th>missing</th>\n      <td>0</td>\n      <td>0</td>\n    </tr>\n    <tr>\n      <th>missing_perc</th>\n      <td>0%</td>\n      <td>0%</td>\n    </tr>\n    <tr>\n      <th>types</th>\n      <td>numeric</td>\n      <td>categorical</td>\n    </tr>\n  </tbody>\n</table>\n</div>"
     },
     "metadata": {},
     "output_type": "display_data"
    }
   ],
   "source": [
    "display(store_states.head(20))\n",
    "display(DataFrameSummary(store_states).summary())"
   ]
  },
  {
   "cell_type": "code",
   "execution_count": 17,
   "metadata": {},
   "outputs": [
    {
     "data": {
      "text/plain": "                StateName  State\n0       BadenWuerttemberg     BW\n1                  Bayern     BY\n2                  Berlin     BE\n3             Brandenburg     BB\n4                  Bremen     HB\n5                 Hamburg     HH\n6                  Hessen     HE\n7   MecklenburgVorpommern     MV\n8           Niedersachsen  HB,NI\n9      NordrheinWestfalen     NW\n10         RheinlandPfalz     RP\n11               Saarland     SL\n12                Sachsen     SN\n13          SachsenAnhalt     ST\n14      SchleswigHolstein     SH\n15             Thueringen     TH",
      "text/html": "<div>\n<style scoped>\n    .dataframe tbody tr th:only-of-type {\n        vertical-align: middle;\n    }\n\n    .dataframe tbody tr th {\n        vertical-align: top;\n    }\n\n    .dataframe thead th {\n        text-align: right;\n    }\n</style>\n<table border=\"1\" class=\"dataframe\">\n  <thead>\n    <tr style=\"text-align: right;\">\n      <th></th>\n      <th>StateName</th>\n      <th>State</th>\n    </tr>\n  </thead>\n  <tbody>\n    <tr>\n      <th>0</th>\n      <td>BadenWuerttemberg</td>\n      <td>BW</td>\n    </tr>\n    <tr>\n      <th>1</th>\n      <td>Bayern</td>\n      <td>BY</td>\n    </tr>\n    <tr>\n      <th>2</th>\n      <td>Berlin</td>\n      <td>BE</td>\n    </tr>\n    <tr>\n      <th>3</th>\n      <td>Brandenburg</td>\n      <td>BB</td>\n    </tr>\n    <tr>\n      <th>4</th>\n      <td>Bremen</td>\n      <td>HB</td>\n    </tr>\n    <tr>\n      <th>5</th>\n      <td>Hamburg</td>\n      <td>HH</td>\n    </tr>\n    <tr>\n      <th>6</th>\n      <td>Hessen</td>\n      <td>HE</td>\n    </tr>\n    <tr>\n      <th>7</th>\n      <td>MecklenburgVorpommern</td>\n      <td>MV</td>\n    </tr>\n    <tr>\n      <th>8</th>\n      <td>Niedersachsen</td>\n      <td>HB,NI</td>\n    </tr>\n    <tr>\n      <th>9</th>\n      <td>NordrheinWestfalen</td>\n      <td>NW</td>\n    </tr>\n    <tr>\n      <th>10</th>\n      <td>RheinlandPfalz</td>\n      <td>RP</td>\n    </tr>\n    <tr>\n      <th>11</th>\n      <td>Saarland</td>\n      <td>SL</td>\n    </tr>\n    <tr>\n      <th>12</th>\n      <td>Sachsen</td>\n      <td>SN</td>\n    </tr>\n    <tr>\n      <th>13</th>\n      <td>SachsenAnhalt</td>\n      <td>ST</td>\n    </tr>\n    <tr>\n      <th>14</th>\n      <td>SchleswigHolstein</td>\n      <td>SH</td>\n    </tr>\n    <tr>\n      <th>15</th>\n      <td>Thueringen</td>\n      <td>TH</td>\n    </tr>\n  </tbody>\n</table>\n</div>"
     },
     "metadata": {},
     "output_type": "display_data"
    },
    {
     "data": {
      "text/plain": "                      StateName   State\ncount                        16      16\nunique                       16      16\ntop           BadenWuerttemberg      BW\nfreq                          1       1\ncounts                       16      16\nuniques                      16      16\nmissing                       0       0\nmissing_perc                 0%      0%\ntypes                    unique  unique",
      "text/html": "<div>\n<style scoped>\n    .dataframe tbody tr th:only-of-type {\n        vertical-align: middle;\n    }\n\n    .dataframe tbody tr th {\n        vertical-align: top;\n    }\n\n    .dataframe thead th {\n        text-align: right;\n    }\n</style>\n<table border=\"1\" class=\"dataframe\">\n  <thead>\n    <tr style=\"text-align: right;\">\n      <th></th>\n      <th>StateName</th>\n      <th>State</th>\n    </tr>\n  </thead>\n  <tbody>\n    <tr>\n      <th>count</th>\n      <td>16</td>\n      <td>16</td>\n    </tr>\n    <tr>\n      <th>unique</th>\n      <td>16</td>\n      <td>16</td>\n    </tr>\n    <tr>\n      <th>top</th>\n      <td>BadenWuerttemberg</td>\n      <td>BW</td>\n    </tr>\n    <tr>\n      <th>freq</th>\n      <td>1</td>\n      <td>1</td>\n    </tr>\n    <tr>\n      <th>counts</th>\n      <td>16</td>\n      <td>16</td>\n    </tr>\n    <tr>\n      <th>uniques</th>\n      <td>16</td>\n      <td>16</td>\n    </tr>\n    <tr>\n      <th>missing</th>\n      <td>0</td>\n      <td>0</td>\n    </tr>\n    <tr>\n      <th>missing_perc</th>\n      <td>0%</td>\n      <td>0%</td>\n    </tr>\n    <tr>\n      <th>types</th>\n      <td>unique</td>\n      <td>unique</td>\n    </tr>\n  </tbody>\n</table>\n</div>"
     },
     "metadata": {},
     "output_type": "display_data"
    }
   ],
   "source": [
    "display(state_names.head(20))\n",
    "display(DataFrameSummary(state_names).summary())"
   ]
  },
  {
   "cell_type": "code",
   "execution_count": 18,
   "metadata": {},
   "outputs": [
    {
     "data": {
      "text/plain": "                file                     week  trend\n0     Rossmann_DE_SN  2012-12-02 - 2012-12-08     96\n1     Rossmann_DE_SN  2012-12-09 - 2012-12-15     95\n2     Rossmann_DE_SN  2012-12-16 - 2012-12-22     91\n3     Rossmann_DE_SN  2012-12-23 - 2012-12-29     48\n4     Rossmann_DE_SN  2012-12-30 - 2013-01-05     67\n...              ...                      ...    ...\n2067  Rossmann_DE_SL  2015-08-30 - 2015-09-05     95\n2068  Rossmann_DE_SL  2015-09-06 - 2015-09-12     47\n2069  Rossmann_DE_SL  2015-09-13 - 2015-09-19     80\n2070  Rossmann_DE_SL  2015-09-20 - 2015-09-26     57\n2071  Rossmann_DE_SL  2015-09-27 - 2015-10-03      0\n\n[2072 rows x 3 columns]",
      "text/html": "<div>\n<style scoped>\n    .dataframe tbody tr th:only-of-type {\n        vertical-align: middle;\n    }\n\n    .dataframe tbody tr th {\n        vertical-align: top;\n    }\n\n    .dataframe thead th {\n        text-align: right;\n    }\n</style>\n<table border=\"1\" class=\"dataframe\">\n  <thead>\n    <tr style=\"text-align: right;\">\n      <th></th>\n      <th>file</th>\n      <th>week</th>\n      <th>trend</th>\n    </tr>\n  </thead>\n  <tbody>\n    <tr>\n      <th>0</th>\n      <td>Rossmann_DE_SN</td>\n      <td>2012-12-02 - 2012-12-08</td>\n      <td>96</td>\n    </tr>\n    <tr>\n      <th>1</th>\n      <td>Rossmann_DE_SN</td>\n      <td>2012-12-09 - 2012-12-15</td>\n      <td>95</td>\n    </tr>\n    <tr>\n      <th>2</th>\n      <td>Rossmann_DE_SN</td>\n      <td>2012-12-16 - 2012-12-22</td>\n      <td>91</td>\n    </tr>\n    <tr>\n      <th>3</th>\n      <td>Rossmann_DE_SN</td>\n      <td>2012-12-23 - 2012-12-29</td>\n      <td>48</td>\n    </tr>\n    <tr>\n      <th>4</th>\n      <td>Rossmann_DE_SN</td>\n      <td>2012-12-30 - 2013-01-05</td>\n      <td>67</td>\n    </tr>\n    <tr>\n      <th>...</th>\n      <td>...</td>\n      <td>...</td>\n      <td>...</td>\n    </tr>\n    <tr>\n      <th>2067</th>\n      <td>Rossmann_DE_SL</td>\n      <td>2015-08-30 - 2015-09-05</td>\n      <td>95</td>\n    </tr>\n    <tr>\n      <th>2068</th>\n      <td>Rossmann_DE_SL</td>\n      <td>2015-09-06 - 2015-09-12</td>\n      <td>47</td>\n    </tr>\n    <tr>\n      <th>2069</th>\n      <td>Rossmann_DE_SL</td>\n      <td>2015-09-13 - 2015-09-19</td>\n      <td>80</td>\n    </tr>\n    <tr>\n      <th>2070</th>\n      <td>Rossmann_DE_SL</td>\n      <td>2015-09-20 - 2015-09-26</td>\n      <td>57</td>\n    </tr>\n    <tr>\n      <th>2071</th>\n      <td>Rossmann_DE_SL</td>\n      <td>2015-09-27 - 2015-10-03</td>\n      <td>0</td>\n    </tr>\n  </tbody>\n</table>\n<p>2072 rows × 3 columns</p>\n</div>"
     },
     "metadata": {},
     "output_type": "display_data"
    },
    {
     "data": {
      "text/plain": "                     file         week      trend\ncount                 NaN          NaN     2072.0\nmean                  NaN          NaN  63.814189\nstd                   NaN          NaN  12.650246\nmin                   NaN          NaN        0.0\n25%                   NaN          NaN       55.0\n50%                   NaN          NaN       64.0\n75%                   NaN          NaN       72.0\nmax                   NaN          NaN      100.0\ncounts               2072         2072       2072\nuniques                14          148         68\nmissing                 0            0          0\nmissing_perc           0%           0%         0%\ntypes         categorical  categorical    numeric",
      "text/html": "<div>\n<style scoped>\n    .dataframe tbody tr th:only-of-type {\n        vertical-align: middle;\n    }\n\n    .dataframe tbody tr th {\n        vertical-align: top;\n    }\n\n    .dataframe thead th {\n        text-align: right;\n    }\n</style>\n<table border=\"1\" class=\"dataframe\">\n  <thead>\n    <tr style=\"text-align: right;\">\n      <th></th>\n      <th>file</th>\n      <th>week</th>\n      <th>trend</th>\n    </tr>\n  </thead>\n  <tbody>\n    <tr>\n      <th>count</th>\n      <td>NaN</td>\n      <td>NaN</td>\n      <td>2072.0</td>\n    </tr>\n    <tr>\n      <th>mean</th>\n      <td>NaN</td>\n      <td>NaN</td>\n      <td>63.814189</td>\n    </tr>\n    <tr>\n      <th>std</th>\n      <td>NaN</td>\n      <td>NaN</td>\n      <td>12.650246</td>\n    </tr>\n    <tr>\n      <th>min</th>\n      <td>NaN</td>\n      <td>NaN</td>\n      <td>0.0</td>\n    </tr>\n    <tr>\n      <th>25%</th>\n      <td>NaN</td>\n      <td>NaN</td>\n      <td>55.0</td>\n    </tr>\n    <tr>\n      <th>50%</th>\n      <td>NaN</td>\n      <td>NaN</td>\n      <td>64.0</td>\n    </tr>\n    <tr>\n      <th>75%</th>\n      <td>NaN</td>\n      <td>NaN</td>\n      <td>72.0</td>\n    </tr>\n    <tr>\n      <th>max</th>\n      <td>NaN</td>\n      <td>NaN</td>\n      <td>100.0</td>\n    </tr>\n    <tr>\n      <th>counts</th>\n      <td>2072</td>\n      <td>2072</td>\n      <td>2072</td>\n    </tr>\n    <tr>\n      <th>uniques</th>\n      <td>14</td>\n      <td>148</td>\n      <td>68</td>\n    </tr>\n    <tr>\n      <th>missing</th>\n      <td>0</td>\n      <td>0</td>\n      <td>0</td>\n    </tr>\n    <tr>\n      <th>missing_perc</th>\n      <td>0%</td>\n      <td>0%</td>\n      <td>0%</td>\n    </tr>\n    <tr>\n      <th>types</th>\n      <td>categorical</td>\n      <td>categorical</td>\n      <td>numeric</td>\n    </tr>\n  </tbody>\n</table>\n</div>"
     },
     "metadata": {},
     "output_type": "display_data"
    }
   ],
   "source": [
    "display(googletrend)\n",
    "display(DataFrameSummary(googletrend).summary())"
   ]
  },
  {
   "cell_type": "code",
   "execution_count": 19,
   "metadata": {},
   "outputs": [
    {
     "data": {
      "text/plain": "                     file        Date  Max_TemperatureC  Mean_TemperatureC  \\\n0      NordrheinWestfalen  2013-01-01                 8                  4   \n1      NordrheinWestfalen  2013-01-02                 7                  4   \n2      NordrheinWestfalen  2013-01-03                11                  8   \n3      NordrheinWestfalen  2013-01-04                 9                  9   \n4      NordrheinWestfalen  2013-01-05                 8                  8   \n...                   ...         ...               ...                ...   \n15835            Saarland  2015-09-13                21                 17   \n15836            Saarland  2015-09-14                18                 14   \n15837            Saarland  2015-09-15                16                 12   \n15838            Saarland  2015-09-16                19                 15   \n15839            Saarland  2015-09-17                14                 13   \n\n       Min_TemperatureC  Dew_PointC  MeanDew_PointC  Min_DewpointC  \\\n0                     2           7               5              1   \n1                     1           5               3              2   \n2                     6          10               8              4   \n3                     8           9               9              8   \n4                     7           8               7              6   \n...                 ...         ...             ...            ...   \n15835                12          16              14             12   \n15836                11          15              12              7   \n15837                 9          11               8              7   \n15838                11          16              13             10   \n15839                12          14              12             10   \n\n       Max_Humidity  Mean_Humidity  ...  Max_VisibilityKm  Mean_VisibilityKm  \\\n0                94             87  ...              31.0               12.0   \n1                93             85  ...              31.0               14.0   \n2               100             93  ...              31.0                8.0   \n3               100             94  ...              11.0                5.0   \n4               100             94  ...              10.0                6.0   \n...             ...            ...  ...               ...                ...   \n15835           100             88  ...              31.0               15.0   \n15836            99             85  ...              31.0               13.0   \n15837            93             77  ...              31.0               12.0   \n15838            97             90  ...              31.0               10.0   \n15839            99             92  ...              31.0               14.0   \n\n       Min_VisibilitykM  Max_Wind_SpeedKm_h  Mean_Wind_SpeedKm_h  \\\n0                   4.0                  39                   26   \n1                  10.0                  24                   16   \n2                   2.0                  26                   21   \n3                   2.0                  23                   14   \n4                   3.0                  16                   10   \n...                 ...                 ...                  ...   \n15835              10.0                  27                   10   \n15836               4.0                  32                   16   \n15837              10.0                  34                   14   \n15838               4.0                  32                   14   \n15839               8.0                  27                   16   \n\n       Max_Gust_SpeedKm_h  Precipitationmm  CloudCover             Events  \\\n0                    58.0             5.08         6.0               Rain   \n1                     NaN             0.00         6.0               Rain   \n2                     NaN             1.02         7.0               Rain   \n3                     NaN             0.25         7.0               Rain   \n4                     NaN             0.00         7.0               Rain   \n...                   ...              ...         ...                ...   \n15835                50.0             1.02         7.0               Rain   \n15836                53.0             9.91         5.0  Rain-Thunderstorm   \n15837                 NaN             0.00         5.0               Rain   \n15838                45.0            20.07         7.0  Rain-Thunderstorm   \n15839                47.0             6.10         6.0               Rain   \n\n       WindDirDegrees  \n0                 215  \n1                 225  \n2                 240  \n3                 263  \n4                 268  \n...               ...  \n15835             113  \n15836             213  \n15837             193  \n15838             147  \n15839             202  \n\n[15840 rows x 24 columns]",
      "text/html": "<div>\n<style scoped>\n    .dataframe tbody tr th:only-of-type {\n        vertical-align: middle;\n    }\n\n    .dataframe tbody tr th {\n        vertical-align: top;\n    }\n\n    .dataframe thead th {\n        text-align: right;\n    }\n</style>\n<table border=\"1\" class=\"dataframe\">\n  <thead>\n    <tr style=\"text-align: right;\">\n      <th></th>\n      <th>file</th>\n      <th>Date</th>\n      <th>Max_TemperatureC</th>\n      <th>Mean_TemperatureC</th>\n      <th>Min_TemperatureC</th>\n      <th>Dew_PointC</th>\n      <th>MeanDew_PointC</th>\n      <th>Min_DewpointC</th>\n      <th>Max_Humidity</th>\n      <th>Mean_Humidity</th>\n      <th>...</th>\n      <th>Max_VisibilityKm</th>\n      <th>Mean_VisibilityKm</th>\n      <th>Min_VisibilitykM</th>\n      <th>Max_Wind_SpeedKm_h</th>\n      <th>Mean_Wind_SpeedKm_h</th>\n      <th>Max_Gust_SpeedKm_h</th>\n      <th>Precipitationmm</th>\n      <th>CloudCover</th>\n      <th>Events</th>\n      <th>WindDirDegrees</th>\n    </tr>\n  </thead>\n  <tbody>\n    <tr>\n      <th>0</th>\n      <td>NordrheinWestfalen</td>\n      <td>2013-01-01</td>\n      <td>8</td>\n      <td>4</td>\n      <td>2</td>\n      <td>7</td>\n      <td>5</td>\n      <td>1</td>\n      <td>94</td>\n      <td>87</td>\n      <td>...</td>\n      <td>31.0</td>\n      <td>12.0</td>\n      <td>4.0</td>\n      <td>39</td>\n      <td>26</td>\n      <td>58.0</td>\n      <td>5.08</td>\n      <td>6.0</td>\n      <td>Rain</td>\n      <td>215</td>\n    </tr>\n    <tr>\n      <th>1</th>\n      <td>NordrheinWestfalen</td>\n      <td>2013-01-02</td>\n      <td>7</td>\n      <td>4</td>\n      <td>1</td>\n      <td>5</td>\n      <td>3</td>\n      <td>2</td>\n      <td>93</td>\n      <td>85</td>\n      <td>...</td>\n      <td>31.0</td>\n      <td>14.0</td>\n      <td>10.0</td>\n      <td>24</td>\n      <td>16</td>\n      <td>NaN</td>\n      <td>0.00</td>\n      <td>6.0</td>\n      <td>Rain</td>\n      <td>225</td>\n    </tr>\n    <tr>\n      <th>2</th>\n      <td>NordrheinWestfalen</td>\n      <td>2013-01-03</td>\n      <td>11</td>\n      <td>8</td>\n      <td>6</td>\n      <td>10</td>\n      <td>8</td>\n      <td>4</td>\n      <td>100</td>\n      <td>93</td>\n      <td>...</td>\n      <td>31.0</td>\n      <td>8.0</td>\n      <td>2.0</td>\n      <td>26</td>\n      <td>21</td>\n      <td>NaN</td>\n      <td>1.02</td>\n      <td>7.0</td>\n      <td>Rain</td>\n      <td>240</td>\n    </tr>\n    <tr>\n      <th>3</th>\n      <td>NordrheinWestfalen</td>\n      <td>2013-01-04</td>\n      <td>9</td>\n      <td>9</td>\n      <td>8</td>\n      <td>9</td>\n      <td>9</td>\n      <td>8</td>\n      <td>100</td>\n      <td>94</td>\n      <td>...</td>\n      <td>11.0</td>\n      <td>5.0</td>\n      <td>2.0</td>\n      <td>23</td>\n      <td>14</td>\n      <td>NaN</td>\n      <td>0.25</td>\n      <td>7.0</td>\n      <td>Rain</td>\n      <td>263</td>\n    </tr>\n    <tr>\n      <th>4</th>\n      <td>NordrheinWestfalen</td>\n      <td>2013-01-05</td>\n      <td>8</td>\n      <td>8</td>\n      <td>7</td>\n      <td>8</td>\n      <td>7</td>\n      <td>6</td>\n      <td>100</td>\n      <td>94</td>\n      <td>...</td>\n      <td>10.0</td>\n      <td>6.0</td>\n      <td>3.0</td>\n      <td>16</td>\n      <td>10</td>\n      <td>NaN</td>\n      <td>0.00</td>\n      <td>7.0</td>\n      <td>Rain</td>\n      <td>268</td>\n    </tr>\n    <tr>\n      <th>...</th>\n      <td>...</td>\n      <td>...</td>\n      <td>...</td>\n      <td>...</td>\n      <td>...</td>\n      <td>...</td>\n      <td>...</td>\n      <td>...</td>\n      <td>...</td>\n      <td>...</td>\n      <td>...</td>\n      <td>...</td>\n      <td>...</td>\n      <td>...</td>\n      <td>...</td>\n      <td>...</td>\n      <td>...</td>\n      <td>...</td>\n      <td>...</td>\n      <td>...</td>\n      <td>...</td>\n    </tr>\n    <tr>\n      <th>15835</th>\n      <td>Saarland</td>\n      <td>2015-09-13</td>\n      <td>21</td>\n      <td>17</td>\n      <td>12</td>\n      <td>16</td>\n      <td>14</td>\n      <td>12</td>\n      <td>100</td>\n      <td>88</td>\n      <td>...</td>\n      <td>31.0</td>\n      <td>15.0</td>\n      <td>10.0</td>\n      <td>27</td>\n      <td>10</td>\n      <td>50.0</td>\n      <td>1.02</td>\n      <td>7.0</td>\n      <td>Rain</td>\n      <td>113</td>\n    </tr>\n    <tr>\n      <th>15836</th>\n      <td>Saarland</td>\n      <td>2015-09-14</td>\n      <td>18</td>\n      <td>14</td>\n      <td>11</td>\n      <td>15</td>\n      <td>12</td>\n      <td>7</td>\n      <td>99</td>\n      <td>85</td>\n      <td>...</td>\n      <td>31.0</td>\n      <td>13.0</td>\n      <td>4.0</td>\n      <td>32</td>\n      <td>16</td>\n      <td>53.0</td>\n      <td>9.91</td>\n      <td>5.0</td>\n      <td>Rain-Thunderstorm</td>\n      <td>213</td>\n    </tr>\n    <tr>\n      <th>15837</th>\n      <td>Saarland</td>\n      <td>2015-09-15</td>\n      <td>16</td>\n      <td>12</td>\n      <td>9</td>\n      <td>11</td>\n      <td>8</td>\n      <td>7</td>\n      <td>93</td>\n      <td>77</td>\n      <td>...</td>\n      <td>31.0</td>\n      <td>12.0</td>\n      <td>10.0</td>\n      <td>34</td>\n      <td>14</td>\n      <td>NaN</td>\n      <td>0.00</td>\n      <td>5.0</td>\n      <td>Rain</td>\n      <td>193</td>\n    </tr>\n    <tr>\n      <th>15838</th>\n      <td>Saarland</td>\n      <td>2015-09-16</td>\n      <td>19</td>\n      <td>15</td>\n      <td>11</td>\n      <td>16</td>\n      <td>13</td>\n      <td>10</td>\n      <td>97</td>\n      <td>90</td>\n      <td>...</td>\n      <td>31.0</td>\n      <td>10.0</td>\n      <td>4.0</td>\n      <td>32</td>\n      <td>14</td>\n      <td>45.0</td>\n      <td>20.07</td>\n      <td>7.0</td>\n      <td>Rain-Thunderstorm</td>\n      <td>147</td>\n    </tr>\n    <tr>\n      <th>15839</th>\n      <td>Saarland</td>\n      <td>2015-09-17</td>\n      <td>14</td>\n      <td>13</td>\n      <td>12</td>\n      <td>14</td>\n      <td>12</td>\n      <td>10</td>\n      <td>99</td>\n      <td>92</td>\n      <td>...</td>\n      <td>31.0</td>\n      <td>14.0</td>\n      <td>8.0</td>\n      <td>27</td>\n      <td>16</td>\n      <td>47.0</td>\n      <td>6.10</td>\n      <td>6.0</td>\n      <td>Rain</td>\n      <td>202</td>\n    </tr>\n  </tbody>\n</table>\n<p>15840 rows × 24 columns</p>\n</div>"
     },
     "metadata": {},
     "output_type": "display_data"
    },
    {
     "data": {
      "text/plain": "             Max_TemperatureC Mean_TemperatureC Min_TemperatureC Max_Humidity  \\\ncount                 15840.0           15840.0          15840.0      15840.0   \nmean                14.644129         10.388952          6.19899    93.659596   \nstd                  8.646012           7.37926         6.526391      7.67853   \nmin                     -11.0             -13.0            -15.0         44.0   \n25%                       8.0               4.0              1.0        90.75   \n50%                      15.0              11.0              7.0         94.0   \n75%                      21.0              16.0             11.0        100.0   \nmax                      39.0              31.0             24.0        100.0   \ncounts                  15840             15840            15840        15840   \nuniques                    51                45               40           53   \nmissing                     0                 0                0            0   \nmissing_perc               0%                0%               0%           0%   \ntypes                 numeric           numeric          numeric      numeric   \n\n             Mean_Humidity Min_Humidity Max_Wind_SpeedKm_h  \\\ncount              15840.0      15840.0            15840.0   \nmean             74.282891    50.158586          22.766604   \nstd              13.486552    19.960216           8.988618   \nmin                   30.0          4.0                3.0   \n25%                   65.0         34.0               16.0   \n50%                   76.0         49.0               21.0   \n75%                   85.0         66.0               27.0   \nmax                  100.0        100.0              101.0   \ncounts               15840        15840              15840   \nuniques                 71           93                 44   \nmissing                  0            0                  0   \nmissing_perc            0%           0%                 0%   \ntypes              numeric      numeric            numeric   \n\n             Mean_Wind_SpeedKm_h CloudCover Precipitationmm  \ncount                    15840.0    14667.0         15840.0  \nmean                   11.972222   5.551306        0.831718  \nstd                     5.872844    1.68771        2.513506  \nmin                          2.0        0.0             0.0  \n25%                          8.0        5.0             0.0  \n50%                         11.0        6.0             0.0  \n75%                         14.0        7.0            0.25  \nmax                         53.0        8.0           58.93  \ncounts                     15840      14667           15840  \nuniques                       29          9              41  \nmissing                        0       1173               0  \nmissing_perc                  0%      7.41%              0%  \ntypes                    numeric    numeric         numeric  ",
      "text/html": "<div>\n<style scoped>\n    .dataframe tbody tr th:only-of-type {\n        vertical-align: middle;\n    }\n\n    .dataframe tbody tr th {\n        vertical-align: top;\n    }\n\n    .dataframe thead th {\n        text-align: right;\n    }\n</style>\n<table border=\"1\" class=\"dataframe\">\n  <thead>\n    <tr style=\"text-align: right;\">\n      <th></th>\n      <th>Max_TemperatureC</th>\n      <th>Mean_TemperatureC</th>\n      <th>Min_TemperatureC</th>\n      <th>Max_Humidity</th>\n      <th>Mean_Humidity</th>\n      <th>Min_Humidity</th>\n      <th>Max_Wind_SpeedKm_h</th>\n      <th>Mean_Wind_SpeedKm_h</th>\n      <th>CloudCover</th>\n      <th>Precipitationmm</th>\n    </tr>\n  </thead>\n  <tbody>\n    <tr>\n      <th>count</th>\n      <td>15840.0</td>\n      <td>15840.0</td>\n      <td>15840.0</td>\n      <td>15840.0</td>\n      <td>15840.0</td>\n      <td>15840.0</td>\n      <td>15840.0</td>\n      <td>15840.0</td>\n      <td>14667.0</td>\n      <td>15840.0</td>\n    </tr>\n    <tr>\n      <th>mean</th>\n      <td>14.644129</td>\n      <td>10.388952</td>\n      <td>6.19899</td>\n      <td>93.659596</td>\n      <td>74.282891</td>\n      <td>50.158586</td>\n      <td>22.766604</td>\n      <td>11.972222</td>\n      <td>5.551306</td>\n      <td>0.831718</td>\n    </tr>\n    <tr>\n      <th>std</th>\n      <td>8.646012</td>\n      <td>7.37926</td>\n      <td>6.526391</td>\n      <td>7.67853</td>\n      <td>13.486552</td>\n      <td>19.960216</td>\n      <td>8.988618</td>\n      <td>5.872844</td>\n      <td>1.68771</td>\n      <td>2.513506</td>\n    </tr>\n    <tr>\n      <th>min</th>\n      <td>-11.0</td>\n      <td>-13.0</td>\n      <td>-15.0</td>\n      <td>44.0</td>\n      <td>30.0</td>\n      <td>4.0</td>\n      <td>3.0</td>\n      <td>2.0</td>\n      <td>0.0</td>\n      <td>0.0</td>\n    </tr>\n    <tr>\n      <th>25%</th>\n      <td>8.0</td>\n      <td>4.0</td>\n      <td>1.0</td>\n      <td>90.75</td>\n      <td>65.0</td>\n      <td>34.0</td>\n      <td>16.0</td>\n      <td>8.0</td>\n      <td>5.0</td>\n      <td>0.0</td>\n    </tr>\n    <tr>\n      <th>50%</th>\n      <td>15.0</td>\n      <td>11.0</td>\n      <td>7.0</td>\n      <td>94.0</td>\n      <td>76.0</td>\n      <td>49.0</td>\n      <td>21.0</td>\n      <td>11.0</td>\n      <td>6.0</td>\n      <td>0.0</td>\n    </tr>\n    <tr>\n      <th>75%</th>\n      <td>21.0</td>\n      <td>16.0</td>\n      <td>11.0</td>\n      <td>100.0</td>\n      <td>85.0</td>\n      <td>66.0</td>\n      <td>27.0</td>\n      <td>14.0</td>\n      <td>7.0</td>\n      <td>0.25</td>\n    </tr>\n    <tr>\n      <th>max</th>\n      <td>39.0</td>\n      <td>31.0</td>\n      <td>24.0</td>\n      <td>100.0</td>\n      <td>100.0</td>\n      <td>100.0</td>\n      <td>101.0</td>\n      <td>53.0</td>\n      <td>8.0</td>\n      <td>58.93</td>\n    </tr>\n    <tr>\n      <th>counts</th>\n      <td>15840</td>\n      <td>15840</td>\n      <td>15840</td>\n      <td>15840</td>\n      <td>15840</td>\n      <td>15840</td>\n      <td>15840</td>\n      <td>15840</td>\n      <td>14667</td>\n      <td>15840</td>\n    </tr>\n    <tr>\n      <th>uniques</th>\n      <td>51</td>\n      <td>45</td>\n      <td>40</td>\n      <td>53</td>\n      <td>71</td>\n      <td>93</td>\n      <td>44</td>\n      <td>29</td>\n      <td>9</td>\n      <td>41</td>\n    </tr>\n    <tr>\n      <th>missing</th>\n      <td>0</td>\n      <td>0</td>\n      <td>0</td>\n      <td>0</td>\n      <td>0</td>\n      <td>0</td>\n      <td>0</td>\n      <td>0</td>\n      <td>1173</td>\n      <td>0</td>\n    </tr>\n    <tr>\n      <th>missing_perc</th>\n      <td>0%</td>\n      <td>0%</td>\n      <td>0%</td>\n      <td>0%</td>\n      <td>0%</td>\n      <td>0%</td>\n      <td>0%</td>\n      <td>0%</td>\n      <td>7.41%</td>\n      <td>0%</td>\n    </tr>\n    <tr>\n      <th>types</th>\n      <td>numeric</td>\n      <td>numeric</td>\n      <td>numeric</td>\n      <td>numeric</td>\n      <td>numeric</td>\n      <td>numeric</td>\n      <td>numeric</td>\n      <td>numeric</td>\n      <td>numeric</td>\n      <td>numeric</td>\n    </tr>\n  </tbody>\n</table>\n</div>"
     },
     "metadata": {},
     "output_type": "display_data"
    }
   ],
   "source": [
    "display(weather)\n",
    "display(DataFrameSummary(weather[['Max_TemperatureC', 'Mean_TemperatureC', 'Min_TemperatureC',\n",
    "   'Max_Humidity', 'Mean_Humidity', 'Min_Humidity', 'Max_Wind_SpeedKm_h', \n",
    "   'Mean_Wind_SpeedKm_h', 'CloudCover', 'Precipitationmm']]).summary())"
   ]
  },
  {
   "cell_type": "code",
   "execution_count": 20,
   "metadata": {},
   "outputs": [
    {
     "data": {
      "text/plain": "Index(['file', 'Date', 'Max_TemperatureC', 'Mean_TemperatureC',\n       'Min_TemperatureC', 'Dew_PointC', 'MeanDew_PointC', 'Min_DewpointC',\n       'Max_Humidity', 'Mean_Humidity', 'Min_Humidity',\n       'Max_Sea_Level_PressurehPa', 'Mean_Sea_Level_PressurehPa',\n       'Min_Sea_Level_PressurehPa', 'Max_VisibilityKm', 'Mean_VisibilityKm',\n       'Min_VisibilitykM', 'Max_Wind_SpeedKm_h', 'Mean_Wind_SpeedKm_h',\n       'Max_Gust_SpeedKm_h', 'Precipitationmm', 'CloudCover', 'Events',\n       'WindDirDegrees'],\n      dtype='object')"
     },
     "execution_count": 20,
     "metadata": {},
     "output_type": "execute_result"
    }
   ],
   "source": [
    "weather.columns"
   ]
  },
  {
   "cell_type": "code",
   "execution_count": 20,
   "metadata": {},
   "outputs": [],
   "source": []
  }
 ],
 "metadata": {
  "kernelspec": {
   "display_name": "Python 3",
   "language": "python",
   "name": "python3"
  },
  "language_info": {
   "codemirror_mode": {
    "name": "ipython",
    "version": 3
   },
   "file_extension": ".py",
   "mimetype": "text/x-python",
   "name": "python",
   "nbconvert_exporter": "python",
   "pygments_lexer": "ipython3",
   "version": "3.6.10"
  }
 },
 "nbformat": 4,
 "nbformat_minor": 4
}
