{
 "cells": [
  {
   "cell_type": "code",
   "execution_count": 60,
   "metadata": {},
   "outputs": [],
   "source": [
    "import pandas as pd\n",
    "import numpy as np\n",
    "import datetime\n",
    "# pip install isoweek\n",
    "from isoweek import Week\n",
    "PATH = 'dataset/rossmann/'"
   ]
  },
  {
   "cell_type": "code",
   "execution_count": 61,
   "metadata": {},
   "outputs": [],
   "source": [
    "table_names = ['train', 'test', 'store', 'store_states', 'state_names', 'googletrend', 'weather']\n",
    "train, test, store, store_states, state_names, googletrend, weather = dfs = [pd.read_csv(PATH + fname+'.csv', \n",
    "                                                                             low_memory=False) for fname in table_names]"
   ]
  },
  {
   "cell_type": "markdown",
   "metadata": {},
   "source": [
    "# Missing data "
   ]
  },
  {
   "cell_type": "code",
   "execution_count": 62,
   "metadata": {},
   "outputs": [],
   "source": [
    "def get_missing_columns(df):\n",
    "    return list(df.columns[df.describe(include = 'all').loc['count']<len(df)])"
   ]
  },
  {
   "cell_type": "code",
   "execution_count": 63,
   "metadata": {},
   "outputs": [
    {
     "name": "stdout",
     "output_type": "stream",
     "text": [
      "train []\n",
      "test ['Open']\n",
      "store ['CompetitionDistance', 'CompetitionOpenSinceMonth', 'CompetitionOpenSinceYear', 'Promo2SinceWeek', 'Promo2SinceYear', 'PromoInterval']\n",
      "store_states []\n",
      "state_names []\n",
      "googletrend []\n",
      "weather ['Max_VisibilityKm', 'Mean_VisibilityKm', 'Min_VisibilitykM', 'Max_Gust_SpeedKm_h', 'CloudCover', 'Events']\n"
     ]
    }
   ],
   "source": [
    "for i, df in enumerate(dfs):\n",
    "    print(table_names[i], get_missing_columns(df))"
   ]
  },
  {
   "cell_type": "code",
   "execution_count": 64,
   "metadata": {},
   "outputs": [],
   "source": [
    "# Si no es dia 7 esta abierto - Verificado que el store 622 esta usualmente cerrado el día 7\n",
    "test.loc[test['Open'].isna(), 'Open'] = (test[test['Open'].isna()]['DayOfWeek'] != 7)*1.0"
   ]
  },
  {
   "cell_type": "code",
   "execution_count": 65,
   "metadata": {},
   "outputs": [],
   "source": [
    "# Fechas de las mas antiguas segun datos y tambien las fechas anteriores las pongo como minimo en 1990\n",
    "store.loc[store['CompetitionOpenSinceYear'].isna() | (store['CompetitionOpenSinceYear']<1990), 'CompetitionOpenSinceYear'] = np.int32(1990)\n",
    "store.loc[store['CompetitionOpenSinceMonth'].isna() | (store['CompetitionOpenSinceYear']<1990), 'CompetitionOpenSinceMonth'] = np.int32(1)"
   ]
  },
  {
   "cell_type": "code",
   "execution_count": 66,
   "metadata": {},
   "outputs": [
    {
     "name": "stdout",
     "output_type": "stream",
     "text": [
      "75860.0 5404.901079136691 20.0\n"
     ]
    }
   ],
   "source": [
    "# Si no tengo la distancia, supongo que no hay (Como si estuviera lejos)\n",
    "print(store['CompetitionDistance'].max(), store['CompetitionDistance'].mean(), store['CompetitionDistance'].min())\n",
    "store.loc[store['CompetitionDistance'].isna(), 'CompetitionDistance'] = store['CompetitionDistance'].max()"
   ]
  },
  {
   "cell_type": "code",
   "execution_count": 67,
   "metadata": {},
   "outputs": [],
   "source": [
    "# Si no tiene Promo2 entonces la semana en donde empezo es cero. Esto será tratado como categórica por eso tiene sentido\n",
    "store.loc[store['Promo2SinceWeek'].isna() & (store['Promo2'] == 0), 'Promo2SinceWeek'] = np.int32(1)\n",
    "store.loc[store['Promo2SinceYear'].isna() & (store['Promo2'] == 0), 'Promo2SinceYear'] = np.int32(1990)\n",
    "store.loc[store['PromoInterval'].isna() & (store['Promo2'] == 0), 'PromoInterval'] = '-'"
   ]
  },
  {
   "cell_type": "code",
   "execution_count": 68,
   "metadata": {},
   "outputs": [],
   "source": [
    "# Supongo que son dias tranquilos (de todas formas no se usaran para la predicción)\n",
    "weather.loc[weather['Max_VisibilityKm'].isna(), 'Max_VisibilityKm'] = weather['Max_VisibilityKm'].max()\n",
    "weather.loc[weather['Mean_VisibilityKm'].isna(), 'Mean_VisibilityKm'] = weather['Mean_VisibilityKm'].max()\n",
    "weather.loc[weather['Min_VisibilitykM'].isna(), 'Min_VisibilitykM'] = weather['Min_VisibilitykM'].max()\n",
    "weather.loc[weather['Max_Gust_SpeedKm_h'].isna(), 'Max_Gust_SpeedKm_h'] = weather['Max_Gust_SpeedKm_h'].min()\n",
    "weather.loc[weather['CloudCover'].isna(), 'CloudCover'] = weather['CloudCover'].min()\n",
    "weather.loc[weather['Events'].isna(), 'Events'] = 'Sunny'"
   ]
  },
  {
   "cell_type": "code",
   "execution_count": 69,
   "metadata": {},
   "outputs": [
    {
     "name": "stdout",
     "output_type": "stream",
     "text": [
      "train []\n",
      "test []\n",
      "store []\n",
      "store_states []\n",
      "state_names []\n",
      "googletrend []\n",
      "weather []\n"
     ]
    }
   ],
   "source": [
    "for i, df in enumerate(dfs):\n",
    "    print(table_names[i], get_missing_columns(df))"
   ]
  },
  {
   "cell_type": "markdown",
   "metadata": {},
   "source": [
    "# Paso a fecha algunas columnas para despues poder ponerla en días respecto a fecha"
   ]
  },
  {
   "cell_type": "code",
   "execution_count": 70,
   "metadata": {},
   "outputs": [],
   "source": [
    "store['CompetitionOpenSinceYear'] = store['CompetitionOpenSinceYear'].astype(np.int32)\n",
    "store['CompetitionOpenSinceMonth'] = store['CompetitionOpenSinceMonth'].astype(np.int32)\n",
    "store['Promo2SinceWeek'] = store['Promo2SinceWeek'].astype(np.int32)\n",
    "store['Promo2SinceYear'] = store['Promo2SinceYear'].astype(np.int32)"
   ]
  },
  {
   "cell_type": "code",
   "execution_count": 71,
   "metadata": {},
   "outputs": [],
   "source": [
    "# Creo una nueva columna con fecha de apertura en formato de fecha (dia 15 por que no tengo el dato y no es relevante)\n",
    "store['CompetitionOpenSince'] = pd.to_datetime(store.apply(lambda x: datetime.datetime(\n",
    "    x.CompetitionOpenSinceYear, x.CompetitionOpenSinceMonth, 15), axis=1))"
   ]
  },
  {
   "cell_type": "code",
   "execution_count": 72,
   "metadata": {},
   "outputs": [],
   "source": [
    "store[\"Promo2Since\"] = pd.to_datetime(store.apply(lambda x: Week(\n",
    "    x.Promo2SinceYear, x.Promo2SinceWeek).monday(), axis=1))"
   ]
  },
  {
   "cell_type": "markdown",
   "metadata": {},
   "source": [
    "# Función para hacer el join"
   ]
  },
  {
   "cell_type": "code",
   "execution_count": 73,
   "metadata": {},
   "outputs": [],
   "source": [
    "def join_df(left, right, left_on, right_on=None):\n",
    "    if right_on is None: right_on = left_on\n",
    "    return left.merge(right, how='left', left_on=left_on, right_on=right_on, \n",
    "                      suffixes=(\"\", \"_y\"))"
   ]
  },
  {
   "cell_type": "markdown",
   "metadata": {},
   "source": [
    "## Join entre weather y states_names"
   ]
  },
  {
   "cell_type": "code",
   "execution_count": 74,
   "metadata": {},
   "outputs": [
    {
     "data": {
      "text/plain": "Index(['file', 'Date', 'Max_TemperatureC', 'Mean_TemperatureC',\n       'Min_TemperatureC', 'Dew_PointC', 'MeanDew_PointC', 'Min_DewpointC',\n       'Max_Humidity', 'Mean_Humidity', 'Min_Humidity',\n       'Max_Sea_Level_PressurehPa', 'Mean_Sea_Level_PressurehPa',\n       'Min_Sea_Level_PressurehPa', 'Max_VisibilityKm', 'Mean_VisibilityKm',\n       'Min_VisibilitykM', 'Max_Wind_SpeedKm_h', 'Mean_Wind_SpeedKm_h',\n       'Max_Gust_SpeedKm_h', 'Precipitationmm', 'CloudCover', 'Events',\n       'WindDirDegrees'],\n      dtype='object')"
     },
     "execution_count": 74,
     "metadata": {},
     "output_type": "execute_result"
    }
   ],
   "source": [
    "weather.columns"
   ]
  },
  {
   "cell_type": "code",
   "execution_count": 75,
   "metadata": {},
   "outputs": [
    {
     "data": {
      "text/plain": "NordrheinWestfalen       990\nNiedersachsen            990\nBayern                   990\nBremen                   990\nBrandenburg              990\nSachsenAnhalt            990\nSachsen                  990\nHessen                   990\nMecklenburgVorpommern    990\nRheinlandPfalz           990\nBadenWuerttemberg        990\nBerlin                   990\nHamburg                  990\nSchleswigHolstein        990\nThueringen               990\nSaarland                 990\nName: file, dtype: int64"
     },
     "execution_count": 75,
     "metadata": {},
     "output_type": "execute_result"
    }
   ],
   "source": [
    "weather['file'].value_counts()"
   ]
  },
  {
   "cell_type": "code",
   "execution_count": 76,
   "metadata": {},
   "outputs": [
    {
     "data": {
      "text/plain": "                StateName  State\n0       BadenWuerttemberg     BW\n1                  Bayern     BY\n2                  Berlin     BE\n3             Brandenburg     BB\n4                  Bremen     HB\n5                 Hamburg     HH\n6                  Hessen     HE\n7   MecklenburgVorpommern     MV\n8           Niedersachsen  HB,NI\n9      NordrheinWestfalen     NW\n10         RheinlandPfalz     RP\n11               Saarland     SL\n12                Sachsen     SN\n13          SachsenAnhalt     ST\n14      SchleswigHolstein     SH\n15             Thueringen     TH",
      "text/html": "<div>\n<style scoped>\n    .dataframe tbody tr th:only-of-type {\n        vertical-align: middle;\n    }\n\n    .dataframe tbody tr th {\n        vertical-align: top;\n    }\n\n    .dataframe thead th {\n        text-align: right;\n    }\n</style>\n<table border=\"1\" class=\"dataframe\">\n  <thead>\n    <tr style=\"text-align: right;\">\n      <th></th>\n      <th>StateName</th>\n      <th>State</th>\n    </tr>\n  </thead>\n  <tbody>\n    <tr>\n      <th>0</th>\n      <td>BadenWuerttemberg</td>\n      <td>BW</td>\n    </tr>\n    <tr>\n      <th>1</th>\n      <td>Bayern</td>\n      <td>BY</td>\n    </tr>\n    <tr>\n      <th>2</th>\n      <td>Berlin</td>\n      <td>BE</td>\n    </tr>\n    <tr>\n      <th>3</th>\n      <td>Brandenburg</td>\n      <td>BB</td>\n    </tr>\n    <tr>\n      <th>4</th>\n      <td>Bremen</td>\n      <td>HB</td>\n    </tr>\n    <tr>\n      <th>5</th>\n      <td>Hamburg</td>\n      <td>HH</td>\n    </tr>\n    <tr>\n      <th>6</th>\n      <td>Hessen</td>\n      <td>HE</td>\n    </tr>\n    <tr>\n      <th>7</th>\n      <td>MecklenburgVorpommern</td>\n      <td>MV</td>\n    </tr>\n    <tr>\n      <th>8</th>\n      <td>Niedersachsen</td>\n      <td>HB,NI</td>\n    </tr>\n    <tr>\n      <th>9</th>\n      <td>NordrheinWestfalen</td>\n      <td>NW</td>\n    </tr>\n    <tr>\n      <th>10</th>\n      <td>RheinlandPfalz</td>\n      <td>RP</td>\n    </tr>\n    <tr>\n      <th>11</th>\n      <td>Saarland</td>\n      <td>SL</td>\n    </tr>\n    <tr>\n      <th>12</th>\n      <td>Sachsen</td>\n      <td>SN</td>\n    </tr>\n    <tr>\n      <th>13</th>\n      <td>SachsenAnhalt</td>\n      <td>ST</td>\n    </tr>\n    <tr>\n      <th>14</th>\n      <td>SchleswigHolstein</td>\n      <td>SH</td>\n    </tr>\n    <tr>\n      <th>15</th>\n      <td>Thueringen</td>\n      <td>TH</td>\n    </tr>\n  </tbody>\n</table>\n</div>"
     },
     "execution_count": 76,
     "metadata": {},
     "output_type": "execute_result"
    }
   ],
   "source": [
    "state_names"
   ]
  },
  {
   "cell_type": "code",
   "execution_count": 77,
   "metadata": {},
   "outputs": [],
   "source": [
    "weather = join_df(weather, state_names, \"file\", \"StateName\")"
   ]
  },
  {
   "cell_type": "code",
   "execution_count": 78,
   "metadata": {},
   "outputs": [
    {
     "data": {
      "text/plain": "Index(['file', 'Date', 'Max_TemperatureC', 'Mean_TemperatureC',\n       'Min_TemperatureC', 'Dew_PointC', 'MeanDew_PointC', 'Min_DewpointC',\n       'Max_Humidity', 'Mean_Humidity', 'Min_Humidity',\n       'Max_Sea_Level_PressurehPa', 'Mean_Sea_Level_PressurehPa',\n       'Min_Sea_Level_PressurehPa', 'Max_VisibilityKm', 'Mean_VisibilityKm',\n       'Min_VisibilitykM', 'Max_Wind_SpeedKm_h', 'Mean_Wind_SpeedKm_h',\n       'Max_Gust_SpeedKm_h', 'Precipitationmm', 'CloudCover', 'Events',\n       'WindDirDegrees', 'StateName', 'State'],\n      dtype='object')"
     },
     "execution_count": 78,
     "metadata": {},
     "output_type": "execute_result"
    }
   ],
   "source": [
    "weather.columns"
   ]
  },
  {
   "cell_type": "markdown",
   "metadata": {},
   "source": [
    "Notar como se agregaron las columnas"
   ]
  },
  {
   "cell_type": "markdown",
   "metadata": {},
   "source": [
    "## Preprocess googletrend"
   ]
  },
  {
   "cell_type": "code",
   "execution_count": 79,
   "metadata": {},
   "outputs": [
    {
     "data": {
      "text/plain": "             file                     week  trend\n0  Rossmann_DE_SN  2012-12-02 - 2012-12-08     96\n1  Rossmann_DE_SN  2012-12-09 - 2012-12-15     95\n2  Rossmann_DE_SN  2012-12-16 - 2012-12-22     91\n3  Rossmann_DE_SN  2012-12-23 - 2012-12-29     48\n4  Rossmann_DE_SN  2012-12-30 - 2013-01-05     67",
      "text/html": "<div>\n<style scoped>\n    .dataframe tbody tr th:only-of-type {\n        vertical-align: middle;\n    }\n\n    .dataframe tbody tr th {\n        vertical-align: top;\n    }\n\n    .dataframe thead th {\n        text-align: right;\n    }\n</style>\n<table border=\"1\" class=\"dataframe\">\n  <thead>\n    <tr style=\"text-align: right;\">\n      <th></th>\n      <th>file</th>\n      <th>week</th>\n      <th>trend</th>\n    </tr>\n  </thead>\n  <tbody>\n    <tr>\n      <th>0</th>\n      <td>Rossmann_DE_SN</td>\n      <td>2012-12-02 - 2012-12-08</td>\n      <td>96</td>\n    </tr>\n    <tr>\n      <th>1</th>\n      <td>Rossmann_DE_SN</td>\n      <td>2012-12-09 - 2012-12-15</td>\n      <td>95</td>\n    </tr>\n    <tr>\n      <th>2</th>\n      <td>Rossmann_DE_SN</td>\n      <td>2012-12-16 - 2012-12-22</td>\n      <td>91</td>\n    </tr>\n    <tr>\n      <th>3</th>\n      <td>Rossmann_DE_SN</td>\n      <td>2012-12-23 - 2012-12-29</td>\n      <td>48</td>\n    </tr>\n    <tr>\n      <th>4</th>\n      <td>Rossmann_DE_SN</td>\n      <td>2012-12-30 - 2013-01-05</td>\n      <td>67</td>\n    </tr>\n  </tbody>\n</table>\n</div>"
     },
     "execution_count": 79,
     "metadata": {},
     "output_type": "execute_result"
    }
   ],
   "source": [
    "googletrend.head()"
   ]
  },
  {
   "cell_type": "code",
   "execution_count": 80,
   "metadata": {},
   "outputs": [],
   "source": [
    "# Armo columan date con el primer día de la semana\n",
    "googletrend['Date'] = googletrend.week.str.split(' - ', expand=True)[0]"
   ]
  },
  {
   "cell_type": "code",
   "execution_count": 81,
   "metadata": {},
   "outputs": [
    {
     "data": {
      "text/plain": "             file                     week  trend        Date\n0  Rossmann_DE_SN  2012-12-02 - 2012-12-08     96  2012-12-02\n1  Rossmann_DE_SN  2012-12-09 - 2012-12-15     95  2012-12-09\n2  Rossmann_DE_SN  2012-12-16 - 2012-12-22     91  2012-12-16\n3  Rossmann_DE_SN  2012-12-23 - 2012-12-29     48  2012-12-23\n4  Rossmann_DE_SN  2012-12-30 - 2013-01-05     67  2012-12-30",
      "text/html": "<div>\n<style scoped>\n    .dataframe tbody tr th:only-of-type {\n        vertical-align: middle;\n    }\n\n    .dataframe tbody tr th {\n        vertical-align: top;\n    }\n\n    .dataframe thead th {\n        text-align: right;\n    }\n</style>\n<table border=\"1\" class=\"dataframe\">\n  <thead>\n    <tr style=\"text-align: right;\">\n      <th></th>\n      <th>file</th>\n      <th>week</th>\n      <th>trend</th>\n      <th>Date</th>\n    </tr>\n  </thead>\n  <tbody>\n    <tr>\n      <th>0</th>\n      <td>Rossmann_DE_SN</td>\n      <td>2012-12-02 - 2012-12-08</td>\n      <td>96</td>\n      <td>2012-12-02</td>\n    </tr>\n    <tr>\n      <th>1</th>\n      <td>Rossmann_DE_SN</td>\n      <td>2012-12-09 - 2012-12-15</td>\n      <td>95</td>\n      <td>2012-12-09</td>\n    </tr>\n    <tr>\n      <th>2</th>\n      <td>Rossmann_DE_SN</td>\n      <td>2012-12-16 - 2012-12-22</td>\n      <td>91</td>\n      <td>2012-12-16</td>\n    </tr>\n    <tr>\n      <th>3</th>\n      <td>Rossmann_DE_SN</td>\n      <td>2012-12-23 - 2012-12-29</td>\n      <td>48</td>\n      <td>2012-12-23</td>\n    </tr>\n    <tr>\n      <th>4</th>\n      <td>Rossmann_DE_SN</td>\n      <td>2012-12-30 - 2013-01-05</td>\n      <td>67</td>\n      <td>2012-12-30</td>\n    </tr>\n  </tbody>\n</table>\n</div>"
     },
     "execution_count": 81,
     "metadata": {},
     "output_type": "execute_result"
    }
   ],
   "source": [
    "googletrend.head()"
   ]
  },
  {
   "cell_type": "code",
   "execution_count": 82,
   "metadata": {},
   "outputs": [],
   "source": [
    "# Armo columna de State con el nomnre del estado\n",
    "googletrend['State'] = googletrend.file.str.split('_', expand=True)[2]"
   ]
  },
  {
   "cell_type": "code",
   "execution_count": 83,
   "metadata": {},
   "outputs": [
    {
     "data": {
      "text/plain": "             file                     week  trend        Date State\n0  Rossmann_DE_SN  2012-12-02 - 2012-12-08     96  2012-12-02    SN\n1  Rossmann_DE_SN  2012-12-09 - 2012-12-15     95  2012-12-09    SN\n2  Rossmann_DE_SN  2012-12-16 - 2012-12-22     91  2012-12-16    SN\n3  Rossmann_DE_SN  2012-12-23 - 2012-12-29     48  2012-12-23    SN\n4  Rossmann_DE_SN  2012-12-30 - 2013-01-05     67  2012-12-30    SN",
      "text/html": "<div>\n<style scoped>\n    .dataframe tbody tr th:only-of-type {\n        vertical-align: middle;\n    }\n\n    .dataframe tbody tr th {\n        vertical-align: top;\n    }\n\n    .dataframe thead th {\n        text-align: right;\n    }\n</style>\n<table border=\"1\" class=\"dataframe\">\n  <thead>\n    <tr style=\"text-align: right;\">\n      <th></th>\n      <th>file</th>\n      <th>week</th>\n      <th>trend</th>\n      <th>Date</th>\n      <th>State</th>\n    </tr>\n  </thead>\n  <tbody>\n    <tr>\n      <th>0</th>\n      <td>Rossmann_DE_SN</td>\n      <td>2012-12-02 - 2012-12-08</td>\n      <td>96</td>\n      <td>2012-12-02</td>\n      <td>SN</td>\n    </tr>\n    <tr>\n      <th>1</th>\n      <td>Rossmann_DE_SN</td>\n      <td>2012-12-09 - 2012-12-15</td>\n      <td>95</td>\n      <td>2012-12-09</td>\n      <td>SN</td>\n    </tr>\n    <tr>\n      <th>2</th>\n      <td>Rossmann_DE_SN</td>\n      <td>2012-12-16 - 2012-12-22</td>\n      <td>91</td>\n      <td>2012-12-16</td>\n      <td>SN</td>\n    </tr>\n    <tr>\n      <th>3</th>\n      <td>Rossmann_DE_SN</td>\n      <td>2012-12-23 - 2012-12-29</td>\n      <td>48</td>\n      <td>2012-12-23</td>\n      <td>SN</td>\n    </tr>\n    <tr>\n      <th>4</th>\n      <td>Rossmann_DE_SN</td>\n      <td>2012-12-30 - 2013-01-05</td>\n      <td>67</td>\n      <td>2012-12-30</td>\n      <td>SN</td>\n    </tr>\n  </tbody>\n</table>\n</div>"
     },
     "execution_count": 83,
     "metadata": {},
     "output_type": "execute_result"
    }
   ],
   "source": [
    "googletrend.head()"
   ]
  },
  {
   "cell_type": "code",
   "execution_count": 84,
   "metadata": {},
   "outputs": [
    {
     "data": {
      "text/plain": "SN    148\nBY    148\nTH    148\nNW    148\nBE    148\nRP    148\nBW    148\nNI    148\nSH    148\nHE    148\nST    148\nHH    148\nSL    148\nName: State, dtype: int64"
     },
     "execution_count": 84,
     "metadata": {},
     "output_type": "execute_result"
    }
   ],
   "source": [
    "googletrend['State'].value_counts()"
   ]
  },
  {
   "cell_type": "code",
   "execution_count": 85,
   "metadata": {},
   "outputs": [
    {
     "data": {
      "text/plain": "0        BW\n1        BY\n2        BE\n3        BB\n4        HB\n5        HH\n6        HE\n7        MV\n8     HB,NI\n9        NW\n10       RP\n11       SL\n12       SN\n13       ST\n14       SH\n15       TH\nName: State, dtype: object"
     },
     "execution_count": 85,
     "metadata": {},
     "output_type": "execute_result"
    }
   ],
   "source": [
    "# Notar que un estado tiene un acrónimo diferente\n",
    "state_names['State']"
   ]
  },
  {
   "cell_type": "code",
   "execution_count": 86,
   "metadata": {},
   "outputs": [],
   "source": [
    "# Lo corrijo\n",
    "googletrend.loc[googletrend.State=='NI', \"State\"] = 'HB,NI'"
   ]
  },
  {
   "cell_type": "markdown",
   "metadata": {},
   "source": [
    "# Transformo fecha"
   ]
  },
  {
   "cell_type": "code",
   "execution_count": 87,
   "metadata": {},
   "outputs": [
    {
     "name": "stderr",
     "output_type": "stream",
     "text": [
      "/var/folders/cc/hfx_w22x28j8f0l38h8ww1zc0000gn/T/ipykernel_992/1478363803.py:5: FutureWarning: Series.dt.weekofyear and Series.dt.week have been deprecated. Please use Series.dt.isocalendar().week instead.\n",
      "  df[\"Week\"] = df.Date.dt.week\n",
      "/var/folders/cc/hfx_w22x28j8f0l38h8ww1zc0000gn/T/ipykernel_992/1478363803.py:5: FutureWarning: Series.dt.weekofyear and Series.dt.week have been deprecated. Please use Series.dt.isocalendar().week instead.\n",
      "  df[\"Week\"] = df.Date.dt.week\n",
      "/var/folders/cc/hfx_w22x28j8f0l38h8ww1zc0000gn/T/ipykernel_992/1478363803.py:5: FutureWarning: Series.dt.weekofyear and Series.dt.week have been deprecated. Please use Series.dt.isocalendar().week instead.\n",
      "  df[\"Week\"] = df.Date.dt.week\n",
      "/var/folders/cc/hfx_w22x28j8f0l38h8ww1zc0000gn/T/ipykernel_992/1478363803.py:5: FutureWarning: Series.dt.weekofyear and Series.dt.week have been deprecated. Please use Series.dt.isocalendar().week instead.\n",
      "  df[\"Week\"] = df.Date.dt.week\n"
     ]
    }
   ],
   "source": [
    "def add_datepart(df):\n",
    "    df.Date = pd.to_datetime(df.Date)\n",
    "    df[\"Year\"] = df.Date.dt.year\n",
    "    df[\"Month\"] = df.Date.dt.month\n",
    "    df[\"Week\"] = df.Date.dt.week\n",
    "    df[\"Day\"] = df.Date.dt.day\n",
    "    \n",
    "add_datepart(weather)\n",
    "add_datepart(googletrend)\n",
    "add_datepart(train)\n",
    "add_datepart(test)"
   ]
  },
  {
   "cell_type": "code",
   "execution_count": 88,
   "metadata": {},
   "outputs": [],
   "source": [
    "# Trends generales de alemania tienen el state en None\n",
    "trend_de = googletrend[googletrend.file == 'Rossmann_DE']"
   ]
  },
  {
   "cell_type": "code",
   "execution_count": 89,
   "metadata": {},
   "outputs": [
    {
     "data": {
      "text/plain": "          Date  Year  Month  Week  Day\n148 2012-12-02  2012     12    48    2\n149 2012-12-09  2012     12    49    9\n150 2012-12-16  2012     12    50   16\n151 2012-12-23  2012     12    51   23\n152 2012-12-30  2012     12    52   30\n..         ...   ...    ...   ...  ...\n291 2015-08-30  2015      8    35   30\n292 2015-09-06  2015      9    36    6\n293 2015-09-13  2015      9    37   13\n294 2015-09-20  2015      9    38   20\n295 2015-09-27  2015      9    39   27\n\n[148 rows x 5 columns]",
      "text/html": "<div>\n<style scoped>\n    .dataframe tbody tr th:only-of-type {\n        vertical-align: middle;\n    }\n\n    .dataframe tbody tr th {\n        vertical-align: top;\n    }\n\n    .dataframe thead th {\n        text-align: right;\n    }\n</style>\n<table border=\"1\" class=\"dataframe\">\n  <thead>\n    <tr style=\"text-align: right;\">\n      <th></th>\n      <th>Date</th>\n      <th>Year</th>\n      <th>Month</th>\n      <th>Week</th>\n      <th>Day</th>\n    </tr>\n  </thead>\n  <tbody>\n    <tr>\n      <th>148</th>\n      <td>2012-12-02</td>\n      <td>2012</td>\n      <td>12</td>\n      <td>48</td>\n      <td>2</td>\n    </tr>\n    <tr>\n      <th>149</th>\n      <td>2012-12-09</td>\n      <td>2012</td>\n      <td>12</td>\n      <td>49</td>\n      <td>9</td>\n    </tr>\n    <tr>\n      <th>150</th>\n      <td>2012-12-16</td>\n      <td>2012</td>\n      <td>12</td>\n      <td>50</td>\n      <td>16</td>\n    </tr>\n    <tr>\n      <th>151</th>\n      <td>2012-12-23</td>\n      <td>2012</td>\n      <td>12</td>\n      <td>51</td>\n      <td>23</td>\n    </tr>\n    <tr>\n      <th>152</th>\n      <td>2012-12-30</td>\n      <td>2012</td>\n      <td>12</td>\n      <td>52</td>\n      <td>30</td>\n    </tr>\n    <tr>\n      <th>...</th>\n      <td>...</td>\n      <td>...</td>\n      <td>...</td>\n      <td>...</td>\n      <td>...</td>\n    </tr>\n    <tr>\n      <th>291</th>\n      <td>2015-08-30</td>\n      <td>2015</td>\n      <td>8</td>\n      <td>35</td>\n      <td>30</td>\n    </tr>\n    <tr>\n      <th>292</th>\n      <td>2015-09-06</td>\n      <td>2015</td>\n      <td>9</td>\n      <td>36</td>\n      <td>6</td>\n    </tr>\n    <tr>\n      <th>293</th>\n      <td>2015-09-13</td>\n      <td>2015</td>\n      <td>9</td>\n      <td>37</td>\n      <td>13</td>\n    </tr>\n    <tr>\n      <th>294</th>\n      <td>2015-09-20</td>\n      <td>2015</td>\n      <td>9</td>\n      <td>38</td>\n      <td>20</td>\n    </tr>\n    <tr>\n      <th>295</th>\n      <td>2015-09-27</td>\n      <td>2015</td>\n      <td>9</td>\n      <td>39</td>\n      <td>27</td>\n    </tr>\n  </tbody>\n</table>\n<p>148 rows × 5 columns</p>\n</div>"
     },
     "execution_count": 89,
     "metadata": {},
     "output_type": "execute_result"
    }
   ],
   "source": [
    "trend_de[['Date', 'Year','Month','Week','Day']]"
   ]
  },
  {
   "cell_type": "markdown",
   "metadata": {},
   "source": [
    "# Hago todo el resto de los joins"
   ]
  },
  {
   "cell_type": "code",
   "execution_count": 90,
   "metadata": {},
   "outputs": [
    {
     "data": {
      "text/plain": "0"
     },
     "execution_count": 90,
     "metadata": {},
     "output_type": "execute_result"
    }
   ],
   "source": [
    "# Agrego acronimo de state al store\n",
    "store = join_df(store, store_states, \"Store\")\n",
    "len(store[store.State.isnull()])"
   ]
  },
  {
   "cell_type": "code",
   "execution_count": 91,
   "metadata": {},
   "outputs": [
    {
     "data": {
      "text/plain": "Index(['Store', 'StoreType', 'Assortment', 'CompetitionDistance',\n       'CompetitionOpenSinceMonth', 'CompetitionOpenSinceYear', 'Promo2',\n       'Promo2SinceWeek', 'Promo2SinceYear', 'PromoInterval',\n       'CompetitionOpenSince', 'Promo2Since', 'State'],\n      dtype='object')"
     },
     "execution_count": 91,
     "metadata": {},
     "output_type": "execute_result"
    }
   ],
   "source": [
    "store.columns"
   ]
  },
  {
   "cell_type": "code",
   "execution_count": 92,
   "metadata": {},
   "outputs": [
    {
     "data": {
      "text/plain": "0"
     },
     "execution_count": 92,
     "metadata": {},
     "output_type": "execute_result"
    }
   ],
   "source": [
    "# Mergeo train y store\n",
    "joined_train = join_df(train, store, \"Store\")\n",
    "len(joined_train[joined_train.StoreType.isnull()])"
   ]
  },
  {
   "cell_type": "code",
   "execution_count": 93,
   "metadata": {},
   "outputs": [
    {
     "data": {
      "text/plain": "Index(['Store', 'DayOfWeek', 'Date', 'Sales', 'Customers', 'Open', 'Promo',\n       'StateHoliday', 'SchoolHoliday', 'Year', 'Month', 'Week', 'Day',\n       'StoreType', 'Assortment', 'CompetitionDistance',\n       'CompetitionOpenSinceMonth', 'CompetitionOpenSinceYear', 'Promo2',\n       'Promo2SinceWeek', 'Promo2SinceYear', 'PromoInterval',\n       'CompetitionOpenSince', 'Promo2Since', 'State'],\n      dtype='object')"
     },
     "execution_count": 93,
     "metadata": {},
     "output_type": "execute_result"
    }
   ],
   "source": [
    "joined_train.columns"
   ]
  },
  {
   "cell_type": "code",
   "execution_count": 94,
   "metadata": {},
   "outputs": [
    {
     "data": {
      "text/plain": "0"
     },
     "execution_count": 94,
     "metadata": {},
     "output_type": "execute_result"
    }
   ],
   "source": [
    "# Mergeo test y store\n",
    "joined_test = join_df(test, store, \"Store\")\n",
    "len(joined_test[joined_test.StoreType.isnull()])"
   ]
  },
  {
   "cell_type": "code",
   "execution_count": 95,
   "metadata": {},
   "outputs": [
    {
     "data": {
      "text/plain": "0"
     },
     "execution_count": 95,
     "metadata": {},
     "output_type": "execute_result"
    }
   ],
   "source": [
    "# Mergeo con googletrend\n",
    "joined_train = join_df(joined_train, googletrend, [\"State\",\"Year\", \"Week\"])\n",
    "len(joined_train[joined_train.trend.isnull()])"
   ]
  },
  {
   "cell_type": "code",
   "execution_count": 96,
   "metadata": {},
   "outputs": [
    {
     "data": {
      "text/plain": "0"
     },
     "execution_count": 96,
     "metadata": {},
     "output_type": "execute_result"
    }
   ],
   "source": [
    "joined_test = join_df(joined_test, googletrend, [\"State\",\"Year\", \"Week\"])\n",
    "len(joined_test[joined_test.trend.isnull()])"
   ]
  },
  {
   "cell_type": "code",
   "execution_count": 97,
   "metadata": {},
   "outputs": [
    {
     "data": {
      "text/plain": "0"
     },
     "execution_count": 97,
     "metadata": {},
     "output_type": "execute_result"
    }
   ],
   "source": [
    "joined_train = joined_train.merge(trend_de, 'left', [\"Year\", \"Week\"], suffixes=('', '_DE'))\n",
    "len(joined_train[joined_train.trend_DE.isnull()])"
   ]
  },
  {
   "cell_type": "code",
   "execution_count": 98,
   "metadata": {},
   "outputs": [
    {
     "data": {
      "text/plain": "0"
     },
     "execution_count": 98,
     "metadata": {},
     "output_type": "execute_result"
    }
   ],
   "source": [
    "joined_test = joined_test.merge(trend_de, 'left', [\"Year\", \"Week\"], suffixes=('', '_DE'))\n",
    "len(joined_test[joined_test.trend_DE.isnull()])"
   ]
  },
  {
   "cell_type": "code",
   "execution_count": 99,
   "metadata": {},
   "outputs": [
    {
     "data": {
      "text/plain": "0"
     },
     "execution_count": 99,
     "metadata": {},
     "output_type": "execute_result"
    }
   ],
   "source": [
    "joined_train = join_df(joined_train, weather, [\"State\",\"Date\"])\n",
    "len(joined_train[joined_train.Mean_TemperatureC.isnull()])"
   ]
  },
  {
   "cell_type": "code",
   "execution_count": 100,
   "metadata": {},
   "outputs": [
    {
     "data": {
      "text/plain": "0"
     },
     "execution_count": 100,
     "metadata": {},
     "output_type": "execute_result"
    }
   ],
   "source": [
    "joined_test = join_df(joined_test, weather, [\"State\",\"Date\"])\n",
    "len(joined_test[joined_test.Mean_TemperatureC.isnull()])"
   ]
  },
  {
   "cell_type": "code",
   "execution_count": 101,
   "metadata": {},
   "outputs": [
    {
     "data": {
      "text/plain": "Index(['Store', 'DayOfWeek', 'Date', 'Sales', 'Customers', 'Open', 'Promo',\n       'StateHoliday', 'SchoolHoliday', 'Year', 'Month', 'Week', 'Day',\n       'StoreType', 'Assortment', 'CompetitionDistance',\n       'CompetitionOpenSinceMonth', 'CompetitionOpenSinceYear', 'Promo2',\n       'Promo2SinceWeek', 'Promo2SinceYear', 'PromoInterval',\n       'CompetitionOpenSince', 'Promo2Since', 'State', 'file', 'week', 'trend',\n       'Date_y', 'Month_y', 'Day_y', 'file_DE', 'week_DE', 'trend_DE',\n       'Date_DE', 'State_DE', 'Month_DE', 'Day_DE', 'file_y',\n       'Max_TemperatureC', 'Mean_TemperatureC', 'Min_TemperatureC',\n       'Dew_PointC', 'MeanDew_PointC', 'Min_DewpointC', 'Max_Humidity',\n       'Mean_Humidity', 'Min_Humidity', 'Max_Sea_Level_PressurehPa',\n       'Mean_Sea_Level_PressurehPa', 'Min_Sea_Level_PressurehPa',\n       'Max_VisibilityKm', 'Mean_VisibilityKm', 'Min_VisibilitykM',\n       'Max_Wind_SpeedKm_h', 'Mean_Wind_SpeedKm_h', 'Max_Gust_SpeedKm_h',\n       'Precipitationmm', 'CloudCover', 'Events', 'WindDirDegrees',\n       'StateName', 'Year_y', 'Month_y', 'Week_y', 'Day_y'],\n      dtype='object')"
     },
     "execution_count": 101,
     "metadata": {},
     "output_type": "execute_result"
    }
   ],
   "source": [
    "joined_train.columns"
   ]
  },
  {
   "cell_type": "markdown",
   "metadata": {},
   "source": [
    "##  CompetitionOpenSince en dias guardada en CompetitionDaysOpen"
   ]
  },
  {
   "cell_type": "code",
   "execution_count": 102,
   "metadata": {},
   "outputs": [
    {
     "data": {
      "text/plain": "0    2510\n1    2815\n2    3150\n3    2145\n4     107\n5     593\n6     837\n7     289\n8    5463\n9    2145\nName: CompetitionDaysOpen, dtype: int64"
     },
     "execution_count": 102,
     "metadata": {},
     "output_type": "execute_result"
    }
   ],
   "source": [
    "joined_train[\"CompetitionDaysOpen\"] = joined_train.Date.subtract(joined_train[\"CompetitionOpenSince\"]).dt.days\n",
    "joined_train[\"CompetitionDaysOpen\"][:10]"
   ]
  },
  {
   "cell_type": "code",
   "execution_count": 103,
   "metadata": {},
   "outputs": [
    {
     "data": {
      "text/plain": "0    2558\n1    3198\n2     885\n3     337\n4    5511\n5    2193\n6    1402\n7    9376\n8    9376\n9     551\nName: CompetitionDaysOpen, dtype: int64"
     },
     "execution_count": 103,
     "metadata": {},
     "output_type": "execute_result"
    }
   ],
   "source": [
    "joined_test[\"CompetitionDaysOpen\"] = joined_test.Date.subtract(joined_test[\"CompetitionOpenSince\"]).dt.days\n",
    "joined_test[\"CompetitionDaysOpen\"][:10]"
   ]
  },
  {
   "cell_type": "code",
   "execution_count": 104,
   "metadata": {},
   "outputs": [],
   "source": [
    "# Corrige errores de la formula anterior\n",
    "joined_train.loc[joined_train.CompetitionDaysOpen<0, \"CompetitionDaysOpen\"] = 0\n",
    "joined_train.loc[joined_train.CompetitionOpenSinceYear<1990, \"CompetitionDaysOpen\"] = 0"
   ]
  },
  {
   "cell_type": "code",
   "execution_count": 105,
   "metadata": {},
   "outputs": [],
   "source": [
    "# Corrige errores de la formula anterior\n",
    "joined_test.loc[joined_test.CompetitionDaysOpen<0, \"CompetitionDaysOpen\"] = 0\n",
    "joined_test.loc[joined_test.CompetitionOpenSinceYear<1990, \"CompetitionDaysOpen\"] = 0"
   ]
  },
  {
   "cell_type": "code",
   "execution_count": 106,
   "metadata": {},
   "outputs": [
    {
     "data": {
      "text/plain": "24    790886\n0      92590\n6       6356\n7       6350\n4       6278\n5       6261\n8       6203\n9       6138\n10      6118\n11      5971\n12      5867\n3       5850\n13      5724\n15      5699\n14      5655\n19      5649\n2       5621\n18      5619\n16      5618\n22      5558\n17      5549\n20      5500\n1       5482\n21      5398\n23      5269\nName: CompetitionMonthsOpen, dtype: int64"
     },
     "execution_count": 106,
     "metadata": {},
     "output_type": "execute_result"
    }
   ],
   "source": [
    "# Lo pone en meses y limita a 2 años como máximo\n",
    "joined_train[\"CompetitionMonthsOpen\"] = joined_train[\"CompetitionDaysOpen\"]//30\n",
    "joined_train.loc[joined_train.CompetitionMonthsOpen>24, \"CompetitionMonthsOpen\"] = 24\n",
    "joined_train.CompetitionMonthsOpen.value_counts()"
   ]
  },
  {
   "cell_type": "code",
   "execution_count": 107,
   "metadata": {},
   "outputs": [
    {
     "data": {
      "text/plain": "24    36782\n23      346\n17      292\n16      287\n13      260\n1       257\n10      247\n11      246\n14      197\n0       179\n18      169\n12      164\n2       161\n8       161\n4       152\n5       151\n20      149\n21      148\n22      146\n3       141\n15      126\n9       125\n19       84\n7        60\n6        58\nName: CompetitionMonthsOpen, dtype: int64"
     },
     "execution_count": 107,
     "metadata": {},
     "output_type": "execute_result"
    }
   ],
   "source": [
    "# Lo pone en meses y limita a 2 años como máximo\n",
    "joined_test[\"CompetitionMonthsOpen\"] = joined_test[\"CompetitionDaysOpen\"]//30\n",
    "joined_test.loc[joined_test.CompetitionMonthsOpen>24, \"CompetitionMonthsOpen\"] = 24\n",
    "joined_test.CompetitionMonthsOpen.value_counts()"
   ]
  },
  {
   "cell_type": "markdown",
   "metadata": {},
   "source": [
    "### Mismo proceso a promodates"
   ]
  },
  {
   "cell_type": "code",
   "execution_count": 108,
   "metadata": {},
   "outputs": [
    {
     "data": {
      "text/plain": "25    911602\n0      70849\n14      1659\n21      1659\n24      1659\n16      1659\n23      1659\n15      1659\n19      1659\n22      1659\n20      1659\n18      1652\n17      1633\n13      1514\n7       1267\n6       1267\n5       1263\n8       1261\n10      1260\n11      1260\n12      1260\n9       1258\n4       1236\n3       1232\n2       1232\n1       1232\nName: Promo2Weeks, dtype: int64"
     },
     "execution_count": 108,
     "metadata": {},
     "output_type": "execute_result"
    }
   ],
   "source": [
    "joined_train[\"Promo2Days\"] = joined_train.Date.subtract(joined_train[\"Promo2Since\"]).dt.days\n",
    "joined_train.loc[joined_train.Promo2Days<0, \"Promo2Days\"] = 0\n",
    "joined_train.loc[joined_train.Promo2SinceYear<1990, \"Promo2Days\"] = 0\n",
    "joined_train[\"Promo2Weeks\"] = joined_train[\"Promo2Days\"]//7\n",
    "joined_train.loc[joined_train.Promo2Weeks<0, \"Promo2Weeks\"] = 0\n",
    "joined_train.loc[joined_train.Promo2Weeks>25, \"Promo2Weeks\"] = 25\n",
    "joined_train.Promo2Weeks.value_counts()"
   ]
  },
  {
   "cell_type": "code",
   "execution_count": 109,
   "metadata": {},
   "outputs": [
    {
     "data": {
      "text/plain": "25    40704\n19       35\n18       35\n20       32\n23       28\n14       28\n22       28\n21       28\n13       23\n12       21\n11       21\n10       21\n9        21\n15       19\n24       16\n17       15\n16        7\n8         6\nName: Promo2Weeks, dtype: int64"
     },
     "execution_count": 109,
     "metadata": {},
     "output_type": "execute_result"
    }
   ],
   "source": [
    "joined_test[\"Promo2Days\"] = joined_test.Date.subtract(joined_test[\"Promo2Since\"]).dt.days\n",
    "joined_test.loc[joined_test.Promo2Days<0, \"Promo2Days\"] = 0\n",
    "joined_test.loc[joined_test.Promo2SinceYear<1990, \"Promo2Days\"] = 0\n",
    "joined_test[\"Promo2Weeks\"] = joined_test[\"Promo2Days\"]//7\n",
    "joined_test.loc[joined_test.Promo2Weeks<0, \"Promo2Weeks\"] = 0\n",
    "joined_test.loc[joined_test.Promo2Weeks>25, \"Promo2Weeks\"] = 25\n",
    "joined_test.Promo2Weeks.value_counts()"
   ]
  },
  {
   "cell_type": "code",
   "execution_count": null,
   "outputs": [],
   "source": [
    "# TODO agregar sobre la maxima temperatura la sensacion termica. Tal vez tambien hacer otra columna con la resta entre la maxima y la minima."
   ],
   "metadata": {
    "collapsed": false
   }
  },
  {
   "cell_type": "code",
   "execution_count": 110,
   "metadata": {},
   "outputs": [
    {
     "data": {
      "text/plain": "((1017209, 70), (41088, 69))"
     },
     "execution_count": 110,
     "metadata": {},
     "output_type": "execute_result"
    }
   ],
   "source": [
    "joined_train.shape, joined_test.shape"
   ]
  },
  {
   "cell_type": "code",
   "execution_count": 111,
   "metadata": {},
   "outputs": [],
   "source": [
    "# Remove dup columns\n",
    "joined_train = joined_train.loc[:,~joined_train.columns.duplicated()]\n",
    "joined_test = joined_test.loc[:,~joined_test.columns.duplicated()]"
   ]
  },
  {
   "cell_type": "code",
   "execution_count": 112,
   "metadata": {},
   "outputs": [
    {
     "data": {
      "text/plain": "((1017209, 68), (41088, 67))"
     },
     "execution_count": 112,
     "metadata": {},
     "output_type": "execute_result"
    }
   ],
   "source": [
    "joined_train.shape, joined_test.shape"
   ]
  },
  {
   "cell_type": "code",
   "execution_count": 113,
   "metadata": {},
   "outputs": [
    {
     "name": "stdout",
     "output_type": "stream",
     "text": [
      "CPU times: user 929 ms, sys: 135 ms, total: 1.06 s\n",
      "Wall time: 621 ms\n"
     ]
    }
   ],
   "source": [
    "%time joined_train.to_feather('joined_train_before_durations.fth')"
   ]
  },
  {
   "cell_type": "code",
   "execution_count": 114,
   "metadata": {},
   "outputs": [
    {
     "name": "stdout",
     "output_type": "stream",
     "text": [
      "CPU times: user 83.6 ms, sys: 10.3 ms, total: 93.9 ms\n",
      "Wall time: 76.3 ms\n"
     ]
    }
   ],
   "source": [
    "%time joined_test.to_feather('joined_test_before_durations.fth')"
   ]
  },
  {
   "cell_type": "code",
   "execution_count": 115,
   "metadata": {},
   "outputs": [
    {
     "data": {
      "text/plain": "{'Customers', 'Sales'}"
     },
     "execution_count": 115,
     "metadata": {},
     "output_type": "execute_result"
    }
   ],
   "source": [
    "set(joined_train.columns) - set(joined_test.columns)"
   ]
  },
  {
   "cell_type": "code",
   "execution_count": 116,
   "metadata": {},
   "outputs": [
    {
     "name": "stdout",
     "output_type": "stream",
     "text": [
      "['file', 'Date', 'Max_TemperatureC', 'Mean_TemperatureC', 'Min_TemperatureC', 'Dew_PointC', 'MeanDew_PointC', 'Min_DewpointC', 'Max_Humidity', 'Mean_Humidity', 'Min_Humidity', 'Max_Sea_Level_PressurehPa', 'Mean_Sea_Level_PressurehPa', 'Min_Sea_Level_PressurehPa', 'Max_VisibilityKm', 'Mean_VisibilityKm', 'Min_VisibilitykM', 'Max_Wind_SpeedKm_h', 'Mean_Wind_SpeedKm_h', 'Max_Gust_SpeedKm_h', 'Precipitationmm', 'CloudCover', 'Events', 'WindDirDegrees', 'StateName', 'State', 'Year', 'Month', 'Week', 'Day']\n"
     ]
    }
   ],
   "source": [
    "print(list(weather.columns))"
   ]
  },
  {
   "cell_type": "code",
   "execution_count": 117,
   "metadata": {},
   "outputs": [
    {
     "name": "stdout",
     "output_type": "stream",
     "text": [
      "date and time = 21/02/2023 00:29:16\n"
     ]
    }
   ],
   "source": [
    "#! pip install beepy\n",
    "#import beepy\n",
    "#beepy.beep(sound=1)\n",
    "+\n",
    "from datetime import datetime\n",
    "\n",
    "# datetime object containing current date and time\n",
    "now = datetime.now()\n",
    "# dd/mm/YY H:M:S\n",
    "dt_string = now.strftime(\"%d/%m/%Y %H:%M:%S\")\n",
    "print(\"date and time =\", dt_string)"
   ]
  }
 ],
 "metadata": {
  "kernelspec": {
   "display_name": "Python 3",
   "language": "python",
   "name": "python3"
  },
  "language_info": {
   "codemirror_mode": {
    "name": "ipython",
    "version": 3
   },
   "file_extension": ".py",
   "mimetype": "text/x-python",
   "name": "python",
   "nbconvert_exporter": "python",
   "pygments_lexer": "ipython3",
   "version": "3.6.10"
  }
 },
 "nbformat": 4,
 "nbformat_minor": 4
}
