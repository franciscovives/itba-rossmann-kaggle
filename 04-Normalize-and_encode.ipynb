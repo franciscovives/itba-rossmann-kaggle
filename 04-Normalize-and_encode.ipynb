{
 "cells": [
  {
   "cell_type": "code",
   "execution_count": 8,
   "metadata": {},
   "outputs": [],
   "source": [
    "import pandas as pd\n",
    "import numpy as np\n",
    "from pandas_summary import DataFrameSummary\n",
    "from sklearn.preprocessing import LabelEncoder, StandardScaler"
   ]
  },
  {
   "cell_type": "code",
   "execution_count": 9,
   "metadata": {},
   "outputs": [],
   "source": [
    "# pip install pyarrow"
   ]
  },
  {
   "cell_type": "code",
   "execution_count": 10,
   "metadata": {},
   "outputs": [],
   "source": [
    "df_train = pd.read_feather('all_preprocessed_train.fth')\n",
    "df_test = pd.read_feather('all_preprocessed_test.fth')"
   ]
  },
  {
   "cell_type": "code",
   "execution_count": 11,
   "metadata": {},
   "outputs": [
    {
     "data": {
      "text/plain": "((1017209, 81), (41088, 80))"
     },
     "execution_count": 11,
     "metadata": {},
     "output_type": "execute_result"
    }
   ],
   "source": [
    "df_train.shape, df_test.shape"
   ]
  },
  {
   "cell_type": "code",
   "execution_count": 12,
   "outputs": [
    {
     "data": {
      "text/plain": "   Store  DayOfWeek       Date  Sales  Customers  Open  Promo StateHoliday  \\\n0      1          5 2015-07-31   5263        555     1      1            0   \n1      2          5 2015-07-31   6064        625     1      1            0   \n2      3          5 2015-07-31   8314        821     1      1            0   \n3      4          5 2015-07-31  13995       1498     1      1            0   \n4      5          5 2015-07-31   4822        559     1      1            0   \n\n   SchoolHoliday  Year  ...  AfterStateHoliday_bool  BeforeStateHoliday_bool  \\\n0              1  2015  ...                      57                        0   \n1              1  2015  ...                      67                        0   \n2              1  2015  ...                      57                        0   \n3              1  2015  ...                      67                        0   \n4              1  2015  ...                      57                        0   \n\n   AfterPromo BeforePromo SchoolHoliday_bw  StateHoliday_bool_bw  Promo_bw  \\\n0           0           0              5.0                   0.0       5.0   \n1           0           0              5.0                   0.0       5.0   \n2           0           0              5.0                   0.0       5.0   \n3           0           0              5.0                   0.0       5.0   \n4           0           0              5.0                   0.0       5.0   \n\n   SchoolHoliday_fw  StateHoliday_bool_fw  Promo_fw  \n0               1.0                   0.0       1.0  \n1               1.0                   0.0       1.0  \n2               1.0                   0.0       1.0  \n3               1.0                   0.0       1.0  \n4               1.0                   0.0       1.0  \n\n[5 rows x 81 columns]",
      "text/html": "<div>\n<style scoped>\n    .dataframe tbody tr th:only-of-type {\n        vertical-align: middle;\n    }\n\n    .dataframe tbody tr th {\n        vertical-align: top;\n    }\n\n    .dataframe thead th {\n        text-align: right;\n    }\n</style>\n<table border=\"1\" class=\"dataframe\">\n  <thead>\n    <tr style=\"text-align: right;\">\n      <th></th>\n      <th>Store</th>\n      <th>DayOfWeek</th>\n      <th>Date</th>\n      <th>Sales</th>\n      <th>Customers</th>\n      <th>Open</th>\n      <th>Promo</th>\n      <th>StateHoliday</th>\n      <th>SchoolHoliday</th>\n      <th>Year</th>\n      <th>...</th>\n      <th>AfterStateHoliday_bool</th>\n      <th>BeforeStateHoliday_bool</th>\n      <th>AfterPromo</th>\n      <th>BeforePromo</th>\n      <th>SchoolHoliday_bw</th>\n      <th>StateHoliday_bool_bw</th>\n      <th>Promo_bw</th>\n      <th>SchoolHoliday_fw</th>\n      <th>StateHoliday_bool_fw</th>\n      <th>Promo_fw</th>\n    </tr>\n  </thead>\n  <tbody>\n    <tr>\n      <th>0</th>\n      <td>1</td>\n      <td>5</td>\n      <td>2015-07-31</td>\n      <td>5263</td>\n      <td>555</td>\n      <td>1</td>\n      <td>1</td>\n      <td>0</td>\n      <td>1</td>\n      <td>2015</td>\n      <td>...</td>\n      <td>57</td>\n      <td>0</td>\n      <td>0</td>\n      <td>0</td>\n      <td>5.0</td>\n      <td>0.0</td>\n      <td>5.0</td>\n      <td>1.0</td>\n      <td>0.0</td>\n      <td>1.0</td>\n    </tr>\n    <tr>\n      <th>1</th>\n      <td>2</td>\n      <td>5</td>\n      <td>2015-07-31</td>\n      <td>6064</td>\n      <td>625</td>\n      <td>1</td>\n      <td>1</td>\n      <td>0</td>\n      <td>1</td>\n      <td>2015</td>\n      <td>...</td>\n      <td>67</td>\n      <td>0</td>\n      <td>0</td>\n      <td>0</td>\n      <td>5.0</td>\n      <td>0.0</td>\n      <td>5.0</td>\n      <td>1.0</td>\n      <td>0.0</td>\n      <td>1.0</td>\n    </tr>\n    <tr>\n      <th>2</th>\n      <td>3</td>\n      <td>5</td>\n      <td>2015-07-31</td>\n      <td>8314</td>\n      <td>821</td>\n      <td>1</td>\n      <td>1</td>\n      <td>0</td>\n      <td>1</td>\n      <td>2015</td>\n      <td>...</td>\n      <td>57</td>\n      <td>0</td>\n      <td>0</td>\n      <td>0</td>\n      <td>5.0</td>\n      <td>0.0</td>\n      <td>5.0</td>\n      <td>1.0</td>\n      <td>0.0</td>\n      <td>1.0</td>\n    </tr>\n    <tr>\n      <th>3</th>\n      <td>4</td>\n      <td>5</td>\n      <td>2015-07-31</td>\n      <td>13995</td>\n      <td>1498</td>\n      <td>1</td>\n      <td>1</td>\n      <td>0</td>\n      <td>1</td>\n      <td>2015</td>\n      <td>...</td>\n      <td>67</td>\n      <td>0</td>\n      <td>0</td>\n      <td>0</td>\n      <td>5.0</td>\n      <td>0.0</td>\n      <td>5.0</td>\n      <td>1.0</td>\n      <td>0.0</td>\n      <td>1.0</td>\n    </tr>\n    <tr>\n      <th>4</th>\n      <td>5</td>\n      <td>5</td>\n      <td>2015-07-31</td>\n      <td>4822</td>\n      <td>559</td>\n      <td>1</td>\n      <td>1</td>\n      <td>0</td>\n      <td>1</td>\n      <td>2015</td>\n      <td>...</td>\n      <td>57</td>\n      <td>0</td>\n      <td>0</td>\n      <td>0</td>\n      <td>5.0</td>\n      <td>0.0</td>\n      <td>5.0</td>\n      <td>1.0</td>\n      <td>0.0</td>\n      <td>1.0</td>\n    </tr>\n  </tbody>\n</table>\n<p>5 rows × 81 columns</p>\n</div>"
     },
     "execution_count": 12,
     "metadata": {},
     "output_type": "execute_result"
    }
   ],
   "source": [
    "df_train.head()"
   ],
   "metadata": {
    "collapsed": false
   }
  },
  {
   "cell_type": "code",
   "execution_count": 13,
   "metadata": {},
   "outputs": [
    {
     "data": {
      "text/plain": "{'Customers', 'Sales'}"
     },
     "execution_count": 13,
     "metadata": {},
     "output_type": "execute_result"
    }
   ],
   "source": [
    "# Verificación de que se hicieron bien las cosas en testa también\n",
    "set(df_train.columns) - set(df_test.columns)"
   ]
  },
  {
   "cell_type": "code",
   "execution_count": 14,
   "metadata": {},
   "outputs": [
    {
     "data": {
      "text/plain": "0"
     },
     "execution_count": 14,
     "metadata": {},
     "output_type": "execute_result"
    }
   ],
   "source": [
    "(df_train['CompetitionDistance'].isna()).sum()"
   ]
  },
  {
   "cell_type": "markdown",
   "metadata": {},
   "source": [
    "## Categorical vars"
   ]
  },
  {
   "cell_type": "code",
   "execution_count": 15,
   "metadata": {},
   "outputs": [],
   "source": [
    "cat_vars = ['Store', 'DayOfWeek', 'Year', 'Month', 'Day', 'StateHoliday', \n",
    "            'CompetitionMonthsOpen', 'Promo2Weeks', \n",
    "            'StoreType', 'Assortment', 'PromoInterval', \n",
    "            'CompetitionOpenSinceYear', 'Promo2SinceYear', \n",
    "            'State', 'Week', 'Events', 'Promo_fw', 'Promo_bw', \n",
    "            'StateHoliday_bool_fw', 'StateHoliday_bool_bw', 'SchoolHoliday_fw', \n",
    "            'SchoolHoliday_bw']"
   ]
  },
  {
   "cell_type": "code",
   "execution_count": 16,
   "metadata": {},
   "outputs": [],
   "source": [
    "#DataFrameSummary(df_train[cat_vars]).summary()"
   ]
  },
  {
   "cell_type": "code",
   "execution_count": 17,
   "metadata": {},
   "outputs": [
    {
     "data": {
      "text/plain": "                         uniques        types missing\nStore                       1115      numeric       0\nDayOfWeek                      7      numeric       0\nYear                           3      numeric       0\nMonth                         12      numeric       0\nDay                           31      numeric       0\nStateHoliday                   4  categorical       0\nCompetitionMonthsOpen         25      numeric       0\nPromo2Weeks                   26      numeric       0\nStoreType                      4  categorical       0\nAssortment                     3  categorical       0\nPromoInterval                  4  categorical       0\nCompetitionOpenSinceYear      21      numeric       0\nPromo2SinceYear                8      numeric       0\nState                         12  categorical       0\nWeek                          52      numeric       0\nEvents                        22  categorical       0\nPromo_fw                       6      numeric       0\nPromo_bw                       6      numeric       0\nStateHoliday_bool_fw           3      numeric       0\nStateHoliday_bool_bw           3      numeric       0\nSchoolHoliday_fw               8      numeric       0\nSchoolHoliday_bw               8      numeric       0\nOpen                           2         bool       0",
      "text/html": "<div>\n<style scoped>\n    .dataframe tbody tr th:only-of-type {\n        vertical-align: middle;\n    }\n\n    .dataframe tbody tr th {\n        vertical-align: top;\n    }\n\n    .dataframe thead th {\n        text-align: right;\n    }\n</style>\n<table border=\"1\" class=\"dataframe\">\n  <thead>\n    <tr style=\"text-align: right;\">\n      <th></th>\n      <th>uniques</th>\n      <th>types</th>\n      <th>missing</th>\n    </tr>\n  </thead>\n  <tbody>\n    <tr>\n      <th>Store</th>\n      <td>1115</td>\n      <td>numeric</td>\n      <td>0</td>\n    </tr>\n    <tr>\n      <th>DayOfWeek</th>\n      <td>7</td>\n      <td>numeric</td>\n      <td>0</td>\n    </tr>\n    <tr>\n      <th>Year</th>\n      <td>3</td>\n      <td>numeric</td>\n      <td>0</td>\n    </tr>\n    <tr>\n      <th>Month</th>\n      <td>12</td>\n      <td>numeric</td>\n      <td>0</td>\n    </tr>\n    <tr>\n      <th>Day</th>\n      <td>31</td>\n      <td>numeric</td>\n      <td>0</td>\n    </tr>\n    <tr>\n      <th>StateHoliday</th>\n      <td>4</td>\n      <td>categorical</td>\n      <td>0</td>\n    </tr>\n    <tr>\n      <th>CompetitionMonthsOpen</th>\n      <td>25</td>\n      <td>numeric</td>\n      <td>0</td>\n    </tr>\n    <tr>\n      <th>Promo2Weeks</th>\n      <td>26</td>\n      <td>numeric</td>\n      <td>0</td>\n    </tr>\n    <tr>\n      <th>StoreType</th>\n      <td>4</td>\n      <td>categorical</td>\n      <td>0</td>\n    </tr>\n    <tr>\n      <th>Assortment</th>\n      <td>3</td>\n      <td>categorical</td>\n      <td>0</td>\n    </tr>\n    <tr>\n      <th>PromoInterval</th>\n      <td>4</td>\n      <td>categorical</td>\n      <td>0</td>\n    </tr>\n    <tr>\n      <th>CompetitionOpenSinceYear</th>\n      <td>21</td>\n      <td>numeric</td>\n      <td>0</td>\n    </tr>\n    <tr>\n      <th>Promo2SinceYear</th>\n      <td>8</td>\n      <td>numeric</td>\n      <td>0</td>\n    </tr>\n    <tr>\n      <th>State</th>\n      <td>12</td>\n      <td>categorical</td>\n      <td>0</td>\n    </tr>\n    <tr>\n      <th>Week</th>\n      <td>52</td>\n      <td>numeric</td>\n      <td>0</td>\n    </tr>\n    <tr>\n      <th>Events</th>\n      <td>22</td>\n      <td>categorical</td>\n      <td>0</td>\n    </tr>\n    <tr>\n      <th>Promo_fw</th>\n      <td>6</td>\n      <td>numeric</td>\n      <td>0</td>\n    </tr>\n    <tr>\n      <th>Promo_bw</th>\n      <td>6</td>\n      <td>numeric</td>\n      <td>0</td>\n    </tr>\n    <tr>\n      <th>StateHoliday_bool_fw</th>\n      <td>3</td>\n      <td>numeric</td>\n      <td>0</td>\n    </tr>\n    <tr>\n      <th>StateHoliday_bool_bw</th>\n      <td>3</td>\n      <td>numeric</td>\n      <td>0</td>\n    </tr>\n    <tr>\n      <th>SchoolHoliday_fw</th>\n      <td>8</td>\n      <td>numeric</td>\n      <td>0</td>\n    </tr>\n    <tr>\n      <th>SchoolHoliday_bw</th>\n      <td>8</td>\n      <td>numeric</td>\n      <td>0</td>\n    </tr>\n    <tr>\n      <th>Open</th>\n      <td>2</td>\n      <td>bool</td>\n      <td>0</td>\n    </tr>\n  </tbody>\n</table>\n</div>"
     },
     "execution_count": 17,
     "metadata": {},
     "output_type": "execute_result"
    }
   ],
   "source": [
    "DataFrameSummary(df_train[cat_vars]).summary().loc[['uniques', 'types', 'missing']].T"
   ]
  },
  {
   "cell_type": "code",
   "execution_count": 18,
   "metadata": {},
   "outputs": [],
   "source": [
    "# Reemplaza nulls por \"\" en categoricas\n",
    "# for v in cat_vars: df_train.loc[df_train[v].isnull(), v] = \"\""
   ]
  },
  {
   "cell_type": "code",
   "execution_count": 19,
   "metadata": {},
   "outputs": [],
   "source": [
    "# for v in cat_vars: df_test.loc[df_test[v].isnull(), v] = \"\""
   ]
  },
  {
   "cell_type": "markdown",
   "metadata": {},
   "source": [
    "# Continuos Vars"
   ]
  },
  {
   "cell_type": "code",
   "execution_count": 20,
   "metadata": {},
   "outputs": [
    {
     "data": {
      "text/plain": "Index(['Store', 'DayOfWeek', 'Date', 'Sales', 'Customers', 'Open', 'Promo',\n       'StateHoliday', 'SchoolHoliday', 'Year', 'Month', 'Week', 'Day',\n       'StoreType', 'Assortment', 'CompetitionDistance',\n       'CompetitionOpenSinceMonth', 'CompetitionOpenSinceYear', 'Promo2',\n       'Promo2SinceWeek', 'Promo2SinceYear', 'PromoInterval',\n       'CompetitionOpenSince', 'Promo2Since', 'State', 'file', 'week', 'trend',\n       'Date_y', 'Month_y', 'Day_y', 'file_DE', 'week_DE', 'trend_DE',\n       'Date_DE', 'State_DE', 'Month_DE', 'Day_DE', 'file_y',\n       'Max_TemperatureC', 'Mean_TemperatureC', 'Min_TemperatureC',\n       'Dew_PointC', 'MeanDew_PointC', 'Min_DewpointC', 'Max_Humidity',\n       'Mean_Humidity', 'Min_Humidity', 'Max_Sea_Level_PressurehPa',\n       'Mean_Sea_Level_PressurehPa', 'Min_Sea_Level_PressurehPa',\n       'Max_VisibilityKm', 'Mean_VisibilityKm', 'Min_VisibilitykM',\n       'Max_Wind_SpeedKm_h', 'Mean_Wind_SpeedKm_h', 'Max_Gust_SpeedKm_h',\n       'Precipitationmm', 'CloudCover', 'Events', 'WindDirDegrees',\n       'StateName', 'Year_y', 'Week_y', 'CompetitionDaysOpen',\n       'CompetitionMonthsOpen', 'Promo2Days', 'Promo2Weeks',\n       'StateHoliday_bool', 'AfterSchoolHoliday', 'BeforeSchoolHoliday',\n       'AfterStateHoliday_bool', 'BeforeStateHoliday_bool', 'AfterPromo',\n       'BeforePromo', 'SchoolHoliday_bw', 'StateHoliday_bool_bw', 'Promo_bw',\n       'SchoolHoliday_fw', 'StateHoliday_bool_fw', 'Promo_fw'],\n      dtype='object')"
     },
     "execution_count": 20,
     "metadata": {},
     "output_type": "execute_result"
    }
   ],
   "source": [
    "df_train.columns"
   ]
  },
  {
   "cell_type": "code",
   "execution_count": 21,
   "outputs": [],
   "source": [
    "#Agrego una mas\n",
    "df_train['AmplitudTermica'] = df_train.apply(lambda x: x.Max_TemperatureC - x.Min_TemperatureC , axis=1)\n",
    "df_test['AmplitudTermica'] = df_test.apply(lambda x: x.Max_TemperatureC - x.Min_TemperatureC , axis=1)"
   ],
   "metadata": {
    "collapsed": false
   }
  },
  {
   "cell_type": "code",
   "execution_count": 22,
   "metadata": {},
   "outputs": [],
   "source": [
    "contin_vars = ['CompetitionDistance', \n",
    "               'Max_TemperatureC', 'Mean_TemperatureC', 'Min_TemperatureC', \n",
    "               'Precipitationmm', 'Max_Humidity', 'Mean_Humidity', 'Min_Humidity', \n",
    "               'Max_Wind_SpeedKm_h', 'Mean_Wind_SpeedKm_h', 'CloudCover', 'trend', \n",
    "               'trend_DE', 'AfterStateHoliday_bool', 'BeforeStateHoliday_bool', \n",
    "               'Promo', 'SchoolHoliday', 'StateHoliday_bool']\n",
    "contin_vars += ['Open', 'AmplitudTermica', 'CompetitionDaysOpen']"
   ]
  },
  {
   "cell_type": "code",
   "execution_count": 23,
   "metadata": {},
   "outputs": [
    {
     "data": {
      "text/plain": "                        uniques    types missing\nCompetitionDistance         654  numeric       0\nMax_TemperatureC             50  numeric       0\nMean_TemperatureC            45  numeric       0\nMin_TemperatureC             40  numeric       0\nPrecipitationmm              40  numeric       0\nMax_Humidity                 52  numeric       0\nMean_Humidity                71  numeric       0\nMin_Humidity                 93  numeric       0\nMax_Wind_SpeedKm_h           42  numeric       0\nMean_Wind_SpeedKm_h          27  numeric       0\nCloudCover                    9  numeric       0\ntrend                        67  numeric       0\ntrend_DE                     38  numeric       0\nAfterStateHoliday_bool      136  numeric       0\nBeforeStateHoliday_bool     147  numeric       0\nPromo                         2     bool       0\nSchoolHoliday                 2     bool       0\nStateHoliday_bool             2     bool       0\nOpen                          2     bool       0\nAmplitudTermica              24  numeric       0\nCompetitionDaysOpen        8748  numeric       0",
      "text/html": "<div>\n<style scoped>\n    .dataframe tbody tr th:only-of-type {\n        vertical-align: middle;\n    }\n\n    .dataframe tbody tr th {\n        vertical-align: top;\n    }\n\n    .dataframe thead th {\n        text-align: right;\n    }\n</style>\n<table border=\"1\" class=\"dataframe\">\n  <thead>\n    <tr style=\"text-align: right;\">\n      <th></th>\n      <th>uniques</th>\n      <th>types</th>\n      <th>missing</th>\n    </tr>\n  </thead>\n  <tbody>\n    <tr>\n      <th>CompetitionDistance</th>\n      <td>654</td>\n      <td>numeric</td>\n      <td>0</td>\n    </tr>\n    <tr>\n      <th>Max_TemperatureC</th>\n      <td>50</td>\n      <td>numeric</td>\n      <td>0</td>\n    </tr>\n    <tr>\n      <th>Mean_TemperatureC</th>\n      <td>45</td>\n      <td>numeric</td>\n      <td>0</td>\n    </tr>\n    <tr>\n      <th>Min_TemperatureC</th>\n      <td>40</td>\n      <td>numeric</td>\n      <td>0</td>\n    </tr>\n    <tr>\n      <th>Precipitationmm</th>\n      <td>40</td>\n      <td>numeric</td>\n      <td>0</td>\n    </tr>\n    <tr>\n      <th>Max_Humidity</th>\n      <td>52</td>\n      <td>numeric</td>\n      <td>0</td>\n    </tr>\n    <tr>\n      <th>Mean_Humidity</th>\n      <td>71</td>\n      <td>numeric</td>\n      <td>0</td>\n    </tr>\n    <tr>\n      <th>Min_Humidity</th>\n      <td>93</td>\n      <td>numeric</td>\n      <td>0</td>\n    </tr>\n    <tr>\n      <th>Max_Wind_SpeedKm_h</th>\n      <td>42</td>\n      <td>numeric</td>\n      <td>0</td>\n    </tr>\n    <tr>\n      <th>Mean_Wind_SpeedKm_h</th>\n      <td>27</td>\n      <td>numeric</td>\n      <td>0</td>\n    </tr>\n    <tr>\n      <th>CloudCover</th>\n      <td>9</td>\n      <td>numeric</td>\n      <td>0</td>\n    </tr>\n    <tr>\n      <th>trend</th>\n      <td>67</td>\n      <td>numeric</td>\n      <td>0</td>\n    </tr>\n    <tr>\n      <th>trend_DE</th>\n      <td>38</td>\n      <td>numeric</td>\n      <td>0</td>\n    </tr>\n    <tr>\n      <th>AfterStateHoliday_bool</th>\n      <td>136</td>\n      <td>numeric</td>\n      <td>0</td>\n    </tr>\n    <tr>\n      <th>BeforeStateHoliday_bool</th>\n      <td>147</td>\n      <td>numeric</td>\n      <td>0</td>\n    </tr>\n    <tr>\n      <th>Promo</th>\n      <td>2</td>\n      <td>bool</td>\n      <td>0</td>\n    </tr>\n    <tr>\n      <th>SchoolHoliday</th>\n      <td>2</td>\n      <td>bool</td>\n      <td>0</td>\n    </tr>\n    <tr>\n      <th>StateHoliday_bool</th>\n      <td>2</td>\n      <td>bool</td>\n      <td>0</td>\n    </tr>\n    <tr>\n      <th>Open</th>\n      <td>2</td>\n      <td>bool</td>\n      <td>0</td>\n    </tr>\n    <tr>\n      <th>AmplitudTermica</th>\n      <td>24</td>\n      <td>numeric</td>\n      <td>0</td>\n    </tr>\n    <tr>\n      <th>CompetitionDaysOpen</th>\n      <td>8748</td>\n      <td>numeric</td>\n      <td>0</td>\n    </tr>\n  </tbody>\n</table>\n</div>"
     },
     "execution_count": 23,
     "metadata": {},
     "output_type": "execute_result"
    }
   ],
   "source": [
    "DataFrameSummary(df_train[contin_vars]).summary().loc[['uniques', 'types', 'missing']].T"
   ]
  },
  {
   "cell_type": "code",
   "execution_count": 24,
   "metadata": {},
   "outputs": [],
   "source": [
    "# Reemplaza nulls por 0 en continuas\n",
    "# for v in contin_vars: df_train.loc[df_train[v].isnull(), v] = 0\n",
    "# for v in contin_vars: df_test.loc[df_test[v].isnull(), v] = 0"
   ]
  },
  {
   "cell_type": "code",
   "execution_count": 25,
   "outputs": [
    {
     "data": {
      "text/plain": "{'AfterPromo',\n 'AfterSchoolHoliday',\n 'BeforePromo',\n 'BeforeSchoolHoliday',\n 'CompetitionOpenSince',\n 'CompetitionOpenSinceMonth',\n 'Customers',\n 'Date',\n 'Date_DE',\n 'Date_y',\n 'Day_DE',\n 'Day_y',\n 'Dew_PointC',\n 'Max_Gust_SpeedKm_h',\n 'Max_Sea_Level_PressurehPa',\n 'Max_VisibilityKm',\n 'MeanDew_PointC',\n 'Mean_Sea_Level_PressurehPa',\n 'Mean_VisibilityKm',\n 'Min_DewpointC',\n 'Min_Sea_Level_PressurehPa',\n 'Min_VisibilitykM',\n 'Month_DE',\n 'Month_y',\n 'Promo2',\n 'Promo2Days',\n 'Promo2Since',\n 'Promo2SinceWeek',\n 'Sales',\n 'StateName',\n 'State_DE',\n 'Week_y',\n 'WindDirDegrees',\n 'Year_y',\n 'file',\n 'file_DE',\n 'file_y',\n 'week',\n 'week_DE'}"
     },
     "execution_count": 25,
     "metadata": {},
     "output_type": "execute_result"
    }
   ],
   "source": [
    "# Variables no consideradas\n",
    "columnas_todas = df_train.columns\n",
    "columnas_sin_asignar = set(df_train.columns) - set(contin_vars)  - set(cat_vars)\n",
    "columnas_sin_asignar"
   ],
   "metadata": {
    "collapsed": false
   }
  },
  {
   "cell_type": "markdown",
   "metadata": {},
   "source": [
    "# Normalización en continuas y LabelEncode en Categoricas"
   ]
  },
  {
   "cell_type": "code",
   "execution_count": 26,
   "metadata": {},
   "outputs": [],
   "source": [
    "# pip install sklearn_pandas\n",
    "from sklearn_pandas import DataFrameMapper"
   ]
  },
  {
   "cell_type": "code",
   "execution_count": 27,
   "metadata": {},
   "outputs": [],
   "source": [
    "cat_maps = [(o, LabelEncoder()) for o in cat_vars]\n",
    "contin_maps = [([o], StandardScaler()) for o in contin_vars]"
   ]
  },
  {
   "cell_type": "code",
   "execution_count": 28,
   "metadata": {},
   "outputs": [],
   "source": [
    "mapper_cat = DataFrameMapper(cat_maps)\n",
    "_ = mapper_cat.fit(df_train)"
   ]
  },
  {
   "cell_type": "code",
   "execution_count": 29,
   "metadata": {},
   "outputs": [
    {
     "name": "stdout",
     "output_type": "stream",
     "text": [
      "[('a', 0), ('a', 0), ('a', 0), ('c', 2), ('a', 0), ('a', 0), ('c', 2), ('a', 0), ('c', 2), ('a', 0)]\n",
      "[('Fog', 0), ('Fog', 0), ('Fog', 0), ('Sunny', 20), ('Sunny', 20), ('Sunny', 20), ('Rain', 10), ('Rain', 10), ('Fog', 0), ('Sunny', 20)]\n",
      "[(2015, 2), (2015, 2), (2015, 2), (2015, 2), (2015, 2), (2015, 2), (2015, 2), (2015, 2), (2015, 2), (2015, 2)]\n"
     ]
    }
   ],
   "source": [
    "# Assortment es la novena posición en cat_maps\n",
    "N = 10\n",
    "print(list(zip(df_train['Assortment'].values[:N], mapper_cat.transform(df_train)[:,9][:N])))\n",
    "print(list(zip(df_train['Events'].values[:N], mapper_cat.transform(df_train)[:,15][:N])))\n",
    "print(list(zip(df_train['Year'].values[:N], mapper_cat.transform(df_train)[:,2][:N])))"
   ]
  },
  {
   "cell_type": "code",
   "execution_count": 30,
   "metadata": {},
   "outputs": [],
   "source": [
    "mapper_cont = DataFrameMapper(contin_maps)\n",
    "_ = mapper_cont.fit(df_train)"
   ]
  },
  {
   "cell_type": "code",
   "execution_count": 31,
   "metadata": {},
   "outputs": [
    {
     "name": "stdout",
     "output_type": "stream",
     "text": [
      "[ 1270.   570. 14130.   620. 29910.   310. 24000.  7520.  2030.  3160.]\n",
      "[-0.51104292 -0.59341201  1.00219483 -0.5875285   2.85902934 -0.62400624\n",
      "  2.16359893  0.22439533 -0.42161363 -0.28864639]\n"
     ]
    }
   ],
   "source": [
    "N = 10\n",
    "print(df_train['CompetitionDistance'].values[:N])\n",
    "print(mapper_cont.transform(df_train)[:, 0][:N])"
   ]
  },
  {
   "cell_type": "code",
   "execution_count": 32,
   "metadata": {},
   "outputs": [],
   "source": [
    "# La hacemos con todas ahora\n",
    "df_train[cat_vars] = mapper_cat.transform(df_train)\n",
    "df_test[cat_vars] = mapper_cat.transform(df_test)"
   ]
  },
  {
   "cell_type": "code",
   "execution_count": 33,
   "metadata": {},
   "outputs": [],
   "source": [
    "df_train[contin_vars] = mapper_cont.transform(df_train)\n",
    "df_test[contin_vars] = mapper_cont.transform(df_test)"
   ]
  },
  {
   "cell_type": "code",
   "execution_count": 34,
   "metadata": {},
   "outputs": [
    {
     "data": {
      "text/plain": "   Store  DayOfWeek       Date  Sales  Customers      Open     Promo  \\\n0      0          4 2015-07-31   5263        555  0.452399  1.273237   \n1      1          4 2015-07-31   6064        625  0.452399  1.273237   \n2      2          4 2015-07-31   8314        821  0.452399  1.273237   \n3      3          4 2015-07-31  13995       1498  0.452399  1.273237   \n4      4          4 2015-07-31   4822        559  0.452399  1.273237   \n\n   StateHoliday  SchoolHoliday  Year  ...  BeforeStateHoliday_bool  \\\n0             0       2.144211     2  ...                 1.072424   \n1             0       2.144211     2  ...                 1.072424   \n2             0       2.144211     2  ...                 1.072424   \n3             0       2.144211     2  ...                 1.072424   \n4             0       2.144211     2  ...                 1.072424   \n\n   AfterPromo  BeforePromo  SchoolHoliday_bw  StateHoliday_bool_bw  Promo_bw  \\\n0           0            0                 5                     0         5   \n1           0            0                 5                     0         5   \n2           0            0                 5                     0         5   \n3           0            0                 5                     0         5   \n4           0            0                 5                     0         5   \n\n   SchoolHoliday_fw  StateHoliday_bool_fw  Promo_fw  AmplitudTermica  \n0                 1                     0         1         1.516796  \n1                 1                     0         1         0.824404  \n2                 1                     0         1         1.516796  \n3                 1                     0         1         0.362809  \n4                 1                     0         1         0.362809  \n\n[5 rows x 82 columns]",
      "text/html": "<div>\n<style scoped>\n    .dataframe tbody tr th:only-of-type {\n        vertical-align: middle;\n    }\n\n    .dataframe tbody tr th {\n        vertical-align: top;\n    }\n\n    .dataframe thead th {\n        text-align: right;\n    }\n</style>\n<table border=\"1\" class=\"dataframe\">\n  <thead>\n    <tr style=\"text-align: right;\">\n      <th></th>\n      <th>Store</th>\n      <th>DayOfWeek</th>\n      <th>Date</th>\n      <th>Sales</th>\n      <th>Customers</th>\n      <th>Open</th>\n      <th>Promo</th>\n      <th>StateHoliday</th>\n      <th>SchoolHoliday</th>\n      <th>Year</th>\n      <th>...</th>\n      <th>BeforeStateHoliday_bool</th>\n      <th>AfterPromo</th>\n      <th>BeforePromo</th>\n      <th>SchoolHoliday_bw</th>\n      <th>StateHoliday_bool_bw</th>\n      <th>Promo_bw</th>\n      <th>SchoolHoliday_fw</th>\n      <th>StateHoliday_bool_fw</th>\n      <th>Promo_fw</th>\n      <th>AmplitudTermica</th>\n    </tr>\n  </thead>\n  <tbody>\n    <tr>\n      <th>0</th>\n      <td>0</td>\n      <td>4</td>\n      <td>2015-07-31</td>\n      <td>5263</td>\n      <td>555</td>\n      <td>0.452399</td>\n      <td>1.273237</td>\n      <td>0</td>\n      <td>2.144211</td>\n      <td>2</td>\n      <td>...</td>\n      <td>1.072424</td>\n      <td>0</td>\n      <td>0</td>\n      <td>5</td>\n      <td>0</td>\n      <td>5</td>\n      <td>1</td>\n      <td>0</td>\n      <td>1</td>\n      <td>1.516796</td>\n    </tr>\n    <tr>\n      <th>1</th>\n      <td>1</td>\n      <td>4</td>\n      <td>2015-07-31</td>\n      <td>6064</td>\n      <td>625</td>\n      <td>0.452399</td>\n      <td>1.273237</td>\n      <td>0</td>\n      <td>2.144211</td>\n      <td>2</td>\n      <td>...</td>\n      <td>1.072424</td>\n      <td>0</td>\n      <td>0</td>\n      <td>5</td>\n      <td>0</td>\n      <td>5</td>\n      <td>1</td>\n      <td>0</td>\n      <td>1</td>\n      <td>0.824404</td>\n    </tr>\n    <tr>\n      <th>2</th>\n      <td>2</td>\n      <td>4</td>\n      <td>2015-07-31</td>\n      <td>8314</td>\n      <td>821</td>\n      <td>0.452399</td>\n      <td>1.273237</td>\n      <td>0</td>\n      <td>2.144211</td>\n      <td>2</td>\n      <td>...</td>\n      <td>1.072424</td>\n      <td>0</td>\n      <td>0</td>\n      <td>5</td>\n      <td>0</td>\n      <td>5</td>\n      <td>1</td>\n      <td>0</td>\n      <td>1</td>\n      <td>1.516796</td>\n    </tr>\n    <tr>\n      <th>3</th>\n      <td>3</td>\n      <td>4</td>\n      <td>2015-07-31</td>\n      <td>13995</td>\n      <td>1498</td>\n      <td>0.452399</td>\n      <td>1.273237</td>\n      <td>0</td>\n      <td>2.144211</td>\n      <td>2</td>\n      <td>...</td>\n      <td>1.072424</td>\n      <td>0</td>\n      <td>0</td>\n      <td>5</td>\n      <td>0</td>\n      <td>5</td>\n      <td>1</td>\n      <td>0</td>\n      <td>1</td>\n      <td>0.362809</td>\n    </tr>\n    <tr>\n      <th>4</th>\n      <td>4</td>\n      <td>4</td>\n      <td>2015-07-31</td>\n      <td>4822</td>\n      <td>559</td>\n      <td>0.452399</td>\n      <td>1.273237</td>\n      <td>0</td>\n      <td>2.144211</td>\n      <td>2</td>\n      <td>...</td>\n      <td>1.072424</td>\n      <td>0</td>\n      <td>0</td>\n      <td>5</td>\n      <td>0</td>\n      <td>5</td>\n      <td>1</td>\n      <td>0</td>\n      <td>1</td>\n      <td>0.362809</td>\n    </tr>\n  </tbody>\n</table>\n<p>5 rows × 82 columns</p>\n</div>"
     },
     "execution_count": 34,
     "metadata": {},
     "output_type": "execute_result"
    }
   ],
   "source": [
    "df_train.head()"
   ]
  },
  {
   "cell_type": "code",
   "execution_count": 35,
   "metadata": {},
   "outputs": [
    {
     "data": {
      "text/plain": "           Store DayOfWeek     Year    Month      Day StateHoliday  \\\nuniques     1115         7        3       12       31            4   \ntypes    numeric   numeric  numeric  numeric  numeric      numeric   \n\n        CompetitionMonthsOpen Promo2Weeks StoreType Assortment  ...    State  \\\nuniques                    25          26         4          3  ...       12   \ntypes                 numeric     numeric   numeric    numeric  ...  numeric   \n\n            Week   Events Promo_fw Promo_bw StateHoliday_bool_fw  \\\nuniques       52       22        6        6                    3   \ntypes    numeric  numeric  numeric  numeric              numeric   \n\n        StateHoliday_bool_bw SchoolHoliday_fw SchoolHoliday_bw  Open  \nuniques                    3                8                8     2  \ntypes                numeric          numeric          numeric  bool  \n\n[2 rows x 23 columns]",
      "text/html": "<div>\n<style scoped>\n    .dataframe tbody tr th:only-of-type {\n        vertical-align: middle;\n    }\n\n    .dataframe tbody tr th {\n        vertical-align: top;\n    }\n\n    .dataframe thead th {\n        text-align: right;\n    }\n</style>\n<table border=\"1\" class=\"dataframe\">\n  <thead>\n    <tr style=\"text-align: right;\">\n      <th></th>\n      <th>Store</th>\n      <th>DayOfWeek</th>\n      <th>Year</th>\n      <th>Month</th>\n      <th>Day</th>\n      <th>StateHoliday</th>\n      <th>CompetitionMonthsOpen</th>\n      <th>Promo2Weeks</th>\n      <th>StoreType</th>\n      <th>Assortment</th>\n      <th>...</th>\n      <th>State</th>\n      <th>Week</th>\n      <th>Events</th>\n      <th>Promo_fw</th>\n      <th>Promo_bw</th>\n      <th>StateHoliday_bool_fw</th>\n      <th>StateHoliday_bool_bw</th>\n      <th>SchoolHoliday_fw</th>\n      <th>SchoolHoliday_bw</th>\n      <th>Open</th>\n    </tr>\n  </thead>\n  <tbody>\n    <tr>\n      <th>uniques</th>\n      <td>1115</td>\n      <td>7</td>\n      <td>3</td>\n      <td>12</td>\n      <td>31</td>\n      <td>4</td>\n      <td>25</td>\n      <td>26</td>\n      <td>4</td>\n      <td>3</td>\n      <td>...</td>\n      <td>12</td>\n      <td>52</td>\n      <td>22</td>\n      <td>6</td>\n      <td>6</td>\n      <td>3</td>\n      <td>3</td>\n      <td>8</td>\n      <td>8</td>\n      <td>2</td>\n    </tr>\n    <tr>\n      <th>types</th>\n      <td>numeric</td>\n      <td>numeric</td>\n      <td>numeric</td>\n      <td>numeric</td>\n      <td>numeric</td>\n      <td>numeric</td>\n      <td>numeric</td>\n      <td>numeric</td>\n      <td>numeric</td>\n      <td>numeric</td>\n      <td>...</td>\n      <td>numeric</td>\n      <td>numeric</td>\n      <td>numeric</td>\n      <td>numeric</td>\n      <td>numeric</td>\n      <td>numeric</td>\n      <td>numeric</td>\n      <td>numeric</td>\n      <td>numeric</td>\n      <td>bool</td>\n    </tr>\n  </tbody>\n</table>\n<p>2 rows × 23 columns</p>\n</div>"
     },
     "execution_count": 35,
     "metadata": {},
     "output_type": "execute_result"
    }
   ],
   "source": [
    "DataFrameSummary(df_train[cat_vars]).summary().loc[['uniques', 'types']]"
   ]
  },
  {
   "cell_type": "markdown",
   "metadata": {},
   "source": [
    "# Final processing"
   ]
  },
  {
   "cell_type": "code",
   "execution_count": 36,
   "metadata": {},
   "outputs": [
    {
     "data": {
      "text/plain": "(1017209, 82)"
     },
     "execution_count": 36,
     "metadata": {},
     "output_type": "execute_result"
    }
   ],
   "source": [
    "df_train.shape"
   ]
  },
  {
   "cell_type": "code",
   "execution_count": 37,
   "metadata": {},
   "outputs": [],
   "source": [
    "df_sales = df_train[df_train.Sales!=0]"
   ]
  },
  {
   "cell_type": "code",
   "execution_count": 38,
   "metadata": {},
   "outputs": [
    {
     "data": {
      "text/plain": "(844338, 82)"
     },
     "execution_count": 38,
     "metadata": {},
     "output_type": "execute_result"
    }
   ],
   "source": [
    "df_sales.shape"
   ]
  },
  {
   "cell_type": "code",
   "execution_count": 39,
   "metadata": {},
   "outputs": [],
   "source": [
    "df_test.reset_index(inplace=True)"
   ]
  },
  {
   "cell_type": "code",
   "execution_count": 40,
   "metadata": {},
   "outputs": [],
   "source": [
    "df_sales.reset_index(inplace=True)"
   ]
  },
  {
   "cell_type": "code",
   "execution_count": 41,
   "metadata": {},
   "outputs": [],
   "source": [
    "df_sales.to_feather('train_normalized_data.fth')"
   ]
  },
  {
   "cell_type": "code",
   "execution_count": 42,
   "metadata": {},
   "outputs": [],
   "source": [
    "df_test.to_feather('test_normalized_data.fth')"
   ]
  },
  {
   "cell_type": "code",
   "execution_count": 43,
   "metadata": {},
   "outputs": [
    {
     "data": {
      "text/plain": "0"
     },
     "execution_count": 43,
     "metadata": {},
     "output_type": "execute_result"
    }
   ],
   "source": [
    "(df_test['Open'] == 0).sum()"
   ]
  },
  {
   "cell_type": "code",
   "execution_count": 44,
   "metadata": {},
   "outputs": [
    {
     "data": {
      "text/plain": "0"
     },
     "execution_count": 44,
     "metadata": {},
     "output_type": "execute_result"
    }
   ],
   "source": [
    "(df_sales['Open'] == 0).sum()"
   ]
  },
  {
   "cell_type": "code",
   "execution_count": 45,
   "metadata": {},
   "outputs": [
    {
     "data": {
      "text/plain": "0"
     },
     "execution_count": 45,
     "metadata": {},
     "output_type": "execute_result"
    }
   ],
   "source": [
    "(df_train['CompetitionDistance'].isna()).sum()"
   ]
  },
  {
   "cell_type": "code",
   "execution_count": 46,
   "metadata": {},
   "outputs": [
    {
     "name": "stdout",
     "output_type": "stream",
     "text": [
      "date and time = 27/02/2023 15:46:24\n"
     ]
    }
   ],
   "source": [
    "#import beepy\n",
    "#beepy.beep(sound=1)\n",
    "\n",
    "from datetime import datetime\n",
    "\n",
    "# datetime object containing current date and time\n",
    "now = datetime.now()\n",
    "# dd/mm/YY H:M:S\n",
    "dt_string = now.strftime(\"%d/%m/%Y %H:%M:%S\")\n",
    "print(\"date and time =\", dt_string)"
   ]
  }
 ],
 "metadata": {
  "kernelspec": {
   "display_name": "Python 3",
   "language": "python",
   "name": "python3"
  },
  "language_info": {
   "codemirror_mode": {
    "name": "ipython",
    "version": 3
   },
   "file_extension": ".py",
   "mimetype": "text/x-python",
   "name": "python",
   "nbconvert_exporter": "python",
   "pygments_lexer": "ipython3",
   "version": "3.6.10"
  }
 },
 "nbformat": 4,
 "nbformat_minor": 4
}
